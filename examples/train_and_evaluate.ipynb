{
 "cells": [
  {
   "cell_type": "markdown",
   "metadata": {},
   "source": [
    "## Install TensorTrade"
   ]
  },
  {
   "cell_type": "code",
   "execution_count": 1,
   "metadata": {},
   "outputs": [
    {
     "name": "stdout",
     "output_type": "stream",
     "text": [
      "Collecting git+https://github.com/tensortrade-org/tensortrade.git\r\n",
      "  Cloning https://github.com/tensortrade-org/tensortrade.git to /private/var/folders/b5/8m4f4wvj4414m4zycc7fhrsh0000gq/T/pip-req-build-5vd2w6f6\r\n",
      "  Running command git clone -q https://github.com/tensortrade-org/tensortrade.git /private/var/folders/b5/8m4f4wvj4414m4zycc7fhrsh0000gq/T/pip-req-build-5vd2w6f6\r\n",
      "Requirement already satisfied: numpy>=1.17.0 in /Users/xichao.chen/miniconda3/envs/python38/lib/python3.8/site-packages (from tensortrade==1.0.2.dev0) (1.18.5)\r\n",
      "Requirement already satisfied: pandas>=0.25.0 in /Users/xichao.chen/miniconda3/envs/python38/lib/python3.8/site-packages (from tensortrade==1.0.2.dev0) (1.2.3)\r\n",
      "Requirement already satisfied: gym>=0.14.0 in /Users/xichao.chen/miniconda3/envs/python38/lib/python3.8/site-packages (from tensortrade==1.0.2.dev0) (0.18.0)\r\n",
      "Requirement already satisfied: pyyaml>=5.1.2 in /Users/xichao.chen/miniconda3/envs/python38/lib/python3.8/site-packages (from tensortrade==1.0.2.dev0) (5.4.1)\r\n",
      "Requirement already satisfied: stochastic>=0.6.0 in /Users/xichao.chen/miniconda3/envs/python38/lib/python3.8/site-packages (from tensortrade==1.0.2.dev0) (0.6.0)\r\n",
      "Requirement already satisfied: tensorflow>=2.1.0 in /Users/xichao.chen/miniconda3/envs/python38/lib/python3.8/site-packages (from tensortrade==1.0.2.dev0) (2.3.1)\r\n",
      "Requirement already satisfied: ipython>=7.12.0 in /Users/xichao.chen/miniconda3/envs/python38/lib/python3.8/site-packages (from tensortrade==1.0.2.dev0) (7.21.0)\r\n",
      "Requirement already satisfied: matplotlib>=3.1.1 in /Users/xichao.chen/miniconda3/envs/python38/lib/python3.8/site-packages (from tensortrade==1.0.2.dev0) (3.3.4)\r\n",
      "Requirement already satisfied: plotly>=4.5.0 in /Users/xichao.chen/miniconda3/envs/python38/lib/python3.8/site-packages (from tensortrade==1.0.2.dev0) (4.14.3)\r\n",
      "Requirement already satisfied: Pillow<=7.2.0 in /Users/xichao.chen/miniconda3/envs/python38/lib/python3.8/site-packages (from gym>=0.14.0->tensortrade==1.0.2.dev0) (7.2.0)\r\n",
      "Requirement already satisfied: pyglet<=1.5.0,>=1.4.0 in /Users/xichao.chen/miniconda3/envs/python38/lib/python3.8/site-packages (from gym>=0.14.0->tensortrade==1.0.2.dev0) (1.5.0)\r\n",
      "Requirement already satisfied: scipy in /Users/xichao.chen/miniconda3/envs/python38/lib/python3.8/site-packages (from gym>=0.14.0->tensortrade==1.0.2.dev0) (1.6.1)\r\n",
      "Requirement already satisfied: cloudpickle<1.7.0,>=1.2.0 in /Users/xichao.chen/miniconda3/envs/python38/lib/python3.8/site-packages (from gym>=0.14.0->tensortrade==1.0.2.dev0) (1.6.0)\r\n",
      "Requirement already satisfied: backcall in /Users/xichao.chen/miniconda3/envs/python38/lib/python3.8/site-packages (from ipython>=7.12.0->tensortrade==1.0.2.dev0) (0.2.0)\r\n",
      "Requirement already satisfied: traitlets>=4.2 in /Users/xichao.chen/miniconda3/envs/python38/lib/python3.8/site-packages (from ipython>=7.12.0->tensortrade==1.0.2.dev0) (5.0.5)\r\n",
      "Requirement already satisfied: pexpect>4.3 in /Users/xichao.chen/miniconda3/envs/python38/lib/python3.8/site-packages (from ipython>=7.12.0->tensortrade==1.0.2.dev0) (4.8.0)\r\n",
      "Requirement already satisfied: appnope in /Users/xichao.chen/miniconda3/envs/python38/lib/python3.8/site-packages (from ipython>=7.12.0->tensortrade==1.0.2.dev0) (0.1.2)\r\n",
      "Requirement already satisfied: pickleshare in /Users/xichao.chen/miniconda3/envs/python38/lib/python3.8/site-packages (from ipython>=7.12.0->tensortrade==1.0.2.dev0) (0.7.5)\r\n",
      "Requirement already satisfied: pygments in /Users/xichao.chen/miniconda3/envs/python38/lib/python3.8/site-packages (from ipython>=7.12.0->tensortrade==1.0.2.dev0) (2.8.0)\r\n",
      "Requirement already satisfied: decorator in /Users/xichao.chen/miniconda3/envs/python38/lib/python3.8/site-packages (from ipython>=7.12.0->tensortrade==1.0.2.dev0) (4.4.2)\r\n",
      "Requirement already satisfied: setuptools>=18.5 in /Users/xichao.chen/miniconda3/envs/python38/lib/python3.8/site-packages (from ipython>=7.12.0->tensortrade==1.0.2.dev0) (52.0.0.post20210125)\r\n",
      "Requirement already satisfied: jedi>=0.16 in /Users/xichao.chen/miniconda3/envs/python38/lib/python3.8/site-packages (from ipython>=7.12.0->tensortrade==1.0.2.dev0) (0.17.0)\r\n",
      "Requirement already satisfied: prompt-toolkit!=3.0.0,!=3.0.1,<3.1.0,>=2.0.0 in /Users/xichao.chen/miniconda3/envs/python38/lib/python3.8/site-packages (from ipython>=7.12.0->tensortrade==1.0.2.dev0) (3.0.8)\r\n",
      "Requirement already satisfied: parso>=0.7.0 in /Users/xichao.chen/miniconda3/envs/python38/lib/python3.8/site-packages (from jedi>=0.16->ipython>=7.12.0->tensortrade==1.0.2.dev0) (0.8.1)\r\n",
      "Requirement already satisfied: cycler>=0.10 in /Users/xichao.chen/miniconda3/envs/python38/lib/python3.8/site-packages (from matplotlib>=3.1.1->tensortrade==1.0.2.dev0) (0.10.0)\r\n",
      "Requirement already satisfied: python-dateutil>=2.1 in /Users/xichao.chen/miniconda3/envs/python38/lib/python3.8/site-packages (from matplotlib>=3.1.1->tensortrade==1.0.2.dev0) (2.8.1)\r\n",
      "Requirement already satisfied: pyparsing!=2.0.4,!=2.1.2,!=2.1.6,>=2.0.3 in /Users/xichao.chen/miniconda3/envs/python38/lib/python3.8/site-packages (from matplotlib>=3.1.1->tensortrade==1.0.2.dev0) (2.4.7)\r\n",
      "Requirement already satisfied: kiwisolver>=1.0.1 in /Users/xichao.chen/miniconda3/envs/python38/lib/python3.8/site-packages (from matplotlib>=3.1.1->tensortrade==1.0.2.dev0) (1.3.1)\r\n",
      "Requirement already satisfied: six in /Users/xichao.chen/miniconda3/envs/python38/lib/python3.8/site-packages (from cycler>=0.10->matplotlib>=3.1.1->tensortrade==1.0.2.dev0) (1.15.0)\r\n",
      "Requirement already satisfied: pytz>=2017.3 in /Users/xichao.chen/miniconda3/envs/python38/lib/python3.8/site-packages (from pandas>=0.25.0->tensortrade==1.0.2.dev0) (2021.1)\r\n",
      "Requirement already satisfied: ptyprocess>=0.5 in /Users/xichao.chen/miniconda3/envs/python38/lib/python3.8/site-packages (from pexpect>4.3->ipython>=7.12.0->tensortrade==1.0.2.dev0) (0.7.0)\r\n",
      "Requirement already satisfied: retrying>=1.3.3 in /Users/xichao.chen/miniconda3/envs/python38/lib/python3.8/site-packages (from plotly>=4.5.0->tensortrade==1.0.2.dev0) (1.3.3)\r\n",
      "Requirement already satisfied: wcwidth in /Users/xichao.chen/miniconda3/envs/python38/lib/python3.8/site-packages (from prompt-toolkit!=3.0.0,!=3.0.1,<3.1.0,>=2.0.0->ipython>=7.12.0->tensortrade==1.0.2.dev0) (0.2.5)\r\n",
      "Requirement already satisfied: future in /Users/xichao.chen/miniconda3/envs/python38/lib/python3.8/site-packages (from pyglet<=1.5.0,>=1.4.0->gym>=0.14.0->tensortrade==1.0.2.dev0) (0.18.2)\r\n",
      "Requirement already satisfied: opt-einsum>=2.3.2 in /Users/xichao.chen/miniconda3/envs/python38/lib/python3.8/site-packages (from tensorflow>=2.1.0->tensortrade==1.0.2.dev0) (3.3.0)\r\n",
      "Requirement already satisfied: tensorflow-estimator<2.4.0,>=2.3.0 in /Users/xichao.chen/miniconda3/envs/python38/lib/python3.8/site-packages (from tensorflow>=2.1.0->tensortrade==1.0.2.dev0) (2.3.0)\r\n",
      "Requirement already satisfied: keras-preprocessing<1.2,>=1.1.1 in /Users/xichao.chen/miniconda3/envs/python38/lib/python3.8/site-packages (from tensorflow>=2.1.0->tensortrade==1.0.2.dev0) (1.1.2)\r\n",
      "Requirement already satisfied: gast==0.3.3 in /Users/xichao.chen/miniconda3/envs/python38/lib/python3.8/site-packages (from tensorflow>=2.1.0->tensortrade==1.0.2.dev0) (0.3.3)\r\n",
      "Requirement already satisfied: wheel>=0.26 in /Users/xichao.chen/miniconda3/envs/python38/lib/python3.8/site-packages (from tensorflow>=2.1.0->tensortrade==1.0.2.dev0) (0.36.2)\r\n",
      "Requirement already satisfied: astunparse==1.6.3 in /Users/xichao.chen/miniconda3/envs/python38/lib/python3.8/site-packages (from tensorflow>=2.1.0->tensortrade==1.0.2.dev0) (1.6.3)\r\n",
      "Requirement already satisfied: google-pasta>=0.1.8 in /Users/xichao.chen/miniconda3/envs/python38/lib/python3.8/site-packages (from tensorflow>=2.1.0->tensortrade==1.0.2.dev0) (0.2.0)\r\n",
      "Requirement already satisfied: tensorboard<3,>=2.3.0 in /Users/xichao.chen/miniconda3/envs/python38/lib/python3.8/site-packages (from tensorflow>=2.1.0->tensortrade==1.0.2.dev0) (2.4.1)\r\n",
      "Requirement already satisfied: wrapt>=1.11.1 in /Users/xichao.chen/miniconda3/envs/python38/lib/python3.8/site-packages (from tensorflow>=2.1.0->tensortrade==1.0.2.dev0) (1.12.1)\r\n",
      "Requirement already satisfied: grpcio>=1.8.6 in /Users/xichao.chen/miniconda3/envs/python38/lib/python3.8/site-packages (from tensorflow>=2.1.0->tensortrade==1.0.2.dev0) (1.32.0)\r\n",
      "Requirement already satisfied: termcolor>=1.1.0 in /Users/xichao.chen/miniconda3/envs/python38/lib/python3.8/site-packages (from tensorflow>=2.1.0->tensortrade==1.0.2.dev0) (1.1.0)\r\n",
      "Requirement already satisfied: h5py<2.11.0,>=2.10.0 in /Users/xichao.chen/miniconda3/envs/python38/lib/python3.8/site-packages (from tensorflow>=2.1.0->tensortrade==1.0.2.dev0) (2.10.0)\r\n",
      "Requirement already satisfied: absl-py>=0.7.0 in /Users/xichao.chen/miniconda3/envs/python38/lib/python3.8/site-packages (from tensorflow>=2.1.0->tensortrade==1.0.2.dev0) (0.11.0)\r\n",
      "Requirement already satisfied: protobuf>=3.9.2 in /Users/xichao.chen/miniconda3/envs/python38/lib/python3.8/site-packages (from tensorflow>=2.1.0->tensortrade==1.0.2.dev0) (3.15.5)\r\n",
      "Requirement already satisfied: google-auth<2,>=1.6.3 in /Users/xichao.chen/miniconda3/envs/python38/lib/python3.8/site-packages (from tensorboard<3,>=2.3.0->tensorflow>=2.1.0->tensortrade==1.0.2.dev0) (1.27.1)\r\n",
      "Requirement already satisfied: tensorboard-plugin-wit>=1.6.0 in /Users/xichao.chen/miniconda3/envs/python38/lib/python3.8/site-packages (from tensorboard<3,>=2.3.0->tensorflow>=2.1.0->tensortrade==1.0.2.dev0) (1.8.0)\r\n",
      "Requirement already satisfied: werkzeug>=0.11.15 in /Users/xichao.chen/miniconda3/envs/python38/lib/python3.8/site-packages (from tensorboard<3,>=2.3.0->tensorflow>=2.1.0->tensortrade==1.0.2.dev0) (1.0.1)\r\n",
      "Requirement already satisfied: markdown>=2.6.8 in /Users/xichao.chen/miniconda3/envs/python38/lib/python3.8/site-packages (from tensorboard<3,>=2.3.0->tensorflow>=2.1.0->tensortrade==1.0.2.dev0) (3.3.4)\r\n",
      "Requirement already satisfied: requests<3,>=2.21.0 in /Users/xichao.chen/miniconda3/envs/python38/lib/python3.8/site-packages (from tensorboard<3,>=2.3.0->tensorflow>=2.1.0->tensortrade==1.0.2.dev0) (2.25.1)\r\n",
      "Requirement already satisfied: google-auth-oauthlib<0.5,>=0.4.1 in /Users/xichao.chen/miniconda3/envs/python38/lib/python3.8/site-packages (from tensorboard<3,>=2.3.0->tensorflow>=2.1.0->tensortrade==1.0.2.dev0) (0.4.3)\r\n",
      "Requirement already satisfied: cachetools<5.0,>=2.0.0 in /Users/xichao.chen/miniconda3/envs/python38/lib/python3.8/site-packages (from google-auth<2,>=1.6.3->tensorboard<3,>=2.3.0->tensorflow>=2.1.0->tensortrade==1.0.2.dev0) (4.2.1)\r\n",
      "Requirement already satisfied: rsa<5,>=3.1.4 in /Users/xichao.chen/miniconda3/envs/python38/lib/python3.8/site-packages (from google-auth<2,>=1.6.3->tensorboard<3,>=2.3.0->tensorflow>=2.1.0->tensortrade==1.0.2.dev0) (4.7.2)\r\n",
      "Requirement already satisfied: pyasn1-modules>=0.2.1 in /Users/xichao.chen/miniconda3/envs/python38/lib/python3.8/site-packages (from google-auth<2,>=1.6.3->tensorboard<3,>=2.3.0->tensorflow>=2.1.0->tensortrade==1.0.2.dev0) (0.2.8)\r\n",
      "Requirement already satisfied: requests-oauthlib>=0.7.0 in /Users/xichao.chen/miniconda3/envs/python38/lib/python3.8/site-packages (from google-auth-oauthlib<0.5,>=0.4.1->tensorboard<3,>=2.3.0->tensorflow>=2.1.0->tensortrade==1.0.2.dev0) (1.3.0)\r\n",
      "Requirement already satisfied: pyasn1<0.5.0,>=0.4.6 in /Users/xichao.chen/miniconda3/envs/python38/lib/python3.8/site-packages (from pyasn1-modules>=0.2.1->google-auth<2,>=1.6.3->tensorboard<3,>=2.3.0->tensorflow>=2.1.0->tensortrade==1.0.2.dev0) (0.4.8)\r\n",
      "Requirement already satisfied: chardet<5,>=3.0.2 in /Users/xichao.chen/miniconda3/envs/python38/lib/python3.8/site-packages (from requests<3,>=2.21.0->tensorboard<3,>=2.3.0->tensorflow>=2.1.0->tensortrade==1.0.2.dev0) (4.0.0)\r\n",
      "Requirement already satisfied: certifi>=2017.4.17 in /Users/xichao.chen/miniconda3/envs/python38/lib/python3.8/site-packages (from requests<3,>=2.21.0->tensorboard<3,>=2.3.0->tensorflow>=2.1.0->tensortrade==1.0.2.dev0) (2020.12.5)\r\n",
      "Requirement already satisfied: idna<3,>=2.5 in /Users/xichao.chen/miniconda3/envs/python38/lib/python3.8/site-packages (from requests<3,>=2.21.0->tensorboard<3,>=2.3.0->tensorflow>=2.1.0->tensortrade==1.0.2.dev0) (2.10)\r\n",
      "Requirement already satisfied: urllib3<1.27,>=1.21.1 in /Users/xichao.chen/miniconda3/envs/python38/lib/python3.8/site-packages (from requests<3,>=2.21.0->tensorboard<3,>=2.3.0->tensorflow>=2.1.0->tensortrade==1.0.2.dev0) (1.26.3)\r\n",
      "Requirement already satisfied: oauthlib>=3.0.0 in /Users/xichao.chen/miniconda3/envs/python38/lib/python3.8/site-packages (from requests-oauthlib>=0.7.0->google-auth-oauthlib<0.5,>=0.4.1->tensorboard<3,>=2.3.0->tensorflow>=2.1.0->tensortrade==1.0.2.dev0) (3.1.0)\r\n",
      "Requirement already satisfied: ipython-genutils in /Users/xichao.chen/miniconda3/envs/python38/lib/python3.8/site-packages (from traitlets>=4.2->ipython>=7.12.0->tensortrade==1.0.2.dev0) (0.2.0)\r\n",
      "Building wheels for collected packages: tensortrade\r\n",
      "  Building wheel for tensortrade (setup.py) ... \u001B[?25l-\b \b\\\b \b|\b \bdone\r\n",
      "\u001B[?25h  Created wheel for tensortrade: filename=tensortrade-1.0.2.dev0-py3-none-any.whl size=133804 sha256=b7d11c62a2aec3373c4141003d9d55db854538473475783c13a6658039f84d8b\r\n",
      "  Stored in directory: /private/var/folders/b5/8m4f4wvj4414m4zycc7fhrsh0000gq/T/pip-ephem-wheel-cache-t3usvfqr/wheels/56/40/cd/062610cd30890c4d916f4d2141799782cfe27a6357233016f4\r\n",
      "Successfully built tensortrade\r\n",
      "Installing collected packages: tensortrade\r\n",
      "  Attempting uninstall: tensortrade\r\n",
      "    Found existing installation: tensortrade 1.0.1b0\r\n",
      "    Uninstalling tensortrade-1.0.1b0:\r\n",
      "      Successfully uninstalled tensortrade-1.0.1b0\r\n",
      "Successfully installed tensortrade-1.0.2.dev0\r\n"
     ]
    }
   ],
   "source": [
    "!python3 -m pip install git+https://github.com/tensortrade-org/tensortrade.git"
   ]
  },
  {
   "cell_type": "markdown",
   "metadata": {},
   "source": [
    "## Setup Data Fetching"
   ]
  },
  {
   "cell_type": "code",
   "execution_count": 2,
   "metadata": {},
   "outputs": [],
   "source": [
    "import pandas as pd\n",
    "import tensortrade.env.default as default\n",
    "\n",
    "from tensortrade.data.cdd import CryptoDataDownload\n",
    "from tensortrade.feed.core import Stream, DataFeed\n",
    "from tensortrade.oms.exchanges import Exchange\n",
    "from tensortrade.oms.services.execution.simulated import execute_order\n",
    "from tensortrade.oms.instruments import USD, BTC, ETH\n",
    "from tensortrade.oms.wallets import Wallet, Portfolio\n",
    "from tensortrade.agents import DQNAgent\n",
    "\n",
    "\n",
    "%matplotlib inline"
   ]
  },
  {
   "cell_type": "code",
   "execution_count": 3,
   "metadata": {},
   "outputs": [],
   "source": [
    "cdd = CryptoDataDownload()\n",
    "\n",
    "data = cdd.fetch(\"Bitstamp\", \"USD\", \"BTC\", \"1h\")"
   ]
  },
  {
   "cell_type": "code",
   "execution_count": 4,
   "metadata": {},
   "outputs": [
    {
     "data": {
      "text/plain": "                 date        unix     open     high      low    close   volume\n0 2018-05-15 06:00:00  1526364000  8733.86  8796.68  8707.28  8740.99   559.93\n1 2018-05-15 07:00:00  1526367600  8740.99  8766.00  8721.11  8739.00   273.58\n2 2018-05-15 08:00:00  1526371200  8739.00  8750.27  8660.53  8728.49   917.79\n3 2018-05-15 09:00:00  1526374800  8728.49  8754.40  8701.35  8708.32   182.62\n4 2018-05-15 10:00:00  1526378400  8708.32  8865.00  8695.11  8795.90  1260.69",
      "text/html": "<div>\n<style scoped>\n    .dataframe tbody tr th:only-of-type {\n        vertical-align: middle;\n    }\n\n    .dataframe tbody tr th {\n        vertical-align: top;\n    }\n\n    .dataframe thead th {\n        text-align: right;\n    }\n</style>\n<table border=\"1\" class=\"dataframe\">\n  <thead>\n    <tr style=\"text-align: right;\">\n      <th></th>\n      <th>date</th>\n      <th>unix</th>\n      <th>open</th>\n      <th>high</th>\n      <th>low</th>\n      <th>close</th>\n      <th>volume</th>\n    </tr>\n  </thead>\n  <tbody>\n    <tr>\n      <th>0</th>\n      <td>2018-05-15 06:00:00</td>\n      <td>1526364000</td>\n      <td>8733.86</td>\n      <td>8796.68</td>\n      <td>8707.28</td>\n      <td>8740.99</td>\n      <td>559.93</td>\n    </tr>\n    <tr>\n      <th>1</th>\n      <td>2018-05-15 07:00:00</td>\n      <td>1526367600</td>\n      <td>8740.99</td>\n      <td>8766.00</td>\n      <td>8721.11</td>\n      <td>8739.00</td>\n      <td>273.58</td>\n    </tr>\n    <tr>\n      <th>2</th>\n      <td>2018-05-15 08:00:00</td>\n      <td>1526371200</td>\n      <td>8739.00</td>\n      <td>8750.27</td>\n      <td>8660.53</td>\n      <td>8728.49</td>\n      <td>917.79</td>\n    </tr>\n    <tr>\n      <th>3</th>\n      <td>2018-05-15 09:00:00</td>\n      <td>1526374800</td>\n      <td>8728.49</td>\n      <td>8754.40</td>\n      <td>8701.35</td>\n      <td>8708.32</td>\n      <td>182.62</td>\n    </tr>\n    <tr>\n      <th>4</th>\n      <td>2018-05-15 10:00:00</td>\n      <td>1526378400</td>\n      <td>8708.32</td>\n      <td>8865.00</td>\n      <td>8695.11</td>\n      <td>8795.90</td>\n      <td>1260.69</td>\n    </tr>\n  </tbody>\n</table>\n</div>"
     },
     "execution_count": 4,
     "metadata": {},
     "output_type": "execute_result"
    }
   ],
   "source": [
    "data.head()"
   ]
  },
  {
   "cell_type": "markdown",
   "metadata": {},
   "source": [
    "## Create features with the feed module"
   ]
  },
  {
   "cell_type": "code",
   "execution_count": 5,
   "metadata": {},
   "outputs": [],
   "source": [
    "def rsi(price: Stream[float], period: float) -> Stream[float]:\n",
    "    r = price.diff()\n",
    "    upside = r.clamp_min(0).abs()\n",
    "    downside = r.clamp_max(0).abs()\n",
    "    rs = upside.ewm(alpha=1 / period).mean() / downside.ewm(alpha=1 / period).mean()\n",
    "    return 100*(1 - (1 + rs) ** -1)\n",
    "\n",
    "\n",
    "def macd(price: Stream[float], fast: float, slow: float, signal: float) -> Stream[float]:\n",
    "    fm = price.ewm(span=fast, adjust=False).mean()\n",
    "    sm = price.ewm(span=slow, adjust=False).mean()\n",
    "    md = fm - sm\n",
    "    signal = md - md.ewm(span=signal, adjust=False).mean()\n",
    "    return signal\n",
    "\n",
    "\n",
    "features = []\n",
    "for c in data.columns[1:]:\n",
    "    s = Stream.source(list(data[c]), dtype=\"float\").rename(data[c].name)\n",
    "    features += [s]\n",
    "\n",
    "cp = Stream.select(features, lambda s: s.name == \"close\")\n",
    "\n",
    "features = [\n",
    "    cp.log().diff().rename(\"lr\"),\n",
    "    rsi(cp, period=20).rename(\"rsi\"),\n",
    "    macd(cp, fast=10, slow=50, signal=5).rename(\"macd\")\n",
    "]\n",
    "\n",
    "feed = DataFeed(features)\n",
    "feed.compile()"
   ]
  },
  {
   "cell_type": "code",
   "execution_count": 6,
   "metadata": {},
   "outputs": [
    {
     "name": "stdout",
     "output_type": "stream",
     "text": [
      "{'lr': nan, 'rsi': nan, 'macd': 0.0}\n",
      "{'lr': -0.00022768891842694927, 'rsi': 0.0, 'macd': -0.1891859774210995}\n",
      "{'lr': -0.0012033785355889393, 'rsi': 0.0, 'macd': -1.2726616061000744}\n",
      "{'lr': -0.0023134975946028646, 'rsi': 0.0, 'macd': -3.6577343503541435}\n",
      "{'lr': 0.01000681330867259, 'rsi': 74.26253567956897, 'macd': 3.7087743627464844}\n"
     ]
    }
   ],
   "source": [
    "for i in range(5):\n",
    "    print(feed.next())"
   ]
  },
  {
   "cell_type": "markdown",
   "metadata": {},
   "source": [
    "## Setup Trading Environment"
   ]
  },
  {
   "cell_type": "code",
   "execution_count": 7,
   "metadata": {},
   "outputs": [],
   "source": [
    "bitstamp = Exchange(\"bitstamp\", service=execute_order)(\n",
    "    Stream.source(list(data[\"close\"]), dtype=\"float\").rename(\"USD-BTC\")\n",
    ")\n",
    "\n",
    "portfolio = Portfolio(USD, [\n",
    "    Wallet(bitstamp, 10000 * USD),\n",
    "    Wallet(bitstamp, 10 * BTC)\n",
    "])\n",
    "\n",
    "\n",
    "renderer_feed = DataFeed([\n",
    "    Stream.source(list(data[\"date\"])).rename(\"date\"),\n",
    "    Stream.source(list(data[\"open\"]), dtype=\"float\").rename(\"open\"),\n",
    "    Stream.source(list(data[\"high\"]), dtype=\"float\").rename(\"high\"),\n",
    "    Stream.source(list(data[\"low\"]), dtype=\"float\").rename(\"low\"),\n",
    "    Stream.source(list(data[\"close\"]), dtype=\"float\").rename(\"close\"), \n",
    "    Stream.source(list(data[\"volume\"]), dtype=\"float\").rename(\"volume\") \n",
    "])\n",
    "\n",
    "\n",
    "env = default.create(\n",
    "    portfolio=portfolio,\n",
    "    action_scheme=\"managed-risk\",\n",
    "    reward_scheme=\"risk-adjusted\",\n",
    "    feed=feed,\n",
    "    renderer_feed=renderer_feed,\n",
    "    renderer=default.renderers.PlotlyTradingChart(),\n",
    "    window_size=20\n",
    ")"
   ]
  },
  {
   "cell_type": "code",
   "execution_count": 8,
   "metadata": {},
   "outputs": [
    {
     "data": {
      "text/plain": "{'internal': {'bitstamp:/USD-BTC': 8740.99,\n  'bitstamp:/USD:/free': 10000.0,\n  'bitstamp:/USD:/locked': 0.0,\n  'bitstamp:/USD:/total': 10000.0,\n  'bitstamp:/BTC:/free': 10.0,\n  'bitstamp:/BTC:/locked': 0.0,\n  'bitstamp:/BTC:/total': 10.0,\n  'bitstamp:/BTC:/worth': 87409.9,\n  'net_worth': 97409.9},\n 'external': {'lr': nan, 'rsi': nan, 'macd': 0.0},\n 'renderer': {'date': Timestamp('2018-05-15 06:00:00'),\n  'open': 8733.86,\n  'high': 8796.68,\n  'low': 8707.28,\n  'close': 8740.99,\n  'volume': 559.93}}"
     },
     "execution_count": 8,
     "metadata": {},
     "output_type": "execute_result"
    }
   ],
   "source": [
    "env.observer.feed.next()"
   ]
  },
  {
   "cell_type": "markdown",
   "metadata": {},
   "source": [
    "## Setup and Train DQN Agent"
   ]
  },
  {
   "cell_type": "code",
   "execution_count": 9,
   "metadata": {},
   "outputs": [
    {
     "data": {
      "text/plain": "FigureWidget({\n    'data': [{'close': array([8740.99, 8739.  , 8728.49, ..., 7911.83, 7901.01, 7887.  ]),\n    …",
      "application/vnd.jupyter.widget-view+json": {
       "version_major": 2,
       "version_minor": 0,
       "model_id": "5ceb3937aefb4bd7accb5215a8d44617"
      }
     },
     "metadata": {},
     "output_type": "display_data"
    },
    {
     "data": {
      "application/vnd.plotly.v1+json": {
       "config": {
        "plotlyServerURL": "https://plot.ly"
       },
       "data": [
        {
         "close": [
          8740.99,
          8739.0,
          8728.49,
          8708.32,
          8795.9,
          8760.0,
          8760.0,
          8759.23,
          8517.77,
          8520.3,
          8535.23,
          8546.34,
          8526.65,
          8555.6,
          8512.1,
          8492.28,
          8460.0,
          8474.99,
          8455.92,
          8326.28,
          8133.43,
          8164.79,
          8229.38,
          8220.4,
          8238.8,
          8232.99,
          8207.48,
          8243.45,
          8371.13,
          8373.0,
          8365.08,
          8179.99,
          8225.0,
          8285.8,
          8273.4,
          8297.4,
          8279.89,
          8252.72,
          8302.18,
          8295.85,
          8277.25,
          8346.59,
          8358.3,
          8375.1,
          8368.62,
          8366.72,
          8314.77,
          8363.7,
          8344.16,
          8247.4,
          8277.4
         ],
         "high": [
          8796.68,
          8766.0,
          8750.27,
          8754.4,
          8865.0,
          8821.19,
          8798.6,
          8771.02,
          8761.7,
          8553.67,
          8589.1,
          8579.48,
          8555.51,
          8583.6,
          8569.92,
          8555.54,
          8557.51,
          8505.0,
          8505.33,
          8478.29,
          8339.81,
          8217.44,
          8252.72,
          8248.63,
          8267.12,
          8255.0,
          8261.24,
          8263.93,
          8455.66,
          8439.44,
          8399.1,
          8381.73,
          8229.91,
          8377.29,
          8329.1,
          8350.0,
          8346.95,
          8377.29,
          8311.35,
          8319.96,
          8398.24,
          8372.58,
          8399.99,
          8386.53,
          8400.0,
          8500.0,
          8381.0,
          8371.3,
          8382.41,
          8351.0,
          8292.99
         ],
         "low": [
          8707.28,
          8721.11,
          8660.53,
          8701.35,
          8695.11,
          8740.54,
          8741.52,
          8700.0,
          8467.42,
          8477.89,
          8500.78,
          8500.0,
          8400.0,
          8451.05,
          8461.38,
          8481.24,
          8420.37,
          8450.0,
          8430.94,
          8275.02,
          8100.01,
          8122.56,
          8157.01,
          8166.25,
          8176.91,
          8213.79,
          8200.0,
          8207.48,
          8237.1,
          8370.0,
          8356.4,
          8145.1,
          8173.6,
          8211.8,
          8201.0,
          8250.9,
          8266.46,
          8252.72,
          8232.14,
          8268.37,
          8277.25,
          8277.25,
          8314.78,
          8314.77,
          8350.07,
          8331.39,
          8314.77,
          8275.45,
          8335.49,
          8191.14,
          8227.7
         ],
         "name": "Price",
         "open": [
          8733.86,
          8740.99,
          8739.0,
          8728.49,
          8708.32,
          8795.9,
          8760.0,
          8760.0,
          8759.23,
          8517.77,
          8520.3,
          8535.23,
          8546.34,
          8526.65,
          8555.6,
          8512.1,
          8492.28,
          8460.0,
          8474.99,
          8455.92,
          8326.28,
          8133.43,
          8164.79,
          8229.38,
          8220.4,
          8238.8,
          8232.99,
          8207.48,
          8243.45,
          8371.13,
          8373.0,
          8365.08,
          8179.99,
          8225.0,
          8285.8,
          8273.4,
          8297.4,
          8279.89,
          8252.72,
          8302.18,
          8295.85,
          8277.25,
          8346.59,
          8358.3,
          8375.1,
          8368.62,
          8366.72,
          8314.77,
          8363.7,
          8344.16,
          8247.4
         ],
         "showlegend": false,
         "type": "candlestick",
         "uid": "0731bd14-fe30-4ad1-96ba-551ccc3d56c2",
         "xaxis": "x",
         "yaxis": "y"
        },
        {
         "marker": {
          "color": "DodgerBlue"
         },
         "name": "Volume",
         "showlegend": false,
         "type": "bar",
         "uid": "391f75b1-d2aa-40b4-917f-b27b916252fb",
         "xaxis": "x2",
         "y": [
          559.93,
          273.58,
          917.79,
          182.62,
          1260.69,
          324.11,
          324.2,
          730.67,
          1341.75,
          792.07,
          385.69,
          475.08,
          877.26,
          670.49,
          610.97,
          168.99,
          305.92,
          136.05,
          154.26,
          1070.93,
          1710.2,
          492.8,
          630.72,
          620.93,
          586.34,
          304.52,
          450.97,
          182.36,
          915.32,
          319.29,
          362.01,
          1046.38,
          357.91,
          561.2,
          322.53,
          1073.71,
          237.21,
          251.2,
          359.73,
          117.23,
          363.17,
          214.18,
          171.64,
          258.58,
          299.52,
          718.98,
          119.7,
          405.25,
          210.77,
          714.82,
          215.97
         ],
         "yaxis": "y2"
        },
        {
         "mode": "lines",
         "name": "bitstamp:/USD-BTC",
         "type": "scatter",
         "uid": "2f79b682-a0c5-4a58-b299-e065a721e121",
         "xaxis": "x3",
         "y": [
          8740.99,
          8739.0,
          8728.49,
          8708.32,
          8795.9,
          8760.0,
          8760.0,
          8759.23,
          8517.77,
          8520.3,
          8535.23,
          8546.34,
          8526.65,
          8555.6,
          8512.1,
          8492.28,
          8460.0,
          8474.99,
          8455.92,
          8326.28,
          8133.43,
          8164.79,
          8229.38,
          8220.4,
          8238.8,
          8232.99,
          8207.48,
          8243.45,
          8371.13,
          8373.0,
          8365.08,
          8179.99,
          8225.0,
          8285.8,
          8273.4,
          8297.4,
          8279.89,
          8252.72,
          8302.18,
          8295.85,
          8277.25,
          8346.59,
          8358.3,
          8375.1,
          8368.62,
          8366.72,
          8314.77,
          8363.7,
          8344.16,
          8247.4,
          8277.4
         ],
         "yaxis": "y3"
        },
        {
         "mode": "lines",
         "name": "bitstamp:/USD:/free",
         "type": "scatter",
         "uid": "a9f121fb-8336-4ce1-85b8-8eaa152b2460",
         "xaxis": "x3",
         "y": [
          10000.0,
          5000.0,
          1500.0,
          1500.0,
          1500.0,
          1500.0,
          1500.0,
          1500.0,
          1500.0,
          6343.12,
          3805.87,
          3805.87,
          3805.87,
          3805.87,
          3805.87,
          3805.87,
          3805.87,
          3805.87,
          3805.87,
          3805.87,
          7120.6,
          9528.14,
          9528.14,
          9528.14,
          9528.14,
          9528.14,
          9528.14,
          9528.14,
          2858.44,
          2858.44,
          2858.44,
          2858.44,
          2858.44,
          2858.44,
          2858.44,
          2858.44,
          2858.44,
          2858.44,
          2858.44,
          2858.44,
          2858.44,
          2858.44,
          2858.44,
          571.69,
          571.69,
          571.69,
          571.69,
          571.69,
          571.69,
          571.69,
          571.69
         ],
         "yaxis": "y3"
        },
        {
         "mode": "lines",
         "name": "bitstamp:/USD:/locked",
         "type": "scatter",
         "uid": "601870c1-66ac-4116-83ce-e0fc7b55621e",
         "xaxis": "x3",
         "y": [
          0.0,
          0.0,
          0.0,
          0.0,
          0.0,
          0.0,
          0.0,
          0.0,
          0.0,
          0.0,
          0.0,
          0.0,
          0.0,
          0.0,
          0.0,
          0.0,
          0.0,
          0.0,
          0.0,
          0.0,
          0.0,
          0.0,
          0.0,
          0.0,
          0.0,
          0.0,
          0.0,
          0.0,
          0.0,
          0.0,
          0.0,
          0.0,
          0.0,
          0.0,
          0.0,
          0.0,
          0.0,
          0.0,
          0.0,
          0.0,
          0.0,
          0.0,
          0.0,
          0.0,
          0.0,
          0.0,
          0.0,
          0.0,
          0.0,
          0.0,
          0.0
         ],
         "yaxis": "y3"
        },
        {
         "mode": "lines",
         "name": "bitstamp:/USD:/total",
         "type": "scatter",
         "uid": "2c681579-e45b-4a8f-afef-4ab343f9a74a",
         "xaxis": "x3",
         "y": [
          10000.0,
          5000.0,
          1500.0,
          1500.0,
          1500.0,
          1500.0,
          1500.0,
          1500.0,
          1500.0,
          6343.12,
          3805.87,
          3805.87,
          3805.87,
          3805.87,
          3805.87,
          3805.87,
          3805.87,
          3805.87,
          3805.87,
          3805.87,
          7120.6,
          9528.14,
          9528.14,
          9528.14,
          9528.14,
          9528.14,
          9528.14,
          9528.14,
          2858.44,
          2858.44,
          2858.44,
          2858.44,
          2858.44,
          2858.44,
          2858.44,
          2858.44,
          2858.44,
          2858.44,
          2858.44,
          2858.44,
          2858.44,
          2858.44,
          2858.44,
          571.69,
          571.69,
          571.69,
          571.69,
          571.69,
          571.69,
          571.69,
          571.69
         ],
         "yaxis": "y3"
        },
        {
         "mode": "lines",
         "name": "bitstamp:/BTC:/free",
         "type": "scatter",
         "uid": "692d2628-0225-446b-884c-8082509c661b",
         "xaxis": "x3",
         "y": [
          10.0,
          10.0,
          10.0,
          10.0,
          10.0,
          10.0,
          10.0,
          10.0,
          10.0,
          10.0,
          10.0,
          10.0,
          10.0,
          10.0,
          10.0,
          10.0,
          10.0,
          10.0,
          10.0,
          10.0,
          10.0,
          10.0,
          10.0,
          10.0,
          10.0,
          10.0,
          10.0,
          10.0,
          10.0,
          10.0,
          10.0,
          10.0,
          10.0,
          10.0,
          10.0,
          10.0,
          10.0,
          10.0,
          10.0,
          10.0,
          10.0,
          10.0,
          10.0,
          10.0,
          10.0,
          10.0,
          10.0,
          10.0,
          10.0,
          10.0,
          10.0
         ],
         "yaxis": "y3"
        },
        {
         "mode": "lines",
         "name": "bitstamp:/BTC:/locked",
         "type": "scatter",
         "uid": "e837dc76-37dd-4675-ba8b-277d0e2e7b3e",
         "xaxis": "x3",
         "y": [
          0.0,
          0.57030153,
          0.96960351,
          0.96960351,
          0.96960351,
          0.96960351,
          0.96960351,
          0.96960351,
          0.96960351,
          0.39930198,
          0.69619763,
          0.69619763,
          0.69619763,
          0.69619763,
          0.69619763,
          0.69619763,
          0.69619763,
          0.69619763,
          0.69619763,
          0.69619763,
          0.29689565,
          0.0,
          0.0,
          0.0,
          0.0,
          0.0,
          0.0,
          0.0,
          0.80666347,
          0.80666347,
          0.80666347,
          0.80666347,
          0.80666347,
          0.80666347,
          0.80666347,
          0.80666347,
          0.80666347,
          0.80666347,
          0.80666347,
          0.80666347,
          0.80666347,
          0.80666347,
          0.80666347,
          1.07943305,
          1.07943305,
          1.07943305,
          1.07943305,
          1.07943305,
          1.07943305,
          1.07943305,
          1.07943305
         ],
         "yaxis": "y3"
        },
        {
         "mode": "lines",
         "name": "bitstamp:/BTC:/total",
         "type": "scatter",
         "uid": "d1a5bb1d-8ac9-46ba-a619-40cf477fdaab",
         "xaxis": "x3",
         "y": [
          10.0,
          10.57030153,
          10.96960351,
          10.96960351,
          10.96960351,
          10.96960351,
          10.96960351,
          10.96960351,
          10.96960351,
          10.39930198,
          10.69619763,
          10.69619763,
          10.69619763,
          10.69619763,
          10.69619763,
          10.69619763,
          10.69619763,
          10.69619763,
          10.69619763,
          10.69619763,
          10.29689565,
          10.0,
          10.0,
          10.0,
          10.0,
          10.0,
          10.0,
          10.0,
          10.80666347,
          10.80666347,
          10.80666347,
          10.80666347,
          10.80666347,
          10.80666347,
          10.80666347,
          10.80666347,
          10.80666347,
          10.80666347,
          10.80666347,
          10.80666347,
          10.80666347,
          10.80666347,
          10.80666347,
          11.07943305,
          11.07943305,
          11.07943305,
          11.07943305,
          11.07943305,
          11.07943305,
          11.07943305,
          11.07943305
         ],
         "yaxis": "y3"
        },
        {
         "mode": "lines",
         "name": "bitstamp:/BTC:/worth",
         "type": "scatter",
         "uid": "57feb423-417f-4b96-9f78-24885eb5f33b",
         "xaxis": "x3",
         "y": [
          87409.9,
          92373.86507067,
          95748.0745409999,
          95526.8176382032,
          96487.53551360901,
          96093.72674760001,
          96093.72674760001,
          96085.2801528973,
          93436.5596893727,
          88605.172660194,
          91294.50689750489,
          91413.34165317421,
          91202.7335218395,
          91512.388443228,
          91047.103846323,
          90835.10520929641,
          90489.8319498,
          90650.1679522737,
          90446.1914634696,
          89059.5364027164,
          83749.0799865795,
          81647.9,
          82293.79999999999,
          82204.0,
          82388.0,
          82329.9,
          82074.79999999999,
          82434.5,
          90463.9847736211,
          90484.19323431,
          90398.6044596276,
          88398.3991179653,
          88884.80704075,
          89541.85217972599,
          89407.849552698,
          89667.209475978,
          89477.9847986183,
          89184.3677521384,
          89718.8653273646,
          89650.45914759951,
          89449.4552070575,
          90198.7892520673,
          90325.335281301,
          92791.35973705501,
          92719.56501089102,
          92698.514088096,
          92122.93754114851,
          92665.05420028501,
          92448.562078488,
          91376.51613657,
          91708.89912807
         ],
         "yaxis": "y3"
        },
        {
         "mode": "lines",
         "name": "net_worth",
         "type": "scatter",
         "uid": "146c3e5b-f3a7-4ad0-9809-7bb21b54aa57",
         "xaxis": "x3",
         "y": [
          97409.9,
          97373.86507067,
          97248.0745409999,
          97026.8176382032,
          97987.53551360901,
          97593.72674760001,
          97593.72674760001,
          97585.2801528973,
          94936.5596893727,
          94948.292660194,
          95100.37689750489,
          95219.2116531742,
          95008.6035218395,
          95318.258443228,
          94852.973846323,
          94640.9752092964,
          94295.7019498,
          94456.03795227369,
          94252.0614634696,
          92865.4064027164,
          90869.6799865795,
          91176.04,
          91821.93999999999,
          91732.14,
          91916.14,
          91858.04,
          91602.93999999999,
          91962.64,
          93322.4247736211,
          93342.63323431001,
          93257.0444596276,
          91256.8391179653,
          91743.24704075001,
          92400.29217972599,
          92266.289552698,
          92525.649475978,
          92336.4247986183,
          92042.8077521384,
          92577.30532736461,
          92508.89914759951,
          92307.8952070575,
          93057.2292520673,
          93183.775281301,
          93363.04973705501,
          93291.25501089102,
          93270.204088096,
          92694.62754114851,
          93236.74420028501,
          93020.252078488,
          91948.20613657,
          92280.58912807
         ],
         "yaxis": "y3"
        },
        {
         "marker": {
          "color": "DarkGreen"
         },
         "mode": "lines",
         "name": "Net Worth",
         "type": "scatter",
         "uid": "7447514d-f491-4ee3-9a5a-de6882af6407",
         "xaxis": "x4",
         "y": [
          97409.9,
          97373.86507067,
          97248.0745409999,
          97026.8176382032,
          97987.53551360901,
          97593.72674760001,
          97593.72674760001,
          97585.2801528973,
          94936.5596893727,
          94948.292660194,
          95100.37689750489,
          95219.2116531742,
          95008.6035218395,
          95318.258443228,
          94852.973846323,
          94640.9752092964,
          94295.7019498,
          94456.03795227369,
          94252.0614634696,
          92865.4064027164,
          90869.6799865795,
          91176.04,
          91821.93999999999,
          91732.14,
          91916.14,
          91858.04,
          91602.93999999999,
          91962.64,
          93322.4247736211,
          93342.63323431001,
          93257.0444596276,
          91256.8391179653,
          91743.24704075001,
          92400.29217972599,
          92266.289552698,
          92525.649475978,
          92336.4247986183,
          92042.8077521384,
          92577.30532736461,
          92508.89914759951,
          92307.8952070575,
          93057.2292520673,
          93183.775281301,
          93363.04973705501,
          93291.25501089102,
          93270.204088096,
          92694.62754114851,
          93236.74420028501,
          93020.252078488,
          91948.20613657,
          92280.58912807
         ],
         "yaxis": "y4"
        }
       ],
       "layout": {
        "annotations": [
         {
          "arrowcolor": "DarkGreen",
          "arrowhead": 2,
          "arrowsize": 0.8,
          "arrowwidth": 4,
          "ax": 0,
          "ay": 15,
          "hoverlabel": {
           "bgcolor": "DarkGreen"
          },
          "hovertext": "Step 43 [2018-05-17 00:00:00]<br>BUY 0.27276958 BTC @ 8358.3 USD MARKET<br>Total: 2279.89 USD - Comm.: 6.86 USD",
          "opacity": 0.6,
          "showarrow": true,
          "x": 42,
          "xref": "x",
          "y": 8358.3,
          "yref": "y"
         },
         {
          "arrowcolor": "DarkGreen",
          "arrowhead": 2,
          "arrowsize": 0.8,
          "arrowwidth": 4,
          "ax": 0,
          "ay": 15,
          "hoverlabel": {
           "bgcolor": "DarkGreen"
          },
          "hovertext": "Step 28 [2018-05-16 09:00:00]<br>BUY 0.80666347 BTC @ 8243.45 USD MARKET<br>Total: 6649.69 USD - Comm.: 20.01 USD",
          "opacity": 0.6,
          "showarrow": true,
          "x": 27,
          "xref": "x",
          "y": 8243.45,
          "yref": "y"
         },
         {
          "arrowcolor": "FireBrick",
          "arrowhead": 2,
          "arrowsize": 0.8,
          "arrowwidth": 4,
          "ax": 0,
          "ay": -15,
          "hoverlabel": {
           "bgcolor": "FireBrick"
          },
          "hovertext": "Step 21 [2018-05-16 02:00:00]<br>SELL 0.29600496 BTC @ 8133.43 USD MARKET<br>Total: 2407.54 USD - Comm.: 0.00089069 BTC",
          "opacity": 0.6,
          "showarrow": true,
          "x": 20,
          "xref": "x",
          "y": 8133.43,
          "yref": "y"
         },
         {
          "arrowcolor": "FireBrick",
          "arrowhead": 2,
          "arrowsize": 0.8,
          "arrowwidth": 4,
          "ax": 0,
          "ay": -15,
          "hoverlabel": {
           "bgcolor": "FireBrick"
          },
          "hovertext": "Step 20 [2018-05-16 01:00:00]<br>SELL 0.39810407 BTC @ 8326.28 USD MARKET<br>Total: 3314.73 USD - Comm.: 0.00119791 BTC",
          "opacity": 0.6,
          "showarrow": true,
          "x": 19,
          "xref": "x",
          "y": 8326.28,
          "yref": "y"
         },
         {
          "arrowcolor": "DarkGreen",
          "arrowhead": 2,
          "arrowsize": 0.8,
          "arrowwidth": 4,
          "ax": 0,
          "ay": 15,
          "hoverlabel": {
           "bgcolor": "DarkGreen"
          },
          "hovertext": "Step 10 [2018-05-15 15:00:00]<br>BUY 0.29689565 BTC @ 8520.3 USD MARKET<br>Total: 2529.64 USD - Comm.: 7.61 USD",
          "opacity": 0.6,
          "showarrow": true,
          "x": 9,
          "xref": "x",
          "y": 8520.3,
          "yref": "y"
         },
         {
          "arrowcolor": "FireBrick",
          "arrowhead": 2,
          "arrowsize": 0.8,
          "arrowwidth": 4,
          "ax": 0,
          "ay": -15,
          "hoverlabel": {
           "bgcolor": "FireBrick"
          },
          "hovertext": "Step 9 [2018-05-15 14:00:00]<br>SELL 0.56859063 BTC @ 8517.77 USD MARKET<br>Total: 4843.12 USD - Comm.: 0.00171090 BTC",
          "opacity": 0.6,
          "showarrow": true,
          "x": 8,
          "xref": "x",
          "y": 8517.77,
          "yref": "y"
         },
         {
          "arrowcolor": "DarkGreen",
          "arrowhead": 2,
          "arrowsize": 0.8,
          "arrowwidth": 4,
          "ax": 0,
          "ay": 15,
          "hoverlabel": {
           "bgcolor": "DarkGreen"
          },
          "hovertext": "Step 2 [2018-05-15 07:00:00]<br>BUY 0.39930198 BTC @ 8739.0 USD MARKET<br>Total: 3489.5 USD - Comm.: 10.50 USD",
          "opacity": 0.6,
          "showarrow": true,
          "x": 1,
          "xref": "x",
          "y": 8739.0,
          "yref": "y"
         },
         {
          "arrowcolor": "DarkGreen",
          "arrowhead": 2,
          "arrowsize": 0.8,
          "arrowwidth": 4,
          "ax": 0,
          "ay": 15,
          "hoverlabel": {
           "bgcolor": "DarkGreen"
          },
          "hovertext": "Step 1 [2018-05-15 06:00:00]<br>BUY 0.57030153 BTC @ 8740.99 USD MARKET<br>Total: 4985.0 USD - Comm.: 15.00 USD",
          "opacity": 0.6,
          "showarrow": true,
          "x": 0,
          "xref": "x",
          "y": 8740.99,
          "yref": "y"
         }
        ],
        "margin": {
         "t": 50
        },
        "template": {
         "data": {
          "bar": [
           {
            "error_x": {
             "color": "#2a3f5f"
            },
            "error_y": {
             "color": "#2a3f5f"
            },
            "marker": {
             "line": {
              "color": "white",
              "width": 0.5
             }
            },
            "type": "bar"
           }
          ],
          "barpolar": [
           {
            "marker": {
             "line": {
              "color": "white",
              "width": 0.5
             }
            },
            "type": "barpolar"
           }
          ],
          "carpet": [
           {
            "aaxis": {
             "endlinecolor": "#2a3f5f",
             "gridcolor": "#C8D4E3",
             "linecolor": "#C8D4E3",
             "minorgridcolor": "#C8D4E3",
             "startlinecolor": "#2a3f5f"
            },
            "baxis": {
             "endlinecolor": "#2a3f5f",
             "gridcolor": "#C8D4E3",
             "linecolor": "#C8D4E3",
             "minorgridcolor": "#C8D4E3",
             "startlinecolor": "#2a3f5f"
            },
            "type": "carpet"
           }
          ],
          "choropleth": [
           {
            "colorbar": {
             "outlinewidth": 0,
             "ticks": ""
            },
            "type": "choropleth"
           }
          ],
          "contour": [
           {
            "colorbar": {
             "outlinewidth": 0,
             "ticks": ""
            },
            "colorscale": [
             [
              0.0,
              "#0d0887"
             ],
             [
              0.1111111111111111,
              "#46039f"
             ],
             [
              0.2222222222222222,
              "#7201a8"
             ],
             [
              0.3333333333333333,
              "#9c179e"
             ],
             [
              0.4444444444444444,
              "#bd3786"
             ],
             [
              0.5555555555555556,
              "#d8576b"
             ],
             [
              0.6666666666666666,
              "#ed7953"
             ],
             [
              0.7777777777777778,
              "#fb9f3a"
             ],
             [
              0.8888888888888888,
              "#fdca26"
             ],
             [
              1.0,
              "#f0f921"
             ]
            ],
            "type": "contour"
           }
          ],
          "contourcarpet": [
           {
            "colorbar": {
             "outlinewidth": 0,
             "ticks": ""
            },
            "type": "contourcarpet"
           }
          ],
          "heatmap": [
           {
            "colorbar": {
             "outlinewidth": 0,
             "ticks": ""
            },
            "colorscale": [
             [
              0.0,
              "#0d0887"
             ],
             [
              0.1111111111111111,
              "#46039f"
             ],
             [
              0.2222222222222222,
              "#7201a8"
             ],
             [
              0.3333333333333333,
              "#9c179e"
             ],
             [
              0.4444444444444444,
              "#bd3786"
             ],
             [
              0.5555555555555556,
              "#d8576b"
             ],
             [
              0.6666666666666666,
              "#ed7953"
             ],
             [
              0.7777777777777778,
              "#fb9f3a"
             ],
             [
              0.8888888888888888,
              "#fdca26"
             ],
             [
              1.0,
              "#f0f921"
             ]
            ],
            "type": "heatmap"
           }
          ],
          "heatmapgl": [
           {
            "colorbar": {
             "outlinewidth": 0,
             "ticks": ""
            },
            "colorscale": [
             [
              0.0,
              "#0d0887"
             ],
             [
              0.1111111111111111,
              "#46039f"
             ],
             [
              0.2222222222222222,
              "#7201a8"
             ],
             [
              0.3333333333333333,
              "#9c179e"
             ],
             [
              0.4444444444444444,
              "#bd3786"
             ],
             [
              0.5555555555555556,
              "#d8576b"
             ],
             [
              0.6666666666666666,
              "#ed7953"
             ],
             [
              0.7777777777777778,
              "#fb9f3a"
             ],
             [
              0.8888888888888888,
              "#fdca26"
             ],
             [
              1.0,
              "#f0f921"
             ]
            ],
            "type": "heatmapgl"
           }
          ],
          "histogram": [
           {
            "marker": {
             "colorbar": {
              "outlinewidth": 0,
              "ticks": ""
             }
            },
            "type": "histogram"
           }
          ],
          "histogram2d": [
           {
            "colorbar": {
             "outlinewidth": 0,
             "ticks": ""
            },
            "colorscale": [
             [
              0.0,
              "#0d0887"
             ],
             [
              0.1111111111111111,
              "#46039f"
             ],
             [
              0.2222222222222222,
              "#7201a8"
             ],
             [
              0.3333333333333333,
              "#9c179e"
             ],
             [
              0.4444444444444444,
              "#bd3786"
             ],
             [
              0.5555555555555556,
              "#d8576b"
             ],
             [
              0.6666666666666666,
              "#ed7953"
             ],
             [
              0.7777777777777778,
              "#fb9f3a"
             ],
             [
              0.8888888888888888,
              "#fdca26"
             ],
             [
              1.0,
              "#f0f921"
             ]
            ],
            "type": "histogram2d"
           }
          ],
          "histogram2dcontour": [
           {
            "colorbar": {
             "outlinewidth": 0,
             "ticks": ""
            },
            "colorscale": [
             [
              0.0,
              "#0d0887"
             ],
             [
              0.1111111111111111,
              "#46039f"
             ],
             [
              0.2222222222222222,
              "#7201a8"
             ],
             [
              0.3333333333333333,
              "#9c179e"
             ],
             [
              0.4444444444444444,
              "#bd3786"
             ],
             [
              0.5555555555555556,
              "#d8576b"
             ],
             [
              0.6666666666666666,
              "#ed7953"
             ],
             [
              0.7777777777777778,
              "#fb9f3a"
             ],
             [
              0.8888888888888888,
              "#fdca26"
             ],
             [
              1.0,
              "#f0f921"
             ]
            ],
            "type": "histogram2dcontour"
           }
          ],
          "mesh3d": [
           {
            "colorbar": {
             "outlinewidth": 0,
             "ticks": ""
            },
            "type": "mesh3d"
           }
          ],
          "parcoords": [
           {
            "line": {
             "colorbar": {
              "outlinewidth": 0,
              "ticks": ""
             }
            },
            "type": "parcoords"
           }
          ],
          "pie": [
           {
            "automargin": true,
            "type": "pie"
           }
          ],
          "scatter": [
           {
            "marker": {
             "colorbar": {
              "outlinewidth": 0,
              "ticks": ""
             }
            },
            "type": "scatter"
           }
          ],
          "scatter3d": [
           {
            "line": {
             "colorbar": {
              "outlinewidth": 0,
              "ticks": ""
             }
            },
            "marker": {
             "colorbar": {
              "outlinewidth": 0,
              "ticks": ""
             }
            },
            "type": "scatter3d"
           }
          ],
          "scattercarpet": [
           {
            "marker": {
             "colorbar": {
              "outlinewidth": 0,
              "ticks": ""
             }
            },
            "type": "scattercarpet"
           }
          ],
          "scattergeo": [
           {
            "marker": {
             "colorbar": {
              "outlinewidth": 0,
              "ticks": ""
             }
            },
            "type": "scattergeo"
           }
          ],
          "scattergl": [
           {
            "marker": {
             "colorbar": {
              "outlinewidth": 0,
              "ticks": ""
             }
            },
            "type": "scattergl"
           }
          ],
          "scattermapbox": [
           {
            "marker": {
             "colorbar": {
              "outlinewidth": 0,
              "ticks": ""
             }
            },
            "type": "scattermapbox"
           }
          ],
          "scatterpolar": [
           {
            "marker": {
             "colorbar": {
              "outlinewidth": 0,
              "ticks": ""
             }
            },
            "type": "scatterpolar"
           }
          ],
          "scatterpolargl": [
           {
            "marker": {
             "colorbar": {
              "outlinewidth": 0,
              "ticks": ""
             }
            },
            "type": "scatterpolargl"
           }
          ],
          "scatterternary": [
           {
            "marker": {
             "colorbar": {
              "outlinewidth": 0,
              "ticks": ""
             }
            },
            "type": "scatterternary"
           }
          ],
          "surface": [
           {
            "colorbar": {
             "outlinewidth": 0,
             "ticks": ""
            },
            "colorscale": [
             [
              0.0,
              "#0d0887"
             ],
             [
              0.1111111111111111,
              "#46039f"
             ],
             [
              0.2222222222222222,
              "#7201a8"
             ],
             [
              0.3333333333333333,
              "#9c179e"
             ],
             [
              0.4444444444444444,
              "#bd3786"
             ],
             [
              0.5555555555555556,
              "#d8576b"
             ],
             [
              0.6666666666666666,
              "#ed7953"
             ],
             [
              0.7777777777777778,
              "#fb9f3a"
             ],
             [
              0.8888888888888888,
              "#fdca26"
             ],
             [
              1.0,
              "#f0f921"
             ]
            ],
            "type": "surface"
           }
          ],
          "table": [
           {
            "cells": {
             "fill": {
              "color": "#EBF0F8"
             },
             "line": {
              "color": "white"
             }
            },
            "header": {
             "fill": {
              "color": "#C8D4E3"
             },
             "line": {
              "color": "white"
             }
            },
            "type": "table"
           }
          ]
         },
         "layout": {
          "annotationdefaults": {
           "arrowcolor": "#2a3f5f",
           "arrowhead": 0,
           "arrowwidth": 1
          },
          "autotypenumbers": "strict",
          "coloraxis": {
           "colorbar": {
            "outlinewidth": 0,
            "ticks": ""
           }
          },
          "colorscale": {
           "diverging": [
            [
             0,
             "#8e0152"
            ],
            [
             0.1,
             "#c51b7d"
            ],
            [
             0.2,
             "#de77ae"
            ],
            [
             0.3,
             "#f1b6da"
            ],
            [
             0.4,
             "#fde0ef"
            ],
            [
             0.5,
             "#f7f7f7"
            ],
            [
             0.6,
             "#e6f5d0"
            ],
            [
             0.7,
             "#b8e186"
            ],
            [
             0.8,
             "#7fbc41"
            ],
            [
             0.9,
             "#4d9221"
            ],
            [
             1,
             "#276419"
            ]
           ],
           "sequential": [
            [
             0.0,
             "#0d0887"
            ],
            [
             0.1111111111111111,
             "#46039f"
            ],
            [
             0.2222222222222222,
             "#7201a8"
            ],
            [
             0.3333333333333333,
             "#9c179e"
            ],
            [
             0.4444444444444444,
             "#bd3786"
            ],
            [
             0.5555555555555556,
             "#d8576b"
            ],
            [
             0.6666666666666666,
             "#ed7953"
            ],
            [
             0.7777777777777778,
             "#fb9f3a"
            ],
            [
             0.8888888888888888,
             "#fdca26"
            ],
            [
             1.0,
             "#f0f921"
            ]
           ],
           "sequentialminus": [
            [
             0.0,
             "#0d0887"
            ],
            [
             0.1111111111111111,
             "#46039f"
            ],
            [
             0.2222222222222222,
             "#7201a8"
            ],
            [
             0.3333333333333333,
             "#9c179e"
            ],
            [
             0.4444444444444444,
             "#bd3786"
            ],
            [
             0.5555555555555556,
             "#d8576b"
            ],
            [
             0.6666666666666666,
             "#ed7953"
            ],
            [
             0.7777777777777778,
             "#fb9f3a"
            ],
            [
             0.8888888888888888,
             "#fdca26"
            ],
            [
             1.0,
             "#f0f921"
            ]
           ]
          },
          "colorway": [
           "#636efa",
           "#EF553B",
           "#00cc96",
           "#ab63fa",
           "#FFA15A",
           "#19d3f3",
           "#FF6692",
           "#B6E880",
           "#FF97FF",
           "#FECB52"
          ],
          "font": {
           "color": "#2a3f5f"
          },
          "geo": {
           "bgcolor": "white",
           "lakecolor": "white",
           "landcolor": "white",
           "showlakes": true,
           "showland": true,
           "subunitcolor": "#C8D4E3"
          },
          "hoverlabel": {
           "align": "left"
          },
          "hovermode": "closest",
          "mapbox": {
           "style": "light"
          },
          "paper_bgcolor": "white",
          "plot_bgcolor": "white",
          "polar": {
           "angularaxis": {
            "gridcolor": "#EBF0F8",
            "linecolor": "#EBF0F8",
            "ticks": ""
           },
           "bgcolor": "white",
           "radialaxis": {
            "gridcolor": "#EBF0F8",
            "linecolor": "#EBF0F8",
            "ticks": ""
           }
          },
          "scene": {
           "xaxis": {
            "backgroundcolor": "white",
            "gridcolor": "#DFE8F3",
            "gridwidth": 2,
            "linecolor": "#EBF0F8",
            "showbackground": true,
            "ticks": "",
            "zerolinecolor": "#EBF0F8"
           },
           "yaxis": {
            "backgroundcolor": "white",
            "gridcolor": "#DFE8F3",
            "gridwidth": 2,
            "linecolor": "#EBF0F8",
            "showbackground": true,
            "ticks": "",
            "zerolinecolor": "#EBF0F8"
           },
           "zaxis": {
            "backgroundcolor": "white",
            "gridcolor": "#DFE8F3",
            "gridwidth": 2,
            "linecolor": "#EBF0F8",
            "showbackground": true,
            "ticks": "",
            "zerolinecolor": "#EBF0F8"
           }
          },
          "shapedefaults": {
           "line": {
            "color": "#2a3f5f"
           }
          },
          "ternary": {
           "aaxis": {
            "gridcolor": "#DFE8F3",
            "linecolor": "#A2B1C6",
            "ticks": ""
           },
           "baxis": {
            "gridcolor": "#DFE8F3",
            "linecolor": "#A2B1C6",
            "ticks": ""
           },
           "bgcolor": "white",
           "caxis": {
            "gridcolor": "#DFE8F3",
            "linecolor": "#A2B1C6",
            "ticks": ""
           }
          },
          "title": {
           "x": 0.05
          },
          "xaxis": {
           "automargin": true,
           "gridcolor": "#EBF0F8",
           "linecolor": "#EBF0F8",
           "ticks": "",
           "title": {
            "standoff": 15
           },
           "zerolinecolor": "#EBF0F8",
           "zerolinewidth": 2
          },
          "yaxis": {
           "automargin": true,
           "gridcolor": "#EBF0F8",
           "linecolor": "#EBF0F8",
           "ticks": "",
           "title": {
            "standoff": 15
           },
           "zerolinecolor": "#EBF0F8",
           "zerolinewidth": 2
          }
         }
        },
        "title": {
         "text": "[2021-03-31 16:19:39 PM] Episode: 2/2 Step: 51/200"
        },
        "xaxis": {
         "anchor": "y",
         "domain": [
          0.0,
          1.0
         ],
         "gridcolor": "Gainsboro",
         "linecolor": "Grey",
         "matches": "x4",
         "rangeslider": {
          "visible": false
         },
         "showticklabels": false,
         "title": {
          "font": {
           "size": 12
          },
          "standoff": 7,
          "text": "Price"
         }
        },
        "xaxis2": {
         "anchor": "y2",
         "domain": [
          0.0,
          1.0
         ],
         "gridcolor": "Gainsboro",
         "linecolor": "Grey",
         "matches": "x4",
         "showticklabels": false,
         "title": {
          "font": {
           "size": 12
          },
          "standoff": 7,
          "text": "Volume"
         }
        },
        "xaxis3": {
         "anchor": "y3",
         "domain": [
          0.0,
          1.0
         ],
         "gridcolor": "Gainsboro",
         "linecolor": "Grey",
         "matches": "x4",
         "showticklabels": false,
         "title": {
          "font": {
           "size": 12
          },
          "standoff": 7,
          "text": "Performance"
         }
        },
        "xaxis4": {
         "anchor": "y4",
         "domain": [
          0.0,
          1.0
         ],
         "gridcolor": "Gainsboro",
         "linecolor": "Grey",
         "title": {
          "font": {
           "size": 12
          },
          "standoff": 7,
          "text": "Net Worth"
         }
        },
        "yaxis": {
         "anchor": "x",
         "domain": [
          0.49950000000000006,
          1.0
         ],
         "gridcolor": "Gainsboro",
         "linecolor": "Grey"
        },
        "yaxis2": {
         "anchor": "x2",
         "domain": [
          0.333,
          0.46950000000000003
         ],
         "gridcolor": "Gainsboro",
         "linecolor": "Grey"
        },
        "yaxis3": {
         "anchor": "x3",
         "domain": [
          0.1665,
          0.30300000000000005
         ],
         "gridcolor": "Gainsboro",
         "linecolor": "Grey"
        },
        "yaxis4": {
         "anchor": "x4",
         "domain": [
          0.0,
          0.1365
         ],
         "gridcolor": "Gainsboro",
         "linecolor": "Grey"
        }
       }
      },
      "text/html": "<div>                            <div id=\"99214494-cb49-45e6-bb67-f0f75fce0fa7\" class=\"plotly-graph-div\" style=\"height:525px; width:100%;\"></div>            <script type=\"text/javascript\">                require([\"plotly\"], function(Plotly) {                    window.PLOTLYENV=window.PLOTLYENV || {};                                    if (document.getElementById(\"99214494-cb49-45e6-bb67-f0f75fce0fa7\")) {                    Plotly.newPlot(                        \"99214494-cb49-45e6-bb67-f0f75fce0fa7\",                        [{\"close\": [8740.99, 8739.0, 8728.49, 8708.32, 8795.9, 8760.0, 8760.0, 8759.23, 8517.77, 8520.3, 8535.23, 8546.34, 8526.65, 8555.6, 8512.1, 8492.28, 8460.0, 8474.99, 8455.92, 8326.28, 8133.43, 8164.79, 8229.38, 8220.4, 8238.8, 8232.99, 8207.48, 8243.45, 8371.13, 8373.0, 8365.08, 8179.99, 8225.0, 8285.8, 8273.4, 8297.4, 8279.89, 8252.72, 8302.18, 8295.85, 8277.25, 8346.59, 8358.3, 8375.1, 8368.62, 8366.72, 8314.77, 8363.7, 8344.16, 8247.4, 8277.4], \"high\": [8796.68, 8766.0, 8750.27, 8754.4, 8865.0, 8821.19, 8798.6, 8771.02, 8761.7, 8553.67, 8589.1, 8579.48, 8555.51, 8583.6, 8569.92, 8555.54, 8557.51, 8505.0, 8505.33, 8478.29, 8339.81, 8217.44, 8252.72, 8248.63, 8267.12, 8255.0, 8261.24, 8263.93, 8455.66, 8439.44, 8399.1, 8381.73, 8229.91, 8377.29, 8329.1, 8350.0, 8346.95, 8377.29, 8311.35, 8319.96, 8398.24, 8372.58, 8399.99, 8386.53, 8400.0, 8500.0, 8381.0, 8371.3, 8382.41, 8351.0, 8292.99], \"low\": [8707.28, 8721.11, 8660.53, 8701.35, 8695.11, 8740.54, 8741.52, 8700.0, 8467.42, 8477.89, 8500.78, 8500.0, 8400.0, 8451.05, 8461.38, 8481.24, 8420.37, 8450.0, 8430.94, 8275.02, 8100.01, 8122.56, 8157.01, 8166.25, 8176.91, 8213.79, 8200.0, 8207.48, 8237.1, 8370.0, 8356.4, 8145.1, 8173.6, 8211.8, 8201.0, 8250.9, 8266.46, 8252.72, 8232.14, 8268.37, 8277.25, 8277.25, 8314.78, 8314.77, 8350.07, 8331.39, 8314.77, 8275.45, 8335.49, 8191.14, 8227.7], \"name\": \"Price\", \"open\": [8733.86, 8740.99, 8739.0, 8728.49, 8708.32, 8795.9, 8760.0, 8760.0, 8759.23, 8517.77, 8520.3, 8535.23, 8546.34, 8526.65, 8555.6, 8512.1, 8492.28, 8460.0, 8474.99, 8455.92, 8326.28, 8133.43, 8164.79, 8229.38, 8220.4, 8238.8, 8232.99, 8207.48, 8243.45, 8371.13, 8373.0, 8365.08, 8179.99, 8225.0, 8285.8, 8273.4, 8297.4, 8279.89, 8252.72, 8302.18, 8295.85, 8277.25, 8346.59, 8358.3, 8375.1, 8368.62, 8366.72, 8314.77, 8363.7, 8344.16, 8247.4], \"showlegend\": false, \"type\": \"candlestick\", \"uid\": \"0731bd14-fe30-4ad1-96ba-551ccc3d56c2\", \"xaxis\": \"x\", \"yaxis\": \"y\"}, {\"marker\": {\"color\": \"DodgerBlue\"}, \"name\": \"Volume\", \"showlegend\": false, \"type\": \"bar\", \"uid\": \"391f75b1-d2aa-40b4-917f-b27b916252fb\", \"xaxis\": \"x2\", \"y\": [559.93, 273.58, 917.79, 182.62, 1260.69, 324.11, 324.2, 730.67, 1341.75, 792.07, 385.69, 475.08, 877.26, 670.49, 610.97, 168.99, 305.92, 136.05, 154.26, 1070.93, 1710.2, 492.8, 630.72, 620.93, 586.34, 304.52, 450.97, 182.36, 915.32, 319.29, 362.01, 1046.38, 357.91, 561.2, 322.53, 1073.71, 237.21, 251.2, 359.73, 117.23, 363.17, 214.18, 171.64, 258.58, 299.52, 718.98, 119.7, 405.25, 210.77, 714.82, 215.97], \"yaxis\": \"y2\"}, {\"mode\": \"lines\", \"name\": \"bitstamp:/USD-BTC\", \"type\": \"scatter\", \"uid\": \"2f79b682-a0c5-4a58-b299-e065a721e121\", \"xaxis\": \"x3\", \"y\": [8740.99, 8739.0, 8728.49, 8708.32, 8795.9, 8760.0, 8760.0, 8759.23, 8517.77, 8520.3, 8535.23, 8546.34, 8526.65, 8555.6, 8512.1, 8492.28, 8460.0, 8474.99, 8455.92, 8326.28, 8133.43, 8164.79, 8229.38, 8220.4, 8238.8, 8232.99, 8207.48, 8243.45, 8371.13, 8373.0, 8365.08, 8179.99, 8225.0, 8285.8, 8273.4, 8297.4, 8279.89, 8252.72, 8302.18, 8295.85, 8277.25, 8346.59, 8358.3, 8375.1, 8368.62, 8366.72, 8314.77, 8363.7, 8344.16, 8247.4, 8277.4], \"yaxis\": \"y3\"}, {\"mode\": \"lines\", \"name\": \"bitstamp:/USD:/free\", \"type\": \"scatter\", \"uid\": \"a9f121fb-8336-4ce1-85b8-8eaa152b2460\", \"xaxis\": \"x3\", \"y\": [10000.0, 5000.0, 1500.0, 1500.0, 1500.0, 1500.0, 1500.0, 1500.0, 1500.0, 6343.12, 3805.87, 3805.87, 3805.87, 3805.87, 3805.87, 3805.87, 3805.87, 3805.87, 3805.87, 3805.87, 7120.6, 9528.14, 9528.14, 9528.14, 9528.14, 9528.14, 9528.14, 9528.14, 2858.44, 2858.44, 2858.44, 2858.44, 2858.44, 2858.44, 2858.44, 2858.44, 2858.44, 2858.44, 2858.44, 2858.44, 2858.44, 2858.44, 2858.44, 571.69, 571.69, 571.69, 571.69, 571.69, 571.69, 571.69, 571.69], \"yaxis\": \"y3\"}, {\"mode\": \"lines\", \"name\": \"bitstamp:/USD:/locked\", \"type\": \"scatter\", \"uid\": \"601870c1-66ac-4116-83ce-e0fc7b55621e\", \"xaxis\": \"x3\", \"y\": [0.0, 0.0, 0.0, 0.0, 0.0, 0.0, 0.0, 0.0, 0.0, 0.0, 0.0, 0.0, 0.0, 0.0, 0.0, 0.0, 0.0, 0.0, 0.0, 0.0, 0.0, 0.0, 0.0, 0.0, 0.0, 0.0, 0.0, 0.0, 0.0, 0.0, 0.0, 0.0, 0.0, 0.0, 0.0, 0.0, 0.0, 0.0, 0.0, 0.0, 0.0, 0.0, 0.0, 0.0, 0.0, 0.0, 0.0, 0.0, 0.0, 0.0, 0.0], \"yaxis\": \"y3\"}, {\"mode\": \"lines\", \"name\": \"bitstamp:/USD:/total\", \"type\": \"scatter\", \"uid\": \"2c681579-e45b-4a8f-afef-4ab343f9a74a\", \"xaxis\": \"x3\", \"y\": [10000.0, 5000.0, 1500.0, 1500.0, 1500.0, 1500.0, 1500.0, 1500.0, 1500.0, 6343.12, 3805.87, 3805.87, 3805.87, 3805.87, 3805.87, 3805.87, 3805.87, 3805.87, 3805.87, 3805.87, 7120.6, 9528.14, 9528.14, 9528.14, 9528.14, 9528.14, 9528.14, 9528.14, 2858.44, 2858.44, 2858.44, 2858.44, 2858.44, 2858.44, 2858.44, 2858.44, 2858.44, 2858.44, 2858.44, 2858.44, 2858.44, 2858.44, 2858.44, 571.69, 571.69, 571.69, 571.69, 571.69, 571.69, 571.69, 571.69], \"yaxis\": \"y3\"}, {\"mode\": \"lines\", \"name\": \"bitstamp:/BTC:/free\", \"type\": \"scatter\", \"uid\": \"692d2628-0225-446b-884c-8082509c661b\", \"xaxis\": \"x3\", \"y\": [10.0, 10.0, 10.0, 10.0, 10.0, 10.0, 10.0, 10.0, 10.0, 10.0, 10.0, 10.0, 10.0, 10.0, 10.0, 10.0, 10.0, 10.0, 10.0, 10.0, 10.0, 10.0, 10.0, 10.0, 10.0, 10.0, 10.0, 10.0, 10.0, 10.0, 10.0, 10.0, 10.0, 10.0, 10.0, 10.0, 10.0, 10.0, 10.0, 10.0, 10.0, 10.0, 10.0, 10.0, 10.0, 10.0, 10.0, 10.0, 10.0, 10.0, 10.0], \"yaxis\": \"y3\"}, {\"mode\": \"lines\", \"name\": \"bitstamp:/BTC:/locked\", \"type\": \"scatter\", \"uid\": \"e837dc76-37dd-4675-ba8b-277d0e2e7b3e\", \"xaxis\": \"x3\", \"y\": [0.0, 0.57030153, 0.96960351, 0.96960351, 0.96960351, 0.96960351, 0.96960351, 0.96960351, 0.96960351, 0.39930198, 0.69619763, 0.69619763, 0.69619763, 0.69619763, 0.69619763, 0.69619763, 0.69619763, 0.69619763, 0.69619763, 0.69619763, 0.29689565, 0.0, 0.0, 0.0, 0.0, 0.0, 0.0, 0.0, 0.80666347, 0.80666347, 0.80666347, 0.80666347, 0.80666347, 0.80666347, 0.80666347, 0.80666347, 0.80666347, 0.80666347, 0.80666347, 0.80666347, 0.80666347, 0.80666347, 0.80666347, 1.07943305, 1.07943305, 1.07943305, 1.07943305, 1.07943305, 1.07943305, 1.07943305, 1.07943305], \"yaxis\": \"y3\"}, {\"mode\": \"lines\", \"name\": \"bitstamp:/BTC:/total\", \"type\": \"scatter\", \"uid\": \"d1a5bb1d-8ac9-46ba-a619-40cf477fdaab\", \"xaxis\": \"x3\", \"y\": [10.0, 10.57030153, 10.96960351, 10.96960351, 10.96960351, 10.96960351, 10.96960351, 10.96960351, 10.96960351, 10.39930198, 10.69619763, 10.69619763, 10.69619763, 10.69619763, 10.69619763, 10.69619763, 10.69619763, 10.69619763, 10.69619763, 10.69619763, 10.29689565, 10.0, 10.0, 10.0, 10.0, 10.0, 10.0, 10.0, 10.80666347, 10.80666347, 10.80666347, 10.80666347, 10.80666347, 10.80666347, 10.80666347, 10.80666347, 10.80666347, 10.80666347, 10.80666347, 10.80666347, 10.80666347, 10.80666347, 10.80666347, 11.07943305, 11.07943305, 11.07943305, 11.07943305, 11.07943305, 11.07943305, 11.07943305, 11.07943305], \"yaxis\": \"y3\"}, {\"mode\": \"lines\", \"name\": \"bitstamp:/BTC:/worth\", \"type\": \"scatter\", \"uid\": \"57feb423-417f-4b96-9f78-24885eb5f33b\", \"xaxis\": \"x3\", \"y\": [87409.9, 92373.86507067, 95748.0745409999, 95526.8176382032, 96487.53551360901, 96093.72674760001, 96093.72674760001, 96085.2801528973, 93436.5596893727, 88605.172660194, 91294.50689750489, 91413.34165317421, 91202.7335218395, 91512.388443228, 91047.103846323, 90835.10520929641, 90489.8319498, 90650.1679522737, 90446.1914634696, 89059.5364027164, 83749.0799865795, 81647.9, 82293.79999999999, 82204.0, 82388.0, 82329.9, 82074.79999999999, 82434.5, 90463.9847736211, 90484.19323431, 90398.6044596276, 88398.3991179653, 88884.80704075, 89541.85217972599, 89407.849552698, 89667.209475978, 89477.9847986183, 89184.3677521384, 89718.8653273646, 89650.45914759951, 89449.4552070575, 90198.7892520673, 90325.335281301, 92791.35973705501, 92719.56501089102, 92698.514088096, 92122.93754114851, 92665.05420028501, 92448.562078488, 91376.51613657, 91708.89912807], \"yaxis\": \"y3\"}, {\"mode\": \"lines\", \"name\": \"net_worth\", \"type\": \"scatter\", \"uid\": \"146c3e5b-f3a7-4ad0-9809-7bb21b54aa57\", \"xaxis\": \"x3\", \"y\": [97409.9, 97373.86507067, 97248.0745409999, 97026.8176382032, 97987.53551360901, 97593.72674760001, 97593.72674760001, 97585.2801528973, 94936.5596893727, 94948.292660194, 95100.37689750489, 95219.2116531742, 95008.6035218395, 95318.258443228, 94852.973846323, 94640.9752092964, 94295.7019498, 94456.03795227369, 94252.0614634696, 92865.4064027164, 90869.6799865795, 91176.04, 91821.93999999999, 91732.14, 91916.14, 91858.04, 91602.93999999999, 91962.64, 93322.4247736211, 93342.63323431001, 93257.0444596276, 91256.8391179653, 91743.24704075001, 92400.29217972599, 92266.289552698, 92525.649475978, 92336.4247986183, 92042.8077521384, 92577.30532736461, 92508.89914759951, 92307.8952070575, 93057.2292520673, 93183.775281301, 93363.04973705501, 93291.25501089102, 93270.204088096, 92694.62754114851, 93236.74420028501, 93020.252078488, 91948.20613657, 92280.58912807], \"yaxis\": \"y3\"}, {\"marker\": {\"color\": \"DarkGreen\"}, \"mode\": \"lines\", \"name\": \"Net Worth\", \"type\": \"scatter\", \"uid\": \"7447514d-f491-4ee3-9a5a-de6882af6407\", \"xaxis\": \"x4\", \"y\": [97409.9, 97373.86507067, 97248.0745409999, 97026.8176382032, 97987.53551360901, 97593.72674760001, 97593.72674760001, 97585.2801528973, 94936.5596893727, 94948.292660194, 95100.37689750489, 95219.2116531742, 95008.6035218395, 95318.258443228, 94852.973846323, 94640.9752092964, 94295.7019498, 94456.03795227369, 94252.0614634696, 92865.4064027164, 90869.6799865795, 91176.04, 91821.93999999999, 91732.14, 91916.14, 91858.04, 91602.93999999999, 91962.64, 93322.4247736211, 93342.63323431001, 93257.0444596276, 91256.8391179653, 91743.24704075001, 92400.29217972599, 92266.289552698, 92525.649475978, 92336.4247986183, 92042.8077521384, 92577.30532736461, 92508.89914759951, 92307.8952070575, 93057.2292520673, 93183.775281301, 93363.04973705501, 93291.25501089102, 93270.204088096, 92694.62754114851, 93236.74420028501, 93020.252078488, 91948.20613657, 92280.58912807], \"yaxis\": \"y4\"}],                        {\"annotations\": [{\"arrowcolor\": \"DarkGreen\", \"arrowhead\": 2, \"arrowsize\": 0.8, \"arrowwidth\": 4, \"ax\": 0, \"ay\": 15, \"hoverlabel\": {\"bgcolor\": \"DarkGreen\"}, \"hovertext\": \"Step 43 [2018-05-17 00:00:00]<br>BUY 0.27276958 BTC @ 8358.3 USD MARKET<br>Total: 2279.89 USD - Comm.: 6.86 USD\", \"opacity\": 0.6, \"showarrow\": true, \"x\": 42, \"xref\": \"x\", \"y\": 8358.3, \"yref\": \"y\"}, {\"arrowcolor\": \"DarkGreen\", \"arrowhead\": 2, \"arrowsize\": 0.8, \"arrowwidth\": 4, \"ax\": 0, \"ay\": 15, \"hoverlabel\": {\"bgcolor\": \"DarkGreen\"}, \"hovertext\": \"Step 28 [2018-05-16 09:00:00]<br>BUY 0.80666347 BTC @ 8243.45 USD MARKET<br>Total: 6649.69 USD - Comm.: 20.01 USD\", \"opacity\": 0.6, \"showarrow\": true, \"x\": 27, \"xref\": \"x\", \"y\": 8243.45, \"yref\": \"y\"}, {\"arrowcolor\": \"FireBrick\", \"arrowhead\": 2, \"arrowsize\": 0.8, \"arrowwidth\": 4, \"ax\": 0, \"ay\": -15, \"hoverlabel\": {\"bgcolor\": \"FireBrick\"}, \"hovertext\": \"Step 21 [2018-05-16 02:00:00]<br>SELL 0.29600496 BTC @ 8133.43 USD MARKET<br>Total: 2407.54 USD - Comm.: 0.00089069 BTC\", \"opacity\": 0.6, \"showarrow\": true, \"x\": 20, \"xref\": \"x\", \"y\": 8133.43, \"yref\": \"y\"}, {\"arrowcolor\": \"FireBrick\", \"arrowhead\": 2, \"arrowsize\": 0.8, \"arrowwidth\": 4, \"ax\": 0, \"ay\": -15, \"hoverlabel\": {\"bgcolor\": \"FireBrick\"}, \"hovertext\": \"Step 20 [2018-05-16 01:00:00]<br>SELL 0.39810407 BTC @ 8326.28 USD MARKET<br>Total: 3314.73 USD - Comm.: 0.00119791 BTC\", \"opacity\": 0.6, \"showarrow\": true, \"x\": 19, \"xref\": \"x\", \"y\": 8326.28, \"yref\": \"y\"}, {\"arrowcolor\": \"DarkGreen\", \"arrowhead\": 2, \"arrowsize\": 0.8, \"arrowwidth\": 4, \"ax\": 0, \"ay\": 15, \"hoverlabel\": {\"bgcolor\": \"DarkGreen\"}, \"hovertext\": \"Step 10 [2018-05-15 15:00:00]<br>BUY 0.29689565 BTC @ 8520.3 USD MARKET<br>Total: 2529.64 USD - Comm.: 7.61 USD\", \"opacity\": 0.6, \"showarrow\": true, \"x\": 9, \"xref\": \"x\", \"y\": 8520.3, \"yref\": \"y\"}, {\"arrowcolor\": \"FireBrick\", \"arrowhead\": 2, \"arrowsize\": 0.8, \"arrowwidth\": 4, \"ax\": 0, \"ay\": -15, \"hoverlabel\": {\"bgcolor\": \"FireBrick\"}, \"hovertext\": \"Step 9 [2018-05-15 14:00:00]<br>SELL 0.56859063 BTC @ 8517.77 USD MARKET<br>Total: 4843.12 USD - Comm.: 0.00171090 BTC\", \"opacity\": 0.6, \"showarrow\": true, \"x\": 8, \"xref\": \"x\", \"y\": 8517.77, \"yref\": \"y\"}, {\"arrowcolor\": \"DarkGreen\", \"arrowhead\": 2, \"arrowsize\": 0.8, \"arrowwidth\": 4, \"ax\": 0, \"ay\": 15, \"hoverlabel\": {\"bgcolor\": \"DarkGreen\"}, \"hovertext\": \"Step 2 [2018-05-15 07:00:00]<br>BUY 0.39930198 BTC @ 8739.0 USD MARKET<br>Total: 3489.5 USD - Comm.: 10.50 USD\", \"opacity\": 0.6, \"showarrow\": true, \"x\": 1, \"xref\": \"x\", \"y\": 8739.0, \"yref\": \"y\"}, {\"arrowcolor\": \"DarkGreen\", \"arrowhead\": 2, \"arrowsize\": 0.8, \"arrowwidth\": 4, \"ax\": 0, \"ay\": 15, \"hoverlabel\": {\"bgcolor\": \"DarkGreen\"}, \"hovertext\": \"Step 1 [2018-05-15 06:00:00]<br>BUY 0.57030153 BTC @ 8740.99 USD MARKET<br>Total: 4985.0 USD - Comm.: 15.00 USD\", \"opacity\": 0.6, \"showarrow\": true, \"x\": 0, \"xref\": \"x\", \"y\": 8740.99, \"yref\": \"y\"}], \"margin\": {\"t\": 50}, \"template\": {\"data\": {\"bar\": [{\"error_x\": {\"color\": \"#2a3f5f\"}, \"error_y\": {\"color\": \"#2a3f5f\"}, \"marker\": {\"line\": {\"color\": \"white\", \"width\": 0.5}}, \"type\": \"bar\"}], \"barpolar\": [{\"marker\": {\"line\": {\"color\": \"white\", \"width\": 0.5}}, \"type\": \"barpolar\"}], \"carpet\": [{\"aaxis\": {\"endlinecolor\": \"#2a3f5f\", \"gridcolor\": \"#C8D4E3\", \"linecolor\": \"#C8D4E3\", \"minorgridcolor\": \"#C8D4E3\", \"startlinecolor\": \"#2a3f5f\"}, \"baxis\": {\"endlinecolor\": \"#2a3f5f\", \"gridcolor\": \"#C8D4E3\", \"linecolor\": \"#C8D4E3\", \"minorgridcolor\": \"#C8D4E3\", \"startlinecolor\": \"#2a3f5f\"}, \"type\": \"carpet\"}], \"choropleth\": [{\"colorbar\": {\"outlinewidth\": 0, \"ticks\": \"\"}, \"type\": \"choropleth\"}], \"contour\": [{\"colorbar\": {\"outlinewidth\": 0, \"ticks\": \"\"}, \"colorscale\": [[0.0, \"#0d0887\"], [0.1111111111111111, \"#46039f\"], [0.2222222222222222, \"#7201a8\"], [0.3333333333333333, \"#9c179e\"], [0.4444444444444444, \"#bd3786\"], [0.5555555555555556, \"#d8576b\"], [0.6666666666666666, \"#ed7953\"], [0.7777777777777778, \"#fb9f3a\"], [0.8888888888888888, \"#fdca26\"], [1.0, \"#f0f921\"]], \"type\": \"contour\"}], \"contourcarpet\": [{\"colorbar\": {\"outlinewidth\": 0, \"ticks\": \"\"}, \"type\": \"contourcarpet\"}], \"heatmap\": [{\"colorbar\": {\"outlinewidth\": 0, \"ticks\": \"\"}, \"colorscale\": [[0.0, \"#0d0887\"], [0.1111111111111111, \"#46039f\"], [0.2222222222222222, \"#7201a8\"], [0.3333333333333333, \"#9c179e\"], [0.4444444444444444, \"#bd3786\"], [0.5555555555555556, \"#d8576b\"], [0.6666666666666666, \"#ed7953\"], [0.7777777777777778, \"#fb9f3a\"], [0.8888888888888888, \"#fdca26\"], [1.0, \"#f0f921\"]], \"type\": \"heatmap\"}], \"heatmapgl\": [{\"colorbar\": {\"outlinewidth\": 0, \"ticks\": \"\"}, \"colorscale\": [[0.0, \"#0d0887\"], [0.1111111111111111, \"#46039f\"], [0.2222222222222222, \"#7201a8\"], [0.3333333333333333, \"#9c179e\"], [0.4444444444444444, \"#bd3786\"], [0.5555555555555556, \"#d8576b\"], [0.6666666666666666, \"#ed7953\"], [0.7777777777777778, \"#fb9f3a\"], [0.8888888888888888, \"#fdca26\"], [1.0, \"#f0f921\"]], \"type\": \"heatmapgl\"}], \"histogram\": [{\"marker\": {\"colorbar\": {\"outlinewidth\": 0, \"ticks\": \"\"}}, \"type\": \"histogram\"}], \"histogram2d\": [{\"colorbar\": {\"outlinewidth\": 0, \"ticks\": \"\"}, \"colorscale\": [[0.0, \"#0d0887\"], [0.1111111111111111, \"#46039f\"], [0.2222222222222222, \"#7201a8\"], [0.3333333333333333, \"#9c179e\"], [0.4444444444444444, \"#bd3786\"], [0.5555555555555556, \"#d8576b\"], [0.6666666666666666, \"#ed7953\"], [0.7777777777777778, \"#fb9f3a\"], [0.8888888888888888, \"#fdca26\"], [1.0, \"#f0f921\"]], \"type\": \"histogram2d\"}], \"histogram2dcontour\": [{\"colorbar\": {\"outlinewidth\": 0, \"ticks\": \"\"}, \"colorscale\": [[0.0, \"#0d0887\"], [0.1111111111111111, \"#46039f\"], [0.2222222222222222, \"#7201a8\"], [0.3333333333333333, \"#9c179e\"], [0.4444444444444444, \"#bd3786\"], [0.5555555555555556, \"#d8576b\"], [0.6666666666666666, \"#ed7953\"], [0.7777777777777778, \"#fb9f3a\"], [0.8888888888888888, \"#fdca26\"], [1.0, \"#f0f921\"]], \"type\": \"histogram2dcontour\"}], \"mesh3d\": [{\"colorbar\": {\"outlinewidth\": 0, \"ticks\": \"\"}, \"type\": \"mesh3d\"}], \"parcoords\": [{\"line\": {\"colorbar\": {\"outlinewidth\": 0, \"ticks\": \"\"}}, \"type\": \"parcoords\"}], \"pie\": [{\"automargin\": true, \"type\": \"pie\"}], \"scatter\": [{\"marker\": {\"colorbar\": {\"outlinewidth\": 0, \"ticks\": \"\"}}, \"type\": \"scatter\"}], \"scatter3d\": [{\"line\": {\"colorbar\": {\"outlinewidth\": 0, \"ticks\": \"\"}}, \"marker\": {\"colorbar\": {\"outlinewidth\": 0, \"ticks\": \"\"}}, \"type\": \"scatter3d\"}], \"scattercarpet\": [{\"marker\": {\"colorbar\": {\"outlinewidth\": 0, \"ticks\": \"\"}}, \"type\": \"scattercarpet\"}], \"scattergeo\": [{\"marker\": {\"colorbar\": {\"outlinewidth\": 0, \"ticks\": \"\"}}, \"type\": \"scattergeo\"}], \"scattergl\": [{\"marker\": {\"colorbar\": {\"outlinewidth\": 0, \"ticks\": \"\"}}, \"type\": \"scattergl\"}], \"scattermapbox\": [{\"marker\": {\"colorbar\": {\"outlinewidth\": 0, \"ticks\": \"\"}}, \"type\": \"scattermapbox\"}], \"scatterpolar\": [{\"marker\": {\"colorbar\": {\"outlinewidth\": 0, \"ticks\": \"\"}}, \"type\": \"scatterpolar\"}], \"scatterpolargl\": [{\"marker\": {\"colorbar\": {\"outlinewidth\": 0, \"ticks\": \"\"}}, \"type\": \"scatterpolargl\"}], \"scatterternary\": [{\"marker\": {\"colorbar\": {\"outlinewidth\": 0, \"ticks\": \"\"}}, \"type\": \"scatterternary\"}], \"surface\": [{\"colorbar\": {\"outlinewidth\": 0, \"ticks\": \"\"}, \"colorscale\": [[0.0, \"#0d0887\"], [0.1111111111111111, \"#46039f\"], [0.2222222222222222, \"#7201a8\"], [0.3333333333333333, \"#9c179e\"], [0.4444444444444444, \"#bd3786\"], [0.5555555555555556, \"#d8576b\"], [0.6666666666666666, \"#ed7953\"], [0.7777777777777778, \"#fb9f3a\"], [0.8888888888888888, \"#fdca26\"], [1.0, \"#f0f921\"]], \"type\": \"surface\"}], \"table\": [{\"cells\": {\"fill\": {\"color\": \"#EBF0F8\"}, \"line\": {\"color\": \"white\"}}, \"header\": {\"fill\": {\"color\": \"#C8D4E3\"}, \"line\": {\"color\": \"white\"}}, \"type\": \"table\"}]}, \"layout\": {\"annotationdefaults\": {\"arrowcolor\": \"#2a3f5f\", \"arrowhead\": 0, \"arrowwidth\": 1}, \"autotypenumbers\": \"strict\", \"coloraxis\": {\"colorbar\": {\"outlinewidth\": 0, \"ticks\": \"\"}}, \"colorscale\": {\"diverging\": [[0, \"#8e0152\"], [0.1, \"#c51b7d\"], [0.2, \"#de77ae\"], [0.3, \"#f1b6da\"], [0.4, \"#fde0ef\"], [0.5, \"#f7f7f7\"], [0.6, \"#e6f5d0\"], [0.7, \"#b8e186\"], [0.8, \"#7fbc41\"], [0.9, \"#4d9221\"], [1, \"#276419\"]], \"sequential\": [[0.0, \"#0d0887\"], [0.1111111111111111, \"#46039f\"], [0.2222222222222222, \"#7201a8\"], [0.3333333333333333, \"#9c179e\"], [0.4444444444444444, \"#bd3786\"], [0.5555555555555556, \"#d8576b\"], [0.6666666666666666, \"#ed7953\"], [0.7777777777777778, \"#fb9f3a\"], [0.8888888888888888, \"#fdca26\"], [1.0, \"#f0f921\"]], \"sequentialminus\": [[0.0, \"#0d0887\"], [0.1111111111111111, \"#46039f\"], [0.2222222222222222, \"#7201a8\"], [0.3333333333333333, \"#9c179e\"], [0.4444444444444444, \"#bd3786\"], [0.5555555555555556, \"#d8576b\"], [0.6666666666666666, \"#ed7953\"], [0.7777777777777778, \"#fb9f3a\"], [0.8888888888888888, \"#fdca26\"], [1.0, \"#f0f921\"]]}, \"colorway\": [\"#636efa\", \"#EF553B\", \"#00cc96\", \"#ab63fa\", \"#FFA15A\", \"#19d3f3\", \"#FF6692\", \"#B6E880\", \"#FF97FF\", \"#FECB52\"], \"font\": {\"color\": \"#2a3f5f\"}, \"geo\": {\"bgcolor\": \"white\", \"lakecolor\": \"white\", \"landcolor\": \"white\", \"showlakes\": true, \"showland\": true, \"subunitcolor\": \"#C8D4E3\"}, \"hoverlabel\": {\"align\": \"left\"}, \"hovermode\": \"closest\", \"mapbox\": {\"style\": \"light\"}, \"paper_bgcolor\": \"white\", \"plot_bgcolor\": \"white\", \"polar\": {\"angularaxis\": {\"gridcolor\": \"#EBF0F8\", \"linecolor\": \"#EBF0F8\", \"ticks\": \"\"}, \"bgcolor\": \"white\", \"radialaxis\": {\"gridcolor\": \"#EBF0F8\", \"linecolor\": \"#EBF0F8\", \"ticks\": \"\"}}, \"scene\": {\"xaxis\": {\"backgroundcolor\": \"white\", \"gridcolor\": \"#DFE8F3\", \"gridwidth\": 2, \"linecolor\": \"#EBF0F8\", \"showbackground\": true, \"ticks\": \"\", \"zerolinecolor\": \"#EBF0F8\"}, \"yaxis\": {\"backgroundcolor\": \"white\", \"gridcolor\": \"#DFE8F3\", \"gridwidth\": 2, \"linecolor\": \"#EBF0F8\", \"showbackground\": true, \"ticks\": \"\", \"zerolinecolor\": \"#EBF0F8\"}, \"zaxis\": {\"backgroundcolor\": \"white\", \"gridcolor\": \"#DFE8F3\", \"gridwidth\": 2, \"linecolor\": \"#EBF0F8\", \"showbackground\": true, \"ticks\": \"\", \"zerolinecolor\": \"#EBF0F8\"}}, \"shapedefaults\": {\"line\": {\"color\": \"#2a3f5f\"}}, \"ternary\": {\"aaxis\": {\"gridcolor\": \"#DFE8F3\", \"linecolor\": \"#A2B1C6\", \"ticks\": \"\"}, \"baxis\": {\"gridcolor\": \"#DFE8F3\", \"linecolor\": \"#A2B1C6\", \"ticks\": \"\"}, \"bgcolor\": \"white\", \"caxis\": {\"gridcolor\": \"#DFE8F3\", \"linecolor\": \"#A2B1C6\", \"ticks\": \"\"}}, \"title\": {\"x\": 0.05}, \"xaxis\": {\"automargin\": true, \"gridcolor\": \"#EBF0F8\", \"linecolor\": \"#EBF0F8\", \"ticks\": \"\", \"title\": {\"standoff\": 15}, \"zerolinecolor\": \"#EBF0F8\", \"zerolinewidth\": 2}, \"yaxis\": {\"automargin\": true, \"gridcolor\": \"#EBF0F8\", \"linecolor\": \"#EBF0F8\", \"ticks\": \"\", \"title\": {\"standoff\": 15}, \"zerolinecolor\": \"#EBF0F8\", \"zerolinewidth\": 2}}}, \"title\": {\"text\": \"[2021-03-31 16:19:39 PM] Episode: 2/2 Step: 51/200\"}, \"xaxis\": {\"anchor\": \"y\", \"domain\": [0.0, 1.0], \"gridcolor\": \"Gainsboro\", \"linecolor\": \"Grey\", \"matches\": \"x4\", \"rangeslider\": {\"visible\": false}, \"showticklabels\": false, \"title\": {\"font\": {\"size\": 12}, \"standoff\": 7, \"text\": \"Price\"}}, \"xaxis2\": {\"anchor\": \"y2\", \"domain\": [0.0, 1.0], \"gridcolor\": \"Gainsboro\", \"linecolor\": \"Grey\", \"matches\": \"x4\", \"showticklabels\": false, \"title\": {\"font\": {\"size\": 12}, \"standoff\": 7, \"text\": \"Volume\"}}, \"xaxis3\": {\"anchor\": \"y3\", \"domain\": [0.0, 1.0], \"gridcolor\": \"Gainsboro\", \"linecolor\": \"Grey\", \"matches\": \"x4\", \"showticklabels\": false, \"title\": {\"font\": {\"size\": 12}, \"standoff\": 7, \"text\": \"Performance\"}}, \"xaxis4\": {\"anchor\": \"y4\", \"domain\": [0.0, 1.0], \"gridcolor\": \"Gainsboro\", \"linecolor\": \"Grey\", \"title\": {\"font\": {\"size\": 12}, \"standoff\": 7, \"text\": \"Net Worth\"}}, \"yaxis\": {\"anchor\": \"x\", \"domain\": [0.49950000000000006, 1.0], \"gridcolor\": \"Gainsboro\", \"linecolor\": \"Grey\"}, \"yaxis2\": {\"anchor\": \"x2\", \"domain\": [0.333, 0.46950000000000003], \"gridcolor\": \"Gainsboro\", \"linecolor\": \"Grey\"}, \"yaxis3\": {\"anchor\": \"x3\", \"domain\": [0.1665, 0.30300000000000005], \"gridcolor\": \"Gainsboro\", \"linecolor\": \"Grey\"}, \"yaxis4\": {\"anchor\": \"x4\", \"domain\": [0.0, 0.1365], \"gridcolor\": \"Gainsboro\", \"linecolor\": \"Grey\"}},                        {\"responsive\": true}                    ).then(function(){\n                            \nvar gd = document.getElementById('99214494-cb49-45e6-bb67-f0f75fce0fa7');\nvar x = new MutationObserver(function (mutations, observer) {{\n        var display = window.getComputedStyle(gd).display;\n        if (!display || display === 'none') {{\n            console.log([gd, 'removed!']);\n            Plotly.purge(gd);\n            observer.disconnect();\n        }}\n}});\n\n// Listen for the removal of the full notebook cells\nvar notebookContainer = gd.closest('#notebook-container');\nif (notebookContainer) {{\n    x.observe(notebookContainer, {childList: true});\n}}\n\n// Listen for the clearing of the current output cell\nvar outputEl = gd.closest('.output');\nif (outputEl) {{\n    x.observe(outputEl, {childList: true});\n}}\n\n                        })                };                });            </script>        </div>"
     },
     "metadata": {},
     "output_type": "display_data"
    },
    {
     "data": {
      "text/plain": "FigureWidget({\n    'data': [{'close': array([8740.99, 8739.  , 8728.49, 8708.32, 8795.9 , 8760.  , 8760.  , 87…",
      "application/vnd.jupyter.widget-view+json": {
       "version_major": 2,
       "version_minor": 0,
       "model_id": "5ceb3937aefb4bd7accb5215a8d44617"
      }
     },
     "metadata": {},
     "output_type": "display_data"
    },
    {
     "data": {
      "application/vnd.plotly.v1+json": {
       "config": {
        "plotlyServerURL": "https://plot.ly"
       },
       "data": [
        {
         "close": [
          8740.99,
          8739.0,
          8728.49,
          8708.32,
          8795.9,
          8760.0,
          8760.0,
          8759.23,
          8517.77,
          8520.3,
          8535.23,
          8546.34,
          8526.65,
          8555.6,
          8512.1,
          8492.28,
          8460.0,
          8474.99,
          8455.92,
          8326.28,
          8133.43,
          8164.79,
          8229.38,
          8220.4,
          8238.8,
          8232.99,
          8207.48,
          8243.45,
          8371.13,
          8373.0,
          8365.08,
          8179.99,
          8225.0,
          8285.8,
          8273.4,
          8297.4,
          8279.89,
          8252.72,
          8302.18,
          8295.85,
          8277.25,
          8346.59,
          8358.3,
          8375.1,
          8368.62,
          8366.72,
          8314.77,
          8363.7,
          8344.16,
          8247.4,
          8277.4,
          8291.67,
          8307.89,
          8298.9,
          8269.47,
          8300.98,
          8318.49,
          8306.39,
          8276.43,
          8257.69,
          8166.0,
          8176.33,
          8200.7,
          8155.41,
          8080.0,
          8067.03,
          7958.08,
          7974.25,
          7998.5,
          7991.99,
          8022.7,
          8042.97,
          7965.67,
          8088.95,
          8122.19,
          8107.99,
          8137.73,
          8115.0,
          8107.0,
          8094.4,
          8080.01,
          8117.09,
          8126.99,
          8110.95,
          8215.39,
          8231.42,
          8240.13,
          8235.0,
          8219.9,
          8248.87,
          8213.5,
          8200.99,
          8200.0,
          8237.3,
          8228.13,
          8240.83,
          8214.9,
          8170.07,
          8229.87,
          8205.87,
          8252.56
         ],
         "high": [
          8796.68,
          8766.0,
          8750.27,
          8754.4,
          8865.0,
          8821.19,
          8798.6,
          8771.02,
          8761.7,
          8553.67,
          8589.1,
          8579.48,
          8555.51,
          8583.6,
          8569.92,
          8555.54,
          8557.51,
          8505.0,
          8505.33,
          8478.29,
          8339.81,
          8217.44,
          8252.72,
          8248.63,
          8267.12,
          8255.0,
          8261.24,
          8263.93,
          8455.66,
          8439.44,
          8399.1,
          8381.73,
          8229.91,
          8377.29,
          8329.1,
          8350.0,
          8346.95,
          8377.29,
          8311.35,
          8319.96,
          8398.24,
          8372.58,
          8399.99,
          8386.53,
          8400.0,
          8500.0,
          8381.0,
          8371.3,
          8382.41,
          8351.0,
          8292.99,
          8325.8,
          8318.99,
          8324.9,
          8335.56,
          8309.4,
          8377.29,
          8330.41,
          8328.23,
          8284.36,
          8274.83,
          8200.0,
          8232.14,
          8213.97,
          8155.41,
          8108.28,
          8068.92,
          8019.9,
          8026.66,
          8025.0,
          8104.69,
          8061.39,
          8045.99,
          8170.71,
          8144.16,
          8139.99,
          8152.99,
          8137.73,
          8143.72,
          8129.99,
          8106.76,
          8139.0,
          8152.04,
          8146.99,
          8232.14,
          8275.1,
          8256.12,
          8274.1,
          8255.8,
          8253.97,
          8261.09,
          8235.76,
          8227.0,
          8273.36,
          8264.21,
          8250.0,
          8250.86,
          8235.77,
          8232.12,
          8232.14,
          8252.72
         ],
         "low": [
          8707.28,
          8721.11,
          8660.53,
          8701.35,
          8695.11,
          8740.54,
          8741.52,
          8700.0,
          8467.42,
          8477.89,
          8500.78,
          8500.0,
          8400.0,
          8451.05,
          8461.38,
          8481.24,
          8420.37,
          8450.0,
          8430.94,
          8275.02,
          8100.01,
          8122.56,
          8157.01,
          8166.25,
          8176.91,
          8213.79,
          8200.0,
          8207.48,
          8237.1,
          8370.0,
          8356.4,
          8145.1,
          8173.6,
          8211.8,
          8201.0,
          8250.9,
          8266.46,
          8252.72,
          8232.14,
          8268.37,
          8277.25,
          8277.25,
          8314.78,
          8314.77,
          8350.07,
          8331.39,
          8314.77,
          8275.45,
          8335.49,
          8191.14,
          8227.7,
          8264.13,
          8249.93,
          8269.52,
          8219.44,
          8262.68,
          8286.65,
          8289.87,
          8232.14,
          8232.14,
          8110.02,
          8154.95,
          8168.6,
          8151.0,
          7980.0,
          8005.95,
          7929.53,
          7931.03,
          7950.0,
          7980.58,
          7991.99,
          7992.75,
          7953.4,
          7965.67,
          8085.94,
          8078.48,
          8092.9,
          8049.22,
          8079.46,
          8062.12,
          8043.96,
          8063.1,
          8088.46,
          8094.43,
          8088.46,
          8191.14,
          8212.0,
          8224.5,
          8211.0,
          8211.01,
          8210.03,
          8158.27,
          8177.65,
          8179.41,
          8221.92,
          8217.32,
          8213.52,
          8141.08,
          8146.1,
          8186.03,
          8197.09
         ],
         "name": "Price",
         "open": [
          8733.86,
          8740.99,
          8739.0,
          8728.49,
          8708.32,
          8795.9,
          8760.0,
          8760.0,
          8759.23,
          8517.77,
          8520.3,
          8535.23,
          8546.34,
          8526.65,
          8555.6,
          8512.1,
          8492.28,
          8460.0,
          8474.99,
          8455.92,
          8326.28,
          8133.43,
          8164.79,
          8229.38,
          8220.4,
          8238.8,
          8232.99,
          8207.48,
          8243.45,
          8371.13,
          8373.0,
          8365.08,
          8179.99,
          8225.0,
          8285.8,
          8273.4,
          8297.4,
          8279.89,
          8252.72,
          8302.18,
          8295.85,
          8277.25,
          8346.59,
          8358.3,
          8375.1,
          8368.62,
          8366.72,
          8314.77,
          8363.7,
          8344.16,
          8247.4,
          8277.4,
          8291.67,
          8307.89,
          8298.9,
          8269.47,
          8300.98,
          8318.49,
          8306.39,
          8276.43,
          8257.69,
          8166.0,
          8176.33,
          8200.7,
          8155.41,
          8080.0,
          8067.03,
          7958.08,
          7974.25,
          7998.5,
          7991.99,
          8022.7,
          8042.97,
          7965.67,
          8088.95,
          8122.19,
          8107.99,
          8137.73,
          8115.0,
          8107.0,
          8094.4,
          8080.01,
          8117.09,
          8126.99,
          8110.95,
          8215.39,
          8231.42,
          8240.13,
          8235.0,
          8219.9,
          8248.87,
          8213.5,
          8200.99,
          8200.0,
          8237.3,
          8228.13,
          8240.83,
          8214.9,
          8170.07,
          8229.87,
          8205.87
         ],
         "showlegend": false,
         "type": "candlestick",
         "uid": "0731bd14-fe30-4ad1-96ba-551ccc3d56c2",
         "xaxis": "x",
         "yaxis": "y"
        },
        {
         "marker": {
          "color": "DodgerBlue"
         },
         "name": "Volume",
         "showlegend": false,
         "type": "bar",
         "uid": "391f75b1-d2aa-40b4-917f-b27b916252fb",
         "xaxis": "x2",
         "y": [
          559.93,
          273.58,
          917.79,
          182.62,
          1260.69,
          324.11,
          324.2,
          730.67,
          1341.75,
          792.07,
          385.69,
          475.08,
          877.26,
          670.49,
          610.97,
          168.99,
          305.92,
          136.05,
          154.26,
          1070.93,
          1710.2,
          492.8,
          630.72,
          620.93,
          586.34,
          304.52,
          450.97,
          182.36,
          915.32,
          319.29,
          362.01,
          1046.38,
          357.91,
          561.2,
          322.53,
          1073.71,
          237.21,
          251.2,
          359.73,
          117.23,
          363.17,
          214.18,
          171.64,
          258.58,
          299.52,
          718.98,
          119.7,
          405.25,
          210.77,
          714.82,
          215.97,
          164.2,
          201.55,
          203.41,
          886.82,
          95.49,
          499.67,
          172.77,
          355.39,
          255.27,
          591.06,
          133.1,
          149.13,
          87.55,
          1061.54,
          286.94,
          524.42,
          316.0,
          441.43,
          189.7,
          844.94,
          155.34,
          257.56,
          610.69,
          217.97,
          173.18,
          218.06,
          372.97,
          484.39,
          248.1,
          162.35,
          303.42,
          290.69,
          160.93,
          369.4,
          487.27,
          93.35,
          96.68,
          72.14,
          90.22,
          168.52,
          203.15,
          71.42,
          464.56,
          57.0,
          89.42,
          49.47,
          200.05,
          254.37,
          65.05,
          118.19
         ],
         "yaxis": "y2"
        },
        {
         "mode": "lines",
         "name": "bitstamp:/USD-BTC",
         "type": "scatter",
         "uid": "2f79b682-a0c5-4a58-b299-e065a721e121",
         "xaxis": "x3",
         "y": [
          8740.99,
          8739.0,
          8728.49,
          8708.32,
          8795.9,
          8760.0,
          8760.0,
          8759.23,
          8517.77,
          8520.3,
          8535.23,
          8546.34,
          8526.65,
          8555.6,
          8512.1,
          8492.28,
          8460.0,
          8474.99,
          8455.92,
          8326.28,
          8133.43,
          8164.79,
          8229.38,
          8220.4,
          8238.8,
          8232.99,
          8207.48,
          8243.45,
          8371.13,
          8373.0,
          8365.08,
          8179.99,
          8225.0,
          8285.8,
          8273.4,
          8297.4,
          8279.89,
          8252.72,
          8302.18,
          8295.85,
          8277.25,
          8346.59,
          8358.3,
          8375.1,
          8368.62,
          8366.72,
          8314.77,
          8363.7,
          8344.16,
          8247.4,
          8277.4,
          8291.67,
          8307.89,
          8298.9,
          8269.47,
          8300.98,
          8318.49,
          8306.39,
          8276.43,
          8257.69,
          8166.0,
          8176.33,
          8200.7,
          8155.41,
          8080.0,
          8067.03,
          7958.08,
          7974.25,
          7998.5,
          7991.99,
          8022.7,
          8042.97,
          7965.67,
          8088.95,
          8122.19,
          8107.99,
          8137.73,
          8115.0,
          8107.0,
          8094.4,
          8080.01,
          8117.09,
          8126.99,
          8110.95,
          8215.39,
          8231.42,
          8240.13,
          8235.0,
          8219.9,
          8248.87,
          8213.5,
          8200.99,
          8200.0,
          8237.3,
          8228.13,
          8240.83,
          8214.9,
          8170.07,
          8229.87,
          8205.87,
          8252.56
         ],
         "yaxis": "y3"
        },
        {
         "mode": "lines",
         "name": "bitstamp:/USD:/free",
         "type": "scatter",
         "uid": "a9f121fb-8336-4ce1-85b8-8eaa152b2460",
         "xaxis": "x3",
         "y": [
          10000.0,
          5000.0,
          1500.0,
          1500.0,
          1500.0,
          1500.0,
          1500.0,
          1500.0,
          1500.0,
          6343.12,
          3805.87,
          3805.87,
          3805.87,
          3805.87,
          3805.87,
          3805.87,
          3805.87,
          3805.87,
          3805.87,
          3805.87,
          7120.6,
          9528.14,
          9528.14,
          9528.14,
          9528.14,
          9528.14,
          9528.14,
          9528.14,
          2858.44,
          2858.44,
          2858.44,
          2858.44,
          2858.44,
          2858.44,
          2858.44,
          2858.44,
          2858.44,
          2858.44,
          2858.44,
          2858.44,
          2858.44,
          2858.44,
          2858.44,
          571.69,
          571.69,
          571.69,
          571.69,
          571.69,
          571.69,
          571.69,
          571.69,
          571.69,
          571.69,
          571.69,
          571.69,
          571.69,
          571.69,
          571.69,
          571.69,
          571.69,
          571.69,
          571.69,
          571.69,
          571.69,
          571.69,
          571.69,
          571.69,
          571.69,
          571.69,
          571.69,
          571.69,
          571.69,
          571.69,
          571.69,
          571.69,
          571.69,
          571.69,
          571.69,
          571.69,
          571.69,
          571.69,
          571.69,
          571.69,
          571.69,
          571.69,
          571.69,
          571.69,
          571.69,
          571.69,
          571.69,
          571.69,
          571.69,
          571.69,
          571.69,
          571.69,
          571.69,
          571.69,
          571.69,
          571.69,
          571.69,
          571.69
         ],
         "yaxis": "y3"
        },
        {
         "mode": "lines",
         "name": "bitstamp:/USD:/locked",
         "type": "scatter",
         "uid": "601870c1-66ac-4116-83ce-e0fc7b55621e",
         "xaxis": "x3",
         "y": [
          0.0,
          0.0,
          0.0,
          0.0,
          0.0,
          0.0,
          0.0,
          0.0,
          0.0,
          0.0,
          0.0,
          0.0,
          0.0,
          0.0,
          0.0,
          0.0,
          0.0,
          0.0,
          0.0,
          0.0,
          0.0,
          0.0,
          0.0,
          0.0,
          0.0,
          0.0,
          0.0,
          0.0,
          0.0,
          0.0,
          0.0,
          0.0,
          0.0,
          0.0,
          0.0,
          0.0,
          0.0,
          0.0,
          0.0,
          0.0,
          0.0,
          0.0,
          0.0,
          0.0,
          0.0,
          0.0,
          0.0,
          0.0,
          0.0,
          0.0,
          0.0,
          0.0,
          0.0,
          0.0,
          0.0,
          0.0,
          0.0,
          0.0,
          0.0,
          0.0,
          0.0,
          0.0,
          0.0,
          0.0,
          0.0,
          0.0,
          0.0,
          0.0,
          0.0,
          0.0,
          0.0,
          0.0,
          0.0,
          0.0,
          0.0,
          0.0,
          0.0,
          0.0,
          0.0,
          0.0,
          0.0,
          0.0,
          0.0,
          0.0,
          0.0,
          0.0,
          0.0,
          0.0,
          0.0,
          0.0,
          0.0,
          0.0,
          0.0,
          0.0,
          0.0,
          0.0,
          0.0,
          0.0,
          0.0,
          0.0,
          0.0
         ],
         "yaxis": "y3"
        },
        {
         "mode": "lines",
         "name": "bitstamp:/USD:/total",
         "type": "scatter",
         "uid": "2c681579-e45b-4a8f-afef-4ab343f9a74a",
         "xaxis": "x3",
         "y": [
          10000.0,
          5000.0,
          1500.0,
          1500.0,
          1500.0,
          1500.0,
          1500.0,
          1500.0,
          1500.0,
          6343.12,
          3805.87,
          3805.87,
          3805.87,
          3805.87,
          3805.87,
          3805.87,
          3805.87,
          3805.87,
          3805.87,
          3805.87,
          7120.6,
          9528.14,
          9528.14,
          9528.14,
          9528.14,
          9528.14,
          9528.14,
          9528.14,
          2858.44,
          2858.44,
          2858.44,
          2858.44,
          2858.44,
          2858.44,
          2858.44,
          2858.44,
          2858.44,
          2858.44,
          2858.44,
          2858.44,
          2858.44,
          2858.44,
          2858.44,
          571.69,
          571.69,
          571.69,
          571.69,
          571.69,
          571.69,
          571.69,
          571.69,
          571.69,
          571.69,
          571.69,
          571.69,
          571.69,
          571.69,
          571.69,
          571.69,
          571.69,
          571.69,
          571.69,
          571.69,
          571.69,
          571.69,
          571.69,
          571.69,
          571.69,
          571.69,
          571.69,
          571.69,
          571.69,
          571.69,
          571.69,
          571.69,
          571.69,
          571.69,
          571.69,
          571.69,
          571.69,
          571.69,
          571.69,
          571.69,
          571.69,
          571.69,
          571.69,
          571.69,
          571.69,
          571.69,
          571.69,
          571.69,
          571.69,
          571.69,
          571.69,
          571.69,
          571.69,
          571.69,
          571.69,
          571.69,
          571.69,
          571.69
         ],
         "yaxis": "y3"
        },
        {
         "mode": "lines",
         "name": "bitstamp:/BTC:/free",
         "type": "scatter",
         "uid": "692d2628-0225-446b-884c-8082509c661b",
         "xaxis": "x3",
         "y": [
          10.0,
          10.0,
          10.0,
          10.0,
          10.0,
          10.0,
          10.0,
          10.0,
          10.0,
          10.0,
          10.0,
          10.0,
          10.0,
          10.0,
          10.0,
          10.0,
          10.0,
          10.0,
          10.0,
          10.0,
          10.0,
          10.0,
          10.0,
          10.0,
          10.0,
          10.0,
          10.0,
          10.0,
          10.0,
          10.0,
          10.0,
          10.0,
          10.0,
          10.0,
          10.0,
          10.0,
          10.0,
          10.0,
          10.0,
          10.0,
          10.0,
          10.0,
          10.0,
          10.0,
          10.0,
          10.0,
          10.0,
          10.0,
          10.0,
          10.0,
          10.0,
          10.0,
          10.0,
          10.0,
          10.0,
          10.0,
          10.0,
          10.0,
          10.0,
          10.0,
          10.0,
          10.0,
          10.0,
          10.0,
          10.0,
          10.0,
          10.0,
          10.0,
          10.0,
          10.0,
          10.0,
          10.0,
          10.0,
          10.0,
          10.0,
          10.0,
          10.0,
          10.0,
          10.0,
          10.0,
          10.0,
          10.0,
          10.0,
          10.0,
          10.0,
          10.0,
          10.0,
          10.0,
          10.0,
          10.0,
          10.0,
          10.0,
          10.0,
          10.0,
          10.0,
          10.0,
          10.0,
          10.0,
          10.0,
          10.0,
          10.0
         ],
         "yaxis": "y3"
        },
        {
         "mode": "lines",
         "name": "bitstamp:/BTC:/locked",
         "type": "scatter",
         "uid": "e837dc76-37dd-4675-ba8b-277d0e2e7b3e",
         "xaxis": "x3",
         "y": [
          0.0,
          0.57030153,
          0.96960351,
          0.96960351,
          0.96960351,
          0.96960351,
          0.96960351,
          0.96960351,
          0.96960351,
          0.39930198,
          0.69619763,
          0.69619763,
          0.69619763,
          0.69619763,
          0.69619763,
          0.69619763,
          0.69619763,
          0.69619763,
          0.69619763,
          0.69619763,
          0.29689565,
          0.0,
          0.0,
          0.0,
          0.0,
          0.0,
          0.0,
          0.0,
          0.80666347,
          0.80666347,
          0.80666347,
          0.80666347,
          0.80666347,
          0.80666347,
          0.80666347,
          0.80666347,
          0.80666347,
          0.80666347,
          0.80666347,
          0.80666347,
          0.80666347,
          0.80666347,
          0.80666347,
          1.07943305,
          1.07943305,
          1.07943305,
          1.07943305,
          1.07943305,
          1.07943305,
          1.07943305,
          1.07943305,
          1.07943305,
          1.07943305,
          1.07943305,
          1.07943305,
          1.07943305,
          1.07943305,
          1.07943305,
          1.07943305,
          1.07943305,
          1.07943305,
          1.07943305,
          1.07943305,
          1.07943305,
          1.07943305,
          1.07943305,
          1.07943305,
          1.07943305,
          1.07943305,
          1.07943305,
          1.07943305,
          1.07943305,
          1.07943305,
          1.07943305,
          1.07943305,
          1.07943305,
          1.07943305,
          1.07943305,
          1.07943305,
          1.07943305,
          1.07943305,
          1.07943305,
          1.07943305,
          1.07943305,
          1.07943305,
          1.07943305,
          1.07943305,
          1.07943305,
          1.07943305,
          1.07943305,
          1.07943305,
          1.07943305,
          1.07943305,
          1.07943305,
          1.07943305,
          1.07943305,
          1.07943305,
          1.07943305,
          1.07943305,
          1.07943305,
          1.07943305
         ],
         "yaxis": "y3"
        },
        {
         "mode": "lines",
         "name": "bitstamp:/BTC:/total",
         "type": "scatter",
         "uid": "d1a5bb1d-8ac9-46ba-a619-40cf477fdaab",
         "xaxis": "x3",
         "y": [
          10.0,
          10.57030153,
          10.96960351,
          10.96960351,
          10.96960351,
          10.96960351,
          10.96960351,
          10.96960351,
          10.96960351,
          10.39930198,
          10.69619763,
          10.69619763,
          10.69619763,
          10.69619763,
          10.69619763,
          10.69619763,
          10.69619763,
          10.69619763,
          10.69619763,
          10.69619763,
          10.29689565,
          10.0,
          10.0,
          10.0,
          10.0,
          10.0,
          10.0,
          10.0,
          10.80666347,
          10.80666347,
          10.80666347,
          10.80666347,
          10.80666347,
          10.80666347,
          10.80666347,
          10.80666347,
          10.80666347,
          10.80666347,
          10.80666347,
          10.80666347,
          10.80666347,
          10.80666347,
          10.80666347,
          11.07943305,
          11.07943305,
          11.07943305,
          11.07943305,
          11.07943305,
          11.07943305,
          11.07943305,
          11.07943305,
          11.07943305,
          11.07943305,
          11.07943305,
          11.07943305,
          11.07943305,
          11.07943305,
          11.07943305,
          11.07943305,
          11.07943305,
          11.07943305,
          11.07943305,
          11.07943305,
          11.07943305,
          11.07943305,
          11.07943305,
          11.07943305,
          11.07943305,
          11.07943305,
          11.07943305,
          11.07943305,
          11.07943305,
          11.07943305,
          11.07943305,
          11.07943305,
          11.07943305,
          11.07943305,
          11.07943305,
          11.07943305,
          11.07943305,
          11.07943305,
          11.07943305,
          11.07943305,
          11.07943305,
          11.07943305,
          11.07943305,
          11.07943305,
          11.07943305,
          11.07943305,
          11.07943305,
          11.07943305,
          11.07943305,
          11.07943305,
          11.07943305,
          11.07943305,
          11.07943305,
          11.07943305,
          11.07943305,
          11.07943305,
          11.07943305,
          11.07943305
         ],
         "yaxis": "y3"
        },
        {
         "mode": "lines",
         "name": "bitstamp:/BTC:/worth",
         "type": "scatter",
         "uid": "57feb423-417f-4b96-9f78-24885eb5f33b",
         "xaxis": "x3",
         "y": [
          87409.9,
          92373.86507067,
          95748.0745409999,
          95526.8176382032,
          96487.53551360901,
          96093.72674760001,
          96093.72674760001,
          96085.2801528973,
          93436.5596893727,
          88605.172660194,
          91294.50689750489,
          91413.34165317421,
          91202.7335218395,
          91512.388443228,
          91047.103846323,
          90835.10520929641,
          90489.8319498,
          90650.1679522737,
          90446.1914634696,
          89059.5364027164,
          83749.0799865795,
          81647.9,
          82293.79999999999,
          82204.0,
          82388.0,
          82329.9,
          82074.79999999999,
          82434.5,
          90463.9847736211,
          90484.19323431,
          90398.6044596276,
          88398.3991179653,
          88884.80704075,
          89541.85217972599,
          89407.849552698,
          89667.209475978,
          89477.9847986183,
          89184.3677521384,
          89718.8653273646,
          89650.45914759951,
          89449.4552070575,
          90198.7892520673,
          90325.335281301,
          92791.35973705501,
          92719.56501089102,
          92698.514088096,
          92122.93754114851,
          92665.05420028501,
          92448.562078488,
          91376.51613657,
          91708.89912807,
          91867.0026376935,
          92046.7110417645,
          91947.106938645,
          91621.03922398349,
          91970.15215938899,
          92164.1530320945,
          92030.09189218949,
          91698.15207801151,
          91490.52350265451,
          90474.6502863,
          90589.1008297065,
          90859.10661313501,
          90357.3190903005,
          89521.819044,
          89378.1187973415,
          88171.014566544,
          88350.1689989625,
          88618.845250425,
          88546.7181412695,
          88886.96753023501,
          89111.5476381585,
          88255.1074633935,
          89620.9799697975,
          89989.2603243795,
          89831.9323750695,
          90161.4347139765,
          89909.59920075,
          89820.96373635001,
          89681.36287992,
          89521.9298383305,
          89932.75521582451,
          90042.4416030195,
          89864.7274968975,
          91021.8634846395,
          91199.466796431,
          91295.9686582965,
          91239.13116675,
          91071.831727695,
          91392.80290315351,
          91000.923356175,
          90862.3196487195,
          90851.35101,
          91264.61386276499,
          91163.0154616965,
          91303.7242614315,
          91016.43456244499,
          90519.7435788135,
          91182.29367520352,
          90916.38728200352,
          91433.686011108
         ],
         "yaxis": "y3"
        },
        {
         "mode": "lines",
         "name": "net_worth",
         "type": "scatter",
         "uid": "146c3e5b-f3a7-4ad0-9809-7bb21b54aa57",
         "xaxis": "x3",
         "y": [
          97409.9,
          97373.86507067,
          97248.0745409999,
          97026.8176382032,
          97987.53551360901,
          97593.72674760001,
          97593.72674760001,
          97585.2801528973,
          94936.5596893727,
          94948.292660194,
          95100.37689750489,
          95219.2116531742,
          95008.6035218395,
          95318.258443228,
          94852.973846323,
          94640.9752092964,
          94295.7019498,
          94456.03795227369,
          94252.0614634696,
          92865.4064027164,
          90869.6799865795,
          91176.04,
          91821.93999999999,
          91732.14,
          91916.14,
          91858.04,
          91602.93999999999,
          91962.64,
          93322.4247736211,
          93342.63323431001,
          93257.0444596276,
          91256.8391179653,
          91743.24704075001,
          92400.29217972599,
          92266.289552698,
          92525.649475978,
          92336.4247986183,
          92042.8077521384,
          92577.30532736461,
          92508.89914759951,
          92307.8952070575,
          93057.2292520673,
          93183.775281301,
          93363.04973705501,
          93291.25501089102,
          93270.204088096,
          92694.62754114851,
          93236.74420028501,
          93020.252078488,
          91948.20613657,
          92280.58912807,
          92438.6926376935,
          92618.4010417645,
          92518.796938645,
          92192.7292239835,
          92541.842159389,
          92735.8430320945,
          92601.7818921895,
          92269.84207801151,
          92062.21350265451,
          91046.34028630001,
          91160.7908297065,
          91430.79661313501,
          90929.0090903005,
          90093.509044,
          89949.80879734151,
          88742.70456654401,
          88921.8589989625,
          89190.535250425,
          89118.40814126951,
          89458.65753023501,
          89683.2376381585,
          88826.79746339351,
          90192.6699697975,
          90560.9503243795,
          90403.6223750695,
          90733.1247139765,
          90481.28920075,
          90392.65373635001,
          90253.05287992,
          90093.6198383305,
          90504.44521582451,
          90614.1316030195,
          90436.4174968975,
          91593.5534846395,
          91771.15679643101,
          91867.6586582965,
          91810.82116675,
          91643.521727695,
          91964.49290315351,
          91572.613356175,
          91434.0096487195,
          91423.04101,
          91836.303862765,
          91734.7054616965,
          91875.4142614315,
          91588.124562445,
          91091.4335788135,
          91753.98367520352,
          91488.07728200352,
          92005.376011108
         ],
         "yaxis": "y3"
        },
        {
         "marker": {
          "color": "DarkGreen"
         },
         "mode": "lines",
         "name": "Net Worth",
         "type": "scatter",
         "uid": "7447514d-f491-4ee3-9a5a-de6882af6407",
         "xaxis": "x4",
         "y": [
          97409.9,
          97373.86507067,
          97248.0745409999,
          97026.8176382032,
          97987.53551360901,
          97593.72674760001,
          97593.72674760001,
          97585.2801528973,
          94936.5596893727,
          94948.292660194,
          95100.37689750489,
          95219.2116531742,
          95008.6035218395,
          95318.258443228,
          94852.973846323,
          94640.9752092964,
          94295.7019498,
          94456.03795227369,
          94252.0614634696,
          92865.4064027164,
          90869.6799865795,
          91176.04,
          91821.93999999999,
          91732.14,
          91916.14,
          91858.04,
          91602.93999999999,
          91962.64,
          93322.4247736211,
          93342.63323431001,
          93257.0444596276,
          91256.8391179653,
          91743.24704075001,
          92400.29217972599,
          92266.289552698,
          92525.649475978,
          92336.4247986183,
          92042.8077521384,
          92577.30532736461,
          92508.89914759951,
          92307.8952070575,
          93057.2292520673,
          93183.775281301,
          93363.04973705501,
          93291.25501089102,
          93270.204088096,
          92694.62754114851,
          93236.74420028501,
          93020.252078488,
          91948.20613657,
          92280.58912807,
          92438.6926376935,
          92618.4010417645,
          92518.796938645,
          92192.7292239835,
          92541.842159389,
          92735.8430320945,
          92601.7818921895,
          92269.84207801151,
          92062.21350265451,
          91046.34028630001,
          91160.7908297065,
          91430.79661313501,
          90929.0090903005,
          90093.509044,
          89949.80879734151,
          88742.70456654401,
          88921.8589989625,
          89190.535250425,
          89118.40814126951,
          89458.65753023501,
          89683.2376381585,
          88826.79746339351,
          90192.6699697975,
          90560.9503243795,
          90403.6223750695,
          90733.1247139765,
          90481.28920075,
          90392.65373635001,
          90253.05287992,
          90093.6198383305,
          90504.44521582451,
          90614.1316030195,
          90436.4174968975,
          91593.5534846395,
          91771.15679643101,
          91867.6586582965,
          91810.82116675,
          91643.521727695,
          91964.49290315351,
          91572.613356175,
          91434.0096487195,
          91423.04101,
          91836.303862765,
          91734.7054616965,
          91875.4142614315,
          91588.124562445,
          91091.4335788135,
          91753.98367520352,
          91488.07728200352,
          92005.376011108
         ],
         "yaxis": "y4"
        }
       ],
       "layout": {
        "annotations": [
         {
          "arrowcolor": "DarkGreen",
          "arrowhead": 2,
          "arrowsize": 0.8,
          "arrowwidth": 4,
          "ax": 0,
          "ay": 15,
          "hoverlabel": {
           "bgcolor": "DarkGreen"
          },
          "hovertext": "Step 43 [2018-05-17 00:00:00]<br>BUY 0.27276958 BTC @ 8358.3 USD MARKET<br>Total: 2279.89 USD - Comm.: 6.86 USD",
          "opacity": 0.6,
          "showarrow": true,
          "x": 42,
          "xref": "x",
          "y": 8358.3,
          "yref": "y"
         },
         {
          "arrowcolor": "DarkGreen",
          "arrowhead": 2,
          "arrowsize": 0.8,
          "arrowwidth": 4,
          "ax": 0,
          "ay": 15,
          "hoverlabel": {
           "bgcolor": "DarkGreen"
          },
          "hovertext": "Step 28 [2018-05-16 09:00:00]<br>BUY 0.80666347 BTC @ 8243.45 USD MARKET<br>Total: 6649.69 USD - Comm.: 20.01 USD",
          "opacity": 0.6,
          "showarrow": true,
          "x": 27,
          "xref": "x",
          "y": 8243.45,
          "yref": "y"
         },
         {
          "arrowcolor": "FireBrick",
          "arrowhead": 2,
          "arrowsize": 0.8,
          "arrowwidth": 4,
          "ax": 0,
          "ay": -15,
          "hoverlabel": {
           "bgcolor": "FireBrick"
          },
          "hovertext": "Step 21 [2018-05-16 02:00:00]<br>SELL 0.29600496 BTC @ 8133.43 USD MARKET<br>Total: 2407.54 USD - Comm.: 0.00089069 BTC",
          "opacity": 0.6,
          "showarrow": true,
          "x": 20,
          "xref": "x",
          "y": 8133.43,
          "yref": "y"
         },
         {
          "arrowcolor": "FireBrick",
          "arrowhead": 2,
          "arrowsize": 0.8,
          "arrowwidth": 4,
          "ax": 0,
          "ay": -15,
          "hoverlabel": {
           "bgcolor": "FireBrick"
          },
          "hovertext": "Step 20 [2018-05-16 01:00:00]<br>SELL 0.39810407 BTC @ 8326.28 USD MARKET<br>Total: 3314.73 USD - Comm.: 0.00119791 BTC",
          "opacity": 0.6,
          "showarrow": true,
          "x": 19,
          "xref": "x",
          "y": 8326.28,
          "yref": "y"
         },
         {
          "arrowcolor": "DarkGreen",
          "arrowhead": 2,
          "arrowsize": 0.8,
          "arrowwidth": 4,
          "ax": 0,
          "ay": 15,
          "hoverlabel": {
           "bgcolor": "DarkGreen"
          },
          "hovertext": "Step 10 [2018-05-15 15:00:00]<br>BUY 0.29689565 BTC @ 8520.3 USD MARKET<br>Total: 2529.64 USD - Comm.: 7.61 USD",
          "opacity": 0.6,
          "showarrow": true,
          "x": 9,
          "xref": "x",
          "y": 8520.3,
          "yref": "y"
         },
         {
          "arrowcolor": "FireBrick",
          "arrowhead": 2,
          "arrowsize": 0.8,
          "arrowwidth": 4,
          "ax": 0,
          "ay": -15,
          "hoverlabel": {
           "bgcolor": "FireBrick"
          },
          "hovertext": "Step 9 [2018-05-15 14:00:00]<br>SELL 0.56859063 BTC @ 8517.77 USD MARKET<br>Total: 4843.12 USD - Comm.: 0.00171090 BTC",
          "opacity": 0.6,
          "showarrow": true,
          "x": 8,
          "xref": "x",
          "y": 8517.77,
          "yref": "y"
         },
         {
          "arrowcolor": "DarkGreen",
          "arrowhead": 2,
          "arrowsize": 0.8,
          "arrowwidth": 4,
          "ax": 0,
          "ay": 15,
          "hoverlabel": {
           "bgcolor": "DarkGreen"
          },
          "hovertext": "Step 2 [2018-05-15 07:00:00]<br>BUY 0.39930198 BTC @ 8739.0 USD MARKET<br>Total: 3489.5 USD - Comm.: 10.50 USD",
          "opacity": 0.6,
          "showarrow": true,
          "x": 1,
          "xref": "x",
          "y": 8739.0,
          "yref": "y"
         },
         {
          "arrowcolor": "DarkGreen",
          "arrowhead": 2,
          "arrowsize": 0.8,
          "arrowwidth": 4,
          "ax": 0,
          "ay": 15,
          "hoverlabel": {
           "bgcolor": "DarkGreen"
          },
          "hovertext": "Step 1 [2018-05-15 06:00:00]<br>BUY 0.57030153 BTC @ 8740.99 USD MARKET<br>Total: 4985.0 USD - Comm.: 15.00 USD",
          "opacity": 0.6,
          "showarrow": true,
          "x": 0,
          "xref": "x",
          "y": 8740.99,
          "yref": "y"
         }
        ],
        "margin": {
         "t": 50
        },
        "template": {
         "data": {
          "bar": [
           {
            "error_x": {
             "color": "#2a3f5f"
            },
            "error_y": {
             "color": "#2a3f5f"
            },
            "marker": {
             "line": {
              "color": "white",
              "width": 0.5
             }
            },
            "type": "bar"
           }
          ],
          "barpolar": [
           {
            "marker": {
             "line": {
              "color": "white",
              "width": 0.5
             }
            },
            "type": "barpolar"
           }
          ],
          "carpet": [
           {
            "aaxis": {
             "endlinecolor": "#2a3f5f",
             "gridcolor": "#C8D4E3",
             "linecolor": "#C8D4E3",
             "minorgridcolor": "#C8D4E3",
             "startlinecolor": "#2a3f5f"
            },
            "baxis": {
             "endlinecolor": "#2a3f5f",
             "gridcolor": "#C8D4E3",
             "linecolor": "#C8D4E3",
             "minorgridcolor": "#C8D4E3",
             "startlinecolor": "#2a3f5f"
            },
            "type": "carpet"
           }
          ],
          "choropleth": [
           {
            "colorbar": {
             "outlinewidth": 0,
             "ticks": ""
            },
            "type": "choropleth"
           }
          ],
          "contour": [
           {
            "colorbar": {
             "outlinewidth": 0,
             "ticks": ""
            },
            "colorscale": [
             [
              0.0,
              "#0d0887"
             ],
             [
              0.1111111111111111,
              "#46039f"
             ],
             [
              0.2222222222222222,
              "#7201a8"
             ],
             [
              0.3333333333333333,
              "#9c179e"
             ],
             [
              0.4444444444444444,
              "#bd3786"
             ],
             [
              0.5555555555555556,
              "#d8576b"
             ],
             [
              0.6666666666666666,
              "#ed7953"
             ],
             [
              0.7777777777777778,
              "#fb9f3a"
             ],
             [
              0.8888888888888888,
              "#fdca26"
             ],
             [
              1.0,
              "#f0f921"
             ]
            ],
            "type": "contour"
           }
          ],
          "contourcarpet": [
           {
            "colorbar": {
             "outlinewidth": 0,
             "ticks": ""
            },
            "type": "contourcarpet"
           }
          ],
          "heatmap": [
           {
            "colorbar": {
             "outlinewidth": 0,
             "ticks": ""
            },
            "colorscale": [
             [
              0.0,
              "#0d0887"
             ],
             [
              0.1111111111111111,
              "#46039f"
             ],
             [
              0.2222222222222222,
              "#7201a8"
             ],
             [
              0.3333333333333333,
              "#9c179e"
             ],
             [
              0.4444444444444444,
              "#bd3786"
             ],
             [
              0.5555555555555556,
              "#d8576b"
             ],
             [
              0.6666666666666666,
              "#ed7953"
             ],
             [
              0.7777777777777778,
              "#fb9f3a"
             ],
             [
              0.8888888888888888,
              "#fdca26"
             ],
             [
              1.0,
              "#f0f921"
             ]
            ],
            "type": "heatmap"
           }
          ],
          "heatmapgl": [
           {
            "colorbar": {
             "outlinewidth": 0,
             "ticks": ""
            },
            "colorscale": [
             [
              0.0,
              "#0d0887"
             ],
             [
              0.1111111111111111,
              "#46039f"
             ],
             [
              0.2222222222222222,
              "#7201a8"
             ],
             [
              0.3333333333333333,
              "#9c179e"
             ],
             [
              0.4444444444444444,
              "#bd3786"
             ],
             [
              0.5555555555555556,
              "#d8576b"
             ],
             [
              0.6666666666666666,
              "#ed7953"
             ],
             [
              0.7777777777777778,
              "#fb9f3a"
             ],
             [
              0.8888888888888888,
              "#fdca26"
             ],
             [
              1.0,
              "#f0f921"
             ]
            ],
            "type": "heatmapgl"
           }
          ],
          "histogram": [
           {
            "marker": {
             "colorbar": {
              "outlinewidth": 0,
              "ticks": ""
             }
            },
            "type": "histogram"
           }
          ],
          "histogram2d": [
           {
            "colorbar": {
             "outlinewidth": 0,
             "ticks": ""
            },
            "colorscale": [
             [
              0.0,
              "#0d0887"
             ],
             [
              0.1111111111111111,
              "#46039f"
             ],
             [
              0.2222222222222222,
              "#7201a8"
             ],
             [
              0.3333333333333333,
              "#9c179e"
             ],
             [
              0.4444444444444444,
              "#bd3786"
             ],
             [
              0.5555555555555556,
              "#d8576b"
             ],
             [
              0.6666666666666666,
              "#ed7953"
             ],
             [
              0.7777777777777778,
              "#fb9f3a"
             ],
             [
              0.8888888888888888,
              "#fdca26"
             ],
             [
              1.0,
              "#f0f921"
             ]
            ],
            "type": "histogram2d"
           }
          ],
          "histogram2dcontour": [
           {
            "colorbar": {
             "outlinewidth": 0,
             "ticks": ""
            },
            "colorscale": [
             [
              0.0,
              "#0d0887"
             ],
             [
              0.1111111111111111,
              "#46039f"
             ],
             [
              0.2222222222222222,
              "#7201a8"
             ],
             [
              0.3333333333333333,
              "#9c179e"
             ],
             [
              0.4444444444444444,
              "#bd3786"
             ],
             [
              0.5555555555555556,
              "#d8576b"
             ],
             [
              0.6666666666666666,
              "#ed7953"
             ],
             [
              0.7777777777777778,
              "#fb9f3a"
             ],
             [
              0.8888888888888888,
              "#fdca26"
             ],
             [
              1.0,
              "#f0f921"
             ]
            ],
            "type": "histogram2dcontour"
           }
          ],
          "mesh3d": [
           {
            "colorbar": {
             "outlinewidth": 0,
             "ticks": ""
            },
            "type": "mesh3d"
           }
          ],
          "parcoords": [
           {
            "line": {
             "colorbar": {
              "outlinewidth": 0,
              "ticks": ""
             }
            },
            "type": "parcoords"
           }
          ],
          "pie": [
           {
            "automargin": true,
            "type": "pie"
           }
          ],
          "scatter": [
           {
            "marker": {
             "colorbar": {
              "outlinewidth": 0,
              "ticks": ""
             }
            },
            "type": "scatter"
           }
          ],
          "scatter3d": [
           {
            "line": {
             "colorbar": {
              "outlinewidth": 0,
              "ticks": ""
             }
            },
            "marker": {
             "colorbar": {
              "outlinewidth": 0,
              "ticks": ""
             }
            },
            "type": "scatter3d"
           }
          ],
          "scattercarpet": [
           {
            "marker": {
             "colorbar": {
              "outlinewidth": 0,
              "ticks": ""
             }
            },
            "type": "scattercarpet"
           }
          ],
          "scattergeo": [
           {
            "marker": {
             "colorbar": {
              "outlinewidth": 0,
              "ticks": ""
             }
            },
            "type": "scattergeo"
           }
          ],
          "scattergl": [
           {
            "marker": {
             "colorbar": {
              "outlinewidth": 0,
              "ticks": ""
             }
            },
            "type": "scattergl"
           }
          ],
          "scattermapbox": [
           {
            "marker": {
             "colorbar": {
              "outlinewidth": 0,
              "ticks": ""
             }
            },
            "type": "scattermapbox"
           }
          ],
          "scatterpolar": [
           {
            "marker": {
             "colorbar": {
              "outlinewidth": 0,
              "ticks": ""
             }
            },
            "type": "scatterpolar"
           }
          ],
          "scatterpolargl": [
           {
            "marker": {
             "colorbar": {
              "outlinewidth": 0,
              "ticks": ""
             }
            },
            "type": "scatterpolargl"
           }
          ],
          "scatterternary": [
           {
            "marker": {
             "colorbar": {
              "outlinewidth": 0,
              "ticks": ""
             }
            },
            "type": "scatterternary"
           }
          ],
          "surface": [
           {
            "colorbar": {
             "outlinewidth": 0,
             "ticks": ""
            },
            "colorscale": [
             [
              0.0,
              "#0d0887"
             ],
             [
              0.1111111111111111,
              "#46039f"
             ],
             [
              0.2222222222222222,
              "#7201a8"
             ],
             [
              0.3333333333333333,
              "#9c179e"
             ],
             [
              0.4444444444444444,
              "#bd3786"
             ],
             [
              0.5555555555555556,
              "#d8576b"
             ],
             [
              0.6666666666666666,
              "#ed7953"
             ],
             [
              0.7777777777777778,
              "#fb9f3a"
             ],
             [
              0.8888888888888888,
              "#fdca26"
             ],
             [
              1.0,
              "#f0f921"
             ]
            ],
            "type": "surface"
           }
          ],
          "table": [
           {
            "cells": {
             "fill": {
              "color": "#EBF0F8"
             },
             "line": {
              "color": "white"
             }
            },
            "header": {
             "fill": {
              "color": "#C8D4E3"
             },
             "line": {
              "color": "white"
             }
            },
            "type": "table"
           }
          ]
         },
         "layout": {
          "annotationdefaults": {
           "arrowcolor": "#2a3f5f",
           "arrowhead": 0,
           "arrowwidth": 1
          },
          "autotypenumbers": "strict",
          "coloraxis": {
           "colorbar": {
            "outlinewidth": 0,
            "ticks": ""
           }
          },
          "colorscale": {
           "diverging": [
            [
             0,
             "#8e0152"
            ],
            [
             0.1,
             "#c51b7d"
            ],
            [
             0.2,
             "#de77ae"
            ],
            [
             0.3,
             "#f1b6da"
            ],
            [
             0.4,
             "#fde0ef"
            ],
            [
             0.5,
             "#f7f7f7"
            ],
            [
             0.6,
             "#e6f5d0"
            ],
            [
             0.7,
             "#b8e186"
            ],
            [
             0.8,
             "#7fbc41"
            ],
            [
             0.9,
             "#4d9221"
            ],
            [
             1,
             "#276419"
            ]
           ],
           "sequential": [
            [
             0.0,
             "#0d0887"
            ],
            [
             0.1111111111111111,
             "#46039f"
            ],
            [
             0.2222222222222222,
             "#7201a8"
            ],
            [
             0.3333333333333333,
             "#9c179e"
            ],
            [
             0.4444444444444444,
             "#bd3786"
            ],
            [
             0.5555555555555556,
             "#d8576b"
            ],
            [
             0.6666666666666666,
             "#ed7953"
            ],
            [
             0.7777777777777778,
             "#fb9f3a"
            ],
            [
             0.8888888888888888,
             "#fdca26"
            ],
            [
             1.0,
             "#f0f921"
            ]
           ],
           "sequentialminus": [
            [
             0.0,
             "#0d0887"
            ],
            [
             0.1111111111111111,
             "#46039f"
            ],
            [
             0.2222222222222222,
             "#7201a8"
            ],
            [
             0.3333333333333333,
             "#9c179e"
            ],
            [
             0.4444444444444444,
             "#bd3786"
            ],
            [
             0.5555555555555556,
             "#d8576b"
            ],
            [
             0.6666666666666666,
             "#ed7953"
            ],
            [
             0.7777777777777778,
             "#fb9f3a"
            ],
            [
             0.8888888888888888,
             "#fdca26"
            ],
            [
             1.0,
             "#f0f921"
            ]
           ]
          },
          "colorway": [
           "#636efa",
           "#EF553B",
           "#00cc96",
           "#ab63fa",
           "#FFA15A",
           "#19d3f3",
           "#FF6692",
           "#B6E880",
           "#FF97FF",
           "#FECB52"
          ],
          "font": {
           "color": "#2a3f5f"
          },
          "geo": {
           "bgcolor": "white",
           "lakecolor": "white",
           "landcolor": "white",
           "showlakes": true,
           "showland": true,
           "subunitcolor": "#C8D4E3"
          },
          "hoverlabel": {
           "align": "left"
          },
          "hovermode": "closest",
          "mapbox": {
           "style": "light"
          },
          "paper_bgcolor": "white",
          "plot_bgcolor": "white",
          "polar": {
           "angularaxis": {
            "gridcolor": "#EBF0F8",
            "linecolor": "#EBF0F8",
            "ticks": ""
           },
           "bgcolor": "white",
           "radialaxis": {
            "gridcolor": "#EBF0F8",
            "linecolor": "#EBF0F8",
            "ticks": ""
           }
          },
          "scene": {
           "xaxis": {
            "backgroundcolor": "white",
            "gridcolor": "#DFE8F3",
            "gridwidth": 2,
            "linecolor": "#EBF0F8",
            "showbackground": true,
            "ticks": "",
            "zerolinecolor": "#EBF0F8"
           },
           "yaxis": {
            "backgroundcolor": "white",
            "gridcolor": "#DFE8F3",
            "gridwidth": 2,
            "linecolor": "#EBF0F8",
            "showbackground": true,
            "ticks": "",
            "zerolinecolor": "#EBF0F8"
           },
           "zaxis": {
            "backgroundcolor": "white",
            "gridcolor": "#DFE8F3",
            "gridwidth": 2,
            "linecolor": "#EBF0F8",
            "showbackground": true,
            "ticks": "",
            "zerolinecolor": "#EBF0F8"
           }
          },
          "shapedefaults": {
           "line": {
            "color": "#2a3f5f"
           }
          },
          "ternary": {
           "aaxis": {
            "gridcolor": "#DFE8F3",
            "linecolor": "#A2B1C6",
            "ticks": ""
           },
           "baxis": {
            "gridcolor": "#DFE8F3",
            "linecolor": "#A2B1C6",
            "ticks": ""
           },
           "bgcolor": "white",
           "caxis": {
            "gridcolor": "#DFE8F3",
            "linecolor": "#A2B1C6",
            "ticks": ""
           }
          },
          "title": {
           "x": 0.05
          },
          "xaxis": {
           "automargin": true,
           "gridcolor": "#EBF0F8",
           "linecolor": "#EBF0F8",
           "ticks": "",
           "title": {
            "standoff": 15
           },
           "zerolinecolor": "#EBF0F8",
           "zerolinewidth": 2
          },
          "yaxis": {
           "automargin": true,
           "gridcolor": "#EBF0F8",
           "linecolor": "#EBF0F8",
           "ticks": "",
           "title": {
            "standoff": 15
           },
           "zerolinecolor": "#EBF0F8",
           "zerolinewidth": 2
          }
         }
        },
        "title": {
         "text": "[2021-03-31 16:19:41 PM] Episode: 2/2 Step: 101/200"
        },
        "xaxis": {
         "anchor": "y",
         "domain": [
          0.0,
          1.0
         ],
         "gridcolor": "Gainsboro",
         "linecolor": "Grey",
         "matches": "x4",
         "rangeslider": {
          "visible": false
         },
         "showticklabels": false,
         "title": {
          "font": {
           "size": 12
          },
          "standoff": 7,
          "text": "Price"
         }
        },
        "xaxis2": {
         "anchor": "y2",
         "domain": [
          0.0,
          1.0
         ],
         "gridcolor": "Gainsboro",
         "linecolor": "Grey",
         "matches": "x4",
         "showticklabels": false,
         "title": {
          "font": {
           "size": 12
          },
          "standoff": 7,
          "text": "Volume"
         }
        },
        "xaxis3": {
         "anchor": "y3",
         "domain": [
          0.0,
          1.0
         ],
         "gridcolor": "Gainsboro",
         "linecolor": "Grey",
         "matches": "x4",
         "showticklabels": false,
         "title": {
          "font": {
           "size": 12
          },
          "standoff": 7,
          "text": "Performance"
         }
        },
        "xaxis4": {
         "anchor": "y4",
         "domain": [
          0.0,
          1.0
         ],
         "gridcolor": "Gainsboro",
         "linecolor": "Grey",
         "title": {
          "font": {
           "size": 12
          },
          "standoff": 7,
          "text": "Net Worth"
         }
        },
        "yaxis": {
         "anchor": "x",
         "domain": [
          0.49950000000000006,
          1.0
         ],
         "gridcolor": "Gainsboro",
         "linecolor": "Grey"
        },
        "yaxis2": {
         "anchor": "x2",
         "domain": [
          0.333,
          0.46950000000000003
         ],
         "gridcolor": "Gainsboro",
         "linecolor": "Grey"
        },
        "yaxis3": {
         "anchor": "x3",
         "domain": [
          0.1665,
          0.30300000000000005
         ],
         "gridcolor": "Gainsboro",
         "linecolor": "Grey"
        },
        "yaxis4": {
         "anchor": "x4",
         "domain": [
          0.0,
          0.1365
         ],
         "gridcolor": "Gainsboro",
         "linecolor": "Grey"
        }
       }
      },
      "text/html": "<div>                            <div id=\"f0f74bff-a123-4a70-b128-86bcf3f308f9\" class=\"plotly-graph-div\" style=\"height:525px; width:100%;\"></div>            <script type=\"text/javascript\">                require([\"plotly\"], function(Plotly) {                    window.PLOTLYENV=window.PLOTLYENV || {};                                    if (document.getElementById(\"f0f74bff-a123-4a70-b128-86bcf3f308f9\")) {                    Plotly.newPlot(                        \"f0f74bff-a123-4a70-b128-86bcf3f308f9\",                        [{\"close\": [8740.99, 8739.0, 8728.49, 8708.32, 8795.9, 8760.0, 8760.0, 8759.23, 8517.77, 8520.3, 8535.23, 8546.34, 8526.65, 8555.6, 8512.1, 8492.28, 8460.0, 8474.99, 8455.92, 8326.28, 8133.43, 8164.79, 8229.38, 8220.4, 8238.8, 8232.99, 8207.48, 8243.45, 8371.13, 8373.0, 8365.08, 8179.99, 8225.0, 8285.8, 8273.4, 8297.4, 8279.89, 8252.72, 8302.18, 8295.85, 8277.25, 8346.59, 8358.3, 8375.1, 8368.62, 8366.72, 8314.77, 8363.7, 8344.16, 8247.4, 8277.4, 8291.67, 8307.89, 8298.9, 8269.47, 8300.98, 8318.49, 8306.39, 8276.43, 8257.69, 8166.0, 8176.33, 8200.7, 8155.41, 8080.0, 8067.03, 7958.08, 7974.25, 7998.5, 7991.99, 8022.7, 8042.97, 7965.67, 8088.95, 8122.19, 8107.99, 8137.73, 8115.0, 8107.0, 8094.4, 8080.01, 8117.09, 8126.99, 8110.95, 8215.39, 8231.42, 8240.13, 8235.0, 8219.9, 8248.87, 8213.5, 8200.99, 8200.0, 8237.3, 8228.13, 8240.83, 8214.9, 8170.07, 8229.87, 8205.87, 8252.56], \"high\": [8796.68, 8766.0, 8750.27, 8754.4, 8865.0, 8821.19, 8798.6, 8771.02, 8761.7, 8553.67, 8589.1, 8579.48, 8555.51, 8583.6, 8569.92, 8555.54, 8557.51, 8505.0, 8505.33, 8478.29, 8339.81, 8217.44, 8252.72, 8248.63, 8267.12, 8255.0, 8261.24, 8263.93, 8455.66, 8439.44, 8399.1, 8381.73, 8229.91, 8377.29, 8329.1, 8350.0, 8346.95, 8377.29, 8311.35, 8319.96, 8398.24, 8372.58, 8399.99, 8386.53, 8400.0, 8500.0, 8381.0, 8371.3, 8382.41, 8351.0, 8292.99, 8325.8, 8318.99, 8324.9, 8335.56, 8309.4, 8377.29, 8330.41, 8328.23, 8284.36, 8274.83, 8200.0, 8232.14, 8213.97, 8155.41, 8108.28, 8068.92, 8019.9, 8026.66, 8025.0, 8104.69, 8061.39, 8045.99, 8170.71, 8144.16, 8139.99, 8152.99, 8137.73, 8143.72, 8129.99, 8106.76, 8139.0, 8152.04, 8146.99, 8232.14, 8275.1, 8256.12, 8274.1, 8255.8, 8253.97, 8261.09, 8235.76, 8227.0, 8273.36, 8264.21, 8250.0, 8250.86, 8235.77, 8232.12, 8232.14, 8252.72], \"low\": [8707.28, 8721.11, 8660.53, 8701.35, 8695.11, 8740.54, 8741.52, 8700.0, 8467.42, 8477.89, 8500.78, 8500.0, 8400.0, 8451.05, 8461.38, 8481.24, 8420.37, 8450.0, 8430.94, 8275.02, 8100.01, 8122.56, 8157.01, 8166.25, 8176.91, 8213.79, 8200.0, 8207.48, 8237.1, 8370.0, 8356.4, 8145.1, 8173.6, 8211.8, 8201.0, 8250.9, 8266.46, 8252.72, 8232.14, 8268.37, 8277.25, 8277.25, 8314.78, 8314.77, 8350.07, 8331.39, 8314.77, 8275.45, 8335.49, 8191.14, 8227.7, 8264.13, 8249.93, 8269.52, 8219.44, 8262.68, 8286.65, 8289.87, 8232.14, 8232.14, 8110.02, 8154.95, 8168.6, 8151.0, 7980.0, 8005.95, 7929.53, 7931.03, 7950.0, 7980.58, 7991.99, 7992.75, 7953.4, 7965.67, 8085.94, 8078.48, 8092.9, 8049.22, 8079.46, 8062.12, 8043.96, 8063.1, 8088.46, 8094.43, 8088.46, 8191.14, 8212.0, 8224.5, 8211.0, 8211.01, 8210.03, 8158.27, 8177.65, 8179.41, 8221.92, 8217.32, 8213.52, 8141.08, 8146.1, 8186.03, 8197.09], \"name\": \"Price\", \"open\": [8733.86, 8740.99, 8739.0, 8728.49, 8708.32, 8795.9, 8760.0, 8760.0, 8759.23, 8517.77, 8520.3, 8535.23, 8546.34, 8526.65, 8555.6, 8512.1, 8492.28, 8460.0, 8474.99, 8455.92, 8326.28, 8133.43, 8164.79, 8229.38, 8220.4, 8238.8, 8232.99, 8207.48, 8243.45, 8371.13, 8373.0, 8365.08, 8179.99, 8225.0, 8285.8, 8273.4, 8297.4, 8279.89, 8252.72, 8302.18, 8295.85, 8277.25, 8346.59, 8358.3, 8375.1, 8368.62, 8366.72, 8314.77, 8363.7, 8344.16, 8247.4, 8277.4, 8291.67, 8307.89, 8298.9, 8269.47, 8300.98, 8318.49, 8306.39, 8276.43, 8257.69, 8166.0, 8176.33, 8200.7, 8155.41, 8080.0, 8067.03, 7958.08, 7974.25, 7998.5, 7991.99, 8022.7, 8042.97, 7965.67, 8088.95, 8122.19, 8107.99, 8137.73, 8115.0, 8107.0, 8094.4, 8080.01, 8117.09, 8126.99, 8110.95, 8215.39, 8231.42, 8240.13, 8235.0, 8219.9, 8248.87, 8213.5, 8200.99, 8200.0, 8237.3, 8228.13, 8240.83, 8214.9, 8170.07, 8229.87, 8205.87], \"showlegend\": false, \"type\": \"candlestick\", \"uid\": \"0731bd14-fe30-4ad1-96ba-551ccc3d56c2\", \"xaxis\": \"x\", \"yaxis\": \"y\"}, {\"marker\": {\"color\": \"DodgerBlue\"}, \"name\": \"Volume\", \"showlegend\": false, \"type\": \"bar\", \"uid\": \"391f75b1-d2aa-40b4-917f-b27b916252fb\", \"xaxis\": \"x2\", \"y\": [559.93, 273.58, 917.79, 182.62, 1260.69, 324.11, 324.2, 730.67, 1341.75, 792.07, 385.69, 475.08, 877.26, 670.49, 610.97, 168.99, 305.92, 136.05, 154.26, 1070.93, 1710.2, 492.8, 630.72, 620.93, 586.34, 304.52, 450.97, 182.36, 915.32, 319.29, 362.01, 1046.38, 357.91, 561.2, 322.53, 1073.71, 237.21, 251.2, 359.73, 117.23, 363.17, 214.18, 171.64, 258.58, 299.52, 718.98, 119.7, 405.25, 210.77, 714.82, 215.97, 164.2, 201.55, 203.41, 886.82, 95.49, 499.67, 172.77, 355.39, 255.27, 591.06, 133.1, 149.13, 87.55, 1061.54, 286.94, 524.42, 316.0, 441.43, 189.7, 844.94, 155.34, 257.56, 610.69, 217.97, 173.18, 218.06, 372.97, 484.39, 248.1, 162.35, 303.42, 290.69, 160.93, 369.4, 487.27, 93.35, 96.68, 72.14, 90.22, 168.52, 203.15, 71.42, 464.56, 57.0, 89.42, 49.47, 200.05, 254.37, 65.05, 118.19], \"yaxis\": \"y2\"}, {\"mode\": \"lines\", \"name\": \"bitstamp:/USD-BTC\", \"type\": \"scatter\", \"uid\": \"2f79b682-a0c5-4a58-b299-e065a721e121\", \"xaxis\": \"x3\", \"y\": [8740.99, 8739.0, 8728.49, 8708.32, 8795.9, 8760.0, 8760.0, 8759.23, 8517.77, 8520.3, 8535.23, 8546.34, 8526.65, 8555.6, 8512.1, 8492.28, 8460.0, 8474.99, 8455.92, 8326.28, 8133.43, 8164.79, 8229.38, 8220.4, 8238.8, 8232.99, 8207.48, 8243.45, 8371.13, 8373.0, 8365.08, 8179.99, 8225.0, 8285.8, 8273.4, 8297.4, 8279.89, 8252.72, 8302.18, 8295.85, 8277.25, 8346.59, 8358.3, 8375.1, 8368.62, 8366.72, 8314.77, 8363.7, 8344.16, 8247.4, 8277.4, 8291.67, 8307.89, 8298.9, 8269.47, 8300.98, 8318.49, 8306.39, 8276.43, 8257.69, 8166.0, 8176.33, 8200.7, 8155.41, 8080.0, 8067.03, 7958.08, 7974.25, 7998.5, 7991.99, 8022.7, 8042.97, 7965.67, 8088.95, 8122.19, 8107.99, 8137.73, 8115.0, 8107.0, 8094.4, 8080.01, 8117.09, 8126.99, 8110.95, 8215.39, 8231.42, 8240.13, 8235.0, 8219.9, 8248.87, 8213.5, 8200.99, 8200.0, 8237.3, 8228.13, 8240.83, 8214.9, 8170.07, 8229.87, 8205.87, 8252.56], \"yaxis\": \"y3\"}, {\"mode\": \"lines\", \"name\": \"bitstamp:/USD:/free\", \"type\": \"scatter\", \"uid\": \"a9f121fb-8336-4ce1-85b8-8eaa152b2460\", \"xaxis\": \"x3\", \"y\": [10000.0, 5000.0, 1500.0, 1500.0, 1500.0, 1500.0, 1500.0, 1500.0, 1500.0, 6343.12, 3805.87, 3805.87, 3805.87, 3805.87, 3805.87, 3805.87, 3805.87, 3805.87, 3805.87, 3805.87, 7120.6, 9528.14, 9528.14, 9528.14, 9528.14, 9528.14, 9528.14, 9528.14, 2858.44, 2858.44, 2858.44, 2858.44, 2858.44, 2858.44, 2858.44, 2858.44, 2858.44, 2858.44, 2858.44, 2858.44, 2858.44, 2858.44, 2858.44, 571.69, 571.69, 571.69, 571.69, 571.69, 571.69, 571.69, 571.69, 571.69, 571.69, 571.69, 571.69, 571.69, 571.69, 571.69, 571.69, 571.69, 571.69, 571.69, 571.69, 571.69, 571.69, 571.69, 571.69, 571.69, 571.69, 571.69, 571.69, 571.69, 571.69, 571.69, 571.69, 571.69, 571.69, 571.69, 571.69, 571.69, 571.69, 571.69, 571.69, 571.69, 571.69, 571.69, 571.69, 571.69, 571.69, 571.69, 571.69, 571.69, 571.69, 571.69, 571.69, 571.69, 571.69, 571.69, 571.69, 571.69, 571.69], \"yaxis\": \"y3\"}, {\"mode\": \"lines\", \"name\": \"bitstamp:/USD:/locked\", \"type\": \"scatter\", \"uid\": \"601870c1-66ac-4116-83ce-e0fc7b55621e\", \"xaxis\": \"x3\", \"y\": [0.0, 0.0, 0.0, 0.0, 0.0, 0.0, 0.0, 0.0, 0.0, 0.0, 0.0, 0.0, 0.0, 0.0, 0.0, 0.0, 0.0, 0.0, 0.0, 0.0, 0.0, 0.0, 0.0, 0.0, 0.0, 0.0, 0.0, 0.0, 0.0, 0.0, 0.0, 0.0, 0.0, 0.0, 0.0, 0.0, 0.0, 0.0, 0.0, 0.0, 0.0, 0.0, 0.0, 0.0, 0.0, 0.0, 0.0, 0.0, 0.0, 0.0, 0.0, 0.0, 0.0, 0.0, 0.0, 0.0, 0.0, 0.0, 0.0, 0.0, 0.0, 0.0, 0.0, 0.0, 0.0, 0.0, 0.0, 0.0, 0.0, 0.0, 0.0, 0.0, 0.0, 0.0, 0.0, 0.0, 0.0, 0.0, 0.0, 0.0, 0.0, 0.0, 0.0, 0.0, 0.0, 0.0, 0.0, 0.0, 0.0, 0.0, 0.0, 0.0, 0.0, 0.0, 0.0, 0.0, 0.0, 0.0, 0.0, 0.0, 0.0], \"yaxis\": \"y3\"}, {\"mode\": \"lines\", \"name\": \"bitstamp:/USD:/total\", \"type\": \"scatter\", \"uid\": \"2c681579-e45b-4a8f-afef-4ab343f9a74a\", \"xaxis\": \"x3\", \"y\": [10000.0, 5000.0, 1500.0, 1500.0, 1500.0, 1500.0, 1500.0, 1500.0, 1500.0, 6343.12, 3805.87, 3805.87, 3805.87, 3805.87, 3805.87, 3805.87, 3805.87, 3805.87, 3805.87, 3805.87, 7120.6, 9528.14, 9528.14, 9528.14, 9528.14, 9528.14, 9528.14, 9528.14, 2858.44, 2858.44, 2858.44, 2858.44, 2858.44, 2858.44, 2858.44, 2858.44, 2858.44, 2858.44, 2858.44, 2858.44, 2858.44, 2858.44, 2858.44, 571.69, 571.69, 571.69, 571.69, 571.69, 571.69, 571.69, 571.69, 571.69, 571.69, 571.69, 571.69, 571.69, 571.69, 571.69, 571.69, 571.69, 571.69, 571.69, 571.69, 571.69, 571.69, 571.69, 571.69, 571.69, 571.69, 571.69, 571.69, 571.69, 571.69, 571.69, 571.69, 571.69, 571.69, 571.69, 571.69, 571.69, 571.69, 571.69, 571.69, 571.69, 571.69, 571.69, 571.69, 571.69, 571.69, 571.69, 571.69, 571.69, 571.69, 571.69, 571.69, 571.69, 571.69, 571.69, 571.69, 571.69, 571.69], \"yaxis\": \"y3\"}, {\"mode\": \"lines\", \"name\": \"bitstamp:/BTC:/free\", \"type\": \"scatter\", \"uid\": \"692d2628-0225-446b-884c-8082509c661b\", \"xaxis\": \"x3\", \"y\": [10.0, 10.0, 10.0, 10.0, 10.0, 10.0, 10.0, 10.0, 10.0, 10.0, 10.0, 10.0, 10.0, 10.0, 10.0, 10.0, 10.0, 10.0, 10.0, 10.0, 10.0, 10.0, 10.0, 10.0, 10.0, 10.0, 10.0, 10.0, 10.0, 10.0, 10.0, 10.0, 10.0, 10.0, 10.0, 10.0, 10.0, 10.0, 10.0, 10.0, 10.0, 10.0, 10.0, 10.0, 10.0, 10.0, 10.0, 10.0, 10.0, 10.0, 10.0, 10.0, 10.0, 10.0, 10.0, 10.0, 10.0, 10.0, 10.0, 10.0, 10.0, 10.0, 10.0, 10.0, 10.0, 10.0, 10.0, 10.0, 10.0, 10.0, 10.0, 10.0, 10.0, 10.0, 10.0, 10.0, 10.0, 10.0, 10.0, 10.0, 10.0, 10.0, 10.0, 10.0, 10.0, 10.0, 10.0, 10.0, 10.0, 10.0, 10.0, 10.0, 10.0, 10.0, 10.0, 10.0, 10.0, 10.0, 10.0, 10.0, 10.0], \"yaxis\": \"y3\"}, {\"mode\": \"lines\", \"name\": \"bitstamp:/BTC:/locked\", \"type\": \"scatter\", \"uid\": \"e837dc76-37dd-4675-ba8b-277d0e2e7b3e\", \"xaxis\": \"x3\", \"y\": [0.0, 0.57030153, 0.96960351, 0.96960351, 0.96960351, 0.96960351, 0.96960351, 0.96960351, 0.96960351, 0.39930198, 0.69619763, 0.69619763, 0.69619763, 0.69619763, 0.69619763, 0.69619763, 0.69619763, 0.69619763, 0.69619763, 0.69619763, 0.29689565, 0.0, 0.0, 0.0, 0.0, 0.0, 0.0, 0.0, 0.80666347, 0.80666347, 0.80666347, 0.80666347, 0.80666347, 0.80666347, 0.80666347, 0.80666347, 0.80666347, 0.80666347, 0.80666347, 0.80666347, 0.80666347, 0.80666347, 0.80666347, 1.07943305, 1.07943305, 1.07943305, 1.07943305, 1.07943305, 1.07943305, 1.07943305, 1.07943305, 1.07943305, 1.07943305, 1.07943305, 1.07943305, 1.07943305, 1.07943305, 1.07943305, 1.07943305, 1.07943305, 1.07943305, 1.07943305, 1.07943305, 1.07943305, 1.07943305, 1.07943305, 1.07943305, 1.07943305, 1.07943305, 1.07943305, 1.07943305, 1.07943305, 1.07943305, 1.07943305, 1.07943305, 1.07943305, 1.07943305, 1.07943305, 1.07943305, 1.07943305, 1.07943305, 1.07943305, 1.07943305, 1.07943305, 1.07943305, 1.07943305, 1.07943305, 1.07943305, 1.07943305, 1.07943305, 1.07943305, 1.07943305, 1.07943305, 1.07943305, 1.07943305, 1.07943305, 1.07943305, 1.07943305, 1.07943305, 1.07943305, 1.07943305], \"yaxis\": \"y3\"}, {\"mode\": \"lines\", \"name\": \"bitstamp:/BTC:/total\", \"type\": \"scatter\", \"uid\": \"d1a5bb1d-8ac9-46ba-a619-40cf477fdaab\", \"xaxis\": \"x3\", \"y\": [10.0, 10.57030153, 10.96960351, 10.96960351, 10.96960351, 10.96960351, 10.96960351, 10.96960351, 10.96960351, 10.39930198, 10.69619763, 10.69619763, 10.69619763, 10.69619763, 10.69619763, 10.69619763, 10.69619763, 10.69619763, 10.69619763, 10.69619763, 10.29689565, 10.0, 10.0, 10.0, 10.0, 10.0, 10.0, 10.0, 10.80666347, 10.80666347, 10.80666347, 10.80666347, 10.80666347, 10.80666347, 10.80666347, 10.80666347, 10.80666347, 10.80666347, 10.80666347, 10.80666347, 10.80666347, 10.80666347, 10.80666347, 11.07943305, 11.07943305, 11.07943305, 11.07943305, 11.07943305, 11.07943305, 11.07943305, 11.07943305, 11.07943305, 11.07943305, 11.07943305, 11.07943305, 11.07943305, 11.07943305, 11.07943305, 11.07943305, 11.07943305, 11.07943305, 11.07943305, 11.07943305, 11.07943305, 11.07943305, 11.07943305, 11.07943305, 11.07943305, 11.07943305, 11.07943305, 11.07943305, 11.07943305, 11.07943305, 11.07943305, 11.07943305, 11.07943305, 11.07943305, 11.07943305, 11.07943305, 11.07943305, 11.07943305, 11.07943305, 11.07943305, 11.07943305, 11.07943305, 11.07943305, 11.07943305, 11.07943305, 11.07943305, 11.07943305, 11.07943305, 11.07943305, 11.07943305, 11.07943305, 11.07943305, 11.07943305, 11.07943305, 11.07943305, 11.07943305, 11.07943305, 11.07943305], \"yaxis\": \"y3\"}, {\"mode\": \"lines\", \"name\": \"bitstamp:/BTC:/worth\", \"type\": \"scatter\", \"uid\": \"57feb423-417f-4b96-9f78-24885eb5f33b\", \"xaxis\": \"x3\", \"y\": [87409.9, 92373.86507067, 95748.0745409999, 95526.8176382032, 96487.53551360901, 96093.72674760001, 96093.72674760001, 96085.2801528973, 93436.5596893727, 88605.172660194, 91294.50689750489, 91413.34165317421, 91202.7335218395, 91512.388443228, 91047.103846323, 90835.10520929641, 90489.8319498, 90650.1679522737, 90446.1914634696, 89059.5364027164, 83749.0799865795, 81647.9, 82293.79999999999, 82204.0, 82388.0, 82329.9, 82074.79999999999, 82434.5, 90463.9847736211, 90484.19323431, 90398.6044596276, 88398.3991179653, 88884.80704075, 89541.85217972599, 89407.849552698, 89667.209475978, 89477.9847986183, 89184.3677521384, 89718.8653273646, 89650.45914759951, 89449.4552070575, 90198.7892520673, 90325.335281301, 92791.35973705501, 92719.56501089102, 92698.514088096, 92122.93754114851, 92665.05420028501, 92448.562078488, 91376.51613657, 91708.89912807, 91867.0026376935, 92046.7110417645, 91947.106938645, 91621.03922398349, 91970.15215938899, 92164.1530320945, 92030.09189218949, 91698.15207801151, 91490.52350265451, 90474.6502863, 90589.1008297065, 90859.10661313501, 90357.3190903005, 89521.819044, 89378.1187973415, 88171.014566544, 88350.1689989625, 88618.845250425, 88546.7181412695, 88886.96753023501, 89111.5476381585, 88255.1074633935, 89620.9799697975, 89989.2603243795, 89831.9323750695, 90161.4347139765, 89909.59920075, 89820.96373635001, 89681.36287992, 89521.9298383305, 89932.75521582451, 90042.4416030195, 89864.7274968975, 91021.8634846395, 91199.466796431, 91295.9686582965, 91239.13116675, 91071.831727695, 91392.80290315351, 91000.923356175, 90862.3196487195, 90851.35101, 91264.61386276499, 91163.0154616965, 91303.7242614315, 91016.43456244499, 90519.7435788135, 91182.29367520352, 90916.38728200352, 91433.686011108], \"yaxis\": \"y3\"}, {\"mode\": \"lines\", \"name\": \"net_worth\", \"type\": \"scatter\", \"uid\": \"146c3e5b-f3a7-4ad0-9809-7bb21b54aa57\", \"xaxis\": \"x3\", \"y\": [97409.9, 97373.86507067, 97248.0745409999, 97026.8176382032, 97987.53551360901, 97593.72674760001, 97593.72674760001, 97585.2801528973, 94936.5596893727, 94948.292660194, 95100.37689750489, 95219.2116531742, 95008.6035218395, 95318.258443228, 94852.973846323, 94640.9752092964, 94295.7019498, 94456.03795227369, 94252.0614634696, 92865.4064027164, 90869.6799865795, 91176.04, 91821.93999999999, 91732.14, 91916.14, 91858.04, 91602.93999999999, 91962.64, 93322.4247736211, 93342.63323431001, 93257.0444596276, 91256.8391179653, 91743.24704075001, 92400.29217972599, 92266.289552698, 92525.649475978, 92336.4247986183, 92042.8077521384, 92577.30532736461, 92508.89914759951, 92307.8952070575, 93057.2292520673, 93183.775281301, 93363.04973705501, 93291.25501089102, 93270.204088096, 92694.62754114851, 93236.74420028501, 93020.252078488, 91948.20613657, 92280.58912807, 92438.6926376935, 92618.4010417645, 92518.796938645, 92192.7292239835, 92541.842159389, 92735.8430320945, 92601.7818921895, 92269.84207801151, 92062.21350265451, 91046.34028630001, 91160.7908297065, 91430.79661313501, 90929.0090903005, 90093.509044, 89949.80879734151, 88742.70456654401, 88921.8589989625, 89190.535250425, 89118.40814126951, 89458.65753023501, 89683.2376381585, 88826.79746339351, 90192.6699697975, 90560.9503243795, 90403.6223750695, 90733.1247139765, 90481.28920075, 90392.65373635001, 90253.05287992, 90093.6198383305, 90504.44521582451, 90614.1316030195, 90436.4174968975, 91593.5534846395, 91771.15679643101, 91867.6586582965, 91810.82116675, 91643.521727695, 91964.49290315351, 91572.613356175, 91434.0096487195, 91423.04101, 91836.303862765, 91734.7054616965, 91875.4142614315, 91588.124562445, 91091.4335788135, 91753.98367520352, 91488.07728200352, 92005.376011108], \"yaxis\": \"y3\"}, {\"marker\": {\"color\": \"DarkGreen\"}, \"mode\": \"lines\", \"name\": \"Net Worth\", \"type\": \"scatter\", \"uid\": \"7447514d-f491-4ee3-9a5a-de6882af6407\", \"xaxis\": \"x4\", \"y\": [97409.9, 97373.86507067, 97248.0745409999, 97026.8176382032, 97987.53551360901, 97593.72674760001, 97593.72674760001, 97585.2801528973, 94936.5596893727, 94948.292660194, 95100.37689750489, 95219.2116531742, 95008.6035218395, 95318.258443228, 94852.973846323, 94640.9752092964, 94295.7019498, 94456.03795227369, 94252.0614634696, 92865.4064027164, 90869.6799865795, 91176.04, 91821.93999999999, 91732.14, 91916.14, 91858.04, 91602.93999999999, 91962.64, 93322.4247736211, 93342.63323431001, 93257.0444596276, 91256.8391179653, 91743.24704075001, 92400.29217972599, 92266.289552698, 92525.649475978, 92336.4247986183, 92042.8077521384, 92577.30532736461, 92508.89914759951, 92307.8952070575, 93057.2292520673, 93183.775281301, 93363.04973705501, 93291.25501089102, 93270.204088096, 92694.62754114851, 93236.74420028501, 93020.252078488, 91948.20613657, 92280.58912807, 92438.6926376935, 92618.4010417645, 92518.796938645, 92192.7292239835, 92541.842159389, 92735.8430320945, 92601.7818921895, 92269.84207801151, 92062.21350265451, 91046.34028630001, 91160.7908297065, 91430.79661313501, 90929.0090903005, 90093.509044, 89949.80879734151, 88742.70456654401, 88921.8589989625, 89190.535250425, 89118.40814126951, 89458.65753023501, 89683.2376381585, 88826.79746339351, 90192.6699697975, 90560.9503243795, 90403.6223750695, 90733.1247139765, 90481.28920075, 90392.65373635001, 90253.05287992, 90093.6198383305, 90504.44521582451, 90614.1316030195, 90436.4174968975, 91593.5534846395, 91771.15679643101, 91867.6586582965, 91810.82116675, 91643.521727695, 91964.49290315351, 91572.613356175, 91434.0096487195, 91423.04101, 91836.303862765, 91734.7054616965, 91875.4142614315, 91588.124562445, 91091.4335788135, 91753.98367520352, 91488.07728200352, 92005.376011108], \"yaxis\": \"y4\"}],                        {\"annotations\": [{\"arrowcolor\": \"DarkGreen\", \"arrowhead\": 2, \"arrowsize\": 0.8, \"arrowwidth\": 4, \"ax\": 0, \"ay\": 15, \"hoverlabel\": {\"bgcolor\": \"DarkGreen\"}, \"hovertext\": \"Step 43 [2018-05-17 00:00:00]<br>BUY 0.27276958 BTC @ 8358.3 USD MARKET<br>Total: 2279.89 USD - Comm.: 6.86 USD\", \"opacity\": 0.6, \"showarrow\": true, \"x\": 42, \"xref\": \"x\", \"y\": 8358.3, \"yref\": \"y\"}, {\"arrowcolor\": \"DarkGreen\", \"arrowhead\": 2, \"arrowsize\": 0.8, \"arrowwidth\": 4, \"ax\": 0, \"ay\": 15, \"hoverlabel\": {\"bgcolor\": \"DarkGreen\"}, \"hovertext\": \"Step 28 [2018-05-16 09:00:00]<br>BUY 0.80666347 BTC @ 8243.45 USD MARKET<br>Total: 6649.69 USD - Comm.: 20.01 USD\", \"opacity\": 0.6, \"showarrow\": true, \"x\": 27, \"xref\": \"x\", \"y\": 8243.45, \"yref\": \"y\"}, {\"arrowcolor\": \"FireBrick\", \"arrowhead\": 2, \"arrowsize\": 0.8, \"arrowwidth\": 4, \"ax\": 0, \"ay\": -15, \"hoverlabel\": {\"bgcolor\": \"FireBrick\"}, \"hovertext\": \"Step 21 [2018-05-16 02:00:00]<br>SELL 0.29600496 BTC @ 8133.43 USD MARKET<br>Total: 2407.54 USD - Comm.: 0.00089069 BTC\", \"opacity\": 0.6, \"showarrow\": true, \"x\": 20, \"xref\": \"x\", \"y\": 8133.43, \"yref\": \"y\"}, {\"arrowcolor\": \"FireBrick\", \"arrowhead\": 2, \"arrowsize\": 0.8, \"arrowwidth\": 4, \"ax\": 0, \"ay\": -15, \"hoverlabel\": {\"bgcolor\": \"FireBrick\"}, \"hovertext\": \"Step 20 [2018-05-16 01:00:00]<br>SELL 0.39810407 BTC @ 8326.28 USD MARKET<br>Total: 3314.73 USD - Comm.: 0.00119791 BTC\", \"opacity\": 0.6, \"showarrow\": true, \"x\": 19, \"xref\": \"x\", \"y\": 8326.28, \"yref\": \"y\"}, {\"arrowcolor\": \"DarkGreen\", \"arrowhead\": 2, \"arrowsize\": 0.8, \"arrowwidth\": 4, \"ax\": 0, \"ay\": 15, \"hoverlabel\": {\"bgcolor\": \"DarkGreen\"}, \"hovertext\": \"Step 10 [2018-05-15 15:00:00]<br>BUY 0.29689565 BTC @ 8520.3 USD MARKET<br>Total: 2529.64 USD - Comm.: 7.61 USD\", \"opacity\": 0.6, \"showarrow\": true, \"x\": 9, \"xref\": \"x\", \"y\": 8520.3, \"yref\": \"y\"}, {\"arrowcolor\": \"FireBrick\", \"arrowhead\": 2, \"arrowsize\": 0.8, \"arrowwidth\": 4, \"ax\": 0, \"ay\": -15, \"hoverlabel\": {\"bgcolor\": \"FireBrick\"}, \"hovertext\": \"Step 9 [2018-05-15 14:00:00]<br>SELL 0.56859063 BTC @ 8517.77 USD MARKET<br>Total: 4843.12 USD - Comm.: 0.00171090 BTC\", \"opacity\": 0.6, \"showarrow\": true, \"x\": 8, \"xref\": \"x\", \"y\": 8517.77, \"yref\": \"y\"}, {\"arrowcolor\": \"DarkGreen\", \"arrowhead\": 2, \"arrowsize\": 0.8, \"arrowwidth\": 4, \"ax\": 0, \"ay\": 15, \"hoverlabel\": {\"bgcolor\": \"DarkGreen\"}, \"hovertext\": \"Step 2 [2018-05-15 07:00:00]<br>BUY 0.39930198 BTC @ 8739.0 USD MARKET<br>Total: 3489.5 USD - Comm.: 10.50 USD\", \"opacity\": 0.6, \"showarrow\": true, \"x\": 1, \"xref\": \"x\", \"y\": 8739.0, \"yref\": \"y\"}, {\"arrowcolor\": \"DarkGreen\", \"arrowhead\": 2, \"arrowsize\": 0.8, \"arrowwidth\": 4, \"ax\": 0, \"ay\": 15, \"hoverlabel\": {\"bgcolor\": \"DarkGreen\"}, \"hovertext\": \"Step 1 [2018-05-15 06:00:00]<br>BUY 0.57030153 BTC @ 8740.99 USD MARKET<br>Total: 4985.0 USD - Comm.: 15.00 USD\", \"opacity\": 0.6, \"showarrow\": true, \"x\": 0, \"xref\": \"x\", \"y\": 8740.99, \"yref\": \"y\"}], \"margin\": {\"t\": 50}, \"template\": {\"data\": {\"bar\": [{\"error_x\": {\"color\": \"#2a3f5f\"}, \"error_y\": {\"color\": \"#2a3f5f\"}, \"marker\": {\"line\": {\"color\": \"white\", \"width\": 0.5}}, \"type\": \"bar\"}], \"barpolar\": [{\"marker\": {\"line\": {\"color\": \"white\", \"width\": 0.5}}, \"type\": \"barpolar\"}], \"carpet\": [{\"aaxis\": {\"endlinecolor\": \"#2a3f5f\", \"gridcolor\": \"#C8D4E3\", \"linecolor\": \"#C8D4E3\", \"minorgridcolor\": \"#C8D4E3\", \"startlinecolor\": \"#2a3f5f\"}, \"baxis\": {\"endlinecolor\": \"#2a3f5f\", \"gridcolor\": \"#C8D4E3\", \"linecolor\": \"#C8D4E3\", \"minorgridcolor\": \"#C8D4E3\", \"startlinecolor\": \"#2a3f5f\"}, \"type\": \"carpet\"}], \"choropleth\": [{\"colorbar\": {\"outlinewidth\": 0, \"ticks\": \"\"}, \"type\": \"choropleth\"}], \"contour\": [{\"colorbar\": {\"outlinewidth\": 0, \"ticks\": \"\"}, \"colorscale\": [[0.0, \"#0d0887\"], [0.1111111111111111, \"#46039f\"], [0.2222222222222222, \"#7201a8\"], [0.3333333333333333, \"#9c179e\"], [0.4444444444444444, \"#bd3786\"], [0.5555555555555556, \"#d8576b\"], [0.6666666666666666, \"#ed7953\"], [0.7777777777777778, \"#fb9f3a\"], [0.8888888888888888, \"#fdca26\"], [1.0, \"#f0f921\"]], \"type\": \"contour\"}], \"contourcarpet\": [{\"colorbar\": {\"outlinewidth\": 0, \"ticks\": \"\"}, \"type\": \"contourcarpet\"}], \"heatmap\": [{\"colorbar\": {\"outlinewidth\": 0, \"ticks\": \"\"}, \"colorscale\": [[0.0, \"#0d0887\"], [0.1111111111111111, \"#46039f\"], [0.2222222222222222, \"#7201a8\"], [0.3333333333333333, \"#9c179e\"], [0.4444444444444444, \"#bd3786\"], [0.5555555555555556, \"#d8576b\"], [0.6666666666666666, \"#ed7953\"], [0.7777777777777778, \"#fb9f3a\"], [0.8888888888888888, \"#fdca26\"], [1.0, \"#f0f921\"]], \"type\": \"heatmap\"}], \"heatmapgl\": [{\"colorbar\": {\"outlinewidth\": 0, \"ticks\": \"\"}, \"colorscale\": [[0.0, \"#0d0887\"], [0.1111111111111111, \"#46039f\"], [0.2222222222222222, \"#7201a8\"], [0.3333333333333333, \"#9c179e\"], [0.4444444444444444, \"#bd3786\"], [0.5555555555555556, \"#d8576b\"], [0.6666666666666666, \"#ed7953\"], [0.7777777777777778, \"#fb9f3a\"], [0.8888888888888888, \"#fdca26\"], [1.0, \"#f0f921\"]], \"type\": \"heatmapgl\"}], \"histogram\": [{\"marker\": {\"colorbar\": {\"outlinewidth\": 0, \"ticks\": \"\"}}, \"type\": \"histogram\"}], \"histogram2d\": [{\"colorbar\": {\"outlinewidth\": 0, \"ticks\": \"\"}, \"colorscale\": [[0.0, \"#0d0887\"], [0.1111111111111111, \"#46039f\"], [0.2222222222222222, \"#7201a8\"], [0.3333333333333333, \"#9c179e\"], [0.4444444444444444, \"#bd3786\"], [0.5555555555555556, \"#d8576b\"], [0.6666666666666666, \"#ed7953\"], [0.7777777777777778, \"#fb9f3a\"], [0.8888888888888888, \"#fdca26\"], [1.0, \"#f0f921\"]], \"type\": \"histogram2d\"}], \"histogram2dcontour\": [{\"colorbar\": {\"outlinewidth\": 0, \"ticks\": \"\"}, \"colorscale\": [[0.0, \"#0d0887\"], [0.1111111111111111, \"#46039f\"], [0.2222222222222222, \"#7201a8\"], [0.3333333333333333, \"#9c179e\"], [0.4444444444444444, \"#bd3786\"], [0.5555555555555556, \"#d8576b\"], [0.6666666666666666, \"#ed7953\"], [0.7777777777777778, \"#fb9f3a\"], [0.8888888888888888, \"#fdca26\"], [1.0, \"#f0f921\"]], \"type\": \"histogram2dcontour\"}], \"mesh3d\": [{\"colorbar\": {\"outlinewidth\": 0, \"ticks\": \"\"}, \"type\": \"mesh3d\"}], \"parcoords\": [{\"line\": {\"colorbar\": {\"outlinewidth\": 0, \"ticks\": \"\"}}, \"type\": \"parcoords\"}], \"pie\": [{\"automargin\": true, \"type\": \"pie\"}], \"scatter\": [{\"marker\": {\"colorbar\": {\"outlinewidth\": 0, \"ticks\": \"\"}}, \"type\": \"scatter\"}], \"scatter3d\": [{\"line\": {\"colorbar\": {\"outlinewidth\": 0, \"ticks\": \"\"}}, \"marker\": {\"colorbar\": {\"outlinewidth\": 0, \"ticks\": \"\"}}, \"type\": \"scatter3d\"}], \"scattercarpet\": [{\"marker\": {\"colorbar\": {\"outlinewidth\": 0, \"ticks\": \"\"}}, \"type\": \"scattercarpet\"}], \"scattergeo\": [{\"marker\": {\"colorbar\": {\"outlinewidth\": 0, \"ticks\": \"\"}}, \"type\": \"scattergeo\"}], \"scattergl\": [{\"marker\": {\"colorbar\": {\"outlinewidth\": 0, \"ticks\": \"\"}}, \"type\": \"scattergl\"}], \"scattermapbox\": [{\"marker\": {\"colorbar\": {\"outlinewidth\": 0, \"ticks\": \"\"}}, \"type\": \"scattermapbox\"}], \"scatterpolar\": [{\"marker\": {\"colorbar\": {\"outlinewidth\": 0, \"ticks\": \"\"}}, \"type\": \"scatterpolar\"}], \"scatterpolargl\": [{\"marker\": {\"colorbar\": {\"outlinewidth\": 0, \"ticks\": \"\"}}, \"type\": \"scatterpolargl\"}], \"scatterternary\": [{\"marker\": {\"colorbar\": {\"outlinewidth\": 0, \"ticks\": \"\"}}, \"type\": \"scatterternary\"}], \"surface\": [{\"colorbar\": {\"outlinewidth\": 0, \"ticks\": \"\"}, \"colorscale\": [[0.0, \"#0d0887\"], [0.1111111111111111, \"#46039f\"], [0.2222222222222222, \"#7201a8\"], [0.3333333333333333, \"#9c179e\"], [0.4444444444444444, \"#bd3786\"], [0.5555555555555556, \"#d8576b\"], [0.6666666666666666, \"#ed7953\"], [0.7777777777777778, \"#fb9f3a\"], [0.8888888888888888, \"#fdca26\"], [1.0, \"#f0f921\"]], \"type\": \"surface\"}], \"table\": [{\"cells\": {\"fill\": {\"color\": \"#EBF0F8\"}, \"line\": {\"color\": \"white\"}}, \"header\": {\"fill\": {\"color\": \"#C8D4E3\"}, \"line\": {\"color\": \"white\"}}, \"type\": \"table\"}]}, \"layout\": {\"annotationdefaults\": {\"arrowcolor\": \"#2a3f5f\", \"arrowhead\": 0, \"arrowwidth\": 1}, \"autotypenumbers\": \"strict\", \"coloraxis\": {\"colorbar\": {\"outlinewidth\": 0, \"ticks\": \"\"}}, \"colorscale\": {\"diverging\": [[0, \"#8e0152\"], [0.1, \"#c51b7d\"], [0.2, \"#de77ae\"], [0.3, \"#f1b6da\"], [0.4, \"#fde0ef\"], [0.5, \"#f7f7f7\"], [0.6, \"#e6f5d0\"], [0.7, \"#b8e186\"], [0.8, \"#7fbc41\"], [0.9, \"#4d9221\"], [1, \"#276419\"]], \"sequential\": [[0.0, \"#0d0887\"], [0.1111111111111111, \"#46039f\"], [0.2222222222222222, \"#7201a8\"], [0.3333333333333333, \"#9c179e\"], [0.4444444444444444, \"#bd3786\"], [0.5555555555555556, \"#d8576b\"], [0.6666666666666666, \"#ed7953\"], [0.7777777777777778, \"#fb9f3a\"], [0.8888888888888888, \"#fdca26\"], [1.0, \"#f0f921\"]], \"sequentialminus\": [[0.0, \"#0d0887\"], [0.1111111111111111, \"#46039f\"], [0.2222222222222222, \"#7201a8\"], [0.3333333333333333, \"#9c179e\"], [0.4444444444444444, \"#bd3786\"], [0.5555555555555556, \"#d8576b\"], [0.6666666666666666, \"#ed7953\"], [0.7777777777777778, \"#fb9f3a\"], [0.8888888888888888, \"#fdca26\"], [1.0, \"#f0f921\"]]}, \"colorway\": [\"#636efa\", \"#EF553B\", \"#00cc96\", \"#ab63fa\", \"#FFA15A\", \"#19d3f3\", \"#FF6692\", \"#B6E880\", \"#FF97FF\", \"#FECB52\"], \"font\": {\"color\": \"#2a3f5f\"}, \"geo\": {\"bgcolor\": \"white\", \"lakecolor\": \"white\", \"landcolor\": \"white\", \"showlakes\": true, \"showland\": true, \"subunitcolor\": \"#C8D4E3\"}, \"hoverlabel\": {\"align\": \"left\"}, \"hovermode\": \"closest\", \"mapbox\": {\"style\": \"light\"}, \"paper_bgcolor\": \"white\", \"plot_bgcolor\": \"white\", \"polar\": {\"angularaxis\": {\"gridcolor\": \"#EBF0F8\", \"linecolor\": \"#EBF0F8\", \"ticks\": \"\"}, \"bgcolor\": \"white\", \"radialaxis\": {\"gridcolor\": \"#EBF0F8\", \"linecolor\": \"#EBF0F8\", \"ticks\": \"\"}}, \"scene\": {\"xaxis\": {\"backgroundcolor\": \"white\", \"gridcolor\": \"#DFE8F3\", \"gridwidth\": 2, \"linecolor\": \"#EBF0F8\", \"showbackground\": true, \"ticks\": \"\", \"zerolinecolor\": \"#EBF0F8\"}, \"yaxis\": {\"backgroundcolor\": \"white\", \"gridcolor\": \"#DFE8F3\", \"gridwidth\": 2, \"linecolor\": \"#EBF0F8\", \"showbackground\": true, \"ticks\": \"\", \"zerolinecolor\": \"#EBF0F8\"}, \"zaxis\": {\"backgroundcolor\": \"white\", \"gridcolor\": \"#DFE8F3\", \"gridwidth\": 2, \"linecolor\": \"#EBF0F8\", \"showbackground\": true, \"ticks\": \"\", \"zerolinecolor\": \"#EBF0F8\"}}, \"shapedefaults\": {\"line\": {\"color\": \"#2a3f5f\"}}, \"ternary\": {\"aaxis\": {\"gridcolor\": \"#DFE8F3\", \"linecolor\": \"#A2B1C6\", \"ticks\": \"\"}, \"baxis\": {\"gridcolor\": \"#DFE8F3\", \"linecolor\": \"#A2B1C6\", \"ticks\": \"\"}, \"bgcolor\": \"white\", \"caxis\": {\"gridcolor\": \"#DFE8F3\", \"linecolor\": \"#A2B1C6\", \"ticks\": \"\"}}, \"title\": {\"x\": 0.05}, \"xaxis\": {\"automargin\": true, \"gridcolor\": \"#EBF0F8\", \"linecolor\": \"#EBF0F8\", \"ticks\": \"\", \"title\": {\"standoff\": 15}, \"zerolinecolor\": \"#EBF0F8\", \"zerolinewidth\": 2}, \"yaxis\": {\"automargin\": true, \"gridcolor\": \"#EBF0F8\", \"linecolor\": \"#EBF0F8\", \"ticks\": \"\", \"title\": {\"standoff\": 15}, \"zerolinecolor\": \"#EBF0F8\", \"zerolinewidth\": 2}}}, \"title\": {\"text\": \"[2021-03-31 16:19:41 PM] Episode: 2/2 Step: 101/200\"}, \"xaxis\": {\"anchor\": \"y\", \"domain\": [0.0, 1.0], \"gridcolor\": \"Gainsboro\", \"linecolor\": \"Grey\", \"matches\": \"x4\", \"rangeslider\": {\"visible\": false}, \"showticklabels\": false, \"title\": {\"font\": {\"size\": 12}, \"standoff\": 7, \"text\": \"Price\"}}, \"xaxis2\": {\"anchor\": \"y2\", \"domain\": [0.0, 1.0], \"gridcolor\": \"Gainsboro\", \"linecolor\": \"Grey\", \"matches\": \"x4\", \"showticklabels\": false, \"title\": {\"font\": {\"size\": 12}, \"standoff\": 7, \"text\": \"Volume\"}}, \"xaxis3\": {\"anchor\": \"y3\", \"domain\": [0.0, 1.0], \"gridcolor\": \"Gainsboro\", \"linecolor\": \"Grey\", \"matches\": \"x4\", \"showticklabels\": false, \"title\": {\"font\": {\"size\": 12}, \"standoff\": 7, \"text\": \"Performance\"}}, \"xaxis4\": {\"anchor\": \"y4\", \"domain\": [0.0, 1.0], \"gridcolor\": \"Gainsboro\", \"linecolor\": \"Grey\", \"title\": {\"font\": {\"size\": 12}, \"standoff\": 7, \"text\": \"Net Worth\"}}, \"yaxis\": {\"anchor\": \"x\", \"domain\": [0.49950000000000006, 1.0], \"gridcolor\": \"Gainsboro\", \"linecolor\": \"Grey\"}, \"yaxis2\": {\"anchor\": \"x2\", \"domain\": [0.333, 0.46950000000000003], \"gridcolor\": \"Gainsboro\", \"linecolor\": \"Grey\"}, \"yaxis3\": {\"anchor\": \"x3\", \"domain\": [0.1665, 0.30300000000000005], \"gridcolor\": \"Gainsboro\", \"linecolor\": \"Grey\"}, \"yaxis4\": {\"anchor\": \"x4\", \"domain\": [0.0, 0.1365], \"gridcolor\": \"Gainsboro\", \"linecolor\": \"Grey\"}},                        {\"responsive\": true}                    ).then(function(){\n                            \nvar gd = document.getElementById('f0f74bff-a123-4a70-b128-86bcf3f308f9');\nvar x = new MutationObserver(function (mutations, observer) {{\n        var display = window.getComputedStyle(gd).display;\n        if (!display || display === 'none') {{\n            console.log([gd, 'removed!']);\n            Plotly.purge(gd);\n            observer.disconnect();\n        }}\n}});\n\n// Listen for the removal of the full notebook cells\nvar notebookContainer = gd.closest('#notebook-container');\nif (notebookContainer) {{\n    x.observe(notebookContainer, {childList: true});\n}}\n\n// Listen for the clearing of the current output cell\nvar outputEl = gd.closest('.output');\nif (outputEl) {{\n    x.observe(outputEl, {childList: true});\n}}\n\n                        })                };                });            </script>        </div>"
     },
     "metadata": {},
     "output_type": "display_data"
    },
    {
     "data": {
      "text/plain": "FigureWidget({\n    'data': [{'close': array([8740.99, 8739.  , 8728.49, 8708.32, 8795.9 , 8760.  , 8760.  , 87…",
      "application/vnd.jupyter.widget-view+json": {
       "version_major": 2,
       "version_minor": 0,
       "model_id": "5ceb3937aefb4bd7accb5215a8d44617"
      }
     },
     "metadata": {},
     "output_type": "display_data"
    },
    {
     "data": {
      "application/vnd.plotly.v1+json": {
       "config": {
        "plotlyServerURL": "https://plot.ly"
       },
       "data": [
        {
         "close": [
          8740.99,
          8739.0,
          8728.49,
          8708.32,
          8795.9,
          8760.0,
          8760.0,
          8759.23,
          8517.77,
          8520.3,
          8535.23,
          8546.34,
          8526.65,
          8555.6,
          8512.1,
          8492.28,
          8460.0,
          8474.99,
          8455.92,
          8326.28,
          8133.43,
          8164.79,
          8229.38,
          8220.4,
          8238.8,
          8232.99,
          8207.48,
          8243.45,
          8371.13,
          8373.0,
          8365.08,
          8179.99,
          8225.0,
          8285.8,
          8273.4,
          8297.4,
          8279.89,
          8252.72,
          8302.18,
          8295.85,
          8277.25,
          8346.59,
          8358.3,
          8375.1,
          8368.62,
          8366.72,
          8314.77,
          8363.7,
          8344.16,
          8247.4,
          8277.4,
          8291.67,
          8307.89,
          8298.9,
          8269.47,
          8300.98,
          8318.49,
          8306.39,
          8276.43,
          8257.69,
          8166.0,
          8176.33,
          8200.7,
          8155.41,
          8080.0,
          8067.03,
          7958.08,
          7974.25,
          7998.5,
          7991.99,
          8022.7,
          8042.97,
          7965.67,
          8088.95,
          8122.19,
          8107.99,
          8137.73,
          8115.0,
          8107.0,
          8094.4,
          8080.01,
          8117.09,
          8126.99,
          8110.95,
          8215.39,
          8231.42,
          8240.13,
          8235.0,
          8219.9,
          8248.87,
          8213.5,
          8200.99,
          8200.0,
          8237.3,
          8228.13,
          8240.83,
          8214.9,
          8170.07,
          8229.87,
          8205.87,
          8252.56,
          8365.0,
          8348.65,
          8303.99,
          8310.48,
          8310.0,
          8289.87,
          8304.99,
          8301.35,
          8313.12,
          8240.07,
          8199.99,
          8226.98,
          8231.2,
          8198.89,
          8215.85,
          8279.99,
          8255.08,
          8270.4,
          8244.24,
          8239.12,
          8267.14,
          8282.27,
          8350.62,
          8336.6,
          8336.91,
          8311.21,
          8312.09,
          8345.19,
          8377.2,
          8481.11,
          8516.36,
          8524.0,
          8517.04,
          8558.5,
          8521.99,
          8484.93,
          8518.48,
          8488.99,
          8466.72,
          8492.55,
          8494.28,
          8510.95,
          8498.64,
          8551.1,
          8524.22,
          8510.11,
          8475.62,
          8476.58,
          8467.13,
          8499.84
         ],
         "high": [
          8796.68,
          8766.0,
          8750.27,
          8754.4,
          8865.0,
          8821.19,
          8798.6,
          8771.02,
          8761.7,
          8553.67,
          8589.1,
          8579.48,
          8555.51,
          8583.6,
          8569.92,
          8555.54,
          8557.51,
          8505.0,
          8505.33,
          8478.29,
          8339.81,
          8217.44,
          8252.72,
          8248.63,
          8267.12,
          8255.0,
          8261.24,
          8263.93,
          8455.66,
          8439.44,
          8399.1,
          8381.73,
          8229.91,
          8377.29,
          8329.1,
          8350.0,
          8346.95,
          8377.29,
          8311.35,
          8319.96,
          8398.24,
          8372.58,
          8399.99,
          8386.53,
          8400.0,
          8500.0,
          8381.0,
          8371.3,
          8382.41,
          8351.0,
          8292.99,
          8325.8,
          8318.99,
          8324.9,
          8335.56,
          8309.4,
          8377.29,
          8330.41,
          8328.23,
          8284.36,
          8274.83,
          8200.0,
          8232.14,
          8213.97,
          8155.41,
          8108.28,
          8068.92,
          8019.9,
          8026.66,
          8025.0,
          8104.69,
          8061.39,
          8045.99,
          8170.71,
          8144.16,
          8139.99,
          8152.99,
          8137.73,
          8143.72,
          8129.99,
          8106.76,
          8139.0,
          8152.04,
          8146.99,
          8232.14,
          8275.1,
          8256.12,
          8274.1,
          8255.8,
          8253.97,
          8261.09,
          8235.76,
          8227.0,
          8273.36,
          8264.21,
          8250.0,
          8250.86,
          8235.77,
          8232.12,
          8232.14,
          8252.72,
          8370.0,
          8395.0,
          8374.48,
          8331.0,
          8319.43,
          8323.4,
          8314.55,
          8330.62,
          8314.8,
          8323.99,
          8263.03,
          8247.78,
          8253.75,
          8237.89,
          8235.0,
          8279.99,
          8290.0,
          8278.71,
          8275.34,
          8279.31,
          8279.98,
          8294.04,
          8356.4,
          8374.94,
          8354.83,
          8360.45,
          8337.14,
          8351.97,
          8377.29,
          8549.0,
          8531.9,
          8551.79,
          8529.9,
          8590.0,
          8576.1,
          8549.89,
          8531.89,
          8550.0,
          8493.29,
          8522.98,
          8517.0,
          8537.29,
          8524.51,
          8589.1,
          8589.07,
          8536.92,
          8524.03,
          8497.8,
          8498.0,
          8513.5
         ],
         "low": [
          8707.28,
          8721.11,
          8660.53,
          8701.35,
          8695.11,
          8740.54,
          8741.52,
          8700.0,
          8467.42,
          8477.89,
          8500.78,
          8500.0,
          8400.0,
          8451.05,
          8461.38,
          8481.24,
          8420.37,
          8450.0,
          8430.94,
          8275.02,
          8100.01,
          8122.56,
          8157.01,
          8166.25,
          8176.91,
          8213.79,
          8200.0,
          8207.48,
          8237.1,
          8370.0,
          8356.4,
          8145.1,
          8173.6,
          8211.8,
          8201.0,
          8250.9,
          8266.46,
          8252.72,
          8232.14,
          8268.37,
          8277.25,
          8277.25,
          8314.78,
          8314.77,
          8350.07,
          8331.39,
          8314.77,
          8275.45,
          8335.49,
          8191.14,
          8227.7,
          8264.13,
          8249.93,
          8269.52,
          8219.44,
          8262.68,
          8286.65,
          8289.87,
          8232.14,
          8232.14,
          8110.02,
          8154.95,
          8168.6,
          8151.0,
          7980.0,
          8005.95,
          7929.53,
          7931.03,
          7950.0,
          7980.58,
          7991.99,
          7992.75,
          7953.4,
          7965.67,
          8085.94,
          8078.48,
          8092.9,
          8049.22,
          8079.46,
          8062.12,
          8043.96,
          8063.1,
          8088.46,
          8094.43,
          8088.46,
          8191.14,
          8212.0,
          8224.5,
          8211.0,
          8211.01,
          8210.03,
          8158.27,
          8177.65,
          8179.41,
          8221.92,
          8217.32,
          8213.52,
          8141.08,
          8146.1,
          8186.03,
          8197.09,
          8231.21,
          8323.82,
          8296.0,
          8296.31,
          8282.65,
          8280.0,
          8273.36,
          8290.08,
          8277.93,
          8240.07,
          8191.14,
          8178.0,
          8193.7,
          8180.0,
          8170.71,
          8215.53,
          8240.02,
          8237.17,
          8237.17,
          8239.12,
          8227.79,
          8247.57,
          8274.24,
          8326.1,
          8320.61,
          8281.31,
          8269.85,
          8311.16,
          8336.11,
          8369.86,
          8471.51,
          8511.0,
          8476.66,
          8507.68,
          8509.24,
          8482.53,
          8484.93,
          8450.0,
          8434.47,
          8461.1,
          8481.0,
          8480.0,
          8488.1,
          8471.09,
          8509.2,
          8482.64,
          8469.0,
          8440.4,
          8440.52,
          8461.8
         ],
         "name": "Price",
         "open": [
          8733.86,
          8740.99,
          8739.0,
          8728.49,
          8708.32,
          8795.9,
          8760.0,
          8760.0,
          8759.23,
          8517.77,
          8520.3,
          8535.23,
          8546.34,
          8526.65,
          8555.6,
          8512.1,
          8492.28,
          8460.0,
          8474.99,
          8455.92,
          8326.28,
          8133.43,
          8164.79,
          8229.38,
          8220.4,
          8238.8,
          8232.99,
          8207.48,
          8243.45,
          8371.13,
          8373.0,
          8365.08,
          8179.99,
          8225.0,
          8285.8,
          8273.4,
          8297.4,
          8279.89,
          8252.72,
          8302.18,
          8295.85,
          8277.25,
          8346.59,
          8358.3,
          8375.1,
          8368.62,
          8366.72,
          8314.77,
          8363.7,
          8344.16,
          8247.4,
          8277.4,
          8291.67,
          8307.89,
          8298.9,
          8269.47,
          8300.98,
          8318.49,
          8306.39,
          8276.43,
          8257.69,
          8166.0,
          8176.33,
          8200.7,
          8155.41,
          8080.0,
          8067.03,
          7958.08,
          7974.25,
          7998.5,
          7991.99,
          8022.7,
          8042.97,
          7965.67,
          8088.95,
          8122.19,
          8107.99,
          8137.73,
          8115.0,
          8107.0,
          8094.4,
          8080.01,
          8117.09,
          8126.99,
          8110.95,
          8215.39,
          8231.42,
          8240.13,
          8235.0,
          8219.9,
          8248.87,
          8213.5,
          8200.99,
          8200.0,
          8237.3,
          8228.13,
          8240.83,
          8214.9,
          8170.07,
          8229.87,
          8205.87,
          8252.56,
          8365.0,
          8348.65,
          8303.99,
          8310.48,
          8310.0,
          8289.87,
          8304.99,
          8301.35,
          8313.12,
          8240.07,
          8199.99,
          8226.98,
          8231.2,
          8198.89,
          8215.85,
          8279.99,
          8255.08,
          8270.4,
          8244.24,
          8239.12,
          8267.14,
          8282.27,
          8350.62,
          8336.6,
          8336.91,
          8311.21,
          8312.09,
          8345.19,
          8377.2,
          8481.11,
          8516.36,
          8524.0,
          8517.04,
          8558.5,
          8521.99,
          8484.93,
          8518.48,
          8488.99,
          8466.72,
          8492.55,
          8494.28,
          8510.95,
          8498.64,
          8551.1,
          8524.22,
          8510.11,
          8475.62,
          8476.58,
          8467.13
         ],
         "showlegend": false,
         "type": "candlestick",
         "uid": "0731bd14-fe30-4ad1-96ba-551ccc3d56c2",
         "xaxis": "x",
         "yaxis": "y"
        },
        {
         "marker": {
          "color": "DodgerBlue"
         },
         "name": "Volume",
         "showlegend": false,
         "type": "bar",
         "uid": "391f75b1-d2aa-40b4-917f-b27b916252fb",
         "xaxis": "x2",
         "y": [
          559.93,
          273.58,
          917.79,
          182.62,
          1260.69,
          324.11,
          324.2,
          730.67,
          1341.75,
          792.07,
          385.69,
          475.08,
          877.26,
          670.49,
          610.97,
          168.99,
          305.92,
          136.05,
          154.26,
          1070.93,
          1710.2,
          492.8,
          630.72,
          620.93,
          586.34,
          304.52,
          450.97,
          182.36,
          915.32,
          319.29,
          362.01,
          1046.38,
          357.91,
          561.2,
          322.53,
          1073.71,
          237.21,
          251.2,
          359.73,
          117.23,
          363.17,
          214.18,
          171.64,
          258.58,
          299.52,
          718.98,
          119.7,
          405.25,
          210.77,
          714.82,
          215.97,
          164.2,
          201.55,
          203.41,
          886.82,
          95.49,
          499.67,
          172.77,
          355.39,
          255.27,
          591.06,
          133.1,
          149.13,
          87.55,
          1061.54,
          286.94,
          524.42,
          316.0,
          441.43,
          189.7,
          844.94,
          155.34,
          257.56,
          610.69,
          217.97,
          173.18,
          218.06,
          372.97,
          484.39,
          248.1,
          162.35,
          303.42,
          290.69,
          160.93,
          369.4,
          487.27,
          93.35,
          96.68,
          72.14,
          90.22,
          168.52,
          203.15,
          71.42,
          464.56,
          57.0,
          89.42,
          49.47,
          200.05,
          254.37,
          65.05,
          118.19,
          452.4,
          181.03,
          288.04,
          145.78,
          110.14,
          55.48,
          80.87,
          67.01,
          59.16,
          121.26,
          244.37,
          156.87,
          80.48,
          139.32,
          93.52,
          200.23,
          97.4,
          68.08,
          47.0,
          36.65,
          28.75,
          182.85,
          400.18,
          288.1,
          182.94,
          777.81,
          493.59,
          118.63,
          174.37,
          901.75,
          222.45,
          113.8,
          84.2,
          261.44,
          168.78,
          111.07,
          122.12,
          267.32,
          210.39,
          211.36,
          146.22,
          93.39,
          89.04,
          307.59,
          307.2,
          164.24,
          151.21,
          399.77,
          362.01,
          260.85
         ],
         "yaxis": "y2"
        },
        {
         "mode": "lines",
         "name": "bitstamp:/USD-BTC",
         "type": "scatter",
         "uid": "2f79b682-a0c5-4a58-b299-e065a721e121",
         "xaxis": "x3",
         "y": [
          8740.99,
          8739.0,
          8728.49,
          8708.32,
          8795.9,
          8760.0,
          8760.0,
          8759.23,
          8517.77,
          8520.3,
          8535.23,
          8546.34,
          8526.65,
          8555.6,
          8512.1,
          8492.28,
          8460.0,
          8474.99,
          8455.92,
          8326.28,
          8133.43,
          8164.79,
          8229.38,
          8220.4,
          8238.8,
          8232.99,
          8207.48,
          8243.45,
          8371.13,
          8373.0,
          8365.08,
          8179.99,
          8225.0,
          8285.8,
          8273.4,
          8297.4,
          8279.89,
          8252.72,
          8302.18,
          8295.85,
          8277.25,
          8346.59,
          8358.3,
          8375.1,
          8368.62,
          8366.72,
          8314.77,
          8363.7,
          8344.16,
          8247.4,
          8277.4,
          8291.67,
          8307.89,
          8298.9,
          8269.47,
          8300.98,
          8318.49,
          8306.39,
          8276.43,
          8257.69,
          8166.0,
          8176.33,
          8200.7,
          8155.41,
          8080.0,
          8067.03,
          7958.08,
          7974.25,
          7998.5,
          7991.99,
          8022.7,
          8042.97,
          7965.67,
          8088.95,
          8122.19,
          8107.99,
          8137.73,
          8115.0,
          8107.0,
          8094.4,
          8080.01,
          8117.09,
          8126.99,
          8110.95,
          8215.39,
          8231.42,
          8240.13,
          8235.0,
          8219.9,
          8248.87,
          8213.5,
          8200.99,
          8200.0,
          8237.3,
          8228.13,
          8240.83,
          8214.9,
          8170.07,
          8229.87,
          8205.87,
          8252.56,
          8365.0,
          8348.65,
          8303.99,
          8310.48,
          8310.0,
          8289.87,
          8304.99,
          8301.35,
          8313.12,
          8240.07,
          8199.99,
          8226.98,
          8231.2,
          8198.89,
          8215.85,
          8279.99,
          8255.08,
          8270.4,
          8244.24,
          8239.12,
          8267.14,
          8282.27,
          8350.62,
          8336.6,
          8336.91,
          8311.21,
          8312.09,
          8345.19,
          8377.2,
          8481.11,
          8516.36,
          8524.0,
          8517.04,
          8558.5,
          8521.99,
          8484.93,
          8518.48,
          8488.99,
          8466.72,
          8492.55,
          8494.28,
          8510.95,
          8498.64,
          8551.1,
          8524.22,
          8510.11,
          8475.62,
          8476.58,
          8467.13,
          8499.84
         ],
         "yaxis": "y3"
        },
        {
         "mode": "lines",
         "name": "bitstamp:/USD:/free",
         "type": "scatter",
         "uid": "a9f121fb-8336-4ce1-85b8-8eaa152b2460",
         "xaxis": "x3",
         "y": [
          10000.0,
          5000.0,
          1500.0,
          1500.0,
          1500.0,
          1500.0,
          1500.0,
          1500.0,
          1500.0,
          6343.12,
          3805.87,
          3805.87,
          3805.87,
          3805.87,
          3805.87,
          3805.87,
          3805.87,
          3805.87,
          3805.87,
          3805.87,
          7120.6,
          9528.14,
          9528.14,
          9528.14,
          9528.14,
          9528.14,
          9528.14,
          9528.14,
          2858.44,
          2858.44,
          2858.44,
          2858.44,
          2858.44,
          2858.44,
          2858.44,
          2858.44,
          2858.44,
          2858.44,
          2858.44,
          2858.44,
          2858.44,
          2858.44,
          2858.44,
          571.69,
          571.69,
          571.69,
          571.69,
          571.69,
          571.69,
          571.69,
          571.69,
          571.69,
          571.69,
          571.69,
          571.69,
          571.69,
          571.69,
          571.69,
          571.69,
          571.69,
          571.69,
          571.69,
          571.69,
          571.69,
          571.69,
          571.69,
          571.69,
          571.69,
          571.69,
          571.69,
          571.69,
          571.69,
          571.69,
          571.69,
          571.69,
          571.69,
          571.69,
          571.69,
          571.69,
          571.69,
          571.69,
          571.69,
          571.69,
          571.69,
          571.69,
          571.69,
          571.69,
          571.69,
          571.69,
          571.69,
          571.69,
          571.69,
          571.69,
          571.69,
          571.69,
          571.69,
          571.69,
          571.69,
          571.69,
          571.69,
          571.69,
          571.69,
          571.69,
          571.69,
          571.69,
          571.69,
          571.69,
          571.69,
          571.69,
          571.69,
          571.69,
          571.69,
          571.69,
          571.69,
          571.69,
          571.69,
          571.69,
          571.69,
          571.69,
          571.69,
          571.69,
          571.69,
          571.69,
          571.69,
          571.69,
          571.69,
          571.69,
          571.69,
          571.69,
          571.69,
          571.69,
          7392.57,
          9708.6,
          9708.6,
          3883.44,
          3883.44,
          3883.44,
          3883.44,
          3883.44,
          3883.44,
          3883.44,
          3883.44,
          3883.44,
          3883.44,
          3883.44,
          3883.44,
          1165.03,
          1165.03,
          1165.03,
          1165.03,
          1165.03
         ],
         "yaxis": "y3"
        },
        {
         "mode": "lines",
         "name": "bitstamp:/USD:/locked",
         "type": "scatter",
         "uid": "601870c1-66ac-4116-83ce-e0fc7b55621e",
         "xaxis": "x3",
         "y": [
          0.0,
          0.0,
          0.0,
          0.0,
          0.0,
          0.0,
          0.0,
          0.0,
          0.0,
          0.0,
          0.0,
          0.0,
          0.0,
          0.0,
          0.0,
          0.0,
          0.0,
          0.0,
          0.0,
          0.0,
          0.0,
          0.0,
          0.0,
          0.0,
          0.0,
          0.0,
          0.0,
          0.0,
          0.0,
          0.0,
          0.0,
          0.0,
          0.0,
          0.0,
          0.0,
          0.0,
          0.0,
          0.0,
          0.0,
          0.0,
          0.0,
          0.0,
          0.0,
          0.0,
          0.0,
          0.0,
          0.0,
          0.0,
          0.0,
          0.0,
          0.0,
          0.0,
          0.0,
          0.0,
          0.0,
          0.0,
          0.0,
          0.0,
          0.0,
          0.0,
          0.0,
          0.0,
          0.0,
          0.0,
          0.0,
          0.0,
          0.0,
          0.0,
          0.0,
          0.0,
          0.0,
          0.0,
          0.0,
          0.0,
          0.0,
          0.0,
          0.0,
          0.0,
          0.0,
          0.0,
          0.0,
          0.0,
          0.0,
          0.0,
          0.0,
          0.0,
          0.0,
          0.0,
          0.0,
          0.0,
          0.0,
          0.0,
          0.0,
          0.0,
          0.0,
          0.0,
          0.0,
          0.0,
          0.0,
          0.0,
          0.0,
          0.0,
          0.0,
          0.0,
          0.0,
          0.0,
          0.0,
          0.0,
          0.0,
          0.0,
          0.0,
          0.0,
          0.0,
          0.0,
          0.0,
          0.0,
          0.0,
          0.0,
          0.0,
          0.0,
          0.0,
          0.0,
          0.0,
          0.0,
          0.0,
          0.0,
          0.0,
          0.0,
          0.0,
          0.0,
          0.0,
          0.0,
          0.0,
          0.0,
          0.0,
          0.0,
          0.0,
          0.0,
          0.0,
          0.0,
          0.0,
          0.0,
          0.0,
          0.0,
          0.0,
          0.0,
          0.0,
          0.0,
          0.0,
          0.0,
          0.0
         ],
         "yaxis": "y3"
        },
        {
         "mode": "lines",
         "name": "bitstamp:/USD:/total",
         "type": "scatter",
         "uid": "2c681579-e45b-4a8f-afef-4ab343f9a74a",
         "xaxis": "x3",
         "y": [
          10000.0,
          5000.0,
          1500.0,
          1500.0,
          1500.0,
          1500.0,
          1500.0,
          1500.0,
          1500.0,
          6343.12,
          3805.87,
          3805.87,
          3805.87,
          3805.87,
          3805.87,
          3805.87,
          3805.87,
          3805.87,
          3805.87,
          3805.87,
          7120.6,
          9528.14,
          9528.14,
          9528.14,
          9528.14,
          9528.14,
          9528.14,
          9528.14,
          2858.44,
          2858.44,
          2858.44,
          2858.44,
          2858.44,
          2858.44,
          2858.44,
          2858.44,
          2858.44,
          2858.44,
          2858.44,
          2858.44,
          2858.44,
          2858.44,
          2858.44,
          571.69,
          571.69,
          571.69,
          571.69,
          571.69,
          571.69,
          571.69,
          571.69,
          571.69,
          571.69,
          571.69,
          571.69,
          571.69,
          571.69,
          571.69,
          571.69,
          571.69,
          571.69,
          571.69,
          571.69,
          571.69,
          571.69,
          571.69,
          571.69,
          571.69,
          571.69,
          571.69,
          571.69,
          571.69,
          571.69,
          571.69,
          571.69,
          571.69,
          571.69,
          571.69,
          571.69,
          571.69,
          571.69,
          571.69,
          571.69,
          571.69,
          571.69,
          571.69,
          571.69,
          571.69,
          571.69,
          571.69,
          571.69,
          571.69,
          571.69,
          571.69,
          571.69,
          571.69,
          571.69,
          571.69,
          571.69,
          571.69,
          571.69,
          571.69,
          571.69,
          571.69,
          571.69,
          571.69,
          571.69,
          571.69,
          571.69,
          571.69,
          571.69,
          571.69,
          571.69,
          571.69,
          571.69,
          571.69,
          571.69,
          571.69,
          571.69,
          571.69,
          571.69,
          571.69,
          571.69,
          571.69,
          571.69,
          571.69,
          571.69,
          571.69,
          571.69,
          571.69,
          571.69,
          7392.57,
          9708.6,
          9708.6,
          3883.44,
          3883.44,
          3883.44,
          3883.44,
          3883.44,
          3883.44,
          3883.44,
          3883.44,
          3883.44,
          3883.44,
          3883.44,
          3883.44,
          1165.03,
          1165.03,
          1165.03,
          1165.03,
          1165.03
         ],
         "yaxis": "y3"
        },
        {
         "mode": "lines",
         "name": "bitstamp:/BTC:/free",
         "type": "scatter",
         "uid": "692d2628-0225-446b-884c-8082509c661b",
         "xaxis": "x3",
         "y": [
          10.0,
          10.0,
          10.0,
          10.0,
          10.0,
          10.0,
          10.0,
          10.0,
          10.0,
          10.0,
          10.0,
          10.0,
          10.0,
          10.0,
          10.0,
          10.0,
          10.0,
          10.0,
          10.0,
          10.0,
          10.0,
          10.0,
          10.0,
          10.0,
          10.0,
          10.0,
          10.0,
          10.0,
          10.0,
          10.0,
          10.0,
          10.0,
          10.0,
          10.0,
          10.0,
          10.0,
          10.0,
          10.0,
          10.0,
          10.0,
          10.0,
          10.0,
          10.0,
          10.0,
          10.0,
          10.0,
          10.0,
          10.0,
          10.0,
          10.0,
          10.0,
          10.0,
          10.0,
          10.0,
          10.0,
          10.0,
          10.0,
          10.0,
          10.0,
          10.0,
          10.0,
          10.0,
          10.0,
          10.0,
          10.0,
          10.0,
          10.0,
          10.0,
          10.0,
          10.0,
          10.0,
          10.0,
          10.0,
          10.0,
          10.0,
          10.0,
          10.0,
          10.0,
          10.0,
          10.0,
          10.0,
          10.0,
          10.0,
          10.0,
          10.0,
          10.0,
          10.0,
          10.0,
          10.0,
          10.0,
          10.0,
          10.0,
          10.0,
          10.0,
          10.0,
          10.0,
          10.0,
          10.0,
          10.0,
          10.0,
          10.0,
          10.0,
          10.0,
          10.0,
          10.0,
          10.0,
          10.0,
          10.0,
          10.0,
          10.0,
          10.0,
          10.0,
          10.0,
          10.0,
          10.0,
          10.0,
          10.0,
          10.0,
          10.0,
          10.0,
          10.0,
          10.0,
          10.0,
          10.0,
          10.0,
          10.0,
          10.0,
          10.0,
          10.0,
          10.0,
          10.0,
          10.0,
          10.0,
          10.0,
          10.0,
          10.0,
          10.0,
          10.0,
          10.0,
          10.0,
          10.0,
          10.0,
          10.0,
          10.0,
          10.0,
          10.0,
          10.0,
          10.0,
          10.0,
          10.0,
          10.0
         ],
         "yaxis": "y3"
        },
        {
         "mode": "lines",
         "name": "bitstamp:/BTC:/locked",
         "type": "scatter",
         "uid": "e837dc76-37dd-4675-ba8b-277d0e2e7b3e",
         "xaxis": "x3",
         "y": [
          0.0,
          0.57030153,
          0.96960351,
          0.96960351,
          0.96960351,
          0.96960351,
          0.96960351,
          0.96960351,
          0.96960351,
          0.39930198,
          0.69619763,
          0.69619763,
          0.69619763,
          0.69619763,
          0.69619763,
          0.69619763,
          0.69619763,
          0.69619763,
          0.69619763,
          0.69619763,
          0.29689565,
          0.0,
          0.0,
          0.0,
          0.0,
          0.0,
          0.0,
          0.0,
          0.80666347,
          0.80666347,
          0.80666347,
          0.80666347,
          0.80666347,
          0.80666347,
          0.80666347,
          0.80666347,
          0.80666347,
          0.80666347,
          0.80666347,
          0.80666347,
          0.80666347,
          0.80666347,
          0.80666347,
          1.07943305,
          1.07943305,
          1.07943305,
          1.07943305,
          1.07943305,
          1.07943305,
          1.07943305,
          1.07943305,
          1.07943305,
          1.07943305,
          1.07943305,
          1.07943305,
          1.07943305,
          1.07943305,
          1.07943305,
          1.07943305,
          1.07943305,
          1.07943305,
          1.07943305,
          1.07943305,
          1.07943305,
          1.07943305,
          1.07943305,
          1.07943305,
          1.07943305,
          1.07943305,
          1.07943305,
          1.07943305,
          1.07943305,
          1.07943305,
          1.07943305,
          1.07943305,
          1.07943305,
          1.07943305,
          1.07943305,
          1.07943305,
          1.07943305,
          1.07943305,
          1.07943305,
          1.07943305,
          1.07943305,
          1.07943305,
          1.07943305,
          1.07943305,
          1.07943305,
          1.07943305,
          1.07943305,
          1.07943305,
          1.07943305,
          1.07943305,
          1.07943305,
          1.07943305,
          1.07943305,
          1.07943305,
          1.07943305,
          1.07943305,
          1.07943305,
          1.07943305,
          1.07943305,
          1.07943305,
          1.07943305,
          1.07943305,
          1.07943305,
          1.07943305,
          1.07943305,
          1.07943305,
          1.07943305,
          1.07943305,
          1.07943305,
          1.07943305,
          1.07943305,
          1.07943305,
          1.07943305,
          1.07943305,
          1.07943305,
          1.07943305,
          1.07943305,
          1.07943305,
          1.07943305,
          1.07943305,
          1.07943305,
          1.07943305,
          1.07943305,
          1.07943305,
          1.07943305,
          1.07943305,
          1.07943305,
          1.07943305,
          0.27276958,
          0.0,
          0.0,
          0.68188948,
          0.68188948,
          0.68188948,
          0.68188948,
          0.68188948,
          0.68188948,
          0.68188948,
          0.68188948,
          0.68188948,
          0.68188948,
          0.68188948,
          0.68188948,
          0.99983646,
          0.99983646,
          0.99983646,
          0.99983646,
          0.99983646
         ],
         "yaxis": "y3"
        },
        {
         "mode": "lines",
         "name": "bitstamp:/BTC:/total",
         "type": "scatter",
         "uid": "d1a5bb1d-8ac9-46ba-a619-40cf477fdaab",
         "xaxis": "x3",
         "y": [
          10.0,
          10.57030153,
          10.96960351,
          10.96960351,
          10.96960351,
          10.96960351,
          10.96960351,
          10.96960351,
          10.96960351,
          10.39930198,
          10.69619763,
          10.69619763,
          10.69619763,
          10.69619763,
          10.69619763,
          10.69619763,
          10.69619763,
          10.69619763,
          10.69619763,
          10.69619763,
          10.29689565,
          10.0,
          10.0,
          10.0,
          10.0,
          10.0,
          10.0,
          10.0,
          10.80666347,
          10.80666347,
          10.80666347,
          10.80666347,
          10.80666347,
          10.80666347,
          10.80666347,
          10.80666347,
          10.80666347,
          10.80666347,
          10.80666347,
          10.80666347,
          10.80666347,
          10.80666347,
          10.80666347,
          11.07943305,
          11.07943305,
          11.07943305,
          11.07943305,
          11.07943305,
          11.07943305,
          11.07943305,
          11.07943305,
          11.07943305,
          11.07943305,
          11.07943305,
          11.07943305,
          11.07943305,
          11.07943305,
          11.07943305,
          11.07943305,
          11.07943305,
          11.07943305,
          11.07943305,
          11.07943305,
          11.07943305,
          11.07943305,
          11.07943305,
          11.07943305,
          11.07943305,
          11.07943305,
          11.07943305,
          11.07943305,
          11.07943305,
          11.07943305,
          11.07943305,
          11.07943305,
          11.07943305,
          11.07943305,
          11.07943305,
          11.07943305,
          11.07943305,
          11.07943305,
          11.07943305,
          11.07943305,
          11.07943305,
          11.07943305,
          11.07943305,
          11.07943305,
          11.07943305,
          11.07943305,
          11.07943305,
          11.07943305,
          11.07943305,
          11.07943305,
          11.07943305,
          11.07943305,
          11.07943305,
          11.07943305,
          11.07943305,
          11.07943305,
          11.07943305,
          11.07943305,
          11.07943305,
          11.07943305,
          11.07943305,
          11.07943305,
          11.07943305,
          11.07943305,
          11.07943305,
          11.07943305,
          11.07943305,
          11.07943305,
          11.07943305,
          11.07943305,
          11.07943305,
          11.07943305,
          11.07943305,
          11.07943305,
          11.07943305,
          11.07943305,
          11.07943305,
          11.07943305,
          11.07943305,
          11.07943305,
          11.07943305,
          11.07943305,
          11.07943305,
          11.07943305,
          11.07943305,
          11.07943305,
          11.07943305,
          11.07943305,
          10.27276958,
          10.0,
          10.0,
          10.68188948,
          10.68188948,
          10.68188948,
          10.68188948,
          10.68188948,
          10.68188948,
          10.68188948,
          10.68188948,
          10.68188948,
          10.68188948,
          10.68188948,
          10.68188948,
          10.99983646,
          10.99983646,
          10.99983646,
          10.99983646,
          10.99983646
         ],
         "yaxis": "y3"
        },
        {
         "mode": "lines",
         "name": "bitstamp:/BTC:/worth",
         "type": "scatter",
         "uid": "57feb423-417f-4b96-9f78-24885eb5f33b",
         "xaxis": "x3",
         "y": [
          87409.9,
          92373.86507067,
          95748.0745409999,
          95526.8176382032,
          96487.53551360901,
          96093.72674760001,
          96093.72674760001,
          96085.2801528973,
          93436.5596893727,
          88605.172660194,
          91294.50689750489,
          91413.34165317421,
          91202.7335218395,
          91512.388443228,
          91047.103846323,
          90835.10520929641,
          90489.8319498,
          90650.1679522737,
          90446.1914634696,
          89059.5364027164,
          83749.0799865795,
          81647.9,
          82293.79999999999,
          82204.0,
          82388.0,
          82329.9,
          82074.79999999999,
          82434.5,
          90463.9847736211,
          90484.19323431,
          90398.6044596276,
          88398.3991179653,
          88884.80704075,
          89541.85217972599,
          89407.849552698,
          89667.209475978,
          89477.9847986183,
          89184.3677521384,
          89718.8653273646,
          89650.45914759951,
          89449.4552070575,
          90198.7892520673,
          90325.335281301,
          92791.35973705501,
          92719.56501089102,
          92698.514088096,
          92122.93754114851,
          92665.05420028501,
          92448.562078488,
          91376.51613657,
          91708.89912807,
          91867.0026376935,
          92046.7110417645,
          91947.106938645,
          91621.03922398349,
          91970.15215938899,
          92164.1530320945,
          92030.09189218949,
          91698.15207801151,
          91490.52350265451,
          90474.6502863,
          90589.1008297065,
          90859.10661313501,
          90357.3190903005,
          89521.819044,
          89378.1187973415,
          88171.014566544,
          88350.1689989625,
          88618.845250425,
          88546.7181412695,
          88886.96753023501,
          89111.5476381585,
          88255.1074633935,
          89620.9799697975,
          89989.2603243795,
          89831.9323750695,
          90161.4347139765,
          89909.59920075,
          89820.96373635001,
          89681.36287992,
          89521.9298383305,
          89932.75521582451,
          90042.4416030195,
          89864.7274968975,
          91021.8634846395,
          91199.466796431,
          91295.9686582965,
          91239.13116675,
          91071.831727695,
          91392.80290315351,
          91000.923356175,
          90862.3196487195,
          90851.35101,
          91264.61386276499,
          91163.0154616965,
          91303.7242614315,
          91016.43456244499,
          90519.7435788135,
          91182.29367520352,
          90916.38728200352,
          91433.686011108,
          92679.45746325,
          92498.3087328825,
          92003.50125286951,
          92075.406773364,
          92070.0886455,
          91847.0596582035,
          92014.5806859195,
          91974.2515496175,
          92104.65647661602,
          91295.3038923135,
          90851.2402156695,
          91150.274113689,
          91197.02932116001,
          90839.05283931449,
          91026.9600238425,
          91737.5948596695,
          91461.606182394,
          91631.34309672,
          91341.505128132,
          91284.77843091602,
          91595.224144977,
          91762.85596702351,
          92520.13521599102,
          92364.80156463,
          92368.2361888755,
          92083.4947594905,
          92093.2446605745,
          92459.97389452951,
          92814.62654646001,
          93965.89043468551,
          87486.6039403288,
          85240.0,
          85170.40000000001,
          91420.95111458,
          91030.9553296652,
          90635.0845055364,
          90993.4618975904,
          90678.4529768252,
          90440.5672981056,
          90716.480503374,
          90734.96017217441,
          90913.02726980601,
          90781.5332103072,
          91341.90513242802,
          91054.7759432056,
          93609.8182566106,
          93230.4338971052,
          93240.99374010679,
          93137.04528555978,
          93496.8499361664
         ],
         "yaxis": "y3"
        },
        {
         "mode": "lines",
         "name": "net_worth",
         "type": "scatter",
         "uid": "146c3e5b-f3a7-4ad0-9809-7bb21b54aa57",
         "xaxis": "x3",
         "y": [
          97409.9,
          97373.86507067,
          97248.0745409999,
          97026.8176382032,
          97987.53551360901,
          97593.72674760001,
          97593.72674760001,
          97585.2801528973,
          94936.5596893727,
          94948.292660194,
          95100.37689750489,
          95219.2116531742,
          95008.6035218395,
          95318.258443228,
          94852.973846323,
          94640.9752092964,
          94295.7019498,
          94456.03795227369,
          94252.0614634696,
          92865.4064027164,
          90869.6799865795,
          91176.04,
          91821.93999999999,
          91732.14,
          91916.14,
          91858.04,
          91602.93999999999,
          91962.64,
          93322.4247736211,
          93342.63323431001,
          93257.0444596276,
          91256.8391179653,
          91743.24704075001,
          92400.29217972599,
          92266.289552698,
          92525.649475978,
          92336.4247986183,
          92042.8077521384,
          92577.30532736461,
          92508.89914759951,
          92307.8952070575,
          93057.2292520673,
          93183.775281301,
          93363.04973705501,
          93291.25501089102,
          93270.204088096,
          92694.62754114851,
          93236.74420028501,
          93020.252078488,
          91948.20613657,
          92280.58912807,
          92438.6926376935,
          92618.4010417645,
          92518.796938645,
          92192.7292239835,
          92541.842159389,
          92735.8430320945,
          92601.7818921895,
          92269.84207801151,
          92062.21350265451,
          91046.34028630001,
          91160.7908297065,
          91430.79661313501,
          90929.0090903005,
          90093.509044,
          89949.80879734151,
          88742.70456654401,
          88921.8589989625,
          89190.535250425,
          89118.40814126951,
          89458.65753023501,
          89683.2376381585,
          88826.79746339351,
          90192.6699697975,
          90560.9503243795,
          90403.6223750695,
          90733.1247139765,
          90481.28920075,
          90392.65373635001,
          90253.05287992,
          90093.6198383305,
          90504.44521582451,
          90614.1316030195,
          90436.4174968975,
          91593.5534846395,
          91771.15679643101,
          91867.6586582965,
          91810.82116675,
          91643.521727695,
          91964.49290315351,
          91572.613356175,
          91434.0096487195,
          91423.04101,
          91836.303862765,
          91734.7054616965,
          91875.4142614315,
          91588.124562445,
          91091.4335788135,
          91753.98367520352,
          91488.07728200352,
          92005.376011108,
          93251.14746325,
          93069.99873288251,
          92575.19125286951,
          92647.096773364,
          92641.7786455,
          92418.74965820351,
          92586.2706859195,
          92545.9415496175,
          92676.34647661602,
          91866.9938923135,
          91422.9302156695,
          91721.964113689,
          91768.71932116001,
          91410.7428393145,
          91598.6500238425,
          92309.2848596695,
          92033.296182394,
          92203.03309672,
          91913.195128132,
          91856.46843091602,
          92166.914144977,
          92334.54596702351,
          93091.82521599102,
          92936.49156463,
          92939.9261888755,
          92655.1847594905,
          92664.93466057451,
          93031.66389452951,
          93386.31654646002,
          94537.58043468551,
          94879.1739403288,
          94948.6,
          94879.00000000001,
          95304.39111458001,
          94914.3953296652,
          94518.5245055364,
          94876.9018975904,
          94561.8929768252,
          94324.0072981056,
          94599.920503374,
          94618.40017217441,
          94796.46726980602,
          94664.9732103072,
          95225.34513242802,
          94938.2159432056,
          94774.8482566106,
          94395.4638971052,
          94406.02374010679,
          94302.07528555978,
          94661.8799361664
         ],
         "yaxis": "y3"
        },
        {
         "marker": {
          "color": "DarkGreen"
         },
         "mode": "lines",
         "name": "Net Worth",
         "type": "scatter",
         "uid": "7447514d-f491-4ee3-9a5a-de6882af6407",
         "xaxis": "x4",
         "y": [
          97409.9,
          97373.86507067,
          97248.0745409999,
          97026.8176382032,
          97987.53551360901,
          97593.72674760001,
          97593.72674760001,
          97585.2801528973,
          94936.5596893727,
          94948.292660194,
          95100.37689750489,
          95219.2116531742,
          95008.6035218395,
          95318.258443228,
          94852.973846323,
          94640.9752092964,
          94295.7019498,
          94456.03795227369,
          94252.0614634696,
          92865.4064027164,
          90869.6799865795,
          91176.04,
          91821.93999999999,
          91732.14,
          91916.14,
          91858.04,
          91602.93999999999,
          91962.64,
          93322.4247736211,
          93342.63323431001,
          93257.0444596276,
          91256.8391179653,
          91743.24704075001,
          92400.29217972599,
          92266.289552698,
          92525.649475978,
          92336.4247986183,
          92042.8077521384,
          92577.30532736461,
          92508.89914759951,
          92307.8952070575,
          93057.2292520673,
          93183.775281301,
          93363.04973705501,
          93291.25501089102,
          93270.204088096,
          92694.62754114851,
          93236.74420028501,
          93020.252078488,
          91948.20613657,
          92280.58912807,
          92438.6926376935,
          92618.4010417645,
          92518.796938645,
          92192.7292239835,
          92541.842159389,
          92735.8430320945,
          92601.7818921895,
          92269.84207801151,
          92062.21350265451,
          91046.34028630001,
          91160.7908297065,
          91430.79661313501,
          90929.0090903005,
          90093.509044,
          89949.80879734151,
          88742.70456654401,
          88921.8589989625,
          89190.535250425,
          89118.40814126951,
          89458.65753023501,
          89683.2376381585,
          88826.79746339351,
          90192.6699697975,
          90560.9503243795,
          90403.6223750695,
          90733.1247139765,
          90481.28920075,
          90392.65373635001,
          90253.05287992,
          90093.6198383305,
          90504.44521582451,
          90614.1316030195,
          90436.4174968975,
          91593.5534846395,
          91771.15679643101,
          91867.6586582965,
          91810.82116675,
          91643.521727695,
          91964.49290315351,
          91572.613356175,
          91434.0096487195,
          91423.04101,
          91836.303862765,
          91734.7054616965,
          91875.4142614315,
          91588.124562445,
          91091.4335788135,
          91753.98367520352,
          91488.07728200352,
          92005.376011108,
          93251.14746325,
          93069.99873288251,
          92575.19125286951,
          92647.096773364,
          92641.7786455,
          92418.74965820351,
          92586.2706859195,
          92545.9415496175,
          92676.34647661602,
          91866.9938923135,
          91422.9302156695,
          91721.964113689,
          91768.71932116001,
          91410.7428393145,
          91598.6500238425,
          92309.2848596695,
          92033.296182394,
          92203.03309672,
          91913.195128132,
          91856.46843091602,
          92166.914144977,
          92334.54596702351,
          93091.82521599102,
          92936.49156463,
          92939.9261888755,
          92655.1847594905,
          92664.93466057451,
          93031.66389452951,
          93386.31654646002,
          94537.58043468551,
          94879.1739403288,
          94948.6,
          94879.00000000001,
          95304.39111458001,
          94914.3953296652,
          94518.5245055364,
          94876.9018975904,
          94561.8929768252,
          94324.0072981056,
          94599.920503374,
          94618.40017217441,
          94796.46726980602,
          94664.9732103072,
          95225.34513242802,
          94938.2159432056,
          94774.8482566106,
          94395.4638971052,
          94406.02374010679,
          94302.07528555978,
          94661.8799361664
         ],
         "yaxis": "y4"
        }
       ],
       "layout": {
        "annotations": [
         {
          "arrowcolor": "DarkGreen",
          "arrowhead": 2,
          "arrowsize": 0.8,
          "arrowwidth": 4,
          "ax": 0,
          "ay": 15,
          "hoverlabel": {
           "bgcolor": "DarkGreen"
          },
          "hovertext": "Step 43 [2018-05-17 00:00:00]<br>BUY 0.27276958 BTC @ 8358.3 USD MARKET<br>Total: 2279.89 USD - Comm.: 6.86 USD",
          "opacity": 0.6,
          "showarrow": true,
          "x": 42,
          "xref": "x",
          "y": 8358.3,
          "yref": "y"
         },
         {
          "arrowcolor": "DarkGreen",
          "arrowhead": 2,
          "arrowsize": 0.8,
          "arrowwidth": 4,
          "ax": 0,
          "ay": 15,
          "hoverlabel": {
           "bgcolor": "DarkGreen"
          },
          "hovertext": "Step 28 [2018-05-16 09:00:00]<br>BUY 0.80666347 BTC @ 8243.45 USD MARKET<br>Total: 6649.69 USD - Comm.: 20.01 USD",
          "opacity": 0.6,
          "showarrow": true,
          "x": 27,
          "xref": "x",
          "y": 8243.45,
          "yref": "y"
         },
         {
          "arrowcolor": "FireBrick",
          "arrowhead": 2,
          "arrowsize": 0.8,
          "arrowwidth": 4,
          "ax": 0,
          "ay": -15,
          "hoverlabel": {
           "bgcolor": "FireBrick"
          },
          "hovertext": "Step 21 [2018-05-16 02:00:00]<br>SELL 0.29600496 BTC @ 8133.43 USD MARKET<br>Total: 2407.54 USD - Comm.: 0.00089069 BTC",
          "opacity": 0.6,
          "showarrow": true,
          "x": 20,
          "xref": "x",
          "y": 8133.43,
          "yref": "y"
         },
         {
          "arrowcolor": "FireBrick",
          "arrowhead": 2,
          "arrowsize": 0.8,
          "arrowwidth": 4,
          "ax": 0,
          "ay": -15,
          "hoverlabel": {
           "bgcolor": "FireBrick"
          },
          "hovertext": "Step 20 [2018-05-16 01:00:00]<br>SELL 0.39810407 BTC @ 8326.28 USD MARKET<br>Total: 3314.73 USD - Comm.: 0.00119791 BTC",
          "opacity": 0.6,
          "showarrow": true,
          "x": 19,
          "xref": "x",
          "y": 8326.28,
          "yref": "y"
         },
         {
          "arrowcolor": "DarkGreen",
          "arrowhead": 2,
          "arrowsize": 0.8,
          "arrowwidth": 4,
          "ax": 0,
          "ay": 15,
          "hoverlabel": {
           "bgcolor": "DarkGreen"
          },
          "hovertext": "Step 10 [2018-05-15 15:00:00]<br>BUY 0.29689565 BTC @ 8520.3 USD MARKET<br>Total: 2529.64 USD - Comm.: 7.61 USD",
          "opacity": 0.6,
          "showarrow": true,
          "x": 9,
          "xref": "x",
          "y": 8520.3,
          "yref": "y"
         },
         {
          "arrowcolor": "FireBrick",
          "arrowhead": 2,
          "arrowsize": 0.8,
          "arrowwidth": 4,
          "ax": 0,
          "ay": -15,
          "hoverlabel": {
           "bgcolor": "FireBrick"
          },
          "hovertext": "Step 9 [2018-05-15 14:00:00]<br>SELL 0.56859063 BTC @ 8517.77 USD MARKET<br>Total: 4843.12 USD - Comm.: 0.00171090 BTC",
          "opacity": 0.6,
          "showarrow": true,
          "x": 8,
          "xref": "x",
          "y": 8517.77,
          "yref": "y"
         },
         {
          "arrowcolor": "DarkGreen",
          "arrowhead": 2,
          "arrowsize": 0.8,
          "arrowwidth": 4,
          "ax": 0,
          "ay": 15,
          "hoverlabel": {
           "bgcolor": "DarkGreen"
          },
          "hovertext": "Step 2 [2018-05-15 07:00:00]<br>BUY 0.39930198 BTC @ 8739.0 USD MARKET<br>Total: 3489.5 USD - Comm.: 10.50 USD",
          "opacity": 0.6,
          "showarrow": true,
          "x": 1,
          "xref": "x",
          "y": 8739.0,
          "yref": "y"
         },
         {
          "arrowcolor": "DarkGreen",
          "arrowhead": 2,
          "arrowsize": 0.8,
          "arrowwidth": 4,
          "ax": 0,
          "ay": 15,
          "hoverlabel": {
           "bgcolor": "DarkGreen"
          },
          "hovertext": "Step 1 [2018-05-15 06:00:00]<br>BUY 0.57030153 BTC @ 8740.99 USD MARKET<br>Total: 4985.0 USD - Comm.: 15.00 USD",
          "opacity": 0.6,
          "showarrow": true,
          "x": 0,
          "xref": "x",
          "y": 8740.99,
          "yref": "y"
         },
         {
          "arrowcolor": "DarkGreen",
          "arrowhead": 2,
          "arrowsize": 0.8,
          "arrowwidth": 4,
          "ax": 0,
          "ay": 15,
          "hoverlabel": {
           "bgcolor": "DarkGreen"
          },
          "hovertext": "Step 146 [2018-05-21 07:00:00]<br>BUY 0.31794698 BTC @ 8524.22 USD MARKET<br>Total: 2710.25 USD - Comm.: 8.16 USD",
          "opacity": 0.6,
          "showarrow": true,
          "x": 145,
          "xref": "x",
          "y": 8524.22,
          "yref": "y"
         },
         {
          "arrowcolor": "DarkGreen",
          "arrowhead": 2,
          "arrowsize": 0.8,
          "arrowwidth": 4,
          "ax": 0,
          "ay": 15,
          "hoverlabel": {
           "bgcolor": "DarkGreen"
          },
          "hovertext": "Step 134 [2018-05-20 19:00:00]<br>BUY 0.68188948 BTC @ 8517.04 USD MARKET<br>Total: 5807.68 USD - Comm.: 17.48 USD",
          "opacity": 0.6,
          "showarrow": true,
          "x": 133,
          "xref": "x",
          "y": 8517.04,
          "yref": "y"
         },
         {
          "arrowcolor": "FireBrick",
          "arrowhead": 2,
          "arrowsize": 0.8,
          "arrowwidth": 4,
          "ax": 0,
          "ay": -15,
          "hoverlabel": {
           "bgcolor": "FireBrick"
          },
          "hovertext": "Step 132 [2018-05-20 17:00:00]<br>SELL 0.27195127 BTC @ 8516.36 USD MARKET<br>Total: 2316.03 USD - Comm.: 0.00081831 BTC",
          "opacity": 0.6,
          "showarrow": true,
          "x": 131,
          "xref": "x",
          "y": 8516.36,
          "yref": "y"
         },
         {
          "arrowcolor": "FireBrick",
          "arrowhead": 2,
          "arrowsize": 0.8,
          "arrowwidth": 4,
          "ax": 0,
          "ay": -15,
          "hoverlabel": {
           "bgcolor": "FireBrick"
          },
          "hovertext": "Step 131 [2018-05-20 16:00:00]<br>SELL 0.80424348 BTC @ 8481.11 USD MARKET<br>Total: 6820.88 USD - Comm.: 0.00241999 BTC",
          "opacity": 0.6,
          "showarrow": true,
          "x": 130,
          "xref": "x",
          "y": 8481.11,
          "yref": "y"
         }
        ],
        "margin": {
         "t": 50
        },
        "template": {
         "data": {
          "bar": [
           {
            "error_x": {
             "color": "#2a3f5f"
            },
            "error_y": {
             "color": "#2a3f5f"
            },
            "marker": {
             "line": {
              "color": "white",
              "width": 0.5
             }
            },
            "type": "bar"
           }
          ],
          "barpolar": [
           {
            "marker": {
             "line": {
              "color": "white",
              "width": 0.5
             }
            },
            "type": "barpolar"
           }
          ],
          "carpet": [
           {
            "aaxis": {
             "endlinecolor": "#2a3f5f",
             "gridcolor": "#C8D4E3",
             "linecolor": "#C8D4E3",
             "minorgridcolor": "#C8D4E3",
             "startlinecolor": "#2a3f5f"
            },
            "baxis": {
             "endlinecolor": "#2a3f5f",
             "gridcolor": "#C8D4E3",
             "linecolor": "#C8D4E3",
             "minorgridcolor": "#C8D4E3",
             "startlinecolor": "#2a3f5f"
            },
            "type": "carpet"
           }
          ],
          "choropleth": [
           {
            "colorbar": {
             "outlinewidth": 0,
             "ticks": ""
            },
            "type": "choropleth"
           }
          ],
          "contour": [
           {
            "colorbar": {
             "outlinewidth": 0,
             "ticks": ""
            },
            "colorscale": [
             [
              0.0,
              "#0d0887"
             ],
             [
              0.1111111111111111,
              "#46039f"
             ],
             [
              0.2222222222222222,
              "#7201a8"
             ],
             [
              0.3333333333333333,
              "#9c179e"
             ],
             [
              0.4444444444444444,
              "#bd3786"
             ],
             [
              0.5555555555555556,
              "#d8576b"
             ],
             [
              0.6666666666666666,
              "#ed7953"
             ],
             [
              0.7777777777777778,
              "#fb9f3a"
             ],
             [
              0.8888888888888888,
              "#fdca26"
             ],
             [
              1.0,
              "#f0f921"
             ]
            ],
            "type": "contour"
           }
          ],
          "contourcarpet": [
           {
            "colorbar": {
             "outlinewidth": 0,
             "ticks": ""
            },
            "type": "contourcarpet"
           }
          ],
          "heatmap": [
           {
            "colorbar": {
             "outlinewidth": 0,
             "ticks": ""
            },
            "colorscale": [
             [
              0.0,
              "#0d0887"
             ],
             [
              0.1111111111111111,
              "#46039f"
             ],
             [
              0.2222222222222222,
              "#7201a8"
             ],
             [
              0.3333333333333333,
              "#9c179e"
             ],
             [
              0.4444444444444444,
              "#bd3786"
             ],
             [
              0.5555555555555556,
              "#d8576b"
             ],
             [
              0.6666666666666666,
              "#ed7953"
             ],
             [
              0.7777777777777778,
              "#fb9f3a"
             ],
             [
              0.8888888888888888,
              "#fdca26"
             ],
             [
              1.0,
              "#f0f921"
             ]
            ],
            "type": "heatmap"
           }
          ],
          "heatmapgl": [
           {
            "colorbar": {
             "outlinewidth": 0,
             "ticks": ""
            },
            "colorscale": [
             [
              0.0,
              "#0d0887"
             ],
             [
              0.1111111111111111,
              "#46039f"
             ],
             [
              0.2222222222222222,
              "#7201a8"
             ],
             [
              0.3333333333333333,
              "#9c179e"
             ],
             [
              0.4444444444444444,
              "#bd3786"
             ],
             [
              0.5555555555555556,
              "#d8576b"
             ],
             [
              0.6666666666666666,
              "#ed7953"
             ],
             [
              0.7777777777777778,
              "#fb9f3a"
             ],
             [
              0.8888888888888888,
              "#fdca26"
             ],
             [
              1.0,
              "#f0f921"
             ]
            ],
            "type": "heatmapgl"
           }
          ],
          "histogram": [
           {
            "marker": {
             "colorbar": {
              "outlinewidth": 0,
              "ticks": ""
             }
            },
            "type": "histogram"
           }
          ],
          "histogram2d": [
           {
            "colorbar": {
             "outlinewidth": 0,
             "ticks": ""
            },
            "colorscale": [
             [
              0.0,
              "#0d0887"
             ],
             [
              0.1111111111111111,
              "#46039f"
             ],
             [
              0.2222222222222222,
              "#7201a8"
             ],
             [
              0.3333333333333333,
              "#9c179e"
             ],
             [
              0.4444444444444444,
              "#bd3786"
             ],
             [
              0.5555555555555556,
              "#d8576b"
             ],
             [
              0.6666666666666666,
              "#ed7953"
             ],
             [
              0.7777777777777778,
              "#fb9f3a"
             ],
             [
              0.8888888888888888,
              "#fdca26"
             ],
             [
              1.0,
              "#f0f921"
             ]
            ],
            "type": "histogram2d"
           }
          ],
          "histogram2dcontour": [
           {
            "colorbar": {
             "outlinewidth": 0,
             "ticks": ""
            },
            "colorscale": [
             [
              0.0,
              "#0d0887"
             ],
             [
              0.1111111111111111,
              "#46039f"
             ],
             [
              0.2222222222222222,
              "#7201a8"
             ],
             [
              0.3333333333333333,
              "#9c179e"
             ],
             [
              0.4444444444444444,
              "#bd3786"
             ],
             [
              0.5555555555555556,
              "#d8576b"
             ],
             [
              0.6666666666666666,
              "#ed7953"
             ],
             [
              0.7777777777777778,
              "#fb9f3a"
             ],
             [
              0.8888888888888888,
              "#fdca26"
             ],
             [
              1.0,
              "#f0f921"
             ]
            ],
            "type": "histogram2dcontour"
           }
          ],
          "mesh3d": [
           {
            "colorbar": {
             "outlinewidth": 0,
             "ticks": ""
            },
            "type": "mesh3d"
           }
          ],
          "parcoords": [
           {
            "line": {
             "colorbar": {
              "outlinewidth": 0,
              "ticks": ""
             }
            },
            "type": "parcoords"
           }
          ],
          "pie": [
           {
            "automargin": true,
            "type": "pie"
           }
          ],
          "scatter": [
           {
            "marker": {
             "colorbar": {
              "outlinewidth": 0,
              "ticks": ""
             }
            },
            "type": "scatter"
           }
          ],
          "scatter3d": [
           {
            "line": {
             "colorbar": {
              "outlinewidth": 0,
              "ticks": ""
             }
            },
            "marker": {
             "colorbar": {
              "outlinewidth": 0,
              "ticks": ""
             }
            },
            "type": "scatter3d"
           }
          ],
          "scattercarpet": [
           {
            "marker": {
             "colorbar": {
              "outlinewidth": 0,
              "ticks": ""
             }
            },
            "type": "scattercarpet"
           }
          ],
          "scattergeo": [
           {
            "marker": {
             "colorbar": {
              "outlinewidth": 0,
              "ticks": ""
             }
            },
            "type": "scattergeo"
           }
          ],
          "scattergl": [
           {
            "marker": {
             "colorbar": {
              "outlinewidth": 0,
              "ticks": ""
             }
            },
            "type": "scattergl"
           }
          ],
          "scattermapbox": [
           {
            "marker": {
             "colorbar": {
              "outlinewidth": 0,
              "ticks": ""
             }
            },
            "type": "scattermapbox"
           }
          ],
          "scatterpolar": [
           {
            "marker": {
             "colorbar": {
              "outlinewidth": 0,
              "ticks": ""
             }
            },
            "type": "scatterpolar"
           }
          ],
          "scatterpolargl": [
           {
            "marker": {
             "colorbar": {
              "outlinewidth": 0,
              "ticks": ""
             }
            },
            "type": "scatterpolargl"
           }
          ],
          "scatterternary": [
           {
            "marker": {
             "colorbar": {
              "outlinewidth": 0,
              "ticks": ""
             }
            },
            "type": "scatterternary"
           }
          ],
          "surface": [
           {
            "colorbar": {
             "outlinewidth": 0,
             "ticks": ""
            },
            "colorscale": [
             [
              0.0,
              "#0d0887"
             ],
             [
              0.1111111111111111,
              "#46039f"
             ],
             [
              0.2222222222222222,
              "#7201a8"
             ],
             [
              0.3333333333333333,
              "#9c179e"
             ],
             [
              0.4444444444444444,
              "#bd3786"
             ],
             [
              0.5555555555555556,
              "#d8576b"
             ],
             [
              0.6666666666666666,
              "#ed7953"
             ],
             [
              0.7777777777777778,
              "#fb9f3a"
             ],
             [
              0.8888888888888888,
              "#fdca26"
             ],
             [
              1.0,
              "#f0f921"
             ]
            ],
            "type": "surface"
           }
          ],
          "table": [
           {
            "cells": {
             "fill": {
              "color": "#EBF0F8"
             },
             "line": {
              "color": "white"
             }
            },
            "header": {
             "fill": {
              "color": "#C8D4E3"
             },
             "line": {
              "color": "white"
             }
            },
            "type": "table"
           }
          ]
         },
         "layout": {
          "annotationdefaults": {
           "arrowcolor": "#2a3f5f",
           "arrowhead": 0,
           "arrowwidth": 1
          },
          "autotypenumbers": "strict",
          "coloraxis": {
           "colorbar": {
            "outlinewidth": 0,
            "ticks": ""
           }
          },
          "colorscale": {
           "diverging": [
            [
             0,
             "#8e0152"
            ],
            [
             0.1,
             "#c51b7d"
            ],
            [
             0.2,
             "#de77ae"
            ],
            [
             0.3,
             "#f1b6da"
            ],
            [
             0.4,
             "#fde0ef"
            ],
            [
             0.5,
             "#f7f7f7"
            ],
            [
             0.6,
             "#e6f5d0"
            ],
            [
             0.7,
             "#b8e186"
            ],
            [
             0.8,
             "#7fbc41"
            ],
            [
             0.9,
             "#4d9221"
            ],
            [
             1,
             "#276419"
            ]
           ],
           "sequential": [
            [
             0.0,
             "#0d0887"
            ],
            [
             0.1111111111111111,
             "#46039f"
            ],
            [
             0.2222222222222222,
             "#7201a8"
            ],
            [
             0.3333333333333333,
             "#9c179e"
            ],
            [
             0.4444444444444444,
             "#bd3786"
            ],
            [
             0.5555555555555556,
             "#d8576b"
            ],
            [
             0.6666666666666666,
             "#ed7953"
            ],
            [
             0.7777777777777778,
             "#fb9f3a"
            ],
            [
             0.8888888888888888,
             "#fdca26"
            ],
            [
             1.0,
             "#f0f921"
            ]
           ],
           "sequentialminus": [
            [
             0.0,
             "#0d0887"
            ],
            [
             0.1111111111111111,
             "#46039f"
            ],
            [
             0.2222222222222222,
             "#7201a8"
            ],
            [
             0.3333333333333333,
             "#9c179e"
            ],
            [
             0.4444444444444444,
             "#bd3786"
            ],
            [
             0.5555555555555556,
             "#d8576b"
            ],
            [
             0.6666666666666666,
             "#ed7953"
            ],
            [
             0.7777777777777778,
             "#fb9f3a"
            ],
            [
             0.8888888888888888,
             "#fdca26"
            ],
            [
             1.0,
             "#f0f921"
            ]
           ]
          },
          "colorway": [
           "#636efa",
           "#EF553B",
           "#00cc96",
           "#ab63fa",
           "#FFA15A",
           "#19d3f3",
           "#FF6692",
           "#B6E880",
           "#FF97FF",
           "#FECB52"
          ],
          "font": {
           "color": "#2a3f5f"
          },
          "geo": {
           "bgcolor": "white",
           "lakecolor": "white",
           "landcolor": "white",
           "showlakes": true,
           "showland": true,
           "subunitcolor": "#C8D4E3"
          },
          "hoverlabel": {
           "align": "left"
          },
          "hovermode": "closest",
          "mapbox": {
           "style": "light"
          },
          "paper_bgcolor": "white",
          "plot_bgcolor": "white",
          "polar": {
           "angularaxis": {
            "gridcolor": "#EBF0F8",
            "linecolor": "#EBF0F8",
            "ticks": ""
           },
           "bgcolor": "white",
           "radialaxis": {
            "gridcolor": "#EBF0F8",
            "linecolor": "#EBF0F8",
            "ticks": ""
           }
          },
          "scene": {
           "xaxis": {
            "backgroundcolor": "white",
            "gridcolor": "#DFE8F3",
            "gridwidth": 2,
            "linecolor": "#EBF0F8",
            "showbackground": true,
            "ticks": "",
            "zerolinecolor": "#EBF0F8"
           },
           "yaxis": {
            "backgroundcolor": "white",
            "gridcolor": "#DFE8F3",
            "gridwidth": 2,
            "linecolor": "#EBF0F8",
            "showbackground": true,
            "ticks": "",
            "zerolinecolor": "#EBF0F8"
           },
           "zaxis": {
            "backgroundcolor": "white",
            "gridcolor": "#DFE8F3",
            "gridwidth": 2,
            "linecolor": "#EBF0F8",
            "showbackground": true,
            "ticks": "",
            "zerolinecolor": "#EBF0F8"
           }
          },
          "shapedefaults": {
           "line": {
            "color": "#2a3f5f"
           }
          },
          "ternary": {
           "aaxis": {
            "gridcolor": "#DFE8F3",
            "linecolor": "#A2B1C6",
            "ticks": ""
           },
           "baxis": {
            "gridcolor": "#DFE8F3",
            "linecolor": "#A2B1C6",
            "ticks": ""
           },
           "bgcolor": "white",
           "caxis": {
            "gridcolor": "#DFE8F3",
            "linecolor": "#A2B1C6",
            "ticks": ""
           }
          },
          "title": {
           "x": 0.05
          },
          "xaxis": {
           "automargin": true,
           "gridcolor": "#EBF0F8",
           "linecolor": "#EBF0F8",
           "ticks": "",
           "title": {
            "standoff": 15
           },
           "zerolinecolor": "#EBF0F8",
           "zerolinewidth": 2
          },
          "yaxis": {
           "automargin": true,
           "gridcolor": "#EBF0F8",
           "linecolor": "#EBF0F8",
           "ticks": "",
           "title": {
            "standoff": 15
           },
           "zerolinecolor": "#EBF0F8",
           "zerolinewidth": 2
          }
         }
        },
        "title": {
         "text": "[2021-03-31 16:19:43 PM] Episode: 2/2 Step: 151/200"
        },
        "xaxis": {
         "anchor": "y",
         "domain": [
          0.0,
          1.0
         ],
         "gridcolor": "Gainsboro",
         "linecolor": "Grey",
         "matches": "x4",
         "rangeslider": {
          "visible": false
         },
         "showticklabels": false,
         "title": {
          "font": {
           "size": 12
          },
          "standoff": 7,
          "text": "Price"
         }
        },
        "xaxis2": {
         "anchor": "y2",
         "domain": [
          0.0,
          1.0
         ],
         "gridcolor": "Gainsboro",
         "linecolor": "Grey",
         "matches": "x4",
         "showticklabels": false,
         "title": {
          "font": {
           "size": 12
          },
          "standoff": 7,
          "text": "Volume"
         }
        },
        "xaxis3": {
         "anchor": "y3",
         "domain": [
          0.0,
          1.0
         ],
         "gridcolor": "Gainsboro",
         "linecolor": "Grey",
         "matches": "x4",
         "showticklabels": false,
         "title": {
          "font": {
           "size": 12
          },
          "standoff": 7,
          "text": "Performance"
         }
        },
        "xaxis4": {
         "anchor": "y4",
         "domain": [
          0.0,
          1.0
         ],
         "gridcolor": "Gainsboro",
         "linecolor": "Grey",
         "title": {
          "font": {
           "size": 12
          },
          "standoff": 7,
          "text": "Net Worth"
         }
        },
        "yaxis": {
         "anchor": "x",
         "domain": [
          0.49950000000000006,
          1.0
         ],
         "gridcolor": "Gainsboro",
         "linecolor": "Grey"
        },
        "yaxis2": {
         "anchor": "x2",
         "domain": [
          0.333,
          0.46950000000000003
         ],
         "gridcolor": "Gainsboro",
         "linecolor": "Grey"
        },
        "yaxis3": {
         "anchor": "x3",
         "domain": [
          0.1665,
          0.30300000000000005
         ],
         "gridcolor": "Gainsboro",
         "linecolor": "Grey"
        },
        "yaxis4": {
         "anchor": "x4",
         "domain": [
          0.0,
          0.1365
         ],
         "gridcolor": "Gainsboro",
         "linecolor": "Grey"
        }
       }
      },
      "text/html": "<div>                            <div id=\"c70ea0a6-e1b5-4517-9639-de93782c944d\" class=\"plotly-graph-div\" style=\"height:525px; width:100%;\"></div>            <script type=\"text/javascript\">                require([\"plotly\"], function(Plotly) {                    window.PLOTLYENV=window.PLOTLYENV || {};                                    if (document.getElementById(\"c70ea0a6-e1b5-4517-9639-de93782c944d\")) {                    Plotly.newPlot(                        \"c70ea0a6-e1b5-4517-9639-de93782c944d\",                        [{\"close\": [8740.99, 8739.0, 8728.49, 8708.32, 8795.9, 8760.0, 8760.0, 8759.23, 8517.77, 8520.3, 8535.23, 8546.34, 8526.65, 8555.6, 8512.1, 8492.28, 8460.0, 8474.99, 8455.92, 8326.28, 8133.43, 8164.79, 8229.38, 8220.4, 8238.8, 8232.99, 8207.48, 8243.45, 8371.13, 8373.0, 8365.08, 8179.99, 8225.0, 8285.8, 8273.4, 8297.4, 8279.89, 8252.72, 8302.18, 8295.85, 8277.25, 8346.59, 8358.3, 8375.1, 8368.62, 8366.72, 8314.77, 8363.7, 8344.16, 8247.4, 8277.4, 8291.67, 8307.89, 8298.9, 8269.47, 8300.98, 8318.49, 8306.39, 8276.43, 8257.69, 8166.0, 8176.33, 8200.7, 8155.41, 8080.0, 8067.03, 7958.08, 7974.25, 7998.5, 7991.99, 8022.7, 8042.97, 7965.67, 8088.95, 8122.19, 8107.99, 8137.73, 8115.0, 8107.0, 8094.4, 8080.01, 8117.09, 8126.99, 8110.95, 8215.39, 8231.42, 8240.13, 8235.0, 8219.9, 8248.87, 8213.5, 8200.99, 8200.0, 8237.3, 8228.13, 8240.83, 8214.9, 8170.07, 8229.87, 8205.87, 8252.56, 8365.0, 8348.65, 8303.99, 8310.48, 8310.0, 8289.87, 8304.99, 8301.35, 8313.12, 8240.07, 8199.99, 8226.98, 8231.2, 8198.89, 8215.85, 8279.99, 8255.08, 8270.4, 8244.24, 8239.12, 8267.14, 8282.27, 8350.62, 8336.6, 8336.91, 8311.21, 8312.09, 8345.19, 8377.2, 8481.11, 8516.36, 8524.0, 8517.04, 8558.5, 8521.99, 8484.93, 8518.48, 8488.99, 8466.72, 8492.55, 8494.28, 8510.95, 8498.64, 8551.1, 8524.22, 8510.11, 8475.62, 8476.58, 8467.13, 8499.84], \"high\": [8796.68, 8766.0, 8750.27, 8754.4, 8865.0, 8821.19, 8798.6, 8771.02, 8761.7, 8553.67, 8589.1, 8579.48, 8555.51, 8583.6, 8569.92, 8555.54, 8557.51, 8505.0, 8505.33, 8478.29, 8339.81, 8217.44, 8252.72, 8248.63, 8267.12, 8255.0, 8261.24, 8263.93, 8455.66, 8439.44, 8399.1, 8381.73, 8229.91, 8377.29, 8329.1, 8350.0, 8346.95, 8377.29, 8311.35, 8319.96, 8398.24, 8372.58, 8399.99, 8386.53, 8400.0, 8500.0, 8381.0, 8371.3, 8382.41, 8351.0, 8292.99, 8325.8, 8318.99, 8324.9, 8335.56, 8309.4, 8377.29, 8330.41, 8328.23, 8284.36, 8274.83, 8200.0, 8232.14, 8213.97, 8155.41, 8108.28, 8068.92, 8019.9, 8026.66, 8025.0, 8104.69, 8061.39, 8045.99, 8170.71, 8144.16, 8139.99, 8152.99, 8137.73, 8143.72, 8129.99, 8106.76, 8139.0, 8152.04, 8146.99, 8232.14, 8275.1, 8256.12, 8274.1, 8255.8, 8253.97, 8261.09, 8235.76, 8227.0, 8273.36, 8264.21, 8250.0, 8250.86, 8235.77, 8232.12, 8232.14, 8252.72, 8370.0, 8395.0, 8374.48, 8331.0, 8319.43, 8323.4, 8314.55, 8330.62, 8314.8, 8323.99, 8263.03, 8247.78, 8253.75, 8237.89, 8235.0, 8279.99, 8290.0, 8278.71, 8275.34, 8279.31, 8279.98, 8294.04, 8356.4, 8374.94, 8354.83, 8360.45, 8337.14, 8351.97, 8377.29, 8549.0, 8531.9, 8551.79, 8529.9, 8590.0, 8576.1, 8549.89, 8531.89, 8550.0, 8493.29, 8522.98, 8517.0, 8537.29, 8524.51, 8589.1, 8589.07, 8536.92, 8524.03, 8497.8, 8498.0, 8513.5], \"low\": [8707.28, 8721.11, 8660.53, 8701.35, 8695.11, 8740.54, 8741.52, 8700.0, 8467.42, 8477.89, 8500.78, 8500.0, 8400.0, 8451.05, 8461.38, 8481.24, 8420.37, 8450.0, 8430.94, 8275.02, 8100.01, 8122.56, 8157.01, 8166.25, 8176.91, 8213.79, 8200.0, 8207.48, 8237.1, 8370.0, 8356.4, 8145.1, 8173.6, 8211.8, 8201.0, 8250.9, 8266.46, 8252.72, 8232.14, 8268.37, 8277.25, 8277.25, 8314.78, 8314.77, 8350.07, 8331.39, 8314.77, 8275.45, 8335.49, 8191.14, 8227.7, 8264.13, 8249.93, 8269.52, 8219.44, 8262.68, 8286.65, 8289.87, 8232.14, 8232.14, 8110.02, 8154.95, 8168.6, 8151.0, 7980.0, 8005.95, 7929.53, 7931.03, 7950.0, 7980.58, 7991.99, 7992.75, 7953.4, 7965.67, 8085.94, 8078.48, 8092.9, 8049.22, 8079.46, 8062.12, 8043.96, 8063.1, 8088.46, 8094.43, 8088.46, 8191.14, 8212.0, 8224.5, 8211.0, 8211.01, 8210.03, 8158.27, 8177.65, 8179.41, 8221.92, 8217.32, 8213.52, 8141.08, 8146.1, 8186.03, 8197.09, 8231.21, 8323.82, 8296.0, 8296.31, 8282.65, 8280.0, 8273.36, 8290.08, 8277.93, 8240.07, 8191.14, 8178.0, 8193.7, 8180.0, 8170.71, 8215.53, 8240.02, 8237.17, 8237.17, 8239.12, 8227.79, 8247.57, 8274.24, 8326.1, 8320.61, 8281.31, 8269.85, 8311.16, 8336.11, 8369.86, 8471.51, 8511.0, 8476.66, 8507.68, 8509.24, 8482.53, 8484.93, 8450.0, 8434.47, 8461.1, 8481.0, 8480.0, 8488.1, 8471.09, 8509.2, 8482.64, 8469.0, 8440.4, 8440.52, 8461.8], \"name\": \"Price\", \"open\": [8733.86, 8740.99, 8739.0, 8728.49, 8708.32, 8795.9, 8760.0, 8760.0, 8759.23, 8517.77, 8520.3, 8535.23, 8546.34, 8526.65, 8555.6, 8512.1, 8492.28, 8460.0, 8474.99, 8455.92, 8326.28, 8133.43, 8164.79, 8229.38, 8220.4, 8238.8, 8232.99, 8207.48, 8243.45, 8371.13, 8373.0, 8365.08, 8179.99, 8225.0, 8285.8, 8273.4, 8297.4, 8279.89, 8252.72, 8302.18, 8295.85, 8277.25, 8346.59, 8358.3, 8375.1, 8368.62, 8366.72, 8314.77, 8363.7, 8344.16, 8247.4, 8277.4, 8291.67, 8307.89, 8298.9, 8269.47, 8300.98, 8318.49, 8306.39, 8276.43, 8257.69, 8166.0, 8176.33, 8200.7, 8155.41, 8080.0, 8067.03, 7958.08, 7974.25, 7998.5, 7991.99, 8022.7, 8042.97, 7965.67, 8088.95, 8122.19, 8107.99, 8137.73, 8115.0, 8107.0, 8094.4, 8080.01, 8117.09, 8126.99, 8110.95, 8215.39, 8231.42, 8240.13, 8235.0, 8219.9, 8248.87, 8213.5, 8200.99, 8200.0, 8237.3, 8228.13, 8240.83, 8214.9, 8170.07, 8229.87, 8205.87, 8252.56, 8365.0, 8348.65, 8303.99, 8310.48, 8310.0, 8289.87, 8304.99, 8301.35, 8313.12, 8240.07, 8199.99, 8226.98, 8231.2, 8198.89, 8215.85, 8279.99, 8255.08, 8270.4, 8244.24, 8239.12, 8267.14, 8282.27, 8350.62, 8336.6, 8336.91, 8311.21, 8312.09, 8345.19, 8377.2, 8481.11, 8516.36, 8524.0, 8517.04, 8558.5, 8521.99, 8484.93, 8518.48, 8488.99, 8466.72, 8492.55, 8494.28, 8510.95, 8498.64, 8551.1, 8524.22, 8510.11, 8475.62, 8476.58, 8467.13], \"showlegend\": false, \"type\": \"candlestick\", \"uid\": \"0731bd14-fe30-4ad1-96ba-551ccc3d56c2\", \"xaxis\": \"x\", \"yaxis\": \"y\"}, {\"marker\": {\"color\": \"DodgerBlue\"}, \"name\": \"Volume\", \"showlegend\": false, \"type\": \"bar\", \"uid\": \"391f75b1-d2aa-40b4-917f-b27b916252fb\", \"xaxis\": \"x2\", \"y\": [559.93, 273.58, 917.79, 182.62, 1260.69, 324.11, 324.2, 730.67, 1341.75, 792.07, 385.69, 475.08, 877.26, 670.49, 610.97, 168.99, 305.92, 136.05, 154.26, 1070.93, 1710.2, 492.8, 630.72, 620.93, 586.34, 304.52, 450.97, 182.36, 915.32, 319.29, 362.01, 1046.38, 357.91, 561.2, 322.53, 1073.71, 237.21, 251.2, 359.73, 117.23, 363.17, 214.18, 171.64, 258.58, 299.52, 718.98, 119.7, 405.25, 210.77, 714.82, 215.97, 164.2, 201.55, 203.41, 886.82, 95.49, 499.67, 172.77, 355.39, 255.27, 591.06, 133.1, 149.13, 87.55, 1061.54, 286.94, 524.42, 316.0, 441.43, 189.7, 844.94, 155.34, 257.56, 610.69, 217.97, 173.18, 218.06, 372.97, 484.39, 248.1, 162.35, 303.42, 290.69, 160.93, 369.4, 487.27, 93.35, 96.68, 72.14, 90.22, 168.52, 203.15, 71.42, 464.56, 57.0, 89.42, 49.47, 200.05, 254.37, 65.05, 118.19, 452.4, 181.03, 288.04, 145.78, 110.14, 55.48, 80.87, 67.01, 59.16, 121.26, 244.37, 156.87, 80.48, 139.32, 93.52, 200.23, 97.4, 68.08, 47.0, 36.65, 28.75, 182.85, 400.18, 288.1, 182.94, 777.81, 493.59, 118.63, 174.37, 901.75, 222.45, 113.8, 84.2, 261.44, 168.78, 111.07, 122.12, 267.32, 210.39, 211.36, 146.22, 93.39, 89.04, 307.59, 307.2, 164.24, 151.21, 399.77, 362.01, 260.85], \"yaxis\": \"y2\"}, {\"mode\": \"lines\", \"name\": \"bitstamp:/USD-BTC\", \"type\": \"scatter\", \"uid\": \"2f79b682-a0c5-4a58-b299-e065a721e121\", \"xaxis\": \"x3\", \"y\": [8740.99, 8739.0, 8728.49, 8708.32, 8795.9, 8760.0, 8760.0, 8759.23, 8517.77, 8520.3, 8535.23, 8546.34, 8526.65, 8555.6, 8512.1, 8492.28, 8460.0, 8474.99, 8455.92, 8326.28, 8133.43, 8164.79, 8229.38, 8220.4, 8238.8, 8232.99, 8207.48, 8243.45, 8371.13, 8373.0, 8365.08, 8179.99, 8225.0, 8285.8, 8273.4, 8297.4, 8279.89, 8252.72, 8302.18, 8295.85, 8277.25, 8346.59, 8358.3, 8375.1, 8368.62, 8366.72, 8314.77, 8363.7, 8344.16, 8247.4, 8277.4, 8291.67, 8307.89, 8298.9, 8269.47, 8300.98, 8318.49, 8306.39, 8276.43, 8257.69, 8166.0, 8176.33, 8200.7, 8155.41, 8080.0, 8067.03, 7958.08, 7974.25, 7998.5, 7991.99, 8022.7, 8042.97, 7965.67, 8088.95, 8122.19, 8107.99, 8137.73, 8115.0, 8107.0, 8094.4, 8080.01, 8117.09, 8126.99, 8110.95, 8215.39, 8231.42, 8240.13, 8235.0, 8219.9, 8248.87, 8213.5, 8200.99, 8200.0, 8237.3, 8228.13, 8240.83, 8214.9, 8170.07, 8229.87, 8205.87, 8252.56, 8365.0, 8348.65, 8303.99, 8310.48, 8310.0, 8289.87, 8304.99, 8301.35, 8313.12, 8240.07, 8199.99, 8226.98, 8231.2, 8198.89, 8215.85, 8279.99, 8255.08, 8270.4, 8244.24, 8239.12, 8267.14, 8282.27, 8350.62, 8336.6, 8336.91, 8311.21, 8312.09, 8345.19, 8377.2, 8481.11, 8516.36, 8524.0, 8517.04, 8558.5, 8521.99, 8484.93, 8518.48, 8488.99, 8466.72, 8492.55, 8494.28, 8510.95, 8498.64, 8551.1, 8524.22, 8510.11, 8475.62, 8476.58, 8467.13, 8499.84], \"yaxis\": \"y3\"}, {\"mode\": \"lines\", \"name\": \"bitstamp:/USD:/free\", \"type\": \"scatter\", \"uid\": \"a9f121fb-8336-4ce1-85b8-8eaa152b2460\", \"xaxis\": \"x3\", \"y\": [10000.0, 5000.0, 1500.0, 1500.0, 1500.0, 1500.0, 1500.0, 1500.0, 1500.0, 6343.12, 3805.87, 3805.87, 3805.87, 3805.87, 3805.87, 3805.87, 3805.87, 3805.87, 3805.87, 3805.87, 7120.6, 9528.14, 9528.14, 9528.14, 9528.14, 9528.14, 9528.14, 9528.14, 2858.44, 2858.44, 2858.44, 2858.44, 2858.44, 2858.44, 2858.44, 2858.44, 2858.44, 2858.44, 2858.44, 2858.44, 2858.44, 2858.44, 2858.44, 571.69, 571.69, 571.69, 571.69, 571.69, 571.69, 571.69, 571.69, 571.69, 571.69, 571.69, 571.69, 571.69, 571.69, 571.69, 571.69, 571.69, 571.69, 571.69, 571.69, 571.69, 571.69, 571.69, 571.69, 571.69, 571.69, 571.69, 571.69, 571.69, 571.69, 571.69, 571.69, 571.69, 571.69, 571.69, 571.69, 571.69, 571.69, 571.69, 571.69, 571.69, 571.69, 571.69, 571.69, 571.69, 571.69, 571.69, 571.69, 571.69, 571.69, 571.69, 571.69, 571.69, 571.69, 571.69, 571.69, 571.69, 571.69, 571.69, 571.69, 571.69, 571.69, 571.69, 571.69, 571.69, 571.69, 571.69, 571.69, 571.69, 571.69, 571.69, 571.69, 571.69, 571.69, 571.69, 571.69, 571.69, 571.69, 571.69, 571.69, 571.69, 571.69, 571.69, 571.69, 571.69, 571.69, 571.69, 571.69, 7392.57, 9708.6, 9708.6, 3883.44, 3883.44, 3883.44, 3883.44, 3883.44, 3883.44, 3883.44, 3883.44, 3883.44, 3883.44, 3883.44, 3883.44, 1165.03, 1165.03, 1165.03, 1165.03, 1165.03], \"yaxis\": \"y3\"}, {\"mode\": \"lines\", \"name\": \"bitstamp:/USD:/locked\", \"type\": \"scatter\", \"uid\": \"601870c1-66ac-4116-83ce-e0fc7b55621e\", \"xaxis\": \"x3\", \"y\": [0.0, 0.0, 0.0, 0.0, 0.0, 0.0, 0.0, 0.0, 0.0, 0.0, 0.0, 0.0, 0.0, 0.0, 0.0, 0.0, 0.0, 0.0, 0.0, 0.0, 0.0, 0.0, 0.0, 0.0, 0.0, 0.0, 0.0, 0.0, 0.0, 0.0, 0.0, 0.0, 0.0, 0.0, 0.0, 0.0, 0.0, 0.0, 0.0, 0.0, 0.0, 0.0, 0.0, 0.0, 0.0, 0.0, 0.0, 0.0, 0.0, 0.0, 0.0, 0.0, 0.0, 0.0, 0.0, 0.0, 0.0, 0.0, 0.0, 0.0, 0.0, 0.0, 0.0, 0.0, 0.0, 0.0, 0.0, 0.0, 0.0, 0.0, 0.0, 0.0, 0.0, 0.0, 0.0, 0.0, 0.0, 0.0, 0.0, 0.0, 0.0, 0.0, 0.0, 0.0, 0.0, 0.0, 0.0, 0.0, 0.0, 0.0, 0.0, 0.0, 0.0, 0.0, 0.0, 0.0, 0.0, 0.0, 0.0, 0.0, 0.0, 0.0, 0.0, 0.0, 0.0, 0.0, 0.0, 0.0, 0.0, 0.0, 0.0, 0.0, 0.0, 0.0, 0.0, 0.0, 0.0, 0.0, 0.0, 0.0, 0.0, 0.0, 0.0, 0.0, 0.0, 0.0, 0.0, 0.0, 0.0, 0.0, 0.0, 0.0, 0.0, 0.0, 0.0, 0.0, 0.0, 0.0, 0.0, 0.0, 0.0, 0.0, 0.0, 0.0, 0.0, 0.0, 0.0, 0.0, 0.0, 0.0, 0.0], \"yaxis\": \"y3\"}, {\"mode\": \"lines\", \"name\": \"bitstamp:/USD:/total\", \"type\": \"scatter\", \"uid\": \"2c681579-e45b-4a8f-afef-4ab343f9a74a\", \"xaxis\": \"x3\", \"y\": [10000.0, 5000.0, 1500.0, 1500.0, 1500.0, 1500.0, 1500.0, 1500.0, 1500.0, 6343.12, 3805.87, 3805.87, 3805.87, 3805.87, 3805.87, 3805.87, 3805.87, 3805.87, 3805.87, 3805.87, 7120.6, 9528.14, 9528.14, 9528.14, 9528.14, 9528.14, 9528.14, 9528.14, 2858.44, 2858.44, 2858.44, 2858.44, 2858.44, 2858.44, 2858.44, 2858.44, 2858.44, 2858.44, 2858.44, 2858.44, 2858.44, 2858.44, 2858.44, 571.69, 571.69, 571.69, 571.69, 571.69, 571.69, 571.69, 571.69, 571.69, 571.69, 571.69, 571.69, 571.69, 571.69, 571.69, 571.69, 571.69, 571.69, 571.69, 571.69, 571.69, 571.69, 571.69, 571.69, 571.69, 571.69, 571.69, 571.69, 571.69, 571.69, 571.69, 571.69, 571.69, 571.69, 571.69, 571.69, 571.69, 571.69, 571.69, 571.69, 571.69, 571.69, 571.69, 571.69, 571.69, 571.69, 571.69, 571.69, 571.69, 571.69, 571.69, 571.69, 571.69, 571.69, 571.69, 571.69, 571.69, 571.69, 571.69, 571.69, 571.69, 571.69, 571.69, 571.69, 571.69, 571.69, 571.69, 571.69, 571.69, 571.69, 571.69, 571.69, 571.69, 571.69, 571.69, 571.69, 571.69, 571.69, 571.69, 571.69, 571.69, 571.69, 571.69, 571.69, 571.69, 571.69, 571.69, 571.69, 7392.57, 9708.6, 9708.6, 3883.44, 3883.44, 3883.44, 3883.44, 3883.44, 3883.44, 3883.44, 3883.44, 3883.44, 3883.44, 3883.44, 3883.44, 1165.03, 1165.03, 1165.03, 1165.03, 1165.03], \"yaxis\": \"y3\"}, {\"mode\": \"lines\", \"name\": \"bitstamp:/BTC:/free\", \"type\": \"scatter\", \"uid\": \"692d2628-0225-446b-884c-8082509c661b\", \"xaxis\": \"x3\", \"y\": [10.0, 10.0, 10.0, 10.0, 10.0, 10.0, 10.0, 10.0, 10.0, 10.0, 10.0, 10.0, 10.0, 10.0, 10.0, 10.0, 10.0, 10.0, 10.0, 10.0, 10.0, 10.0, 10.0, 10.0, 10.0, 10.0, 10.0, 10.0, 10.0, 10.0, 10.0, 10.0, 10.0, 10.0, 10.0, 10.0, 10.0, 10.0, 10.0, 10.0, 10.0, 10.0, 10.0, 10.0, 10.0, 10.0, 10.0, 10.0, 10.0, 10.0, 10.0, 10.0, 10.0, 10.0, 10.0, 10.0, 10.0, 10.0, 10.0, 10.0, 10.0, 10.0, 10.0, 10.0, 10.0, 10.0, 10.0, 10.0, 10.0, 10.0, 10.0, 10.0, 10.0, 10.0, 10.0, 10.0, 10.0, 10.0, 10.0, 10.0, 10.0, 10.0, 10.0, 10.0, 10.0, 10.0, 10.0, 10.0, 10.0, 10.0, 10.0, 10.0, 10.0, 10.0, 10.0, 10.0, 10.0, 10.0, 10.0, 10.0, 10.0, 10.0, 10.0, 10.0, 10.0, 10.0, 10.0, 10.0, 10.0, 10.0, 10.0, 10.0, 10.0, 10.0, 10.0, 10.0, 10.0, 10.0, 10.0, 10.0, 10.0, 10.0, 10.0, 10.0, 10.0, 10.0, 10.0, 10.0, 10.0, 10.0, 10.0, 10.0, 10.0, 10.0, 10.0, 10.0, 10.0, 10.0, 10.0, 10.0, 10.0, 10.0, 10.0, 10.0, 10.0, 10.0, 10.0, 10.0, 10.0, 10.0, 10.0], \"yaxis\": \"y3\"}, {\"mode\": \"lines\", \"name\": \"bitstamp:/BTC:/locked\", \"type\": \"scatter\", \"uid\": \"e837dc76-37dd-4675-ba8b-277d0e2e7b3e\", \"xaxis\": \"x3\", \"y\": [0.0, 0.57030153, 0.96960351, 0.96960351, 0.96960351, 0.96960351, 0.96960351, 0.96960351, 0.96960351, 0.39930198, 0.69619763, 0.69619763, 0.69619763, 0.69619763, 0.69619763, 0.69619763, 0.69619763, 0.69619763, 0.69619763, 0.69619763, 0.29689565, 0.0, 0.0, 0.0, 0.0, 0.0, 0.0, 0.0, 0.80666347, 0.80666347, 0.80666347, 0.80666347, 0.80666347, 0.80666347, 0.80666347, 0.80666347, 0.80666347, 0.80666347, 0.80666347, 0.80666347, 0.80666347, 0.80666347, 0.80666347, 1.07943305, 1.07943305, 1.07943305, 1.07943305, 1.07943305, 1.07943305, 1.07943305, 1.07943305, 1.07943305, 1.07943305, 1.07943305, 1.07943305, 1.07943305, 1.07943305, 1.07943305, 1.07943305, 1.07943305, 1.07943305, 1.07943305, 1.07943305, 1.07943305, 1.07943305, 1.07943305, 1.07943305, 1.07943305, 1.07943305, 1.07943305, 1.07943305, 1.07943305, 1.07943305, 1.07943305, 1.07943305, 1.07943305, 1.07943305, 1.07943305, 1.07943305, 1.07943305, 1.07943305, 1.07943305, 1.07943305, 1.07943305, 1.07943305, 1.07943305, 1.07943305, 1.07943305, 1.07943305, 1.07943305, 1.07943305, 1.07943305, 1.07943305, 1.07943305, 1.07943305, 1.07943305, 1.07943305, 1.07943305, 1.07943305, 1.07943305, 1.07943305, 1.07943305, 1.07943305, 1.07943305, 1.07943305, 1.07943305, 1.07943305, 1.07943305, 1.07943305, 1.07943305, 1.07943305, 1.07943305, 1.07943305, 1.07943305, 1.07943305, 1.07943305, 1.07943305, 1.07943305, 1.07943305, 1.07943305, 1.07943305, 1.07943305, 1.07943305, 1.07943305, 1.07943305, 1.07943305, 1.07943305, 1.07943305, 1.07943305, 1.07943305, 1.07943305, 0.27276958, 0.0, 0.0, 0.68188948, 0.68188948, 0.68188948, 0.68188948, 0.68188948, 0.68188948, 0.68188948, 0.68188948, 0.68188948, 0.68188948, 0.68188948, 0.68188948, 0.99983646, 0.99983646, 0.99983646, 0.99983646, 0.99983646], \"yaxis\": \"y3\"}, {\"mode\": \"lines\", \"name\": \"bitstamp:/BTC:/total\", \"type\": \"scatter\", \"uid\": \"d1a5bb1d-8ac9-46ba-a619-40cf477fdaab\", \"xaxis\": \"x3\", \"y\": [10.0, 10.57030153, 10.96960351, 10.96960351, 10.96960351, 10.96960351, 10.96960351, 10.96960351, 10.96960351, 10.39930198, 10.69619763, 10.69619763, 10.69619763, 10.69619763, 10.69619763, 10.69619763, 10.69619763, 10.69619763, 10.69619763, 10.69619763, 10.29689565, 10.0, 10.0, 10.0, 10.0, 10.0, 10.0, 10.0, 10.80666347, 10.80666347, 10.80666347, 10.80666347, 10.80666347, 10.80666347, 10.80666347, 10.80666347, 10.80666347, 10.80666347, 10.80666347, 10.80666347, 10.80666347, 10.80666347, 10.80666347, 11.07943305, 11.07943305, 11.07943305, 11.07943305, 11.07943305, 11.07943305, 11.07943305, 11.07943305, 11.07943305, 11.07943305, 11.07943305, 11.07943305, 11.07943305, 11.07943305, 11.07943305, 11.07943305, 11.07943305, 11.07943305, 11.07943305, 11.07943305, 11.07943305, 11.07943305, 11.07943305, 11.07943305, 11.07943305, 11.07943305, 11.07943305, 11.07943305, 11.07943305, 11.07943305, 11.07943305, 11.07943305, 11.07943305, 11.07943305, 11.07943305, 11.07943305, 11.07943305, 11.07943305, 11.07943305, 11.07943305, 11.07943305, 11.07943305, 11.07943305, 11.07943305, 11.07943305, 11.07943305, 11.07943305, 11.07943305, 11.07943305, 11.07943305, 11.07943305, 11.07943305, 11.07943305, 11.07943305, 11.07943305, 11.07943305, 11.07943305, 11.07943305, 11.07943305, 11.07943305, 11.07943305, 11.07943305, 11.07943305, 11.07943305, 11.07943305, 11.07943305, 11.07943305, 11.07943305, 11.07943305, 11.07943305, 11.07943305, 11.07943305, 11.07943305, 11.07943305, 11.07943305, 11.07943305, 11.07943305, 11.07943305, 11.07943305, 11.07943305, 11.07943305, 11.07943305, 11.07943305, 11.07943305, 11.07943305, 11.07943305, 11.07943305, 11.07943305, 10.27276958, 10.0, 10.0, 10.68188948, 10.68188948, 10.68188948, 10.68188948, 10.68188948, 10.68188948, 10.68188948, 10.68188948, 10.68188948, 10.68188948, 10.68188948, 10.68188948, 10.99983646, 10.99983646, 10.99983646, 10.99983646, 10.99983646], \"yaxis\": \"y3\"}, {\"mode\": \"lines\", \"name\": \"bitstamp:/BTC:/worth\", \"type\": \"scatter\", \"uid\": \"57feb423-417f-4b96-9f78-24885eb5f33b\", \"xaxis\": \"x3\", \"y\": [87409.9, 92373.86507067, 95748.0745409999, 95526.8176382032, 96487.53551360901, 96093.72674760001, 96093.72674760001, 96085.2801528973, 93436.5596893727, 88605.172660194, 91294.50689750489, 91413.34165317421, 91202.7335218395, 91512.388443228, 91047.103846323, 90835.10520929641, 90489.8319498, 90650.1679522737, 90446.1914634696, 89059.5364027164, 83749.0799865795, 81647.9, 82293.79999999999, 82204.0, 82388.0, 82329.9, 82074.79999999999, 82434.5, 90463.9847736211, 90484.19323431, 90398.6044596276, 88398.3991179653, 88884.80704075, 89541.85217972599, 89407.849552698, 89667.209475978, 89477.9847986183, 89184.3677521384, 89718.8653273646, 89650.45914759951, 89449.4552070575, 90198.7892520673, 90325.335281301, 92791.35973705501, 92719.56501089102, 92698.514088096, 92122.93754114851, 92665.05420028501, 92448.562078488, 91376.51613657, 91708.89912807, 91867.0026376935, 92046.7110417645, 91947.106938645, 91621.03922398349, 91970.15215938899, 92164.1530320945, 92030.09189218949, 91698.15207801151, 91490.52350265451, 90474.6502863, 90589.1008297065, 90859.10661313501, 90357.3190903005, 89521.819044, 89378.1187973415, 88171.014566544, 88350.1689989625, 88618.845250425, 88546.7181412695, 88886.96753023501, 89111.5476381585, 88255.1074633935, 89620.9799697975, 89989.2603243795, 89831.9323750695, 90161.4347139765, 89909.59920075, 89820.96373635001, 89681.36287992, 89521.9298383305, 89932.75521582451, 90042.4416030195, 89864.7274968975, 91021.8634846395, 91199.466796431, 91295.9686582965, 91239.13116675, 91071.831727695, 91392.80290315351, 91000.923356175, 90862.3196487195, 90851.35101, 91264.61386276499, 91163.0154616965, 91303.7242614315, 91016.43456244499, 90519.7435788135, 91182.29367520352, 90916.38728200352, 91433.686011108, 92679.45746325, 92498.3087328825, 92003.50125286951, 92075.406773364, 92070.0886455, 91847.0596582035, 92014.5806859195, 91974.2515496175, 92104.65647661602, 91295.3038923135, 90851.2402156695, 91150.274113689, 91197.02932116001, 90839.05283931449, 91026.9600238425, 91737.5948596695, 91461.606182394, 91631.34309672, 91341.505128132, 91284.77843091602, 91595.224144977, 91762.85596702351, 92520.13521599102, 92364.80156463, 92368.2361888755, 92083.4947594905, 92093.2446605745, 92459.97389452951, 92814.62654646001, 93965.89043468551, 87486.6039403288, 85240.0, 85170.40000000001, 91420.95111458, 91030.9553296652, 90635.0845055364, 90993.4618975904, 90678.4529768252, 90440.5672981056, 90716.480503374, 90734.96017217441, 90913.02726980601, 90781.5332103072, 91341.90513242802, 91054.7759432056, 93609.8182566106, 93230.4338971052, 93240.99374010679, 93137.04528555978, 93496.8499361664], \"yaxis\": \"y3\"}, {\"mode\": \"lines\", \"name\": \"net_worth\", \"type\": \"scatter\", \"uid\": \"146c3e5b-f3a7-4ad0-9809-7bb21b54aa57\", \"xaxis\": \"x3\", \"y\": [97409.9, 97373.86507067, 97248.0745409999, 97026.8176382032, 97987.53551360901, 97593.72674760001, 97593.72674760001, 97585.2801528973, 94936.5596893727, 94948.292660194, 95100.37689750489, 95219.2116531742, 95008.6035218395, 95318.258443228, 94852.973846323, 94640.9752092964, 94295.7019498, 94456.03795227369, 94252.0614634696, 92865.4064027164, 90869.6799865795, 91176.04, 91821.93999999999, 91732.14, 91916.14, 91858.04, 91602.93999999999, 91962.64, 93322.4247736211, 93342.63323431001, 93257.0444596276, 91256.8391179653, 91743.24704075001, 92400.29217972599, 92266.289552698, 92525.649475978, 92336.4247986183, 92042.8077521384, 92577.30532736461, 92508.89914759951, 92307.8952070575, 93057.2292520673, 93183.775281301, 93363.04973705501, 93291.25501089102, 93270.204088096, 92694.62754114851, 93236.74420028501, 93020.252078488, 91948.20613657, 92280.58912807, 92438.6926376935, 92618.4010417645, 92518.796938645, 92192.7292239835, 92541.842159389, 92735.8430320945, 92601.7818921895, 92269.84207801151, 92062.21350265451, 91046.34028630001, 91160.7908297065, 91430.79661313501, 90929.0090903005, 90093.509044, 89949.80879734151, 88742.70456654401, 88921.8589989625, 89190.535250425, 89118.40814126951, 89458.65753023501, 89683.2376381585, 88826.79746339351, 90192.6699697975, 90560.9503243795, 90403.6223750695, 90733.1247139765, 90481.28920075, 90392.65373635001, 90253.05287992, 90093.6198383305, 90504.44521582451, 90614.1316030195, 90436.4174968975, 91593.5534846395, 91771.15679643101, 91867.6586582965, 91810.82116675, 91643.521727695, 91964.49290315351, 91572.613356175, 91434.0096487195, 91423.04101, 91836.303862765, 91734.7054616965, 91875.4142614315, 91588.124562445, 91091.4335788135, 91753.98367520352, 91488.07728200352, 92005.376011108, 93251.14746325, 93069.99873288251, 92575.19125286951, 92647.096773364, 92641.7786455, 92418.74965820351, 92586.2706859195, 92545.9415496175, 92676.34647661602, 91866.9938923135, 91422.9302156695, 91721.964113689, 91768.71932116001, 91410.7428393145, 91598.6500238425, 92309.2848596695, 92033.296182394, 92203.03309672, 91913.195128132, 91856.46843091602, 92166.914144977, 92334.54596702351, 93091.82521599102, 92936.49156463, 92939.9261888755, 92655.1847594905, 92664.93466057451, 93031.66389452951, 93386.31654646002, 94537.58043468551, 94879.1739403288, 94948.6, 94879.00000000001, 95304.39111458001, 94914.3953296652, 94518.5245055364, 94876.9018975904, 94561.8929768252, 94324.0072981056, 94599.920503374, 94618.40017217441, 94796.46726980602, 94664.9732103072, 95225.34513242802, 94938.2159432056, 94774.8482566106, 94395.4638971052, 94406.02374010679, 94302.07528555978, 94661.8799361664], \"yaxis\": \"y3\"}, {\"marker\": {\"color\": \"DarkGreen\"}, \"mode\": \"lines\", \"name\": \"Net Worth\", \"type\": \"scatter\", \"uid\": \"7447514d-f491-4ee3-9a5a-de6882af6407\", \"xaxis\": \"x4\", \"y\": [97409.9, 97373.86507067, 97248.0745409999, 97026.8176382032, 97987.53551360901, 97593.72674760001, 97593.72674760001, 97585.2801528973, 94936.5596893727, 94948.292660194, 95100.37689750489, 95219.2116531742, 95008.6035218395, 95318.258443228, 94852.973846323, 94640.9752092964, 94295.7019498, 94456.03795227369, 94252.0614634696, 92865.4064027164, 90869.6799865795, 91176.04, 91821.93999999999, 91732.14, 91916.14, 91858.04, 91602.93999999999, 91962.64, 93322.4247736211, 93342.63323431001, 93257.0444596276, 91256.8391179653, 91743.24704075001, 92400.29217972599, 92266.289552698, 92525.649475978, 92336.4247986183, 92042.8077521384, 92577.30532736461, 92508.89914759951, 92307.8952070575, 93057.2292520673, 93183.775281301, 93363.04973705501, 93291.25501089102, 93270.204088096, 92694.62754114851, 93236.74420028501, 93020.252078488, 91948.20613657, 92280.58912807, 92438.6926376935, 92618.4010417645, 92518.796938645, 92192.7292239835, 92541.842159389, 92735.8430320945, 92601.7818921895, 92269.84207801151, 92062.21350265451, 91046.34028630001, 91160.7908297065, 91430.79661313501, 90929.0090903005, 90093.509044, 89949.80879734151, 88742.70456654401, 88921.8589989625, 89190.535250425, 89118.40814126951, 89458.65753023501, 89683.2376381585, 88826.79746339351, 90192.6699697975, 90560.9503243795, 90403.6223750695, 90733.1247139765, 90481.28920075, 90392.65373635001, 90253.05287992, 90093.6198383305, 90504.44521582451, 90614.1316030195, 90436.4174968975, 91593.5534846395, 91771.15679643101, 91867.6586582965, 91810.82116675, 91643.521727695, 91964.49290315351, 91572.613356175, 91434.0096487195, 91423.04101, 91836.303862765, 91734.7054616965, 91875.4142614315, 91588.124562445, 91091.4335788135, 91753.98367520352, 91488.07728200352, 92005.376011108, 93251.14746325, 93069.99873288251, 92575.19125286951, 92647.096773364, 92641.7786455, 92418.74965820351, 92586.2706859195, 92545.9415496175, 92676.34647661602, 91866.9938923135, 91422.9302156695, 91721.964113689, 91768.71932116001, 91410.7428393145, 91598.6500238425, 92309.2848596695, 92033.296182394, 92203.03309672, 91913.195128132, 91856.46843091602, 92166.914144977, 92334.54596702351, 93091.82521599102, 92936.49156463, 92939.9261888755, 92655.1847594905, 92664.93466057451, 93031.66389452951, 93386.31654646002, 94537.58043468551, 94879.1739403288, 94948.6, 94879.00000000001, 95304.39111458001, 94914.3953296652, 94518.5245055364, 94876.9018975904, 94561.8929768252, 94324.0072981056, 94599.920503374, 94618.40017217441, 94796.46726980602, 94664.9732103072, 95225.34513242802, 94938.2159432056, 94774.8482566106, 94395.4638971052, 94406.02374010679, 94302.07528555978, 94661.8799361664], \"yaxis\": \"y4\"}],                        {\"annotations\": [{\"arrowcolor\": \"DarkGreen\", \"arrowhead\": 2, \"arrowsize\": 0.8, \"arrowwidth\": 4, \"ax\": 0, \"ay\": 15, \"hoverlabel\": {\"bgcolor\": \"DarkGreen\"}, \"hovertext\": \"Step 43 [2018-05-17 00:00:00]<br>BUY 0.27276958 BTC @ 8358.3 USD MARKET<br>Total: 2279.89 USD - Comm.: 6.86 USD\", \"opacity\": 0.6, \"showarrow\": true, \"x\": 42, \"xref\": \"x\", \"y\": 8358.3, \"yref\": \"y\"}, {\"arrowcolor\": \"DarkGreen\", \"arrowhead\": 2, \"arrowsize\": 0.8, \"arrowwidth\": 4, \"ax\": 0, \"ay\": 15, \"hoverlabel\": {\"bgcolor\": \"DarkGreen\"}, \"hovertext\": \"Step 28 [2018-05-16 09:00:00]<br>BUY 0.80666347 BTC @ 8243.45 USD MARKET<br>Total: 6649.69 USD - Comm.: 20.01 USD\", \"opacity\": 0.6, \"showarrow\": true, \"x\": 27, \"xref\": \"x\", \"y\": 8243.45, \"yref\": \"y\"}, {\"arrowcolor\": \"FireBrick\", \"arrowhead\": 2, \"arrowsize\": 0.8, \"arrowwidth\": 4, \"ax\": 0, \"ay\": -15, \"hoverlabel\": {\"bgcolor\": \"FireBrick\"}, \"hovertext\": \"Step 21 [2018-05-16 02:00:00]<br>SELL 0.29600496 BTC @ 8133.43 USD MARKET<br>Total: 2407.54 USD - Comm.: 0.00089069 BTC\", \"opacity\": 0.6, \"showarrow\": true, \"x\": 20, \"xref\": \"x\", \"y\": 8133.43, \"yref\": \"y\"}, {\"arrowcolor\": \"FireBrick\", \"arrowhead\": 2, \"arrowsize\": 0.8, \"arrowwidth\": 4, \"ax\": 0, \"ay\": -15, \"hoverlabel\": {\"bgcolor\": \"FireBrick\"}, \"hovertext\": \"Step 20 [2018-05-16 01:00:00]<br>SELL 0.39810407 BTC @ 8326.28 USD MARKET<br>Total: 3314.73 USD - Comm.: 0.00119791 BTC\", \"opacity\": 0.6, \"showarrow\": true, \"x\": 19, \"xref\": \"x\", \"y\": 8326.28, \"yref\": \"y\"}, {\"arrowcolor\": \"DarkGreen\", \"arrowhead\": 2, \"arrowsize\": 0.8, \"arrowwidth\": 4, \"ax\": 0, \"ay\": 15, \"hoverlabel\": {\"bgcolor\": \"DarkGreen\"}, \"hovertext\": \"Step 10 [2018-05-15 15:00:00]<br>BUY 0.29689565 BTC @ 8520.3 USD MARKET<br>Total: 2529.64 USD - Comm.: 7.61 USD\", \"opacity\": 0.6, \"showarrow\": true, \"x\": 9, \"xref\": \"x\", \"y\": 8520.3, \"yref\": \"y\"}, {\"arrowcolor\": \"FireBrick\", \"arrowhead\": 2, \"arrowsize\": 0.8, \"arrowwidth\": 4, \"ax\": 0, \"ay\": -15, \"hoverlabel\": {\"bgcolor\": \"FireBrick\"}, \"hovertext\": \"Step 9 [2018-05-15 14:00:00]<br>SELL 0.56859063 BTC @ 8517.77 USD MARKET<br>Total: 4843.12 USD - Comm.: 0.00171090 BTC\", \"opacity\": 0.6, \"showarrow\": true, \"x\": 8, \"xref\": \"x\", \"y\": 8517.77, \"yref\": \"y\"}, {\"arrowcolor\": \"DarkGreen\", \"arrowhead\": 2, \"arrowsize\": 0.8, \"arrowwidth\": 4, \"ax\": 0, \"ay\": 15, \"hoverlabel\": {\"bgcolor\": \"DarkGreen\"}, \"hovertext\": \"Step 2 [2018-05-15 07:00:00]<br>BUY 0.39930198 BTC @ 8739.0 USD MARKET<br>Total: 3489.5 USD - Comm.: 10.50 USD\", \"opacity\": 0.6, \"showarrow\": true, \"x\": 1, \"xref\": \"x\", \"y\": 8739.0, \"yref\": \"y\"}, {\"arrowcolor\": \"DarkGreen\", \"arrowhead\": 2, \"arrowsize\": 0.8, \"arrowwidth\": 4, \"ax\": 0, \"ay\": 15, \"hoverlabel\": {\"bgcolor\": \"DarkGreen\"}, \"hovertext\": \"Step 1 [2018-05-15 06:00:00]<br>BUY 0.57030153 BTC @ 8740.99 USD MARKET<br>Total: 4985.0 USD - Comm.: 15.00 USD\", \"opacity\": 0.6, \"showarrow\": true, \"x\": 0, \"xref\": \"x\", \"y\": 8740.99, \"yref\": \"y\"}, {\"arrowcolor\": \"DarkGreen\", \"arrowhead\": 2, \"arrowsize\": 0.8, \"arrowwidth\": 4, \"ax\": 0, \"ay\": 15, \"hoverlabel\": {\"bgcolor\": \"DarkGreen\"}, \"hovertext\": \"Step 146 [2018-05-21 07:00:00]<br>BUY 0.31794698 BTC @ 8524.22 USD MARKET<br>Total: 2710.25 USD - Comm.: 8.16 USD\", \"opacity\": 0.6, \"showarrow\": true, \"x\": 145, \"xref\": \"x\", \"y\": 8524.22, \"yref\": \"y\"}, {\"arrowcolor\": \"DarkGreen\", \"arrowhead\": 2, \"arrowsize\": 0.8, \"arrowwidth\": 4, \"ax\": 0, \"ay\": 15, \"hoverlabel\": {\"bgcolor\": \"DarkGreen\"}, \"hovertext\": \"Step 134 [2018-05-20 19:00:00]<br>BUY 0.68188948 BTC @ 8517.04 USD MARKET<br>Total: 5807.68 USD - Comm.: 17.48 USD\", \"opacity\": 0.6, \"showarrow\": true, \"x\": 133, \"xref\": \"x\", \"y\": 8517.04, \"yref\": \"y\"}, {\"arrowcolor\": \"FireBrick\", \"arrowhead\": 2, \"arrowsize\": 0.8, \"arrowwidth\": 4, \"ax\": 0, \"ay\": -15, \"hoverlabel\": {\"bgcolor\": \"FireBrick\"}, \"hovertext\": \"Step 132 [2018-05-20 17:00:00]<br>SELL 0.27195127 BTC @ 8516.36 USD MARKET<br>Total: 2316.03 USD - Comm.: 0.00081831 BTC\", \"opacity\": 0.6, \"showarrow\": true, \"x\": 131, \"xref\": \"x\", \"y\": 8516.36, \"yref\": \"y\"}, {\"arrowcolor\": \"FireBrick\", \"arrowhead\": 2, \"arrowsize\": 0.8, \"arrowwidth\": 4, \"ax\": 0, \"ay\": -15, \"hoverlabel\": {\"bgcolor\": \"FireBrick\"}, \"hovertext\": \"Step 131 [2018-05-20 16:00:00]<br>SELL 0.80424348 BTC @ 8481.11 USD MARKET<br>Total: 6820.88 USD - Comm.: 0.00241999 BTC\", \"opacity\": 0.6, \"showarrow\": true, \"x\": 130, \"xref\": \"x\", \"y\": 8481.11, \"yref\": \"y\"}], \"margin\": {\"t\": 50}, \"template\": {\"data\": {\"bar\": [{\"error_x\": {\"color\": \"#2a3f5f\"}, \"error_y\": {\"color\": \"#2a3f5f\"}, \"marker\": {\"line\": {\"color\": \"white\", \"width\": 0.5}}, \"type\": \"bar\"}], \"barpolar\": [{\"marker\": {\"line\": {\"color\": \"white\", \"width\": 0.5}}, \"type\": \"barpolar\"}], \"carpet\": [{\"aaxis\": {\"endlinecolor\": \"#2a3f5f\", \"gridcolor\": \"#C8D4E3\", \"linecolor\": \"#C8D4E3\", \"minorgridcolor\": \"#C8D4E3\", \"startlinecolor\": \"#2a3f5f\"}, \"baxis\": {\"endlinecolor\": \"#2a3f5f\", \"gridcolor\": \"#C8D4E3\", \"linecolor\": \"#C8D4E3\", \"minorgridcolor\": \"#C8D4E3\", \"startlinecolor\": \"#2a3f5f\"}, \"type\": \"carpet\"}], \"choropleth\": [{\"colorbar\": {\"outlinewidth\": 0, \"ticks\": \"\"}, \"type\": \"choropleth\"}], \"contour\": [{\"colorbar\": {\"outlinewidth\": 0, \"ticks\": \"\"}, \"colorscale\": [[0.0, \"#0d0887\"], [0.1111111111111111, \"#46039f\"], [0.2222222222222222, \"#7201a8\"], [0.3333333333333333, \"#9c179e\"], [0.4444444444444444, \"#bd3786\"], [0.5555555555555556, \"#d8576b\"], [0.6666666666666666, \"#ed7953\"], [0.7777777777777778, \"#fb9f3a\"], [0.8888888888888888, \"#fdca26\"], [1.0, \"#f0f921\"]], \"type\": \"contour\"}], \"contourcarpet\": [{\"colorbar\": {\"outlinewidth\": 0, \"ticks\": \"\"}, \"type\": \"contourcarpet\"}], \"heatmap\": [{\"colorbar\": {\"outlinewidth\": 0, \"ticks\": \"\"}, \"colorscale\": [[0.0, \"#0d0887\"], [0.1111111111111111, \"#46039f\"], [0.2222222222222222, \"#7201a8\"], [0.3333333333333333, \"#9c179e\"], [0.4444444444444444, \"#bd3786\"], [0.5555555555555556, \"#d8576b\"], [0.6666666666666666, \"#ed7953\"], [0.7777777777777778, \"#fb9f3a\"], [0.8888888888888888, \"#fdca26\"], [1.0, \"#f0f921\"]], \"type\": \"heatmap\"}], \"heatmapgl\": [{\"colorbar\": {\"outlinewidth\": 0, \"ticks\": \"\"}, \"colorscale\": [[0.0, \"#0d0887\"], [0.1111111111111111, \"#46039f\"], [0.2222222222222222, \"#7201a8\"], [0.3333333333333333, \"#9c179e\"], [0.4444444444444444, \"#bd3786\"], [0.5555555555555556, \"#d8576b\"], [0.6666666666666666, \"#ed7953\"], [0.7777777777777778, \"#fb9f3a\"], [0.8888888888888888, \"#fdca26\"], [1.0, \"#f0f921\"]], \"type\": \"heatmapgl\"}], \"histogram\": [{\"marker\": {\"colorbar\": {\"outlinewidth\": 0, \"ticks\": \"\"}}, \"type\": \"histogram\"}], \"histogram2d\": [{\"colorbar\": {\"outlinewidth\": 0, \"ticks\": \"\"}, \"colorscale\": [[0.0, \"#0d0887\"], [0.1111111111111111, \"#46039f\"], [0.2222222222222222, \"#7201a8\"], [0.3333333333333333, \"#9c179e\"], [0.4444444444444444, \"#bd3786\"], [0.5555555555555556, \"#d8576b\"], [0.6666666666666666, \"#ed7953\"], [0.7777777777777778, \"#fb9f3a\"], [0.8888888888888888, \"#fdca26\"], [1.0, \"#f0f921\"]], \"type\": \"histogram2d\"}], \"histogram2dcontour\": [{\"colorbar\": {\"outlinewidth\": 0, \"ticks\": \"\"}, \"colorscale\": [[0.0, \"#0d0887\"], [0.1111111111111111, \"#46039f\"], [0.2222222222222222, \"#7201a8\"], [0.3333333333333333, \"#9c179e\"], [0.4444444444444444, \"#bd3786\"], [0.5555555555555556, \"#d8576b\"], [0.6666666666666666, \"#ed7953\"], [0.7777777777777778, \"#fb9f3a\"], [0.8888888888888888, \"#fdca26\"], [1.0, \"#f0f921\"]], \"type\": \"histogram2dcontour\"}], \"mesh3d\": [{\"colorbar\": {\"outlinewidth\": 0, \"ticks\": \"\"}, \"type\": \"mesh3d\"}], \"parcoords\": [{\"line\": {\"colorbar\": {\"outlinewidth\": 0, \"ticks\": \"\"}}, \"type\": \"parcoords\"}], \"pie\": [{\"automargin\": true, \"type\": \"pie\"}], \"scatter\": [{\"marker\": {\"colorbar\": {\"outlinewidth\": 0, \"ticks\": \"\"}}, \"type\": \"scatter\"}], \"scatter3d\": [{\"line\": {\"colorbar\": {\"outlinewidth\": 0, \"ticks\": \"\"}}, \"marker\": {\"colorbar\": {\"outlinewidth\": 0, \"ticks\": \"\"}}, \"type\": \"scatter3d\"}], \"scattercarpet\": [{\"marker\": {\"colorbar\": {\"outlinewidth\": 0, \"ticks\": \"\"}}, \"type\": \"scattercarpet\"}], \"scattergeo\": [{\"marker\": {\"colorbar\": {\"outlinewidth\": 0, \"ticks\": \"\"}}, \"type\": \"scattergeo\"}], \"scattergl\": [{\"marker\": {\"colorbar\": {\"outlinewidth\": 0, \"ticks\": \"\"}}, \"type\": \"scattergl\"}], \"scattermapbox\": [{\"marker\": {\"colorbar\": {\"outlinewidth\": 0, \"ticks\": \"\"}}, \"type\": \"scattermapbox\"}], \"scatterpolar\": [{\"marker\": {\"colorbar\": {\"outlinewidth\": 0, \"ticks\": \"\"}}, \"type\": \"scatterpolar\"}], \"scatterpolargl\": [{\"marker\": {\"colorbar\": {\"outlinewidth\": 0, \"ticks\": \"\"}}, \"type\": \"scatterpolargl\"}], \"scatterternary\": [{\"marker\": {\"colorbar\": {\"outlinewidth\": 0, \"ticks\": \"\"}}, \"type\": \"scatterternary\"}], \"surface\": [{\"colorbar\": {\"outlinewidth\": 0, \"ticks\": \"\"}, \"colorscale\": [[0.0, \"#0d0887\"], [0.1111111111111111, \"#46039f\"], [0.2222222222222222, \"#7201a8\"], [0.3333333333333333, \"#9c179e\"], [0.4444444444444444, \"#bd3786\"], [0.5555555555555556, \"#d8576b\"], [0.6666666666666666, \"#ed7953\"], [0.7777777777777778, \"#fb9f3a\"], [0.8888888888888888, \"#fdca26\"], [1.0, \"#f0f921\"]], \"type\": \"surface\"}], \"table\": [{\"cells\": {\"fill\": {\"color\": \"#EBF0F8\"}, \"line\": {\"color\": \"white\"}}, \"header\": {\"fill\": {\"color\": \"#C8D4E3\"}, \"line\": {\"color\": \"white\"}}, \"type\": \"table\"}]}, \"layout\": {\"annotationdefaults\": {\"arrowcolor\": \"#2a3f5f\", \"arrowhead\": 0, \"arrowwidth\": 1}, \"autotypenumbers\": \"strict\", \"coloraxis\": {\"colorbar\": {\"outlinewidth\": 0, \"ticks\": \"\"}}, \"colorscale\": {\"diverging\": [[0, \"#8e0152\"], [0.1, \"#c51b7d\"], [0.2, \"#de77ae\"], [0.3, \"#f1b6da\"], [0.4, \"#fde0ef\"], [0.5, \"#f7f7f7\"], [0.6, \"#e6f5d0\"], [0.7, \"#b8e186\"], [0.8, \"#7fbc41\"], [0.9, \"#4d9221\"], [1, \"#276419\"]], \"sequential\": [[0.0, \"#0d0887\"], [0.1111111111111111, \"#46039f\"], [0.2222222222222222, \"#7201a8\"], [0.3333333333333333, \"#9c179e\"], [0.4444444444444444, \"#bd3786\"], [0.5555555555555556, \"#d8576b\"], [0.6666666666666666, \"#ed7953\"], [0.7777777777777778, \"#fb9f3a\"], [0.8888888888888888, \"#fdca26\"], [1.0, \"#f0f921\"]], \"sequentialminus\": [[0.0, \"#0d0887\"], [0.1111111111111111, \"#46039f\"], [0.2222222222222222, \"#7201a8\"], [0.3333333333333333, \"#9c179e\"], [0.4444444444444444, \"#bd3786\"], [0.5555555555555556, \"#d8576b\"], [0.6666666666666666, \"#ed7953\"], [0.7777777777777778, \"#fb9f3a\"], [0.8888888888888888, \"#fdca26\"], [1.0, \"#f0f921\"]]}, \"colorway\": [\"#636efa\", \"#EF553B\", \"#00cc96\", \"#ab63fa\", \"#FFA15A\", \"#19d3f3\", \"#FF6692\", \"#B6E880\", \"#FF97FF\", \"#FECB52\"], \"font\": {\"color\": \"#2a3f5f\"}, \"geo\": {\"bgcolor\": \"white\", \"lakecolor\": \"white\", \"landcolor\": \"white\", \"showlakes\": true, \"showland\": true, \"subunitcolor\": \"#C8D4E3\"}, \"hoverlabel\": {\"align\": \"left\"}, \"hovermode\": \"closest\", \"mapbox\": {\"style\": \"light\"}, \"paper_bgcolor\": \"white\", \"plot_bgcolor\": \"white\", \"polar\": {\"angularaxis\": {\"gridcolor\": \"#EBF0F8\", \"linecolor\": \"#EBF0F8\", \"ticks\": \"\"}, \"bgcolor\": \"white\", \"radialaxis\": {\"gridcolor\": \"#EBF0F8\", \"linecolor\": \"#EBF0F8\", \"ticks\": \"\"}}, \"scene\": {\"xaxis\": {\"backgroundcolor\": \"white\", \"gridcolor\": \"#DFE8F3\", \"gridwidth\": 2, \"linecolor\": \"#EBF0F8\", \"showbackground\": true, \"ticks\": \"\", \"zerolinecolor\": \"#EBF0F8\"}, \"yaxis\": {\"backgroundcolor\": \"white\", \"gridcolor\": \"#DFE8F3\", \"gridwidth\": 2, \"linecolor\": \"#EBF0F8\", \"showbackground\": true, \"ticks\": \"\", \"zerolinecolor\": \"#EBF0F8\"}, \"zaxis\": {\"backgroundcolor\": \"white\", \"gridcolor\": \"#DFE8F3\", \"gridwidth\": 2, \"linecolor\": \"#EBF0F8\", \"showbackground\": true, \"ticks\": \"\", \"zerolinecolor\": \"#EBF0F8\"}}, \"shapedefaults\": {\"line\": {\"color\": \"#2a3f5f\"}}, \"ternary\": {\"aaxis\": {\"gridcolor\": \"#DFE8F3\", \"linecolor\": \"#A2B1C6\", \"ticks\": \"\"}, \"baxis\": {\"gridcolor\": \"#DFE8F3\", \"linecolor\": \"#A2B1C6\", \"ticks\": \"\"}, \"bgcolor\": \"white\", \"caxis\": {\"gridcolor\": \"#DFE8F3\", \"linecolor\": \"#A2B1C6\", \"ticks\": \"\"}}, \"title\": {\"x\": 0.05}, \"xaxis\": {\"automargin\": true, \"gridcolor\": \"#EBF0F8\", \"linecolor\": \"#EBF0F8\", \"ticks\": \"\", \"title\": {\"standoff\": 15}, \"zerolinecolor\": \"#EBF0F8\", \"zerolinewidth\": 2}, \"yaxis\": {\"automargin\": true, \"gridcolor\": \"#EBF0F8\", \"linecolor\": \"#EBF0F8\", \"ticks\": \"\", \"title\": {\"standoff\": 15}, \"zerolinecolor\": \"#EBF0F8\", \"zerolinewidth\": 2}}}, \"title\": {\"text\": \"[2021-03-31 16:19:43 PM] Episode: 2/2 Step: 151/200\"}, \"xaxis\": {\"anchor\": \"y\", \"domain\": [0.0, 1.0], \"gridcolor\": \"Gainsboro\", \"linecolor\": \"Grey\", \"matches\": \"x4\", \"rangeslider\": {\"visible\": false}, \"showticklabels\": false, \"title\": {\"font\": {\"size\": 12}, \"standoff\": 7, \"text\": \"Price\"}}, \"xaxis2\": {\"anchor\": \"y2\", \"domain\": [0.0, 1.0], \"gridcolor\": \"Gainsboro\", \"linecolor\": \"Grey\", \"matches\": \"x4\", \"showticklabels\": false, \"title\": {\"font\": {\"size\": 12}, \"standoff\": 7, \"text\": \"Volume\"}}, \"xaxis3\": {\"anchor\": \"y3\", \"domain\": [0.0, 1.0], \"gridcolor\": \"Gainsboro\", \"linecolor\": \"Grey\", \"matches\": \"x4\", \"showticklabels\": false, \"title\": {\"font\": {\"size\": 12}, \"standoff\": 7, \"text\": \"Performance\"}}, \"xaxis4\": {\"anchor\": \"y4\", \"domain\": [0.0, 1.0], \"gridcolor\": \"Gainsboro\", \"linecolor\": \"Grey\", \"title\": {\"font\": {\"size\": 12}, \"standoff\": 7, \"text\": \"Net Worth\"}}, \"yaxis\": {\"anchor\": \"x\", \"domain\": [0.49950000000000006, 1.0], \"gridcolor\": \"Gainsboro\", \"linecolor\": \"Grey\"}, \"yaxis2\": {\"anchor\": \"x2\", \"domain\": [0.333, 0.46950000000000003], \"gridcolor\": \"Gainsboro\", \"linecolor\": \"Grey\"}, \"yaxis3\": {\"anchor\": \"x3\", \"domain\": [0.1665, 0.30300000000000005], \"gridcolor\": \"Gainsboro\", \"linecolor\": \"Grey\"}, \"yaxis4\": {\"anchor\": \"x4\", \"domain\": [0.0, 0.1365], \"gridcolor\": \"Gainsboro\", \"linecolor\": \"Grey\"}},                        {\"responsive\": true}                    ).then(function(){\n                            \nvar gd = document.getElementById('c70ea0a6-e1b5-4517-9639-de93782c944d');\nvar x = new MutationObserver(function (mutations, observer) {{\n        var display = window.getComputedStyle(gd).display;\n        if (!display || display === 'none') {{\n            console.log([gd, 'removed!']);\n            Plotly.purge(gd);\n            observer.disconnect();\n        }}\n}});\n\n// Listen for the removal of the full notebook cells\nvar notebookContainer = gd.closest('#notebook-container');\nif (notebookContainer) {{\n    x.observe(notebookContainer, {childList: true});\n}}\n\n// Listen for the clearing of the current output cell\nvar outputEl = gd.closest('.output');\nif (outputEl) {{\n    x.observe(outputEl, {childList: true});\n}}\n\n                        })                };                });            </script>        </div>"
     },
     "metadata": {},
     "output_type": "display_data"
    },
    {
     "data": {
      "text/plain": "FigureWidget({\n    'data': [{'close': array([8740.99, 8739.  , 8728.49, 8708.32, 8795.9 , 8760.  , 8760.  , 87…",
      "application/vnd.jupyter.widget-view+json": {
       "version_major": 2,
       "version_minor": 0,
       "model_id": "5ceb3937aefb4bd7accb5215a8d44617"
      }
     },
     "metadata": {},
     "output_type": "display_data"
    },
    {
     "data": {
      "application/vnd.plotly.v1+json": {
       "config": {
        "plotlyServerURL": "https://plot.ly"
       },
       "data": [
        {
         "close": [
          8740.99,
          8739.0,
          8728.49,
          8708.32,
          8795.9,
          8760.0,
          8760.0,
          8759.23,
          8517.77,
          8520.3,
          8535.23,
          8546.34,
          8526.65,
          8555.6,
          8512.1,
          8492.28,
          8460.0,
          8474.99,
          8455.92,
          8326.28,
          8133.43,
          8164.79,
          8229.38,
          8220.4,
          8238.8,
          8232.99,
          8207.48,
          8243.45,
          8371.13,
          8373.0,
          8365.08,
          8179.99,
          8225.0,
          8285.8,
          8273.4,
          8297.4,
          8279.89,
          8252.72,
          8302.18,
          8295.85,
          8277.25,
          8346.59,
          8358.3,
          8375.1,
          8368.62,
          8366.72,
          8314.77,
          8363.7,
          8344.16,
          8247.4,
          8277.4,
          8291.67,
          8307.89,
          8298.9,
          8269.47,
          8300.98,
          8318.49,
          8306.39,
          8276.43,
          8257.69,
          8166.0,
          8176.33,
          8200.7,
          8155.41,
          8080.0,
          8067.03,
          7958.08,
          7974.25,
          7998.5,
          7991.99,
          8022.7,
          8042.97,
          7965.67,
          8088.95,
          8122.19,
          8107.99,
          8137.73,
          8115.0,
          8107.0,
          8094.4,
          8080.01,
          8117.09,
          8126.99,
          8110.95,
          8215.39,
          8231.42,
          8240.13,
          8235.0,
          8219.9,
          8248.87,
          8213.5,
          8200.99,
          8200.0,
          8237.3,
          8228.13,
          8240.83,
          8214.9,
          8170.07,
          8229.87,
          8205.87,
          8252.56,
          8365.0,
          8348.65,
          8303.99,
          8310.48,
          8310.0,
          8289.87,
          8304.99,
          8301.35,
          8313.12,
          8240.07,
          8199.99,
          8226.98,
          8231.2,
          8198.89,
          8215.85,
          8279.99,
          8255.08,
          8270.4,
          8244.24,
          8239.12,
          8267.14,
          8282.27,
          8350.62,
          8336.6,
          8336.91,
          8311.21,
          8312.09,
          8345.19,
          8377.2,
          8481.11,
          8516.36,
          8524.0,
          8517.04,
          8558.5,
          8521.99,
          8484.93,
          8518.48,
          8488.99,
          8466.72,
          8492.55,
          8494.28,
          8510.95,
          8498.64,
          8551.1,
          8524.22,
          8510.11,
          8475.62,
          8476.58,
          8467.13,
          8499.84,
          8490.42,
          8407.09,
          8409.42,
          8400.96,
          8383.14,
          8350.0,
          8373.01,
          8412.8,
          8385.57,
          8408.53,
          8391.76,
          8367.36,
          8280.24,
          8297.91,
          8333.99,
          8285.29,
          8280.0,
          8317.02,
          8320.16,
          8295.9,
          8245.47,
          8264.98,
          8200.0,
          8170.0,
          8217.0,
          8231.63,
          8232.8,
          8225.38,
          8200.01,
          8219.98,
          8187.98,
          8100.32,
          8076.99,
          7964.73,
          7984.08,
          7949.35,
          7900.61,
          7895.5,
          7960.0,
          7900.0,
          7921.99,
          7943.07,
          7856.37,
          7848.3,
          7852.68,
          7847.1,
          7849.31,
          7911.83,
          7901.01,
          7887.0
         ],
         "high": [
          8796.68,
          8766.0,
          8750.27,
          8754.4,
          8865.0,
          8821.19,
          8798.6,
          8771.02,
          8761.7,
          8553.67,
          8589.1,
          8579.48,
          8555.51,
          8583.6,
          8569.92,
          8555.54,
          8557.51,
          8505.0,
          8505.33,
          8478.29,
          8339.81,
          8217.44,
          8252.72,
          8248.63,
          8267.12,
          8255.0,
          8261.24,
          8263.93,
          8455.66,
          8439.44,
          8399.1,
          8381.73,
          8229.91,
          8377.29,
          8329.1,
          8350.0,
          8346.95,
          8377.29,
          8311.35,
          8319.96,
          8398.24,
          8372.58,
          8399.99,
          8386.53,
          8400.0,
          8500.0,
          8381.0,
          8371.3,
          8382.41,
          8351.0,
          8292.99,
          8325.8,
          8318.99,
          8324.9,
          8335.56,
          8309.4,
          8377.29,
          8330.41,
          8328.23,
          8284.36,
          8274.83,
          8200.0,
          8232.14,
          8213.97,
          8155.41,
          8108.28,
          8068.92,
          8019.9,
          8026.66,
          8025.0,
          8104.69,
          8061.39,
          8045.99,
          8170.71,
          8144.16,
          8139.99,
          8152.99,
          8137.73,
          8143.72,
          8129.99,
          8106.76,
          8139.0,
          8152.04,
          8146.99,
          8232.14,
          8275.1,
          8256.12,
          8274.1,
          8255.8,
          8253.97,
          8261.09,
          8235.76,
          8227.0,
          8273.36,
          8264.21,
          8250.0,
          8250.86,
          8235.77,
          8232.12,
          8232.14,
          8252.72,
          8370.0,
          8395.0,
          8374.48,
          8331.0,
          8319.43,
          8323.4,
          8314.55,
          8330.62,
          8314.8,
          8323.99,
          8263.03,
          8247.78,
          8253.75,
          8237.89,
          8235.0,
          8279.99,
          8290.0,
          8278.71,
          8275.34,
          8279.31,
          8279.98,
          8294.04,
          8356.4,
          8374.94,
          8354.83,
          8360.45,
          8337.14,
          8351.97,
          8377.29,
          8549.0,
          8531.9,
          8551.79,
          8529.9,
          8590.0,
          8576.1,
          8549.89,
          8531.89,
          8550.0,
          8493.29,
          8522.98,
          8517.0,
          8537.29,
          8524.51,
          8589.1,
          8589.07,
          8536.92,
          8524.03,
          8497.8,
          8498.0,
          8513.5,
          8510.0,
          8494.7,
          8427.29,
          8419.03,
          8415.47,
          8389.99,
          8397.57,
          8455.0,
          8429.66,
          8412.61,
          8424.0,
          8417.65,
          8369.7,
          8326.5,
          8336.65,
          8333.99,
          8314.32,
          8355.97,
          8333.49,
          8325.6,
          8296.01,
          8264.98,
          8271.31,
          8200.0,
          8232.14,
          8246.0,
          8248.94,
          8259.95,
          8242.49,
          8232.04,
          8230.9,
          8205.0,
          8118.98,
          8103.07,
          8040.95,
          8032.01,
          7960.25,
          7920.0,
          7960.0,
          7960.0,
          7935.0,
          7960.99,
          7951.38,
          7888.92,
          7870.0,
          7909.75,
          7882.27,
          7949.27,
          7944.73,
          7916.48
         ],
         "low": [
          8707.28,
          8721.11,
          8660.53,
          8701.35,
          8695.11,
          8740.54,
          8741.52,
          8700.0,
          8467.42,
          8477.89,
          8500.78,
          8500.0,
          8400.0,
          8451.05,
          8461.38,
          8481.24,
          8420.37,
          8450.0,
          8430.94,
          8275.02,
          8100.01,
          8122.56,
          8157.01,
          8166.25,
          8176.91,
          8213.79,
          8200.0,
          8207.48,
          8237.1,
          8370.0,
          8356.4,
          8145.1,
          8173.6,
          8211.8,
          8201.0,
          8250.9,
          8266.46,
          8252.72,
          8232.14,
          8268.37,
          8277.25,
          8277.25,
          8314.78,
          8314.77,
          8350.07,
          8331.39,
          8314.77,
          8275.45,
          8335.49,
          8191.14,
          8227.7,
          8264.13,
          8249.93,
          8269.52,
          8219.44,
          8262.68,
          8286.65,
          8289.87,
          8232.14,
          8232.14,
          8110.02,
          8154.95,
          8168.6,
          8151.0,
          7980.0,
          8005.95,
          7929.53,
          7931.03,
          7950.0,
          7980.58,
          7991.99,
          7992.75,
          7953.4,
          7965.67,
          8085.94,
          8078.48,
          8092.9,
          8049.22,
          8079.46,
          8062.12,
          8043.96,
          8063.1,
          8088.46,
          8094.43,
          8088.46,
          8191.14,
          8212.0,
          8224.5,
          8211.0,
          8211.01,
          8210.03,
          8158.27,
          8177.65,
          8179.41,
          8221.92,
          8217.32,
          8213.52,
          8141.08,
          8146.1,
          8186.03,
          8197.09,
          8231.21,
          8323.82,
          8296.0,
          8296.31,
          8282.65,
          8280.0,
          8273.36,
          8290.08,
          8277.93,
          8240.07,
          8191.14,
          8178.0,
          8193.7,
          8180.0,
          8170.71,
          8215.53,
          8240.02,
          8237.17,
          8237.17,
          8239.12,
          8227.79,
          8247.57,
          8274.24,
          8326.1,
          8320.61,
          8281.31,
          8269.85,
          8311.16,
          8336.11,
          8369.86,
          8471.51,
          8511.0,
          8476.66,
          8507.68,
          8509.24,
          8482.53,
          8484.93,
          8450.0,
          8434.47,
          8461.1,
          8481.0,
          8480.0,
          8488.1,
          8471.09,
          8509.2,
          8482.64,
          8469.0,
          8440.4,
          8440.52,
          8461.8,
          8480.0,
          8358.17,
          8380.73,
          8370.0,
          8383.12,
          8320.0,
          8349.17,
          8357.11,
          8370.58,
          8367.21,
          8376.99,
          8335.6,
          8252.72,
          8264.49,
          8282.59,
          8271.09,
          8261.52,
          8280.0,
          8297.0,
          8290.0,
          8220.0,
          8230.45,
          8180.0,
          8119.38,
          8170.0,
          8189.84,
          8210.76,
          8212.68,
          8200.0,
          8186.0,
          8161.77,
          8063.15,
          8050.01,
          7951.41,
          7964.73,
          7949.35,
          7861.32,
          7865.0,
          7886.48,
          7870.35,
          7885.2,
          7896.41,
          7811.62,
          7808.05,
          7808.0,
          7836.79,
          7801.02,
          7847.36,
          7883.0,
          7850.72
         ],
         "name": "Price",
         "open": [
          8733.86,
          8740.99,
          8739.0,
          8728.49,
          8708.32,
          8795.9,
          8760.0,
          8760.0,
          8759.23,
          8517.77,
          8520.3,
          8535.23,
          8546.34,
          8526.65,
          8555.6,
          8512.1,
          8492.28,
          8460.0,
          8474.99,
          8455.92,
          8326.28,
          8133.43,
          8164.79,
          8229.38,
          8220.4,
          8238.8,
          8232.99,
          8207.48,
          8243.45,
          8371.13,
          8373.0,
          8365.08,
          8179.99,
          8225.0,
          8285.8,
          8273.4,
          8297.4,
          8279.89,
          8252.72,
          8302.18,
          8295.85,
          8277.25,
          8346.59,
          8358.3,
          8375.1,
          8368.62,
          8366.72,
          8314.77,
          8363.7,
          8344.16,
          8247.4,
          8277.4,
          8291.67,
          8307.89,
          8298.9,
          8269.47,
          8300.98,
          8318.49,
          8306.39,
          8276.43,
          8257.69,
          8166.0,
          8176.33,
          8200.7,
          8155.41,
          8080.0,
          8067.03,
          7958.08,
          7974.25,
          7998.5,
          7991.99,
          8022.7,
          8042.97,
          7965.67,
          8088.95,
          8122.19,
          8107.99,
          8137.73,
          8115.0,
          8107.0,
          8094.4,
          8080.01,
          8117.09,
          8126.99,
          8110.95,
          8215.39,
          8231.42,
          8240.13,
          8235.0,
          8219.9,
          8248.87,
          8213.5,
          8200.99,
          8200.0,
          8237.3,
          8228.13,
          8240.83,
          8214.9,
          8170.07,
          8229.87,
          8205.87,
          8252.56,
          8365.0,
          8348.65,
          8303.99,
          8310.48,
          8310.0,
          8289.87,
          8304.99,
          8301.35,
          8313.12,
          8240.07,
          8199.99,
          8226.98,
          8231.2,
          8198.89,
          8215.85,
          8279.99,
          8255.08,
          8270.4,
          8244.24,
          8239.12,
          8267.14,
          8282.27,
          8350.62,
          8336.6,
          8336.91,
          8311.21,
          8312.09,
          8345.19,
          8377.2,
          8481.11,
          8516.36,
          8524.0,
          8517.04,
          8558.5,
          8521.99,
          8484.93,
          8518.48,
          8488.99,
          8466.72,
          8492.55,
          8494.28,
          8510.95,
          8498.64,
          8551.1,
          8524.22,
          8510.11,
          8475.62,
          8476.58,
          8467.13,
          8499.84,
          8490.42,
          8407.09,
          8409.42,
          8400.96,
          8383.14,
          8350.0,
          8373.01,
          8412.8,
          8385.57,
          8408.53,
          8391.76,
          8367.36,
          8280.24,
          8297.91,
          8333.99,
          8285.29,
          8280.0,
          8317.02,
          8320.16,
          8295.9,
          8245.47,
          8264.98,
          8200.0,
          8170.0,
          8217.0,
          8231.63,
          8232.8,
          8225.38,
          8200.01,
          8219.98,
          8187.98,
          8100.32,
          8076.99,
          7964.73,
          7984.08,
          7949.35,
          7900.61,
          7895.5,
          7960.0,
          7900.0,
          7921.99,
          7943.07,
          7856.37,
          7848.3,
          7852.68,
          7847.1,
          7849.31,
          7911.83,
          7901.01
         ],
         "showlegend": false,
         "type": "candlestick",
         "uid": "0731bd14-fe30-4ad1-96ba-551ccc3d56c2",
         "xaxis": "x",
         "yaxis": "y"
        },
        {
         "marker": {
          "color": "DodgerBlue"
         },
         "name": "Volume",
         "showlegend": false,
         "type": "bar",
         "uid": "391f75b1-d2aa-40b4-917f-b27b916252fb",
         "xaxis": "x2",
         "y": [
          559.93,
          273.58,
          917.79,
          182.62,
          1260.69,
          324.11,
          324.2,
          730.67,
          1341.75,
          792.07,
          385.69,
          475.08,
          877.26,
          670.49,
          610.97,
          168.99,
          305.92,
          136.05,
          154.26,
          1070.93,
          1710.2,
          492.8,
          630.72,
          620.93,
          586.34,
          304.52,
          450.97,
          182.36,
          915.32,
          319.29,
          362.01,
          1046.38,
          357.91,
          561.2,
          322.53,
          1073.71,
          237.21,
          251.2,
          359.73,
          117.23,
          363.17,
          214.18,
          171.64,
          258.58,
          299.52,
          718.98,
          119.7,
          405.25,
          210.77,
          714.82,
          215.97,
          164.2,
          201.55,
          203.41,
          886.82,
          95.49,
          499.67,
          172.77,
          355.39,
          255.27,
          591.06,
          133.1,
          149.13,
          87.55,
          1061.54,
          286.94,
          524.42,
          316.0,
          441.43,
          189.7,
          844.94,
          155.34,
          257.56,
          610.69,
          217.97,
          173.18,
          218.06,
          372.97,
          484.39,
          248.1,
          162.35,
          303.42,
          290.69,
          160.93,
          369.4,
          487.27,
          93.35,
          96.68,
          72.14,
          90.22,
          168.52,
          203.15,
          71.42,
          464.56,
          57.0,
          89.42,
          49.47,
          200.05,
          254.37,
          65.05,
          118.19,
          452.4,
          181.03,
          288.04,
          145.78,
          110.14,
          55.48,
          80.87,
          67.01,
          59.16,
          121.26,
          244.37,
          156.87,
          80.48,
          139.32,
          93.52,
          200.23,
          97.4,
          68.08,
          47.0,
          36.65,
          28.75,
          182.85,
          400.18,
          288.1,
          182.94,
          777.81,
          493.59,
          118.63,
          174.37,
          901.75,
          222.45,
          113.8,
          84.2,
          261.44,
          168.78,
          111.07,
          122.12,
          267.32,
          210.39,
          211.36,
          146.22,
          93.39,
          89.04,
          307.59,
          307.2,
          164.24,
          151.21,
          399.77,
          362.01,
          260.85,
          232.32,
          1109.45,
          348.5,
          210.57,
          274.92,
          277.83,
          99.57,
          273.12,
          129.47,
          113.05,
          87.6,
          159.37,
          433.28,
          133.29,
          200.57,
          210.33,
          206.4,
          357.53,
          107.43,
          116.54,
          479.07,
          290.38,
          812.96,
          1542.87,
          430.36,
          312.54,
          132.75,
          333.64,
          205.86,
          120.33,
          263.1,
          457.64,
          451.55,
          962.22,
          381.04,
          386.95,
          905.87,
          453.48,
          542.31,
          476.48,
          341.79,
          654.23,
          769.1,
          719.94,
          523.05,
          409.37,
          255.12,
          551.86,
          340.62,
          488.69
         ],
         "yaxis": "y2"
        },
        {
         "mode": "lines",
         "name": "bitstamp:/USD-BTC",
         "type": "scatter",
         "uid": "2f79b682-a0c5-4a58-b299-e065a721e121",
         "xaxis": "x3",
         "y": [
          8740.99,
          8739.0,
          8728.49,
          8708.32,
          8795.9,
          8760.0,
          8760.0,
          8759.23,
          8517.77,
          8520.3,
          8535.23,
          8546.34,
          8526.65,
          8555.6,
          8512.1,
          8492.28,
          8460.0,
          8474.99,
          8455.92,
          8326.28,
          8133.43,
          8164.79,
          8229.38,
          8220.4,
          8238.8,
          8232.99,
          8207.48,
          8243.45,
          8371.13,
          8373.0,
          8365.08,
          8179.99,
          8225.0,
          8285.8,
          8273.4,
          8297.4,
          8279.89,
          8252.72,
          8302.18,
          8295.85,
          8277.25,
          8346.59,
          8358.3,
          8375.1,
          8368.62,
          8366.72,
          8314.77,
          8363.7,
          8344.16,
          8247.4,
          8277.4,
          8291.67,
          8307.89,
          8298.9,
          8269.47,
          8300.98,
          8318.49,
          8306.39,
          8276.43,
          8257.69,
          8166.0,
          8176.33,
          8200.7,
          8155.41,
          8080.0,
          8067.03,
          7958.08,
          7974.25,
          7998.5,
          7991.99,
          8022.7,
          8042.97,
          7965.67,
          8088.95,
          8122.19,
          8107.99,
          8137.73,
          8115.0,
          8107.0,
          8094.4,
          8080.01,
          8117.09,
          8126.99,
          8110.95,
          8215.39,
          8231.42,
          8240.13,
          8235.0,
          8219.9,
          8248.87,
          8213.5,
          8200.99,
          8200.0,
          8237.3,
          8228.13,
          8240.83,
          8214.9,
          8170.07,
          8229.87,
          8205.87,
          8252.56,
          8365.0,
          8348.65,
          8303.99,
          8310.48,
          8310.0,
          8289.87,
          8304.99,
          8301.35,
          8313.12,
          8240.07,
          8199.99,
          8226.98,
          8231.2,
          8198.89,
          8215.85,
          8279.99,
          8255.08,
          8270.4,
          8244.24,
          8239.12,
          8267.14,
          8282.27,
          8350.62,
          8336.6,
          8336.91,
          8311.21,
          8312.09,
          8345.19,
          8377.2,
          8481.11,
          8516.36,
          8524.0,
          8517.04,
          8558.5,
          8521.99,
          8484.93,
          8518.48,
          8488.99,
          8466.72,
          8492.55,
          8494.28,
          8510.95,
          8498.64,
          8551.1,
          8524.22,
          8510.11,
          8475.62,
          8476.58,
          8467.13,
          8499.84,
          8490.42,
          8407.09,
          8409.42,
          8400.96,
          8383.14,
          8350.0,
          8373.01,
          8412.8,
          8385.57,
          8408.53,
          8391.76,
          8367.36,
          8280.24,
          8297.91,
          8333.99,
          8285.29,
          8280.0,
          8317.02,
          8320.16,
          8295.9,
          8245.47,
          8264.98,
          8200.0,
          8170.0,
          8217.0,
          8231.63,
          8232.8,
          8225.38,
          8200.01,
          8219.98,
          8187.98,
          8100.32,
          8076.99,
          7964.73,
          7984.08,
          7949.35,
          7900.61,
          7895.5,
          7960.0,
          7900.0,
          7921.99,
          7943.07,
          7856.37,
          7848.3,
          7852.68,
          7847.1,
          7849.31,
          7911.83,
          7901.01,
          7887.0
         ],
         "yaxis": "y3"
        },
        {
         "mode": "lines",
         "name": "bitstamp:/USD:/free",
         "type": "scatter",
         "uid": "a9f121fb-8336-4ce1-85b8-8eaa152b2460",
         "xaxis": "x3",
         "y": [
          10000.0,
          5000.0,
          1500.0,
          1500.0,
          1500.0,
          1500.0,
          1500.0,
          1500.0,
          1500.0,
          6343.12,
          3805.87,
          3805.87,
          3805.87,
          3805.87,
          3805.87,
          3805.87,
          3805.87,
          3805.87,
          3805.87,
          3805.87,
          7120.6,
          9528.14,
          9528.14,
          9528.14,
          9528.14,
          9528.14,
          9528.14,
          9528.14,
          2858.44,
          2858.44,
          2858.44,
          2858.44,
          2858.44,
          2858.44,
          2858.44,
          2858.44,
          2858.44,
          2858.44,
          2858.44,
          2858.44,
          2858.44,
          2858.44,
          2858.44,
          571.69,
          571.69,
          571.69,
          571.69,
          571.69,
          571.69,
          571.69,
          571.69,
          571.69,
          571.69,
          571.69,
          571.69,
          571.69,
          571.69,
          571.69,
          571.69,
          571.69,
          571.69,
          571.69,
          571.69,
          571.69,
          571.69,
          571.69,
          571.69,
          571.69,
          571.69,
          571.69,
          571.69,
          571.69,
          571.69,
          571.69,
          571.69,
          571.69,
          571.69,
          571.69,
          571.69,
          571.69,
          571.69,
          571.69,
          571.69,
          571.69,
          571.69,
          571.69,
          571.69,
          571.69,
          571.69,
          571.69,
          571.69,
          571.69,
          571.69,
          571.69,
          571.69,
          571.69,
          571.69,
          571.69,
          571.69,
          571.69,
          571.69,
          571.69,
          571.69,
          571.69,
          571.69,
          571.69,
          571.69,
          571.69,
          571.69,
          571.69,
          571.69,
          571.69,
          571.69,
          571.69,
          571.69,
          571.69,
          571.69,
          571.69,
          571.69,
          571.69,
          571.69,
          571.69,
          571.69,
          571.69,
          571.69,
          571.69,
          571.69,
          571.69,
          571.69,
          571.69,
          571.69,
          7392.57,
          9708.6,
          9708.6,
          3883.44,
          3883.44,
          3883.44,
          3883.44,
          3883.44,
          3883.44,
          3883.44,
          3883.44,
          3883.44,
          3883.44,
          3883.44,
          3883.44,
          1165.03,
          1165.03,
          1165.03,
          1165.03,
          1165.03,
          1165.03,
          1165.03,
          1165.03,
          1165.03,
          1165.03,
          1165.03,
          1165.03,
          1165.03,
          1165.03,
          1165.03,
          1165.03,
          1165.03,
          1165.03,
          1165.03,
          1165.03,
          1165.03,
          1165.03,
          1165.03,
          1165.03,
          1165.03,
          1165.03,
          1165.03,
          1165.03,
          1165.03,
          6719.35,
          2015.8,
          2015.8,
          2015.8,
          2015.8,
          2015.8,
          2015.8,
          2015.8,
          4583.55,
          1375.06,
          1375.06,
          1375.06,
          1375.06,
          1375.06,
          1375.06,
          1375.06,
          1375.06,
          1375.06,
          1375.06,
          5845.24,
          1753.57,
          1753.57,
          1753.57,
          1753.57,
          1753.57,
          1753.57
         ],
         "yaxis": "y3"
        },
        {
         "mode": "lines",
         "name": "bitstamp:/USD:/locked",
         "type": "scatter",
         "uid": "601870c1-66ac-4116-83ce-e0fc7b55621e",
         "xaxis": "x3",
         "y": [
          0.0,
          0.0,
          0.0,
          0.0,
          0.0,
          0.0,
          0.0,
          0.0,
          0.0,
          0.0,
          0.0,
          0.0,
          0.0,
          0.0,
          0.0,
          0.0,
          0.0,
          0.0,
          0.0,
          0.0,
          0.0,
          0.0,
          0.0,
          0.0,
          0.0,
          0.0,
          0.0,
          0.0,
          0.0,
          0.0,
          0.0,
          0.0,
          0.0,
          0.0,
          0.0,
          0.0,
          0.0,
          0.0,
          0.0,
          0.0,
          0.0,
          0.0,
          0.0,
          0.0,
          0.0,
          0.0,
          0.0,
          0.0,
          0.0,
          0.0,
          0.0,
          0.0,
          0.0,
          0.0,
          0.0,
          0.0,
          0.0,
          0.0,
          0.0,
          0.0,
          0.0,
          0.0,
          0.0,
          0.0,
          0.0,
          0.0,
          0.0,
          0.0,
          0.0,
          0.0,
          0.0,
          0.0,
          0.0,
          0.0,
          0.0,
          0.0,
          0.0,
          0.0,
          0.0,
          0.0,
          0.0,
          0.0,
          0.0,
          0.0,
          0.0,
          0.0,
          0.0,
          0.0,
          0.0,
          0.0,
          0.0,
          0.0,
          0.0,
          0.0,
          0.0,
          0.0,
          0.0,
          0.0,
          0.0,
          0.0,
          0.0,
          0.0,
          0.0,
          0.0,
          0.0,
          0.0,
          0.0,
          0.0,
          0.0,
          0.0,
          0.0,
          0.0,
          0.0,
          0.0,
          0.0,
          0.0,
          0.0,
          0.0,
          0.0,
          0.0,
          0.0,
          0.0,
          0.0,
          0.0,
          0.0,
          0.0,
          0.0,
          0.0,
          0.0,
          0.0,
          0.0,
          0.0,
          0.0,
          0.0,
          0.0,
          0.0,
          0.0,
          0.0,
          0.0,
          0.0,
          0.0,
          0.0,
          0.0,
          0.0,
          0.0,
          0.0,
          0.0,
          0.0,
          0.0,
          0.0,
          0.0,
          0.0,
          0.0,
          0.0,
          0.0,
          0.0,
          0.0,
          0.0,
          0.0,
          0.0,
          0.0,
          0.0,
          0.0,
          0.0,
          0.0,
          0.0,
          0.0,
          0.0,
          0.0,
          0.0,
          0.0,
          0.0,
          0.0,
          0.0,
          0.0,
          0.0,
          0.0,
          0.0,
          0.0,
          0.0,
          0.0,
          0.0,
          0.0,
          0.0,
          0.0,
          0.0,
          0.0,
          0.0,
          0.0,
          0.0,
          0.0,
          0.0,
          0.0,
          0.0,
          0.0,
          0.0,
          0.0,
          0.0,
          0.0,
          0.0,
          0.0
         ],
         "yaxis": "y3"
        },
        {
         "mode": "lines",
         "name": "bitstamp:/USD:/total",
         "type": "scatter",
         "uid": "2c681579-e45b-4a8f-afef-4ab343f9a74a",
         "xaxis": "x3",
         "y": [
          10000.0,
          5000.0,
          1500.0,
          1500.0,
          1500.0,
          1500.0,
          1500.0,
          1500.0,
          1500.0,
          6343.12,
          3805.87,
          3805.87,
          3805.87,
          3805.87,
          3805.87,
          3805.87,
          3805.87,
          3805.87,
          3805.87,
          3805.87,
          7120.6,
          9528.14,
          9528.14,
          9528.14,
          9528.14,
          9528.14,
          9528.14,
          9528.14,
          2858.44,
          2858.44,
          2858.44,
          2858.44,
          2858.44,
          2858.44,
          2858.44,
          2858.44,
          2858.44,
          2858.44,
          2858.44,
          2858.44,
          2858.44,
          2858.44,
          2858.44,
          571.69,
          571.69,
          571.69,
          571.69,
          571.69,
          571.69,
          571.69,
          571.69,
          571.69,
          571.69,
          571.69,
          571.69,
          571.69,
          571.69,
          571.69,
          571.69,
          571.69,
          571.69,
          571.69,
          571.69,
          571.69,
          571.69,
          571.69,
          571.69,
          571.69,
          571.69,
          571.69,
          571.69,
          571.69,
          571.69,
          571.69,
          571.69,
          571.69,
          571.69,
          571.69,
          571.69,
          571.69,
          571.69,
          571.69,
          571.69,
          571.69,
          571.69,
          571.69,
          571.69,
          571.69,
          571.69,
          571.69,
          571.69,
          571.69,
          571.69,
          571.69,
          571.69,
          571.69,
          571.69,
          571.69,
          571.69,
          571.69,
          571.69,
          571.69,
          571.69,
          571.69,
          571.69,
          571.69,
          571.69,
          571.69,
          571.69,
          571.69,
          571.69,
          571.69,
          571.69,
          571.69,
          571.69,
          571.69,
          571.69,
          571.69,
          571.69,
          571.69,
          571.69,
          571.69,
          571.69,
          571.69,
          571.69,
          571.69,
          571.69,
          571.69,
          571.69,
          571.69,
          571.69,
          7392.57,
          9708.6,
          9708.6,
          3883.44,
          3883.44,
          3883.44,
          3883.44,
          3883.44,
          3883.44,
          3883.44,
          3883.44,
          3883.44,
          3883.44,
          3883.44,
          3883.44,
          1165.03,
          1165.03,
          1165.03,
          1165.03,
          1165.03,
          1165.03,
          1165.03,
          1165.03,
          1165.03,
          1165.03,
          1165.03,
          1165.03,
          1165.03,
          1165.03,
          1165.03,
          1165.03,
          1165.03,
          1165.03,
          1165.03,
          1165.03,
          1165.03,
          1165.03,
          1165.03,
          1165.03,
          1165.03,
          1165.03,
          1165.03,
          1165.03,
          1165.03,
          6719.35,
          2015.8,
          2015.8,
          2015.8,
          2015.8,
          2015.8,
          2015.8,
          2015.8,
          4583.55,
          1375.06,
          1375.06,
          1375.06,
          1375.06,
          1375.06,
          1375.06,
          1375.06,
          1375.06,
          1375.06,
          1375.06,
          5845.24,
          1753.57,
          1753.57,
          1753.57,
          1753.57,
          1753.57,
          1753.57
         ],
         "yaxis": "y3"
        },
        {
         "mode": "lines",
         "name": "bitstamp:/BTC:/free",
         "type": "scatter",
         "uid": "692d2628-0225-446b-884c-8082509c661b",
         "xaxis": "x3",
         "y": [
          10.0,
          10.0,
          10.0,
          10.0,
          10.0,
          10.0,
          10.0,
          10.0,
          10.0,
          10.0,
          10.0,
          10.0,
          10.0,
          10.0,
          10.0,
          10.0,
          10.0,
          10.0,
          10.0,
          10.0,
          10.0,
          10.0,
          10.0,
          10.0,
          10.0,
          10.0,
          10.0,
          10.0,
          10.0,
          10.0,
          10.0,
          10.0,
          10.0,
          10.0,
          10.0,
          10.0,
          10.0,
          10.0,
          10.0,
          10.0,
          10.0,
          10.0,
          10.0,
          10.0,
          10.0,
          10.0,
          10.0,
          10.0,
          10.0,
          10.0,
          10.0,
          10.0,
          10.0,
          10.0,
          10.0,
          10.0,
          10.0,
          10.0,
          10.0,
          10.0,
          10.0,
          10.0,
          10.0,
          10.0,
          10.0,
          10.0,
          10.0,
          10.0,
          10.0,
          10.0,
          10.0,
          10.0,
          10.0,
          10.0,
          10.0,
          10.0,
          10.0,
          10.0,
          10.0,
          10.0,
          10.0,
          10.0,
          10.0,
          10.0,
          10.0,
          10.0,
          10.0,
          10.0,
          10.0,
          10.0,
          10.0,
          10.0,
          10.0,
          10.0,
          10.0,
          10.0,
          10.0,
          10.0,
          10.0,
          10.0,
          10.0,
          10.0,
          10.0,
          10.0,
          10.0,
          10.0,
          10.0,
          10.0,
          10.0,
          10.0,
          10.0,
          10.0,
          10.0,
          10.0,
          10.0,
          10.0,
          10.0,
          10.0,
          10.0,
          10.0,
          10.0,
          10.0,
          10.0,
          10.0,
          10.0,
          10.0,
          10.0,
          10.0,
          10.0,
          10.0,
          10.0,
          10.0,
          10.0,
          10.0,
          10.0,
          10.0,
          10.0,
          10.0,
          10.0,
          10.0,
          10.0,
          10.0,
          10.0,
          10.0,
          10.0,
          10.0,
          10.0,
          10.0,
          10.0,
          10.0,
          10.0,
          10.0,
          10.0,
          10.0,
          10.0,
          10.0,
          10.0,
          10.0,
          10.0,
          10.0,
          10.0,
          10.0,
          10.0,
          10.0,
          10.0,
          10.0,
          10.0,
          10.0,
          10.0,
          10.0,
          10.0,
          10.0,
          10.0,
          10.0,
          10.0,
          10.0,
          10.0,
          10.0,
          10.0,
          10.0,
          10.0,
          10.0,
          10.0,
          10.0,
          10.0,
          10.0,
          10.0,
          10.0,
          10.0,
          10.0,
          10.0,
          10.0,
          10.0,
          10.0,
          10.0,
          10.0,
          10.0,
          10.0,
          10.0,
          10.0,
          10.0
         ],
         "yaxis": "y3"
        },
        {
         "mode": "lines",
         "name": "bitstamp:/BTC:/locked",
         "type": "scatter",
         "uid": "e837dc76-37dd-4675-ba8b-277d0e2e7b3e",
         "xaxis": "x3",
         "y": [
          0.0,
          0.57030153,
          0.96960351,
          0.96960351,
          0.96960351,
          0.96960351,
          0.96960351,
          0.96960351,
          0.96960351,
          0.39930198,
          0.69619763,
          0.69619763,
          0.69619763,
          0.69619763,
          0.69619763,
          0.69619763,
          0.69619763,
          0.69619763,
          0.69619763,
          0.69619763,
          0.29689565,
          0.0,
          0.0,
          0.0,
          0.0,
          0.0,
          0.0,
          0.0,
          0.80666347,
          0.80666347,
          0.80666347,
          0.80666347,
          0.80666347,
          0.80666347,
          0.80666347,
          0.80666347,
          0.80666347,
          0.80666347,
          0.80666347,
          0.80666347,
          0.80666347,
          0.80666347,
          0.80666347,
          1.07943305,
          1.07943305,
          1.07943305,
          1.07943305,
          1.07943305,
          1.07943305,
          1.07943305,
          1.07943305,
          1.07943305,
          1.07943305,
          1.07943305,
          1.07943305,
          1.07943305,
          1.07943305,
          1.07943305,
          1.07943305,
          1.07943305,
          1.07943305,
          1.07943305,
          1.07943305,
          1.07943305,
          1.07943305,
          1.07943305,
          1.07943305,
          1.07943305,
          1.07943305,
          1.07943305,
          1.07943305,
          1.07943305,
          1.07943305,
          1.07943305,
          1.07943305,
          1.07943305,
          1.07943305,
          1.07943305,
          1.07943305,
          1.07943305,
          1.07943305,
          1.07943305,
          1.07943305,
          1.07943305,
          1.07943305,
          1.07943305,
          1.07943305,
          1.07943305,
          1.07943305,
          1.07943305,
          1.07943305,
          1.07943305,
          1.07943305,
          1.07943305,
          1.07943305,
          1.07943305,
          1.07943305,
          1.07943305,
          1.07943305,
          1.07943305,
          1.07943305,
          1.07943305,
          1.07943305,
          1.07943305,
          1.07943305,
          1.07943305,
          1.07943305,
          1.07943305,
          1.07943305,
          1.07943305,
          1.07943305,
          1.07943305,
          1.07943305,
          1.07943305,
          1.07943305,
          1.07943305,
          1.07943305,
          1.07943305,
          1.07943305,
          1.07943305,
          1.07943305,
          1.07943305,
          1.07943305,
          1.07943305,
          1.07943305,
          1.07943305,
          1.07943305,
          1.07943305,
          1.07943305,
          1.07943305,
          1.07943305,
          0.27276958,
          0.0,
          0.0,
          0.68188948,
          0.68188948,
          0.68188948,
          0.68188948,
          0.68188948,
          0.68188948,
          0.68188948,
          0.68188948,
          0.68188948,
          0.68188948,
          0.68188948,
          0.68188948,
          0.99983646,
          0.99983646,
          0.99983646,
          0.99983646,
          0.99983646,
          0.99983646,
          0.99983646,
          0.99983646,
          0.99983646,
          0.99983646,
          0.99983646,
          0.99983646,
          0.99983646,
          0.99983646,
          0.99983646,
          0.99983646,
          0.99983646,
          0.99983646,
          0.99983646,
          0.99983646,
          0.99983646,
          0.99983646,
          0.99983646,
          0.99983646,
          0.99983646,
          0.99983646,
          0.99983646,
          0.99983646,
          0.99983646,
          0.31794698,
          0.88864675,
          0.88864675,
          0.88864675,
          0.88864675,
          0.88864675,
          0.88864675,
          0.88864675,
          0.57069977,
          0.96674582,
          0.96674582,
          0.96674582,
          0.96674582,
          0.96674582,
          0.96674582,
          0.96674582,
          0.96674582,
          0.96674582,
          0.96674582,
          0.39604605,
          0.91582613,
          0.91582613,
          0.91582613,
          0.91582613,
          0.91582613,
          0.91582613
         ],
         "yaxis": "y3"
        },
        {
         "mode": "lines",
         "name": "bitstamp:/BTC:/total",
         "type": "scatter",
         "uid": "d1a5bb1d-8ac9-46ba-a619-40cf477fdaab",
         "xaxis": "x3",
         "y": [
          10.0,
          10.57030153,
          10.96960351,
          10.96960351,
          10.96960351,
          10.96960351,
          10.96960351,
          10.96960351,
          10.96960351,
          10.39930198,
          10.69619763,
          10.69619763,
          10.69619763,
          10.69619763,
          10.69619763,
          10.69619763,
          10.69619763,
          10.69619763,
          10.69619763,
          10.69619763,
          10.29689565,
          10.0,
          10.0,
          10.0,
          10.0,
          10.0,
          10.0,
          10.0,
          10.80666347,
          10.80666347,
          10.80666347,
          10.80666347,
          10.80666347,
          10.80666347,
          10.80666347,
          10.80666347,
          10.80666347,
          10.80666347,
          10.80666347,
          10.80666347,
          10.80666347,
          10.80666347,
          10.80666347,
          11.07943305,
          11.07943305,
          11.07943305,
          11.07943305,
          11.07943305,
          11.07943305,
          11.07943305,
          11.07943305,
          11.07943305,
          11.07943305,
          11.07943305,
          11.07943305,
          11.07943305,
          11.07943305,
          11.07943305,
          11.07943305,
          11.07943305,
          11.07943305,
          11.07943305,
          11.07943305,
          11.07943305,
          11.07943305,
          11.07943305,
          11.07943305,
          11.07943305,
          11.07943305,
          11.07943305,
          11.07943305,
          11.07943305,
          11.07943305,
          11.07943305,
          11.07943305,
          11.07943305,
          11.07943305,
          11.07943305,
          11.07943305,
          11.07943305,
          11.07943305,
          11.07943305,
          11.07943305,
          11.07943305,
          11.07943305,
          11.07943305,
          11.07943305,
          11.07943305,
          11.07943305,
          11.07943305,
          11.07943305,
          11.07943305,
          11.07943305,
          11.07943305,
          11.07943305,
          11.07943305,
          11.07943305,
          11.07943305,
          11.07943305,
          11.07943305,
          11.07943305,
          11.07943305,
          11.07943305,
          11.07943305,
          11.07943305,
          11.07943305,
          11.07943305,
          11.07943305,
          11.07943305,
          11.07943305,
          11.07943305,
          11.07943305,
          11.07943305,
          11.07943305,
          11.07943305,
          11.07943305,
          11.07943305,
          11.07943305,
          11.07943305,
          11.07943305,
          11.07943305,
          11.07943305,
          11.07943305,
          11.07943305,
          11.07943305,
          11.07943305,
          11.07943305,
          11.07943305,
          11.07943305,
          11.07943305,
          11.07943305,
          10.27276958,
          10.0,
          10.0,
          10.68188948,
          10.68188948,
          10.68188948,
          10.68188948,
          10.68188948,
          10.68188948,
          10.68188948,
          10.68188948,
          10.68188948,
          10.68188948,
          10.68188948,
          10.68188948,
          10.99983646,
          10.99983646,
          10.99983646,
          10.99983646,
          10.99983646,
          10.99983646,
          10.99983646,
          10.99983646,
          10.99983646,
          10.99983646,
          10.99983646,
          10.99983646,
          10.99983646,
          10.99983646,
          10.99983646,
          10.99983646,
          10.99983646,
          10.99983646,
          10.99983646,
          10.99983646,
          10.99983646,
          10.99983646,
          10.99983646,
          10.99983646,
          10.99983646,
          10.99983646,
          10.99983646,
          10.99983646,
          10.99983646,
          10.31794698,
          10.88864675,
          10.88864675,
          10.88864675,
          10.88864675,
          10.88864675,
          10.88864675,
          10.88864675,
          10.57069977,
          10.96674582,
          10.96674582,
          10.96674582,
          10.96674582,
          10.96674582,
          10.96674582,
          10.96674582,
          10.96674582,
          10.96674582,
          10.96674582,
          10.39604605,
          10.91582613,
          10.91582613,
          10.91582613,
          10.91582613,
          10.91582613,
          10.91582613
         ],
         "yaxis": "y3"
        },
        {
         "mode": "lines",
         "name": "bitstamp:/BTC:/worth",
         "type": "scatter",
         "uid": "57feb423-417f-4b96-9f78-24885eb5f33b",
         "xaxis": "x3",
         "y": [
          87409.9,
          92373.86507067,
          95748.0745409999,
          95526.8176382032,
          96487.53551360901,
          96093.72674760001,
          96093.72674760001,
          96085.2801528973,
          93436.5596893727,
          88605.172660194,
          91294.50689750489,
          91413.34165317421,
          91202.7335218395,
          91512.388443228,
          91047.103846323,
          90835.10520929641,
          90489.8319498,
          90650.1679522737,
          90446.1914634696,
          89059.5364027164,
          83749.0799865795,
          81647.9,
          82293.79999999999,
          82204.0,
          82388.0,
          82329.9,
          82074.79999999999,
          82434.5,
          90463.9847736211,
          90484.19323431,
          90398.6044596276,
          88398.3991179653,
          88884.80704075,
          89541.85217972599,
          89407.849552698,
          89667.209475978,
          89477.9847986183,
          89184.3677521384,
          89718.8653273646,
          89650.45914759951,
          89449.4552070575,
          90198.7892520673,
          90325.335281301,
          92791.35973705501,
          92719.56501089102,
          92698.514088096,
          92122.93754114851,
          92665.05420028501,
          92448.562078488,
          91376.51613657,
          91708.89912807,
          91867.0026376935,
          92046.7110417645,
          91947.106938645,
          91621.03922398349,
          91970.15215938899,
          92164.1530320945,
          92030.09189218949,
          91698.15207801151,
          91490.52350265451,
          90474.6502863,
          90589.1008297065,
          90859.10661313501,
          90357.3190903005,
          89521.819044,
          89378.1187973415,
          88171.014566544,
          88350.1689989625,
          88618.845250425,
          88546.7181412695,
          88886.96753023501,
          89111.5476381585,
          88255.1074633935,
          89620.9799697975,
          89989.2603243795,
          89831.9323750695,
          90161.4347139765,
          89909.59920075,
          89820.96373635001,
          89681.36287992,
          89521.9298383305,
          89932.75521582451,
          90042.4416030195,
          89864.7274968975,
          91021.8634846395,
          91199.466796431,
          91295.9686582965,
          91239.13116675,
          91071.831727695,
          91392.80290315351,
          91000.923356175,
          90862.3196487195,
          90851.35101,
          91264.61386276499,
          91163.0154616965,
          91303.7242614315,
          91016.43456244499,
          90519.7435788135,
          91182.29367520352,
          90916.38728200352,
          91433.686011108,
          92679.45746325,
          92498.3087328825,
          92003.50125286951,
          92075.406773364,
          92070.0886455,
          91847.0596582035,
          92014.5806859195,
          91974.2515496175,
          92104.65647661602,
          91295.3038923135,
          90851.2402156695,
          91150.274113689,
          91197.02932116001,
          90839.05283931449,
          91026.9600238425,
          91737.5948596695,
          91461.606182394,
          91631.34309672,
          91341.505128132,
          91284.77843091602,
          91595.224144977,
          91762.85596702351,
          92520.13521599102,
          92364.80156463,
          92368.2361888755,
          92083.4947594905,
          92093.2446605745,
          92459.97389452951,
          92814.62654646001,
          93965.89043468551,
          87486.6039403288,
          85240.0,
          85170.40000000001,
          91420.95111458,
          91030.9553296652,
          90635.0845055364,
          90993.4618975904,
          90678.4529768252,
          90440.5672981056,
          90716.480503374,
          90734.96017217441,
          90913.02726980601,
          90781.5332103072,
          91341.90513242802,
          91054.7759432056,
          93609.8182566106,
          93230.4338971052,
          93240.99374010679,
          93137.04528555978,
          93496.8499361664,
          93393.23147671319,
          92476.6151045014,
          92502.24472345319,
          92409.18610700159,
          92213.16902128438,
          91848.63444099999,
          92101.74067794459,
          92539.42417068798,
          92239.8986238822,
          92492.4548690038,
          92307.9876115696,
          92039.5916019456,
          91081.28584955039,
          91275.6529597986,
          91672.5270592754,
          91136.8350236734,
          91078.64588879999,
          91485.85983454919,
          91520.39932103359,
          91253.54328851399,
          90698.82153583619,
          90913.42834517079,
          90198.65897199999,
          89868.6638782,
          84782.57033466,
          89631.31124670249,
          89644.05096339999,
          89563.25720451499,
          89287.0122364675,
          89504.45851206499,
          89156.021816065,
          88201.52304196,
          85379.4363352923,
          87347.1694349286,
          87559.3759665456,
          87178.500884217,
          86643.9816929502,
          86587.94162181,
          87295.2967272,
          86637.291978,
          86878.4507185818,
          87109.62972046739,
          86158.8128578734,
          81591.288214215,
          85718.4895345284,
          85657.579224723,
          85681.70320047029,
          86364.16065011789,
          86246.0514113913,
          86093.12068730999
         ],
         "yaxis": "y3"
        },
        {
         "mode": "lines",
         "name": "net_worth",
         "type": "scatter",
         "uid": "146c3e5b-f3a7-4ad0-9809-7bb21b54aa57",
         "xaxis": "x3",
         "y": [
          97409.9,
          97373.86507067,
          97248.0745409999,
          97026.8176382032,
          97987.53551360901,
          97593.72674760001,
          97593.72674760001,
          97585.2801528973,
          94936.5596893727,
          94948.292660194,
          95100.37689750489,
          95219.2116531742,
          95008.6035218395,
          95318.258443228,
          94852.973846323,
          94640.9752092964,
          94295.7019498,
          94456.03795227369,
          94252.0614634696,
          92865.4064027164,
          90869.6799865795,
          91176.04,
          91821.93999999999,
          91732.14,
          91916.14,
          91858.04,
          91602.93999999999,
          91962.64,
          93322.4247736211,
          93342.63323431001,
          93257.0444596276,
          91256.8391179653,
          91743.24704075001,
          92400.29217972599,
          92266.289552698,
          92525.649475978,
          92336.4247986183,
          92042.8077521384,
          92577.30532736461,
          92508.89914759951,
          92307.8952070575,
          93057.2292520673,
          93183.775281301,
          93363.04973705501,
          93291.25501089102,
          93270.204088096,
          92694.62754114851,
          93236.74420028501,
          93020.252078488,
          91948.20613657,
          92280.58912807,
          92438.6926376935,
          92618.4010417645,
          92518.796938645,
          92192.7292239835,
          92541.842159389,
          92735.8430320945,
          92601.7818921895,
          92269.84207801151,
          92062.21350265451,
          91046.34028630001,
          91160.7908297065,
          91430.79661313501,
          90929.0090903005,
          90093.509044,
          89949.80879734151,
          88742.70456654401,
          88921.8589989625,
          89190.535250425,
          89118.40814126951,
          89458.65753023501,
          89683.2376381585,
          88826.79746339351,
          90192.6699697975,
          90560.9503243795,
          90403.6223750695,
          90733.1247139765,
          90481.28920075,
          90392.65373635001,
          90253.05287992,
          90093.6198383305,
          90504.44521582451,
          90614.1316030195,
          90436.4174968975,
          91593.5534846395,
          91771.15679643101,
          91867.6586582965,
          91810.82116675,
          91643.521727695,
          91964.49290315351,
          91572.613356175,
          91434.0096487195,
          91423.04101,
          91836.303862765,
          91734.7054616965,
          91875.4142614315,
          91588.124562445,
          91091.4335788135,
          91753.98367520352,
          91488.07728200352,
          92005.376011108,
          93251.14746325,
          93069.99873288251,
          92575.19125286951,
          92647.096773364,
          92641.7786455,
          92418.74965820351,
          92586.2706859195,
          92545.9415496175,
          92676.34647661602,
          91866.9938923135,
          91422.9302156695,
          91721.964113689,
          91768.71932116001,
          91410.7428393145,
          91598.6500238425,
          92309.2848596695,
          92033.296182394,
          92203.03309672,
          91913.195128132,
          91856.46843091602,
          92166.914144977,
          92334.54596702351,
          93091.82521599102,
          92936.49156463,
          92939.9261888755,
          92655.1847594905,
          92664.93466057451,
          93031.66389452951,
          93386.31654646002,
          94537.58043468551,
          94879.1739403288,
          94948.6,
          94879.00000000001,
          95304.39111458001,
          94914.3953296652,
          94518.5245055364,
          94876.9018975904,
          94561.8929768252,
          94324.0072981056,
          94599.920503374,
          94618.40017217441,
          94796.46726980602,
          94664.9732103072,
          95225.34513242802,
          94938.2159432056,
          94774.8482566106,
          94395.4638971052,
          94406.02374010679,
          94302.07528555978,
          94661.8799361664,
          94558.26147671319,
          93641.6451045014,
          93667.27472345319,
          93574.21610700159,
          93378.19902128438,
          93013.66444099999,
          93266.77067794459,
          93704.45417068798,
          93404.9286238822,
          93657.4848690038,
          93473.0176115696,
          93204.6216019456,
          92246.31584955039,
          92440.68295979859,
          92837.5570592754,
          92301.8650236734,
          92243.67588879999,
          92650.88983454919,
          92685.42932103359,
          92418.57328851399,
          91863.85153583619,
          92078.45834517079,
          91363.68897199999,
          91033.69387819999,
          91501.92033466001,
          91647.1112467025,
          91659.8509634,
          91579.05720451499,
          91302.81223646751,
          91520.25851206499,
          91171.821816065,
          90217.32304196,
          89962.9863352923,
          88722.2294349286,
          88934.4359665456,
          88553.560884217,
          88019.0416929502,
          87963.00162180999,
          88670.3567272,
          88012.35197799999,
          88253.51071858179,
          88484.68972046739,
          87533.8728578734,
          87436.52821421501,
          87472.05953452841,
          87411.149224723,
          87435.2732004703,
          88117.7306501179,
          87999.6214113913,
          87846.69068731
         ],
         "yaxis": "y3"
        },
        {
         "marker": {
          "color": "DarkGreen"
         },
         "mode": "lines",
         "name": "Net Worth",
         "type": "scatter",
         "uid": "7447514d-f491-4ee3-9a5a-de6882af6407",
         "xaxis": "x4",
         "y": [
          97409.9,
          97373.86507067,
          97248.0745409999,
          97026.8176382032,
          97987.53551360901,
          97593.72674760001,
          97593.72674760001,
          97585.2801528973,
          94936.5596893727,
          94948.292660194,
          95100.37689750489,
          95219.2116531742,
          95008.6035218395,
          95318.258443228,
          94852.973846323,
          94640.9752092964,
          94295.7019498,
          94456.03795227369,
          94252.0614634696,
          92865.4064027164,
          90869.6799865795,
          91176.04,
          91821.93999999999,
          91732.14,
          91916.14,
          91858.04,
          91602.93999999999,
          91962.64,
          93322.4247736211,
          93342.63323431001,
          93257.0444596276,
          91256.8391179653,
          91743.24704075001,
          92400.29217972599,
          92266.289552698,
          92525.649475978,
          92336.4247986183,
          92042.8077521384,
          92577.30532736461,
          92508.89914759951,
          92307.8952070575,
          93057.2292520673,
          93183.775281301,
          93363.04973705501,
          93291.25501089102,
          93270.204088096,
          92694.62754114851,
          93236.74420028501,
          93020.252078488,
          91948.20613657,
          92280.58912807,
          92438.6926376935,
          92618.4010417645,
          92518.796938645,
          92192.7292239835,
          92541.842159389,
          92735.8430320945,
          92601.7818921895,
          92269.84207801151,
          92062.21350265451,
          91046.34028630001,
          91160.7908297065,
          91430.79661313501,
          90929.0090903005,
          90093.509044,
          89949.80879734151,
          88742.70456654401,
          88921.8589989625,
          89190.535250425,
          89118.40814126951,
          89458.65753023501,
          89683.2376381585,
          88826.79746339351,
          90192.6699697975,
          90560.9503243795,
          90403.6223750695,
          90733.1247139765,
          90481.28920075,
          90392.65373635001,
          90253.05287992,
          90093.6198383305,
          90504.44521582451,
          90614.1316030195,
          90436.4174968975,
          91593.5534846395,
          91771.15679643101,
          91867.6586582965,
          91810.82116675,
          91643.521727695,
          91964.49290315351,
          91572.613356175,
          91434.0096487195,
          91423.04101,
          91836.303862765,
          91734.7054616965,
          91875.4142614315,
          91588.124562445,
          91091.4335788135,
          91753.98367520352,
          91488.07728200352,
          92005.376011108,
          93251.14746325,
          93069.99873288251,
          92575.19125286951,
          92647.096773364,
          92641.7786455,
          92418.74965820351,
          92586.2706859195,
          92545.9415496175,
          92676.34647661602,
          91866.9938923135,
          91422.9302156695,
          91721.964113689,
          91768.71932116001,
          91410.7428393145,
          91598.6500238425,
          92309.2848596695,
          92033.296182394,
          92203.03309672,
          91913.195128132,
          91856.46843091602,
          92166.914144977,
          92334.54596702351,
          93091.82521599102,
          92936.49156463,
          92939.9261888755,
          92655.1847594905,
          92664.93466057451,
          93031.66389452951,
          93386.31654646002,
          94537.58043468551,
          94879.1739403288,
          94948.6,
          94879.00000000001,
          95304.39111458001,
          94914.3953296652,
          94518.5245055364,
          94876.9018975904,
          94561.8929768252,
          94324.0072981056,
          94599.920503374,
          94618.40017217441,
          94796.46726980602,
          94664.9732103072,
          95225.34513242802,
          94938.2159432056,
          94774.8482566106,
          94395.4638971052,
          94406.02374010679,
          94302.07528555978,
          94661.8799361664,
          94558.26147671319,
          93641.6451045014,
          93667.27472345319,
          93574.21610700159,
          93378.19902128438,
          93013.66444099999,
          93266.77067794459,
          93704.45417068798,
          93404.9286238822,
          93657.4848690038,
          93473.0176115696,
          93204.6216019456,
          92246.31584955039,
          92440.68295979859,
          92837.5570592754,
          92301.8650236734,
          92243.67588879999,
          92650.88983454919,
          92685.42932103359,
          92418.57328851399,
          91863.85153583619,
          92078.45834517079,
          91363.68897199999,
          91033.69387819999,
          91501.92033466001,
          91647.1112467025,
          91659.8509634,
          91579.05720451499,
          91302.81223646751,
          91520.25851206499,
          91171.821816065,
          90217.32304196,
          89962.9863352923,
          88722.2294349286,
          88934.4359665456,
          88553.560884217,
          88019.0416929502,
          87963.00162180999,
          88670.3567272,
          88012.35197799999,
          88253.51071858179,
          88484.68972046739,
          87533.8728578734,
          87436.52821421501,
          87472.05953452841,
          87411.149224723,
          87435.2732004703,
          88117.7306501179,
          87999.6214113913,
          87846.69068731
         ],
         "yaxis": "y4"
        }
       ],
       "layout": {
        "annotations": [
         {
          "arrowcolor": "DarkGreen",
          "arrowhead": 2,
          "arrowsize": 0.8,
          "arrowwidth": 4,
          "ax": 0,
          "ay": 15,
          "hoverlabel": {
           "bgcolor": "DarkGreen"
          },
          "hovertext": "Step 43 [2018-05-17 00:00:00]<br>BUY 0.27276958 BTC @ 8358.3 USD MARKET<br>Total: 2279.89 USD - Comm.: 6.86 USD",
          "opacity": 0.6,
          "showarrow": true,
          "x": 42,
          "xref": "x",
          "y": 8358.3,
          "yref": "y"
         },
         {
          "arrowcolor": "DarkGreen",
          "arrowhead": 2,
          "arrowsize": 0.8,
          "arrowwidth": 4,
          "ax": 0,
          "ay": 15,
          "hoverlabel": {
           "bgcolor": "DarkGreen"
          },
          "hovertext": "Step 28 [2018-05-16 09:00:00]<br>BUY 0.80666347 BTC @ 8243.45 USD MARKET<br>Total: 6649.69 USD - Comm.: 20.01 USD",
          "opacity": 0.6,
          "showarrow": true,
          "x": 27,
          "xref": "x",
          "y": 8243.45,
          "yref": "y"
         },
         {
          "arrowcolor": "FireBrick",
          "arrowhead": 2,
          "arrowsize": 0.8,
          "arrowwidth": 4,
          "ax": 0,
          "ay": -15,
          "hoverlabel": {
           "bgcolor": "FireBrick"
          },
          "hovertext": "Step 21 [2018-05-16 02:00:00]<br>SELL 0.29600496 BTC @ 8133.43 USD MARKET<br>Total: 2407.54 USD - Comm.: 0.00089069 BTC",
          "opacity": 0.6,
          "showarrow": true,
          "x": 20,
          "xref": "x",
          "y": 8133.43,
          "yref": "y"
         },
         {
          "arrowcolor": "FireBrick",
          "arrowhead": 2,
          "arrowsize": 0.8,
          "arrowwidth": 4,
          "ax": 0,
          "ay": -15,
          "hoverlabel": {
           "bgcolor": "FireBrick"
          },
          "hovertext": "Step 20 [2018-05-16 01:00:00]<br>SELL 0.39810407 BTC @ 8326.28 USD MARKET<br>Total: 3314.73 USD - Comm.: 0.00119791 BTC",
          "opacity": 0.6,
          "showarrow": true,
          "x": 19,
          "xref": "x",
          "y": 8326.28,
          "yref": "y"
         },
         {
          "arrowcolor": "DarkGreen",
          "arrowhead": 2,
          "arrowsize": 0.8,
          "arrowwidth": 4,
          "ax": 0,
          "ay": 15,
          "hoverlabel": {
           "bgcolor": "DarkGreen"
          },
          "hovertext": "Step 10 [2018-05-15 15:00:00]<br>BUY 0.29689565 BTC @ 8520.3 USD MARKET<br>Total: 2529.64 USD - Comm.: 7.61 USD",
          "opacity": 0.6,
          "showarrow": true,
          "x": 9,
          "xref": "x",
          "y": 8520.3,
          "yref": "y"
         },
         {
          "arrowcolor": "FireBrick",
          "arrowhead": 2,
          "arrowsize": 0.8,
          "arrowwidth": 4,
          "ax": 0,
          "ay": -15,
          "hoverlabel": {
           "bgcolor": "FireBrick"
          },
          "hovertext": "Step 9 [2018-05-15 14:00:00]<br>SELL 0.56859063 BTC @ 8517.77 USD MARKET<br>Total: 4843.12 USD - Comm.: 0.00171090 BTC",
          "opacity": 0.6,
          "showarrow": true,
          "x": 8,
          "xref": "x",
          "y": 8517.77,
          "yref": "y"
         },
         {
          "arrowcolor": "DarkGreen",
          "arrowhead": 2,
          "arrowsize": 0.8,
          "arrowwidth": 4,
          "ax": 0,
          "ay": 15,
          "hoverlabel": {
           "bgcolor": "DarkGreen"
          },
          "hovertext": "Step 2 [2018-05-15 07:00:00]<br>BUY 0.39930198 BTC @ 8739.0 USD MARKET<br>Total: 3489.5 USD - Comm.: 10.50 USD",
          "opacity": 0.6,
          "showarrow": true,
          "x": 1,
          "xref": "x",
          "y": 8739.0,
          "yref": "y"
         },
         {
          "arrowcolor": "DarkGreen",
          "arrowhead": 2,
          "arrowsize": 0.8,
          "arrowwidth": 4,
          "ax": 0,
          "ay": 15,
          "hoverlabel": {
           "bgcolor": "DarkGreen"
          },
          "hovertext": "Step 1 [2018-05-15 06:00:00]<br>BUY 0.57030153 BTC @ 8740.99 USD MARKET<br>Total: 4985.0 USD - Comm.: 15.00 USD",
          "opacity": 0.6,
          "showarrow": true,
          "x": 0,
          "xref": "x",
          "y": 8740.99,
          "yref": "y"
         },
         {
          "arrowcolor": "DarkGreen",
          "arrowhead": 2,
          "arrowsize": 0.8,
          "arrowwidth": 4,
          "ax": 0,
          "ay": 15,
          "hoverlabel": {
           "bgcolor": "DarkGreen"
          },
          "hovertext": "Step 146 [2018-05-21 07:00:00]<br>BUY 0.31794698 BTC @ 8524.22 USD MARKET<br>Total: 2710.25 USD - Comm.: 8.16 USD",
          "opacity": 0.6,
          "showarrow": true,
          "x": 145,
          "xref": "x",
          "y": 8524.22,
          "yref": "y"
         },
         {
          "arrowcolor": "DarkGreen",
          "arrowhead": 2,
          "arrowsize": 0.8,
          "arrowwidth": 4,
          "ax": 0,
          "ay": 15,
          "hoverlabel": {
           "bgcolor": "DarkGreen"
          },
          "hovertext": "Step 134 [2018-05-20 19:00:00]<br>BUY 0.68188948 BTC @ 8517.04 USD MARKET<br>Total: 5807.68 USD - Comm.: 17.48 USD",
          "opacity": 0.6,
          "showarrow": true,
          "x": 133,
          "xref": "x",
          "y": 8517.04,
          "yref": "y"
         },
         {
          "arrowcolor": "FireBrick",
          "arrowhead": 2,
          "arrowsize": 0.8,
          "arrowwidth": 4,
          "ax": 0,
          "ay": -15,
          "hoverlabel": {
           "bgcolor": "FireBrick"
          },
          "hovertext": "Step 132 [2018-05-20 17:00:00]<br>SELL 0.27195127 BTC @ 8516.36 USD MARKET<br>Total: 2316.03 USD - Comm.: 0.00081831 BTC",
          "opacity": 0.6,
          "showarrow": true,
          "x": 131,
          "xref": "x",
          "y": 8516.36,
          "yref": "y"
         },
         {
          "arrowcolor": "FireBrick",
          "arrowhead": 2,
          "arrowsize": 0.8,
          "arrowwidth": 4,
          "ax": 0,
          "ay": -15,
          "hoverlabel": {
           "bgcolor": "FireBrick"
          },
          "hovertext": "Step 131 [2018-05-20 16:00:00]<br>SELL 0.80424348 BTC @ 8481.11 USD MARKET<br>Total: 6820.88 USD - Comm.: 0.00241999 BTC",
          "opacity": 0.6,
          "showarrow": true,
          "x": 130,
          "xref": "x",
          "y": 8481.11,
          "yref": "y"
         },
         {
          "arrowcolor": "DarkGreen",
          "arrowhead": 2,
          "arrowsize": 0.8,
          "arrowwidth": 4,
          "ax": 0,
          "ay": 15,
          "hoverlabel": {
           "bgcolor": "DarkGreen"
          },
          "hovertext": "Step 195 [2018-05-23 08:00:00]<br>BUY 0.51978008 BTC @ 7848.3 USD MARKET<br>Total: 4079.39 USD - Comm.: 12.28 USD",
          "opacity": 0.6,
          "showarrow": true,
          "x": 194,
          "xref": "x",
          "y": 7848.3,
          "yref": "y"
         },
         {
          "arrowcolor": "FireBrick",
          "arrowhead": 2,
          "arrowsize": 0.8,
          "arrowwidth": 4,
          "ax": 0,
          "ay": -15,
          "hoverlabel": {
           "bgcolor": "FireBrick"
          },
          "hovertext": "Step 194 [2018-05-23 07:00:00]<br>SELL 0.56898767 BTC @ 7856.37 USD MARKET<br>Total: 4470.18 USD - Comm.: 0.00171210 BTC",
          "opacity": 0.6,
          "showarrow": true,
          "x": 193,
          "xref": "x",
          "y": 7856.37,
          "yref": "y"
         },
         {
          "arrowcolor": "DarkGreen",
          "arrowhead": 2,
          "arrowsize": 0.8,
          "arrowwidth": 4,
          "ax": 0,
          "ay": 15,
          "hoverlabel": {
           "bgcolor": "DarkGreen"
          },
          "hovertext": "Step 184 [2018-05-22 21:00:00]<br>BUY 0.39604605 BTC @ 8076.99 USD MARKET<br>Total: 3198.86 USD - Comm.: 9.63 USD",
          "opacity": 0.6,
          "showarrow": true,
          "x": 183,
          "xref": "x",
          "y": 8076.99,
          "yref": "y"
         },
         {
          "arrowcolor": "FireBrick",
          "arrowhead": 2,
          "arrowsize": 0.8,
          "arrowwidth": 4,
          "ax": 0,
          "ay": -15,
          "hoverlabel": {
           "bgcolor": "FireBrick"
          },
          "hovertext": "Step 183 [2018-05-22 20:00:00]<br>SELL 0.31699314 BTC @ 8100.32 USD MARKET<br>Total: 2567.75 USD - Comm.: 0.00095384 BTC",
          "opacity": 0.6,
          "showarrow": true,
          "x": 182,
          "xref": "x",
          "y": 8100.32,
          "yref": "y"
         },
         {
          "arrowcolor": "DarkGreen",
          "arrowhead": 2,
          "arrowsize": 0.8,
          "arrowwidth": 4,
          "ax": 0,
          "ay": 15,
          "hoverlabel": {
           "bgcolor": "DarkGreen"
          },
          "hovertext": "Step 176 [2018-05-22 13:00:00]<br>BUY 0.57069977 BTC @ 8217.0 USD MARKET<br>Total: 4689.44 USD - Comm.: 14.11 USD",
          "opacity": 0.6,
          "showarrow": true,
          "x": 175,
          "xref": "x",
          "y": 8217.0,
          "yref": "y"
         },
         {
          "arrowcolor": "FireBrick",
          "arrowhead": 2,
          "arrowsize": 0.8,
          "arrowwidth": 4,
          "ax": 0,
          "ay": -15,
          "hoverlabel": {
           "bgcolor": "FireBrick"
          },
          "hovertext": "Step 175 [2018-05-22 12:00:00]<br>SELL 0.67984381 BTC @ 8170.0 USD MARKET<br>Total: 5554.32 USD - Comm.: 0.00204567 BTC",
          "opacity": 0.6,
          "showarrow": true,
          "x": 174,
          "xref": "x",
          "y": 8170.0,
          "yref": "y"
         }
        ],
        "margin": {
         "t": 50
        },
        "template": {
         "data": {
          "bar": [
           {
            "error_x": {
             "color": "#2a3f5f"
            },
            "error_y": {
             "color": "#2a3f5f"
            },
            "marker": {
             "line": {
              "color": "white",
              "width": 0.5
             }
            },
            "type": "bar"
           }
          ],
          "barpolar": [
           {
            "marker": {
             "line": {
              "color": "white",
              "width": 0.5
             }
            },
            "type": "barpolar"
           }
          ],
          "carpet": [
           {
            "aaxis": {
             "endlinecolor": "#2a3f5f",
             "gridcolor": "#C8D4E3",
             "linecolor": "#C8D4E3",
             "minorgridcolor": "#C8D4E3",
             "startlinecolor": "#2a3f5f"
            },
            "baxis": {
             "endlinecolor": "#2a3f5f",
             "gridcolor": "#C8D4E3",
             "linecolor": "#C8D4E3",
             "minorgridcolor": "#C8D4E3",
             "startlinecolor": "#2a3f5f"
            },
            "type": "carpet"
           }
          ],
          "choropleth": [
           {
            "colorbar": {
             "outlinewidth": 0,
             "ticks": ""
            },
            "type": "choropleth"
           }
          ],
          "contour": [
           {
            "colorbar": {
             "outlinewidth": 0,
             "ticks": ""
            },
            "colorscale": [
             [
              0.0,
              "#0d0887"
             ],
             [
              0.1111111111111111,
              "#46039f"
             ],
             [
              0.2222222222222222,
              "#7201a8"
             ],
             [
              0.3333333333333333,
              "#9c179e"
             ],
             [
              0.4444444444444444,
              "#bd3786"
             ],
             [
              0.5555555555555556,
              "#d8576b"
             ],
             [
              0.6666666666666666,
              "#ed7953"
             ],
             [
              0.7777777777777778,
              "#fb9f3a"
             ],
             [
              0.8888888888888888,
              "#fdca26"
             ],
             [
              1.0,
              "#f0f921"
             ]
            ],
            "type": "contour"
           }
          ],
          "contourcarpet": [
           {
            "colorbar": {
             "outlinewidth": 0,
             "ticks": ""
            },
            "type": "contourcarpet"
           }
          ],
          "heatmap": [
           {
            "colorbar": {
             "outlinewidth": 0,
             "ticks": ""
            },
            "colorscale": [
             [
              0.0,
              "#0d0887"
             ],
             [
              0.1111111111111111,
              "#46039f"
             ],
             [
              0.2222222222222222,
              "#7201a8"
             ],
             [
              0.3333333333333333,
              "#9c179e"
             ],
             [
              0.4444444444444444,
              "#bd3786"
             ],
             [
              0.5555555555555556,
              "#d8576b"
             ],
             [
              0.6666666666666666,
              "#ed7953"
             ],
             [
              0.7777777777777778,
              "#fb9f3a"
             ],
             [
              0.8888888888888888,
              "#fdca26"
             ],
             [
              1.0,
              "#f0f921"
             ]
            ],
            "type": "heatmap"
           }
          ],
          "heatmapgl": [
           {
            "colorbar": {
             "outlinewidth": 0,
             "ticks": ""
            },
            "colorscale": [
             [
              0.0,
              "#0d0887"
             ],
             [
              0.1111111111111111,
              "#46039f"
             ],
             [
              0.2222222222222222,
              "#7201a8"
             ],
             [
              0.3333333333333333,
              "#9c179e"
             ],
             [
              0.4444444444444444,
              "#bd3786"
             ],
             [
              0.5555555555555556,
              "#d8576b"
             ],
             [
              0.6666666666666666,
              "#ed7953"
             ],
             [
              0.7777777777777778,
              "#fb9f3a"
             ],
             [
              0.8888888888888888,
              "#fdca26"
             ],
             [
              1.0,
              "#f0f921"
             ]
            ],
            "type": "heatmapgl"
           }
          ],
          "histogram": [
           {
            "marker": {
             "colorbar": {
              "outlinewidth": 0,
              "ticks": ""
             }
            },
            "type": "histogram"
           }
          ],
          "histogram2d": [
           {
            "colorbar": {
             "outlinewidth": 0,
             "ticks": ""
            },
            "colorscale": [
             [
              0.0,
              "#0d0887"
             ],
             [
              0.1111111111111111,
              "#46039f"
             ],
             [
              0.2222222222222222,
              "#7201a8"
             ],
             [
              0.3333333333333333,
              "#9c179e"
             ],
             [
              0.4444444444444444,
              "#bd3786"
             ],
             [
              0.5555555555555556,
              "#d8576b"
             ],
             [
              0.6666666666666666,
              "#ed7953"
             ],
             [
              0.7777777777777778,
              "#fb9f3a"
             ],
             [
              0.8888888888888888,
              "#fdca26"
             ],
             [
              1.0,
              "#f0f921"
             ]
            ],
            "type": "histogram2d"
           }
          ],
          "histogram2dcontour": [
           {
            "colorbar": {
             "outlinewidth": 0,
             "ticks": ""
            },
            "colorscale": [
             [
              0.0,
              "#0d0887"
             ],
             [
              0.1111111111111111,
              "#46039f"
             ],
             [
              0.2222222222222222,
              "#7201a8"
             ],
             [
              0.3333333333333333,
              "#9c179e"
             ],
             [
              0.4444444444444444,
              "#bd3786"
             ],
             [
              0.5555555555555556,
              "#d8576b"
             ],
             [
              0.6666666666666666,
              "#ed7953"
             ],
             [
              0.7777777777777778,
              "#fb9f3a"
             ],
             [
              0.8888888888888888,
              "#fdca26"
             ],
             [
              1.0,
              "#f0f921"
             ]
            ],
            "type": "histogram2dcontour"
           }
          ],
          "mesh3d": [
           {
            "colorbar": {
             "outlinewidth": 0,
             "ticks": ""
            },
            "type": "mesh3d"
           }
          ],
          "parcoords": [
           {
            "line": {
             "colorbar": {
              "outlinewidth": 0,
              "ticks": ""
             }
            },
            "type": "parcoords"
           }
          ],
          "pie": [
           {
            "automargin": true,
            "type": "pie"
           }
          ],
          "scatter": [
           {
            "marker": {
             "colorbar": {
              "outlinewidth": 0,
              "ticks": ""
             }
            },
            "type": "scatter"
           }
          ],
          "scatter3d": [
           {
            "line": {
             "colorbar": {
              "outlinewidth": 0,
              "ticks": ""
             }
            },
            "marker": {
             "colorbar": {
              "outlinewidth": 0,
              "ticks": ""
             }
            },
            "type": "scatter3d"
           }
          ],
          "scattercarpet": [
           {
            "marker": {
             "colorbar": {
              "outlinewidth": 0,
              "ticks": ""
             }
            },
            "type": "scattercarpet"
           }
          ],
          "scattergeo": [
           {
            "marker": {
             "colorbar": {
              "outlinewidth": 0,
              "ticks": ""
             }
            },
            "type": "scattergeo"
           }
          ],
          "scattergl": [
           {
            "marker": {
             "colorbar": {
              "outlinewidth": 0,
              "ticks": ""
             }
            },
            "type": "scattergl"
           }
          ],
          "scattermapbox": [
           {
            "marker": {
             "colorbar": {
              "outlinewidth": 0,
              "ticks": ""
             }
            },
            "type": "scattermapbox"
           }
          ],
          "scatterpolar": [
           {
            "marker": {
             "colorbar": {
              "outlinewidth": 0,
              "ticks": ""
             }
            },
            "type": "scatterpolar"
           }
          ],
          "scatterpolargl": [
           {
            "marker": {
             "colorbar": {
              "outlinewidth": 0,
              "ticks": ""
             }
            },
            "type": "scatterpolargl"
           }
          ],
          "scatterternary": [
           {
            "marker": {
             "colorbar": {
              "outlinewidth": 0,
              "ticks": ""
             }
            },
            "type": "scatterternary"
           }
          ],
          "surface": [
           {
            "colorbar": {
             "outlinewidth": 0,
             "ticks": ""
            },
            "colorscale": [
             [
              0.0,
              "#0d0887"
             ],
             [
              0.1111111111111111,
              "#46039f"
             ],
             [
              0.2222222222222222,
              "#7201a8"
             ],
             [
              0.3333333333333333,
              "#9c179e"
             ],
             [
              0.4444444444444444,
              "#bd3786"
             ],
             [
              0.5555555555555556,
              "#d8576b"
             ],
             [
              0.6666666666666666,
              "#ed7953"
             ],
             [
              0.7777777777777778,
              "#fb9f3a"
             ],
             [
              0.8888888888888888,
              "#fdca26"
             ],
             [
              1.0,
              "#f0f921"
             ]
            ],
            "type": "surface"
           }
          ],
          "table": [
           {
            "cells": {
             "fill": {
              "color": "#EBF0F8"
             },
             "line": {
              "color": "white"
             }
            },
            "header": {
             "fill": {
              "color": "#C8D4E3"
             },
             "line": {
              "color": "white"
             }
            },
            "type": "table"
           }
          ]
         },
         "layout": {
          "annotationdefaults": {
           "arrowcolor": "#2a3f5f",
           "arrowhead": 0,
           "arrowwidth": 1
          },
          "autotypenumbers": "strict",
          "coloraxis": {
           "colorbar": {
            "outlinewidth": 0,
            "ticks": ""
           }
          },
          "colorscale": {
           "diverging": [
            [
             0,
             "#8e0152"
            ],
            [
             0.1,
             "#c51b7d"
            ],
            [
             0.2,
             "#de77ae"
            ],
            [
             0.3,
             "#f1b6da"
            ],
            [
             0.4,
             "#fde0ef"
            ],
            [
             0.5,
             "#f7f7f7"
            ],
            [
             0.6,
             "#e6f5d0"
            ],
            [
             0.7,
             "#b8e186"
            ],
            [
             0.8,
             "#7fbc41"
            ],
            [
             0.9,
             "#4d9221"
            ],
            [
             1,
             "#276419"
            ]
           ],
           "sequential": [
            [
             0.0,
             "#0d0887"
            ],
            [
             0.1111111111111111,
             "#46039f"
            ],
            [
             0.2222222222222222,
             "#7201a8"
            ],
            [
             0.3333333333333333,
             "#9c179e"
            ],
            [
             0.4444444444444444,
             "#bd3786"
            ],
            [
             0.5555555555555556,
             "#d8576b"
            ],
            [
             0.6666666666666666,
             "#ed7953"
            ],
            [
             0.7777777777777778,
             "#fb9f3a"
            ],
            [
             0.8888888888888888,
             "#fdca26"
            ],
            [
             1.0,
             "#f0f921"
            ]
           ],
           "sequentialminus": [
            [
             0.0,
             "#0d0887"
            ],
            [
             0.1111111111111111,
             "#46039f"
            ],
            [
             0.2222222222222222,
             "#7201a8"
            ],
            [
             0.3333333333333333,
             "#9c179e"
            ],
            [
             0.4444444444444444,
             "#bd3786"
            ],
            [
             0.5555555555555556,
             "#d8576b"
            ],
            [
             0.6666666666666666,
             "#ed7953"
            ],
            [
             0.7777777777777778,
             "#fb9f3a"
            ],
            [
             0.8888888888888888,
             "#fdca26"
            ],
            [
             1.0,
             "#f0f921"
            ]
           ]
          },
          "colorway": [
           "#636efa",
           "#EF553B",
           "#00cc96",
           "#ab63fa",
           "#FFA15A",
           "#19d3f3",
           "#FF6692",
           "#B6E880",
           "#FF97FF",
           "#FECB52"
          ],
          "font": {
           "color": "#2a3f5f"
          },
          "geo": {
           "bgcolor": "white",
           "lakecolor": "white",
           "landcolor": "white",
           "showlakes": true,
           "showland": true,
           "subunitcolor": "#C8D4E3"
          },
          "hoverlabel": {
           "align": "left"
          },
          "hovermode": "closest",
          "mapbox": {
           "style": "light"
          },
          "paper_bgcolor": "white",
          "plot_bgcolor": "white",
          "polar": {
           "angularaxis": {
            "gridcolor": "#EBF0F8",
            "linecolor": "#EBF0F8",
            "ticks": ""
           },
           "bgcolor": "white",
           "radialaxis": {
            "gridcolor": "#EBF0F8",
            "linecolor": "#EBF0F8",
            "ticks": ""
           }
          },
          "scene": {
           "xaxis": {
            "backgroundcolor": "white",
            "gridcolor": "#DFE8F3",
            "gridwidth": 2,
            "linecolor": "#EBF0F8",
            "showbackground": true,
            "ticks": "",
            "zerolinecolor": "#EBF0F8"
           },
           "yaxis": {
            "backgroundcolor": "white",
            "gridcolor": "#DFE8F3",
            "gridwidth": 2,
            "linecolor": "#EBF0F8",
            "showbackground": true,
            "ticks": "",
            "zerolinecolor": "#EBF0F8"
           },
           "zaxis": {
            "backgroundcolor": "white",
            "gridcolor": "#DFE8F3",
            "gridwidth": 2,
            "linecolor": "#EBF0F8",
            "showbackground": true,
            "ticks": "",
            "zerolinecolor": "#EBF0F8"
           }
          },
          "shapedefaults": {
           "line": {
            "color": "#2a3f5f"
           }
          },
          "ternary": {
           "aaxis": {
            "gridcolor": "#DFE8F3",
            "linecolor": "#A2B1C6",
            "ticks": ""
           },
           "baxis": {
            "gridcolor": "#DFE8F3",
            "linecolor": "#A2B1C6",
            "ticks": ""
           },
           "bgcolor": "white",
           "caxis": {
            "gridcolor": "#DFE8F3",
            "linecolor": "#A2B1C6",
            "ticks": ""
           }
          },
          "title": {
           "x": 0.05
          },
          "xaxis": {
           "automargin": true,
           "gridcolor": "#EBF0F8",
           "linecolor": "#EBF0F8",
           "ticks": "",
           "title": {
            "standoff": 15
           },
           "zerolinecolor": "#EBF0F8",
           "zerolinewidth": 2
          },
          "yaxis": {
           "automargin": true,
           "gridcolor": "#EBF0F8",
           "linecolor": "#EBF0F8",
           "ticks": "",
           "title": {
            "standoff": 15
           },
           "zerolinecolor": "#EBF0F8",
           "zerolinewidth": 2
          }
         }
        },
        "title": {
         "text": "[2021-03-31 16:19:45 PM] Episode: 2/2 Step: 201/200"
        },
        "xaxis": {
         "anchor": "y",
         "domain": [
          0.0,
          1.0
         ],
         "gridcolor": "Gainsboro",
         "linecolor": "Grey",
         "matches": "x4",
         "rangeslider": {
          "visible": false
         },
         "showticklabels": false,
         "title": {
          "font": {
           "size": 12
          },
          "standoff": 7,
          "text": "Price"
         }
        },
        "xaxis2": {
         "anchor": "y2",
         "domain": [
          0.0,
          1.0
         ],
         "gridcolor": "Gainsboro",
         "linecolor": "Grey",
         "matches": "x4",
         "showticklabels": false,
         "title": {
          "font": {
           "size": 12
          },
          "standoff": 7,
          "text": "Volume"
         }
        },
        "xaxis3": {
         "anchor": "y3",
         "domain": [
          0.0,
          1.0
         ],
         "gridcolor": "Gainsboro",
         "linecolor": "Grey",
         "matches": "x4",
         "showticklabels": false,
         "title": {
          "font": {
           "size": 12
          },
          "standoff": 7,
          "text": "Performance"
         }
        },
        "xaxis4": {
         "anchor": "y4",
         "domain": [
          0.0,
          1.0
         ],
         "gridcolor": "Gainsboro",
         "linecolor": "Grey",
         "title": {
          "font": {
           "size": 12
          },
          "standoff": 7,
          "text": "Net Worth"
         }
        },
        "yaxis": {
         "anchor": "x",
         "domain": [
          0.49950000000000006,
          1.0
         ],
         "gridcolor": "Gainsboro",
         "linecolor": "Grey"
        },
        "yaxis2": {
         "anchor": "x2",
         "domain": [
          0.333,
          0.46950000000000003
         ],
         "gridcolor": "Gainsboro",
         "linecolor": "Grey"
        },
        "yaxis3": {
         "anchor": "x3",
         "domain": [
          0.1665,
          0.30300000000000005
         ],
         "gridcolor": "Gainsboro",
         "linecolor": "Grey"
        },
        "yaxis4": {
         "anchor": "x4",
         "domain": [
          0.0,
          0.1365
         ],
         "gridcolor": "Gainsboro",
         "linecolor": "Grey"
        }
       }
      },
      "text/html": "<div>                            <div id=\"bf5f2cd2-4bee-4952-b257-fff227bda334\" class=\"plotly-graph-div\" style=\"height:525px; width:100%;\"></div>            <script type=\"text/javascript\">                require([\"plotly\"], function(Plotly) {                    window.PLOTLYENV=window.PLOTLYENV || {};                                    if (document.getElementById(\"bf5f2cd2-4bee-4952-b257-fff227bda334\")) {                    Plotly.newPlot(                        \"bf5f2cd2-4bee-4952-b257-fff227bda334\",                        [{\"close\": [8740.99, 8739.0, 8728.49, 8708.32, 8795.9, 8760.0, 8760.0, 8759.23, 8517.77, 8520.3, 8535.23, 8546.34, 8526.65, 8555.6, 8512.1, 8492.28, 8460.0, 8474.99, 8455.92, 8326.28, 8133.43, 8164.79, 8229.38, 8220.4, 8238.8, 8232.99, 8207.48, 8243.45, 8371.13, 8373.0, 8365.08, 8179.99, 8225.0, 8285.8, 8273.4, 8297.4, 8279.89, 8252.72, 8302.18, 8295.85, 8277.25, 8346.59, 8358.3, 8375.1, 8368.62, 8366.72, 8314.77, 8363.7, 8344.16, 8247.4, 8277.4, 8291.67, 8307.89, 8298.9, 8269.47, 8300.98, 8318.49, 8306.39, 8276.43, 8257.69, 8166.0, 8176.33, 8200.7, 8155.41, 8080.0, 8067.03, 7958.08, 7974.25, 7998.5, 7991.99, 8022.7, 8042.97, 7965.67, 8088.95, 8122.19, 8107.99, 8137.73, 8115.0, 8107.0, 8094.4, 8080.01, 8117.09, 8126.99, 8110.95, 8215.39, 8231.42, 8240.13, 8235.0, 8219.9, 8248.87, 8213.5, 8200.99, 8200.0, 8237.3, 8228.13, 8240.83, 8214.9, 8170.07, 8229.87, 8205.87, 8252.56, 8365.0, 8348.65, 8303.99, 8310.48, 8310.0, 8289.87, 8304.99, 8301.35, 8313.12, 8240.07, 8199.99, 8226.98, 8231.2, 8198.89, 8215.85, 8279.99, 8255.08, 8270.4, 8244.24, 8239.12, 8267.14, 8282.27, 8350.62, 8336.6, 8336.91, 8311.21, 8312.09, 8345.19, 8377.2, 8481.11, 8516.36, 8524.0, 8517.04, 8558.5, 8521.99, 8484.93, 8518.48, 8488.99, 8466.72, 8492.55, 8494.28, 8510.95, 8498.64, 8551.1, 8524.22, 8510.11, 8475.62, 8476.58, 8467.13, 8499.84, 8490.42, 8407.09, 8409.42, 8400.96, 8383.14, 8350.0, 8373.01, 8412.8, 8385.57, 8408.53, 8391.76, 8367.36, 8280.24, 8297.91, 8333.99, 8285.29, 8280.0, 8317.02, 8320.16, 8295.9, 8245.47, 8264.98, 8200.0, 8170.0, 8217.0, 8231.63, 8232.8, 8225.38, 8200.01, 8219.98, 8187.98, 8100.32, 8076.99, 7964.73, 7984.08, 7949.35, 7900.61, 7895.5, 7960.0, 7900.0, 7921.99, 7943.07, 7856.37, 7848.3, 7852.68, 7847.1, 7849.31, 7911.83, 7901.01, 7887.0], \"high\": [8796.68, 8766.0, 8750.27, 8754.4, 8865.0, 8821.19, 8798.6, 8771.02, 8761.7, 8553.67, 8589.1, 8579.48, 8555.51, 8583.6, 8569.92, 8555.54, 8557.51, 8505.0, 8505.33, 8478.29, 8339.81, 8217.44, 8252.72, 8248.63, 8267.12, 8255.0, 8261.24, 8263.93, 8455.66, 8439.44, 8399.1, 8381.73, 8229.91, 8377.29, 8329.1, 8350.0, 8346.95, 8377.29, 8311.35, 8319.96, 8398.24, 8372.58, 8399.99, 8386.53, 8400.0, 8500.0, 8381.0, 8371.3, 8382.41, 8351.0, 8292.99, 8325.8, 8318.99, 8324.9, 8335.56, 8309.4, 8377.29, 8330.41, 8328.23, 8284.36, 8274.83, 8200.0, 8232.14, 8213.97, 8155.41, 8108.28, 8068.92, 8019.9, 8026.66, 8025.0, 8104.69, 8061.39, 8045.99, 8170.71, 8144.16, 8139.99, 8152.99, 8137.73, 8143.72, 8129.99, 8106.76, 8139.0, 8152.04, 8146.99, 8232.14, 8275.1, 8256.12, 8274.1, 8255.8, 8253.97, 8261.09, 8235.76, 8227.0, 8273.36, 8264.21, 8250.0, 8250.86, 8235.77, 8232.12, 8232.14, 8252.72, 8370.0, 8395.0, 8374.48, 8331.0, 8319.43, 8323.4, 8314.55, 8330.62, 8314.8, 8323.99, 8263.03, 8247.78, 8253.75, 8237.89, 8235.0, 8279.99, 8290.0, 8278.71, 8275.34, 8279.31, 8279.98, 8294.04, 8356.4, 8374.94, 8354.83, 8360.45, 8337.14, 8351.97, 8377.29, 8549.0, 8531.9, 8551.79, 8529.9, 8590.0, 8576.1, 8549.89, 8531.89, 8550.0, 8493.29, 8522.98, 8517.0, 8537.29, 8524.51, 8589.1, 8589.07, 8536.92, 8524.03, 8497.8, 8498.0, 8513.5, 8510.0, 8494.7, 8427.29, 8419.03, 8415.47, 8389.99, 8397.57, 8455.0, 8429.66, 8412.61, 8424.0, 8417.65, 8369.7, 8326.5, 8336.65, 8333.99, 8314.32, 8355.97, 8333.49, 8325.6, 8296.01, 8264.98, 8271.31, 8200.0, 8232.14, 8246.0, 8248.94, 8259.95, 8242.49, 8232.04, 8230.9, 8205.0, 8118.98, 8103.07, 8040.95, 8032.01, 7960.25, 7920.0, 7960.0, 7960.0, 7935.0, 7960.99, 7951.38, 7888.92, 7870.0, 7909.75, 7882.27, 7949.27, 7944.73, 7916.48], \"low\": [8707.28, 8721.11, 8660.53, 8701.35, 8695.11, 8740.54, 8741.52, 8700.0, 8467.42, 8477.89, 8500.78, 8500.0, 8400.0, 8451.05, 8461.38, 8481.24, 8420.37, 8450.0, 8430.94, 8275.02, 8100.01, 8122.56, 8157.01, 8166.25, 8176.91, 8213.79, 8200.0, 8207.48, 8237.1, 8370.0, 8356.4, 8145.1, 8173.6, 8211.8, 8201.0, 8250.9, 8266.46, 8252.72, 8232.14, 8268.37, 8277.25, 8277.25, 8314.78, 8314.77, 8350.07, 8331.39, 8314.77, 8275.45, 8335.49, 8191.14, 8227.7, 8264.13, 8249.93, 8269.52, 8219.44, 8262.68, 8286.65, 8289.87, 8232.14, 8232.14, 8110.02, 8154.95, 8168.6, 8151.0, 7980.0, 8005.95, 7929.53, 7931.03, 7950.0, 7980.58, 7991.99, 7992.75, 7953.4, 7965.67, 8085.94, 8078.48, 8092.9, 8049.22, 8079.46, 8062.12, 8043.96, 8063.1, 8088.46, 8094.43, 8088.46, 8191.14, 8212.0, 8224.5, 8211.0, 8211.01, 8210.03, 8158.27, 8177.65, 8179.41, 8221.92, 8217.32, 8213.52, 8141.08, 8146.1, 8186.03, 8197.09, 8231.21, 8323.82, 8296.0, 8296.31, 8282.65, 8280.0, 8273.36, 8290.08, 8277.93, 8240.07, 8191.14, 8178.0, 8193.7, 8180.0, 8170.71, 8215.53, 8240.02, 8237.17, 8237.17, 8239.12, 8227.79, 8247.57, 8274.24, 8326.1, 8320.61, 8281.31, 8269.85, 8311.16, 8336.11, 8369.86, 8471.51, 8511.0, 8476.66, 8507.68, 8509.24, 8482.53, 8484.93, 8450.0, 8434.47, 8461.1, 8481.0, 8480.0, 8488.1, 8471.09, 8509.2, 8482.64, 8469.0, 8440.4, 8440.52, 8461.8, 8480.0, 8358.17, 8380.73, 8370.0, 8383.12, 8320.0, 8349.17, 8357.11, 8370.58, 8367.21, 8376.99, 8335.6, 8252.72, 8264.49, 8282.59, 8271.09, 8261.52, 8280.0, 8297.0, 8290.0, 8220.0, 8230.45, 8180.0, 8119.38, 8170.0, 8189.84, 8210.76, 8212.68, 8200.0, 8186.0, 8161.77, 8063.15, 8050.01, 7951.41, 7964.73, 7949.35, 7861.32, 7865.0, 7886.48, 7870.35, 7885.2, 7896.41, 7811.62, 7808.05, 7808.0, 7836.79, 7801.02, 7847.36, 7883.0, 7850.72], \"name\": \"Price\", \"open\": [8733.86, 8740.99, 8739.0, 8728.49, 8708.32, 8795.9, 8760.0, 8760.0, 8759.23, 8517.77, 8520.3, 8535.23, 8546.34, 8526.65, 8555.6, 8512.1, 8492.28, 8460.0, 8474.99, 8455.92, 8326.28, 8133.43, 8164.79, 8229.38, 8220.4, 8238.8, 8232.99, 8207.48, 8243.45, 8371.13, 8373.0, 8365.08, 8179.99, 8225.0, 8285.8, 8273.4, 8297.4, 8279.89, 8252.72, 8302.18, 8295.85, 8277.25, 8346.59, 8358.3, 8375.1, 8368.62, 8366.72, 8314.77, 8363.7, 8344.16, 8247.4, 8277.4, 8291.67, 8307.89, 8298.9, 8269.47, 8300.98, 8318.49, 8306.39, 8276.43, 8257.69, 8166.0, 8176.33, 8200.7, 8155.41, 8080.0, 8067.03, 7958.08, 7974.25, 7998.5, 7991.99, 8022.7, 8042.97, 7965.67, 8088.95, 8122.19, 8107.99, 8137.73, 8115.0, 8107.0, 8094.4, 8080.01, 8117.09, 8126.99, 8110.95, 8215.39, 8231.42, 8240.13, 8235.0, 8219.9, 8248.87, 8213.5, 8200.99, 8200.0, 8237.3, 8228.13, 8240.83, 8214.9, 8170.07, 8229.87, 8205.87, 8252.56, 8365.0, 8348.65, 8303.99, 8310.48, 8310.0, 8289.87, 8304.99, 8301.35, 8313.12, 8240.07, 8199.99, 8226.98, 8231.2, 8198.89, 8215.85, 8279.99, 8255.08, 8270.4, 8244.24, 8239.12, 8267.14, 8282.27, 8350.62, 8336.6, 8336.91, 8311.21, 8312.09, 8345.19, 8377.2, 8481.11, 8516.36, 8524.0, 8517.04, 8558.5, 8521.99, 8484.93, 8518.48, 8488.99, 8466.72, 8492.55, 8494.28, 8510.95, 8498.64, 8551.1, 8524.22, 8510.11, 8475.62, 8476.58, 8467.13, 8499.84, 8490.42, 8407.09, 8409.42, 8400.96, 8383.14, 8350.0, 8373.01, 8412.8, 8385.57, 8408.53, 8391.76, 8367.36, 8280.24, 8297.91, 8333.99, 8285.29, 8280.0, 8317.02, 8320.16, 8295.9, 8245.47, 8264.98, 8200.0, 8170.0, 8217.0, 8231.63, 8232.8, 8225.38, 8200.01, 8219.98, 8187.98, 8100.32, 8076.99, 7964.73, 7984.08, 7949.35, 7900.61, 7895.5, 7960.0, 7900.0, 7921.99, 7943.07, 7856.37, 7848.3, 7852.68, 7847.1, 7849.31, 7911.83, 7901.01], \"showlegend\": false, \"type\": \"candlestick\", \"uid\": \"0731bd14-fe30-4ad1-96ba-551ccc3d56c2\", \"xaxis\": \"x\", \"yaxis\": \"y\"}, {\"marker\": {\"color\": \"DodgerBlue\"}, \"name\": \"Volume\", \"showlegend\": false, \"type\": \"bar\", \"uid\": \"391f75b1-d2aa-40b4-917f-b27b916252fb\", \"xaxis\": \"x2\", \"y\": [559.93, 273.58, 917.79, 182.62, 1260.69, 324.11, 324.2, 730.67, 1341.75, 792.07, 385.69, 475.08, 877.26, 670.49, 610.97, 168.99, 305.92, 136.05, 154.26, 1070.93, 1710.2, 492.8, 630.72, 620.93, 586.34, 304.52, 450.97, 182.36, 915.32, 319.29, 362.01, 1046.38, 357.91, 561.2, 322.53, 1073.71, 237.21, 251.2, 359.73, 117.23, 363.17, 214.18, 171.64, 258.58, 299.52, 718.98, 119.7, 405.25, 210.77, 714.82, 215.97, 164.2, 201.55, 203.41, 886.82, 95.49, 499.67, 172.77, 355.39, 255.27, 591.06, 133.1, 149.13, 87.55, 1061.54, 286.94, 524.42, 316.0, 441.43, 189.7, 844.94, 155.34, 257.56, 610.69, 217.97, 173.18, 218.06, 372.97, 484.39, 248.1, 162.35, 303.42, 290.69, 160.93, 369.4, 487.27, 93.35, 96.68, 72.14, 90.22, 168.52, 203.15, 71.42, 464.56, 57.0, 89.42, 49.47, 200.05, 254.37, 65.05, 118.19, 452.4, 181.03, 288.04, 145.78, 110.14, 55.48, 80.87, 67.01, 59.16, 121.26, 244.37, 156.87, 80.48, 139.32, 93.52, 200.23, 97.4, 68.08, 47.0, 36.65, 28.75, 182.85, 400.18, 288.1, 182.94, 777.81, 493.59, 118.63, 174.37, 901.75, 222.45, 113.8, 84.2, 261.44, 168.78, 111.07, 122.12, 267.32, 210.39, 211.36, 146.22, 93.39, 89.04, 307.59, 307.2, 164.24, 151.21, 399.77, 362.01, 260.85, 232.32, 1109.45, 348.5, 210.57, 274.92, 277.83, 99.57, 273.12, 129.47, 113.05, 87.6, 159.37, 433.28, 133.29, 200.57, 210.33, 206.4, 357.53, 107.43, 116.54, 479.07, 290.38, 812.96, 1542.87, 430.36, 312.54, 132.75, 333.64, 205.86, 120.33, 263.1, 457.64, 451.55, 962.22, 381.04, 386.95, 905.87, 453.48, 542.31, 476.48, 341.79, 654.23, 769.1, 719.94, 523.05, 409.37, 255.12, 551.86, 340.62, 488.69], \"yaxis\": \"y2\"}, {\"mode\": \"lines\", \"name\": \"bitstamp:/USD-BTC\", \"type\": \"scatter\", \"uid\": \"2f79b682-a0c5-4a58-b299-e065a721e121\", \"xaxis\": \"x3\", \"y\": [8740.99, 8739.0, 8728.49, 8708.32, 8795.9, 8760.0, 8760.0, 8759.23, 8517.77, 8520.3, 8535.23, 8546.34, 8526.65, 8555.6, 8512.1, 8492.28, 8460.0, 8474.99, 8455.92, 8326.28, 8133.43, 8164.79, 8229.38, 8220.4, 8238.8, 8232.99, 8207.48, 8243.45, 8371.13, 8373.0, 8365.08, 8179.99, 8225.0, 8285.8, 8273.4, 8297.4, 8279.89, 8252.72, 8302.18, 8295.85, 8277.25, 8346.59, 8358.3, 8375.1, 8368.62, 8366.72, 8314.77, 8363.7, 8344.16, 8247.4, 8277.4, 8291.67, 8307.89, 8298.9, 8269.47, 8300.98, 8318.49, 8306.39, 8276.43, 8257.69, 8166.0, 8176.33, 8200.7, 8155.41, 8080.0, 8067.03, 7958.08, 7974.25, 7998.5, 7991.99, 8022.7, 8042.97, 7965.67, 8088.95, 8122.19, 8107.99, 8137.73, 8115.0, 8107.0, 8094.4, 8080.01, 8117.09, 8126.99, 8110.95, 8215.39, 8231.42, 8240.13, 8235.0, 8219.9, 8248.87, 8213.5, 8200.99, 8200.0, 8237.3, 8228.13, 8240.83, 8214.9, 8170.07, 8229.87, 8205.87, 8252.56, 8365.0, 8348.65, 8303.99, 8310.48, 8310.0, 8289.87, 8304.99, 8301.35, 8313.12, 8240.07, 8199.99, 8226.98, 8231.2, 8198.89, 8215.85, 8279.99, 8255.08, 8270.4, 8244.24, 8239.12, 8267.14, 8282.27, 8350.62, 8336.6, 8336.91, 8311.21, 8312.09, 8345.19, 8377.2, 8481.11, 8516.36, 8524.0, 8517.04, 8558.5, 8521.99, 8484.93, 8518.48, 8488.99, 8466.72, 8492.55, 8494.28, 8510.95, 8498.64, 8551.1, 8524.22, 8510.11, 8475.62, 8476.58, 8467.13, 8499.84, 8490.42, 8407.09, 8409.42, 8400.96, 8383.14, 8350.0, 8373.01, 8412.8, 8385.57, 8408.53, 8391.76, 8367.36, 8280.24, 8297.91, 8333.99, 8285.29, 8280.0, 8317.02, 8320.16, 8295.9, 8245.47, 8264.98, 8200.0, 8170.0, 8217.0, 8231.63, 8232.8, 8225.38, 8200.01, 8219.98, 8187.98, 8100.32, 8076.99, 7964.73, 7984.08, 7949.35, 7900.61, 7895.5, 7960.0, 7900.0, 7921.99, 7943.07, 7856.37, 7848.3, 7852.68, 7847.1, 7849.31, 7911.83, 7901.01, 7887.0], \"yaxis\": \"y3\"}, {\"mode\": \"lines\", \"name\": \"bitstamp:/USD:/free\", \"type\": \"scatter\", \"uid\": \"a9f121fb-8336-4ce1-85b8-8eaa152b2460\", \"xaxis\": \"x3\", \"y\": [10000.0, 5000.0, 1500.0, 1500.0, 1500.0, 1500.0, 1500.0, 1500.0, 1500.0, 6343.12, 3805.87, 3805.87, 3805.87, 3805.87, 3805.87, 3805.87, 3805.87, 3805.87, 3805.87, 3805.87, 7120.6, 9528.14, 9528.14, 9528.14, 9528.14, 9528.14, 9528.14, 9528.14, 2858.44, 2858.44, 2858.44, 2858.44, 2858.44, 2858.44, 2858.44, 2858.44, 2858.44, 2858.44, 2858.44, 2858.44, 2858.44, 2858.44, 2858.44, 571.69, 571.69, 571.69, 571.69, 571.69, 571.69, 571.69, 571.69, 571.69, 571.69, 571.69, 571.69, 571.69, 571.69, 571.69, 571.69, 571.69, 571.69, 571.69, 571.69, 571.69, 571.69, 571.69, 571.69, 571.69, 571.69, 571.69, 571.69, 571.69, 571.69, 571.69, 571.69, 571.69, 571.69, 571.69, 571.69, 571.69, 571.69, 571.69, 571.69, 571.69, 571.69, 571.69, 571.69, 571.69, 571.69, 571.69, 571.69, 571.69, 571.69, 571.69, 571.69, 571.69, 571.69, 571.69, 571.69, 571.69, 571.69, 571.69, 571.69, 571.69, 571.69, 571.69, 571.69, 571.69, 571.69, 571.69, 571.69, 571.69, 571.69, 571.69, 571.69, 571.69, 571.69, 571.69, 571.69, 571.69, 571.69, 571.69, 571.69, 571.69, 571.69, 571.69, 571.69, 571.69, 571.69, 571.69, 571.69, 7392.57, 9708.6, 9708.6, 3883.44, 3883.44, 3883.44, 3883.44, 3883.44, 3883.44, 3883.44, 3883.44, 3883.44, 3883.44, 3883.44, 3883.44, 1165.03, 1165.03, 1165.03, 1165.03, 1165.03, 1165.03, 1165.03, 1165.03, 1165.03, 1165.03, 1165.03, 1165.03, 1165.03, 1165.03, 1165.03, 1165.03, 1165.03, 1165.03, 1165.03, 1165.03, 1165.03, 1165.03, 1165.03, 1165.03, 1165.03, 1165.03, 1165.03, 1165.03, 1165.03, 6719.35, 2015.8, 2015.8, 2015.8, 2015.8, 2015.8, 2015.8, 2015.8, 4583.55, 1375.06, 1375.06, 1375.06, 1375.06, 1375.06, 1375.06, 1375.06, 1375.06, 1375.06, 1375.06, 5845.24, 1753.57, 1753.57, 1753.57, 1753.57, 1753.57, 1753.57], \"yaxis\": \"y3\"}, {\"mode\": \"lines\", \"name\": \"bitstamp:/USD:/locked\", \"type\": \"scatter\", \"uid\": \"601870c1-66ac-4116-83ce-e0fc7b55621e\", \"xaxis\": \"x3\", \"y\": [0.0, 0.0, 0.0, 0.0, 0.0, 0.0, 0.0, 0.0, 0.0, 0.0, 0.0, 0.0, 0.0, 0.0, 0.0, 0.0, 0.0, 0.0, 0.0, 0.0, 0.0, 0.0, 0.0, 0.0, 0.0, 0.0, 0.0, 0.0, 0.0, 0.0, 0.0, 0.0, 0.0, 0.0, 0.0, 0.0, 0.0, 0.0, 0.0, 0.0, 0.0, 0.0, 0.0, 0.0, 0.0, 0.0, 0.0, 0.0, 0.0, 0.0, 0.0, 0.0, 0.0, 0.0, 0.0, 0.0, 0.0, 0.0, 0.0, 0.0, 0.0, 0.0, 0.0, 0.0, 0.0, 0.0, 0.0, 0.0, 0.0, 0.0, 0.0, 0.0, 0.0, 0.0, 0.0, 0.0, 0.0, 0.0, 0.0, 0.0, 0.0, 0.0, 0.0, 0.0, 0.0, 0.0, 0.0, 0.0, 0.0, 0.0, 0.0, 0.0, 0.0, 0.0, 0.0, 0.0, 0.0, 0.0, 0.0, 0.0, 0.0, 0.0, 0.0, 0.0, 0.0, 0.0, 0.0, 0.0, 0.0, 0.0, 0.0, 0.0, 0.0, 0.0, 0.0, 0.0, 0.0, 0.0, 0.0, 0.0, 0.0, 0.0, 0.0, 0.0, 0.0, 0.0, 0.0, 0.0, 0.0, 0.0, 0.0, 0.0, 0.0, 0.0, 0.0, 0.0, 0.0, 0.0, 0.0, 0.0, 0.0, 0.0, 0.0, 0.0, 0.0, 0.0, 0.0, 0.0, 0.0, 0.0, 0.0, 0.0, 0.0, 0.0, 0.0, 0.0, 0.0, 0.0, 0.0, 0.0, 0.0, 0.0, 0.0, 0.0, 0.0, 0.0, 0.0, 0.0, 0.0, 0.0, 0.0, 0.0, 0.0, 0.0, 0.0, 0.0, 0.0, 0.0, 0.0, 0.0, 0.0, 0.0, 0.0, 0.0, 0.0, 0.0, 0.0, 0.0, 0.0, 0.0, 0.0, 0.0, 0.0, 0.0, 0.0, 0.0, 0.0, 0.0, 0.0, 0.0, 0.0], \"yaxis\": \"y3\"}, {\"mode\": \"lines\", \"name\": \"bitstamp:/USD:/total\", \"type\": \"scatter\", \"uid\": \"2c681579-e45b-4a8f-afef-4ab343f9a74a\", \"xaxis\": \"x3\", \"y\": [10000.0, 5000.0, 1500.0, 1500.0, 1500.0, 1500.0, 1500.0, 1500.0, 1500.0, 6343.12, 3805.87, 3805.87, 3805.87, 3805.87, 3805.87, 3805.87, 3805.87, 3805.87, 3805.87, 3805.87, 7120.6, 9528.14, 9528.14, 9528.14, 9528.14, 9528.14, 9528.14, 9528.14, 2858.44, 2858.44, 2858.44, 2858.44, 2858.44, 2858.44, 2858.44, 2858.44, 2858.44, 2858.44, 2858.44, 2858.44, 2858.44, 2858.44, 2858.44, 571.69, 571.69, 571.69, 571.69, 571.69, 571.69, 571.69, 571.69, 571.69, 571.69, 571.69, 571.69, 571.69, 571.69, 571.69, 571.69, 571.69, 571.69, 571.69, 571.69, 571.69, 571.69, 571.69, 571.69, 571.69, 571.69, 571.69, 571.69, 571.69, 571.69, 571.69, 571.69, 571.69, 571.69, 571.69, 571.69, 571.69, 571.69, 571.69, 571.69, 571.69, 571.69, 571.69, 571.69, 571.69, 571.69, 571.69, 571.69, 571.69, 571.69, 571.69, 571.69, 571.69, 571.69, 571.69, 571.69, 571.69, 571.69, 571.69, 571.69, 571.69, 571.69, 571.69, 571.69, 571.69, 571.69, 571.69, 571.69, 571.69, 571.69, 571.69, 571.69, 571.69, 571.69, 571.69, 571.69, 571.69, 571.69, 571.69, 571.69, 571.69, 571.69, 571.69, 571.69, 571.69, 571.69, 571.69, 571.69, 7392.57, 9708.6, 9708.6, 3883.44, 3883.44, 3883.44, 3883.44, 3883.44, 3883.44, 3883.44, 3883.44, 3883.44, 3883.44, 3883.44, 3883.44, 1165.03, 1165.03, 1165.03, 1165.03, 1165.03, 1165.03, 1165.03, 1165.03, 1165.03, 1165.03, 1165.03, 1165.03, 1165.03, 1165.03, 1165.03, 1165.03, 1165.03, 1165.03, 1165.03, 1165.03, 1165.03, 1165.03, 1165.03, 1165.03, 1165.03, 1165.03, 1165.03, 1165.03, 1165.03, 6719.35, 2015.8, 2015.8, 2015.8, 2015.8, 2015.8, 2015.8, 2015.8, 4583.55, 1375.06, 1375.06, 1375.06, 1375.06, 1375.06, 1375.06, 1375.06, 1375.06, 1375.06, 1375.06, 5845.24, 1753.57, 1753.57, 1753.57, 1753.57, 1753.57, 1753.57], \"yaxis\": \"y3\"}, {\"mode\": \"lines\", \"name\": \"bitstamp:/BTC:/free\", \"type\": \"scatter\", \"uid\": \"692d2628-0225-446b-884c-8082509c661b\", \"xaxis\": \"x3\", \"y\": [10.0, 10.0, 10.0, 10.0, 10.0, 10.0, 10.0, 10.0, 10.0, 10.0, 10.0, 10.0, 10.0, 10.0, 10.0, 10.0, 10.0, 10.0, 10.0, 10.0, 10.0, 10.0, 10.0, 10.0, 10.0, 10.0, 10.0, 10.0, 10.0, 10.0, 10.0, 10.0, 10.0, 10.0, 10.0, 10.0, 10.0, 10.0, 10.0, 10.0, 10.0, 10.0, 10.0, 10.0, 10.0, 10.0, 10.0, 10.0, 10.0, 10.0, 10.0, 10.0, 10.0, 10.0, 10.0, 10.0, 10.0, 10.0, 10.0, 10.0, 10.0, 10.0, 10.0, 10.0, 10.0, 10.0, 10.0, 10.0, 10.0, 10.0, 10.0, 10.0, 10.0, 10.0, 10.0, 10.0, 10.0, 10.0, 10.0, 10.0, 10.0, 10.0, 10.0, 10.0, 10.0, 10.0, 10.0, 10.0, 10.0, 10.0, 10.0, 10.0, 10.0, 10.0, 10.0, 10.0, 10.0, 10.0, 10.0, 10.0, 10.0, 10.0, 10.0, 10.0, 10.0, 10.0, 10.0, 10.0, 10.0, 10.0, 10.0, 10.0, 10.0, 10.0, 10.0, 10.0, 10.0, 10.0, 10.0, 10.0, 10.0, 10.0, 10.0, 10.0, 10.0, 10.0, 10.0, 10.0, 10.0, 10.0, 10.0, 10.0, 10.0, 10.0, 10.0, 10.0, 10.0, 10.0, 10.0, 10.0, 10.0, 10.0, 10.0, 10.0, 10.0, 10.0, 10.0, 10.0, 10.0, 10.0, 10.0, 10.0, 10.0, 10.0, 10.0, 10.0, 10.0, 10.0, 10.0, 10.0, 10.0, 10.0, 10.0, 10.0, 10.0, 10.0, 10.0, 10.0, 10.0, 10.0, 10.0, 10.0, 10.0, 10.0, 10.0, 10.0, 10.0, 10.0, 10.0, 10.0, 10.0, 10.0, 10.0, 10.0, 10.0, 10.0, 10.0, 10.0, 10.0, 10.0, 10.0, 10.0, 10.0, 10.0, 10.0, 10.0, 10.0, 10.0, 10.0, 10.0, 10.0], \"yaxis\": \"y3\"}, {\"mode\": \"lines\", \"name\": \"bitstamp:/BTC:/locked\", \"type\": \"scatter\", \"uid\": \"e837dc76-37dd-4675-ba8b-277d0e2e7b3e\", \"xaxis\": \"x3\", \"y\": [0.0, 0.57030153, 0.96960351, 0.96960351, 0.96960351, 0.96960351, 0.96960351, 0.96960351, 0.96960351, 0.39930198, 0.69619763, 0.69619763, 0.69619763, 0.69619763, 0.69619763, 0.69619763, 0.69619763, 0.69619763, 0.69619763, 0.69619763, 0.29689565, 0.0, 0.0, 0.0, 0.0, 0.0, 0.0, 0.0, 0.80666347, 0.80666347, 0.80666347, 0.80666347, 0.80666347, 0.80666347, 0.80666347, 0.80666347, 0.80666347, 0.80666347, 0.80666347, 0.80666347, 0.80666347, 0.80666347, 0.80666347, 1.07943305, 1.07943305, 1.07943305, 1.07943305, 1.07943305, 1.07943305, 1.07943305, 1.07943305, 1.07943305, 1.07943305, 1.07943305, 1.07943305, 1.07943305, 1.07943305, 1.07943305, 1.07943305, 1.07943305, 1.07943305, 1.07943305, 1.07943305, 1.07943305, 1.07943305, 1.07943305, 1.07943305, 1.07943305, 1.07943305, 1.07943305, 1.07943305, 1.07943305, 1.07943305, 1.07943305, 1.07943305, 1.07943305, 1.07943305, 1.07943305, 1.07943305, 1.07943305, 1.07943305, 1.07943305, 1.07943305, 1.07943305, 1.07943305, 1.07943305, 1.07943305, 1.07943305, 1.07943305, 1.07943305, 1.07943305, 1.07943305, 1.07943305, 1.07943305, 1.07943305, 1.07943305, 1.07943305, 1.07943305, 1.07943305, 1.07943305, 1.07943305, 1.07943305, 1.07943305, 1.07943305, 1.07943305, 1.07943305, 1.07943305, 1.07943305, 1.07943305, 1.07943305, 1.07943305, 1.07943305, 1.07943305, 1.07943305, 1.07943305, 1.07943305, 1.07943305, 1.07943305, 1.07943305, 1.07943305, 1.07943305, 1.07943305, 1.07943305, 1.07943305, 1.07943305, 1.07943305, 1.07943305, 1.07943305, 1.07943305, 1.07943305, 1.07943305, 0.27276958, 0.0, 0.0, 0.68188948, 0.68188948, 0.68188948, 0.68188948, 0.68188948, 0.68188948, 0.68188948, 0.68188948, 0.68188948, 0.68188948, 0.68188948, 0.68188948, 0.99983646, 0.99983646, 0.99983646, 0.99983646, 0.99983646, 0.99983646, 0.99983646, 0.99983646, 0.99983646, 0.99983646, 0.99983646, 0.99983646, 0.99983646, 0.99983646, 0.99983646, 0.99983646, 0.99983646, 0.99983646, 0.99983646, 0.99983646, 0.99983646, 0.99983646, 0.99983646, 0.99983646, 0.99983646, 0.99983646, 0.99983646, 0.99983646, 0.99983646, 0.31794698, 0.88864675, 0.88864675, 0.88864675, 0.88864675, 0.88864675, 0.88864675, 0.88864675, 0.57069977, 0.96674582, 0.96674582, 0.96674582, 0.96674582, 0.96674582, 0.96674582, 0.96674582, 0.96674582, 0.96674582, 0.96674582, 0.39604605, 0.91582613, 0.91582613, 0.91582613, 0.91582613, 0.91582613, 0.91582613], \"yaxis\": \"y3\"}, {\"mode\": \"lines\", \"name\": \"bitstamp:/BTC:/total\", \"type\": \"scatter\", \"uid\": \"d1a5bb1d-8ac9-46ba-a619-40cf477fdaab\", \"xaxis\": \"x3\", \"y\": [10.0, 10.57030153, 10.96960351, 10.96960351, 10.96960351, 10.96960351, 10.96960351, 10.96960351, 10.96960351, 10.39930198, 10.69619763, 10.69619763, 10.69619763, 10.69619763, 10.69619763, 10.69619763, 10.69619763, 10.69619763, 10.69619763, 10.69619763, 10.29689565, 10.0, 10.0, 10.0, 10.0, 10.0, 10.0, 10.0, 10.80666347, 10.80666347, 10.80666347, 10.80666347, 10.80666347, 10.80666347, 10.80666347, 10.80666347, 10.80666347, 10.80666347, 10.80666347, 10.80666347, 10.80666347, 10.80666347, 10.80666347, 11.07943305, 11.07943305, 11.07943305, 11.07943305, 11.07943305, 11.07943305, 11.07943305, 11.07943305, 11.07943305, 11.07943305, 11.07943305, 11.07943305, 11.07943305, 11.07943305, 11.07943305, 11.07943305, 11.07943305, 11.07943305, 11.07943305, 11.07943305, 11.07943305, 11.07943305, 11.07943305, 11.07943305, 11.07943305, 11.07943305, 11.07943305, 11.07943305, 11.07943305, 11.07943305, 11.07943305, 11.07943305, 11.07943305, 11.07943305, 11.07943305, 11.07943305, 11.07943305, 11.07943305, 11.07943305, 11.07943305, 11.07943305, 11.07943305, 11.07943305, 11.07943305, 11.07943305, 11.07943305, 11.07943305, 11.07943305, 11.07943305, 11.07943305, 11.07943305, 11.07943305, 11.07943305, 11.07943305, 11.07943305, 11.07943305, 11.07943305, 11.07943305, 11.07943305, 11.07943305, 11.07943305, 11.07943305, 11.07943305, 11.07943305, 11.07943305, 11.07943305, 11.07943305, 11.07943305, 11.07943305, 11.07943305, 11.07943305, 11.07943305, 11.07943305, 11.07943305, 11.07943305, 11.07943305, 11.07943305, 11.07943305, 11.07943305, 11.07943305, 11.07943305, 11.07943305, 11.07943305, 11.07943305, 11.07943305, 11.07943305, 11.07943305, 11.07943305, 10.27276958, 10.0, 10.0, 10.68188948, 10.68188948, 10.68188948, 10.68188948, 10.68188948, 10.68188948, 10.68188948, 10.68188948, 10.68188948, 10.68188948, 10.68188948, 10.68188948, 10.99983646, 10.99983646, 10.99983646, 10.99983646, 10.99983646, 10.99983646, 10.99983646, 10.99983646, 10.99983646, 10.99983646, 10.99983646, 10.99983646, 10.99983646, 10.99983646, 10.99983646, 10.99983646, 10.99983646, 10.99983646, 10.99983646, 10.99983646, 10.99983646, 10.99983646, 10.99983646, 10.99983646, 10.99983646, 10.99983646, 10.99983646, 10.99983646, 10.99983646, 10.31794698, 10.88864675, 10.88864675, 10.88864675, 10.88864675, 10.88864675, 10.88864675, 10.88864675, 10.57069977, 10.96674582, 10.96674582, 10.96674582, 10.96674582, 10.96674582, 10.96674582, 10.96674582, 10.96674582, 10.96674582, 10.96674582, 10.39604605, 10.91582613, 10.91582613, 10.91582613, 10.91582613, 10.91582613, 10.91582613], \"yaxis\": \"y3\"}, {\"mode\": \"lines\", \"name\": \"bitstamp:/BTC:/worth\", \"type\": \"scatter\", \"uid\": \"57feb423-417f-4b96-9f78-24885eb5f33b\", \"xaxis\": \"x3\", \"y\": [87409.9, 92373.86507067, 95748.0745409999, 95526.8176382032, 96487.53551360901, 96093.72674760001, 96093.72674760001, 96085.2801528973, 93436.5596893727, 88605.172660194, 91294.50689750489, 91413.34165317421, 91202.7335218395, 91512.388443228, 91047.103846323, 90835.10520929641, 90489.8319498, 90650.1679522737, 90446.1914634696, 89059.5364027164, 83749.0799865795, 81647.9, 82293.79999999999, 82204.0, 82388.0, 82329.9, 82074.79999999999, 82434.5, 90463.9847736211, 90484.19323431, 90398.6044596276, 88398.3991179653, 88884.80704075, 89541.85217972599, 89407.849552698, 89667.209475978, 89477.9847986183, 89184.3677521384, 89718.8653273646, 89650.45914759951, 89449.4552070575, 90198.7892520673, 90325.335281301, 92791.35973705501, 92719.56501089102, 92698.514088096, 92122.93754114851, 92665.05420028501, 92448.562078488, 91376.51613657, 91708.89912807, 91867.0026376935, 92046.7110417645, 91947.106938645, 91621.03922398349, 91970.15215938899, 92164.1530320945, 92030.09189218949, 91698.15207801151, 91490.52350265451, 90474.6502863, 90589.1008297065, 90859.10661313501, 90357.3190903005, 89521.819044, 89378.1187973415, 88171.014566544, 88350.1689989625, 88618.845250425, 88546.7181412695, 88886.96753023501, 89111.5476381585, 88255.1074633935, 89620.9799697975, 89989.2603243795, 89831.9323750695, 90161.4347139765, 89909.59920075, 89820.96373635001, 89681.36287992, 89521.9298383305, 89932.75521582451, 90042.4416030195, 89864.7274968975, 91021.8634846395, 91199.466796431, 91295.9686582965, 91239.13116675, 91071.831727695, 91392.80290315351, 91000.923356175, 90862.3196487195, 90851.35101, 91264.61386276499, 91163.0154616965, 91303.7242614315, 91016.43456244499, 90519.7435788135, 91182.29367520352, 90916.38728200352, 91433.686011108, 92679.45746325, 92498.3087328825, 92003.50125286951, 92075.406773364, 92070.0886455, 91847.0596582035, 92014.5806859195, 91974.2515496175, 92104.65647661602, 91295.3038923135, 90851.2402156695, 91150.274113689, 91197.02932116001, 90839.05283931449, 91026.9600238425, 91737.5948596695, 91461.606182394, 91631.34309672, 91341.505128132, 91284.77843091602, 91595.224144977, 91762.85596702351, 92520.13521599102, 92364.80156463, 92368.2361888755, 92083.4947594905, 92093.2446605745, 92459.97389452951, 92814.62654646001, 93965.89043468551, 87486.6039403288, 85240.0, 85170.40000000001, 91420.95111458, 91030.9553296652, 90635.0845055364, 90993.4618975904, 90678.4529768252, 90440.5672981056, 90716.480503374, 90734.96017217441, 90913.02726980601, 90781.5332103072, 91341.90513242802, 91054.7759432056, 93609.8182566106, 93230.4338971052, 93240.99374010679, 93137.04528555978, 93496.8499361664, 93393.23147671319, 92476.6151045014, 92502.24472345319, 92409.18610700159, 92213.16902128438, 91848.63444099999, 92101.74067794459, 92539.42417068798, 92239.8986238822, 92492.4548690038, 92307.9876115696, 92039.5916019456, 91081.28584955039, 91275.6529597986, 91672.5270592754, 91136.8350236734, 91078.64588879999, 91485.85983454919, 91520.39932103359, 91253.54328851399, 90698.82153583619, 90913.42834517079, 90198.65897199999, 89868.6638782, 84782.57033466, 89631.31124670249, 89644.05096339999, 89563.25720451499, 89287.0122364675, 89504.45851206499, 89156.021816065, 88201.52304196, 85379.4363352923, 87347.1694349286, 87559.3759665456, 87178.500884217, 86643.9816929502, 86587.94162181, 87295.2967272, 86637.291978, 86878.4507185818, 87109.62972046739, 86158.8128578734, 81591.288214215, 85718.4895345284, 85657.579224723, 85681.70320047029, 86364.16065011789, 86246.0514113913, 86093.12068730999], \"yaxis\": \"y3\"}, {\"mode\": \"lines\", \"name\": \"net_worth\", \"type\": \"scatter\", \"uid\": \"146c3e5b-f3a7-4ad0-9809-7bb21b54aa57\", \"xaxis\": \"x3\", \"y\": [97409.9, 97373.86507067, 97248.0745409999, 97026.8176382032, 97987.53551360901, 97593.72674760001, 97593.72674760001, 97585.2801528973, 94936.5596893727, 94948.292660194, 95100.37689750489, 95219.2116531742, 95008.6035218395, 95318.258443228, 94852.973846323, 94640.9752092964, 94295.7019498, 94456.03795227369, 94252.0614634696, 92865.4064027164, 90869.6799865795, 91176.04, 91821.93999999999, 91732.14, 91916.14, 91858.04, 91602.93999999999, 91962.64, 93322.4247736211, 93342.63323431001, 93257.0444596276, 91256.8391179653, 91743.24704075001, 92400.29217972599, 92266.289552698, 92525.649475978, 92336.4247986183, 92042.8077521384, 92577.30532736461, 92508.89914759951, 92307.8952070575, 93057.2292520673, 93183.775281301, 93363.04973705501, 93291.25501089102, 93270.204088096, 92694.62754114851, 93236.74420028501, 93020.252078488, 91948.20613657, 92280.58912807, 92438.6926376935, 92618.4010417645, 92518.796938645, 92192.7292239835, 92541.842159389, 92735.8430320945, 92601.7818921895, 92269.84207801151, 92062.21350265451, 91046.34028630001, 91160.7908297065, 91430.79661313501, 90929.0090903005, 90093.509044, 89949.80879734151, 88742.70456654401, 88921.8589989625, 89190.535250425, 89118.40814126951, 89458.65753023501, 89683.2376381585, 88826.79746339351, 90192.6699697975, 90560.9503243795, 90403.6223750695, 90733.1247139765, 90481.28920075, 90392.65373635001, 90253.05287992, 90093.6198383305, 90504.44521582451, 90614.1316030195, 90436.4174968975, 91593.5534846395, 91771.15679643101, 91867.6586582965, 91810.82116675, 91643.521727695, 91964.49290315351, 91572.613356175, 91434.0096487195, 91423.04101, 91836.303862765, 91734.7054616965, 91875.4142614315, 91588.124562445, 91091.4335788135, 91753.98367520352, 91488.07728200352, 92005.376011108, 93251.14746325, 93069.99873288251, 92575.19125286951, 92647.096773364, 92641.7786455, 92418.74965820351, 92586.2706859195, 92545.9415496175, 92676.34647661602, 91866.9938923135, 91422.9302156695, 91721.964113689, 91768.71932116001, 91410.7428393145, 91598.6500238425, 92309.2848596695, 92033.296182394, 92203.03309672, 91913.195128132, 91856.46843091602, 92166.914144977, 92334.54596702351, 93091.82521599102, 92936.49156463, 92939.9261888755, 92655.1847594905, 92664.93466057451, 93031.66389452951, 93386.31654646002, 94537.58043468551, 94879.1739403288, 94948.6, 94879.00000000001, 95304.39111458001, 94914.3953296652, 94518.5245055364, 94876.9018975904, 94561.8929768252, 94324.0072981056, 94599.920503374, 94618.40017217441, 94796.46726980602, 94664.9732103072, 95225.34513242802, 94938.2159432056, 94774.8482566106, 94395.4638971052, 94406.02374010679, 94302.07528555978, 94661.8799361664, 94558.26147671319, 93641.6451045014, 93667.27472345319, 93574.21610700159, 93378.19902128438, 93013.66444099999, 93266.77067794459, 93704.45417068798, 93404.9286238822, 93657.4848690038, 93473.0176115696, 93204.6216019456, 92246.31584955039, 92440.68295979859, 92837.5570592754, 92301.8650236734, 92243.67588879999, 92650.88983454919, 92685.42932103359, 92418.57328851399, 91863.85153583619, 92078.45834517079, 91363.68897199999, 91033.69387819999, 91501.92033466001, 91647.1112467025, 91659.8509634, 91579.05720451499, 91302.81223646751, 91520.25851206499, 91171.821816065, 90217.32304196, 89962.9863352923, 88722.2294349286, 88934.4359665456, 88553.560884217, 88019.0416929502, 87963.00162180999, 88670.3567272, 88012.35197799999, 88253.51071858179, 88484.68972046739, 87533.8728578734, 87436.52821421501, 87472.05953452841, 87411.149224723, 87435.2732004703, 88117.7306501179, 87999.6214113913, 87846.69068731], \"yaxis\": \"y3\"}, {\"marker\": {\"color\": \"DarkGreen\"}, \"mode\": \"lines\", \"name\": \"Net Worth\", \"type\": \"scatter\", \"uid\": \"7447514d-f491-4ee3-9a5a-de6882af6407\", \"xaxis\": \"x4\", \"y\": [97409.9, 97373.86507067, 97248.0745409999, 97026.8176382032, 97987.53551360901, 97593.72674760001, 97593.72674760001, 97585.2801528973, 94936.5596893727, 94948.292660194, 95100.37689750489, 95219.2116531742, 95008.6035218395, 95318.258443228, 94852.973846323, 94640.9752092964, 94295.7019498, 94456.03795227369, 94252.0614634696, 92865.4064027164, 90869.6799865795, 91176.04, 91821.93999999999, 91732.14, 91916.14, 91858.04, 91602.93999999999, 91962.64, 93322.4247736211, 93342.63323431001, 93257.0444596276, 91256.8391179653, 91743.24704075001, 92400.29217972599, 92266.289552698, 92525.649475978, 92336.4247986183, 92042.8077521384, 92577.30532736461, 92508.89914759951, 92307.8952070575, 93057.2292520673, 93183.775281301, 93363.04973705501, 93291.25501089102, 93270.204088096, 92694.62754114851, 93236.74420028501, 93020.252078488, 91948.20613657, 92280.58912807, 92438.6926376935, 92618.4010417645, 92518.796938645, 92192.7292239835, 92541.842159389, 92735.8430320945, 92601.7818921895, 92269.84207801151, 92062.21350265451, 91046.34028630001, 91160.7908297065, 91430.79661313501, 90929.0090903005, 90093.509044, 89949.80879734151, 88742.70456654401, 88921.8589989625, 89190.535250425, 89118.40814126951, 89458.65753023501, 89683.2376381585, 88826.79746339351, 90192.6699697975, 90560.9503243795, 90403.6223750695, 90733.1247139765, 90481.28920075, 90392.65373635001, 90253.05287992, 90093.6198383305, 90504.44521582451, 90614.1316030195, 90436.4174968975, 91593.5534846395, 91771.15679643101, 91867.6586582965, 91810.82116675, 91643.521727695, 91964.49290315351, 91572.613356175, 91434.0096487195, 91423.04101, 91836.303862765, 91734.7054616965, 91875.4142614315, 91588.124562445, 91091.4335788135, 91753.98367520352, 91488.07728200352, 92005.376011108, 93251.14746325, 93069.99873288251, 92575.19125286951, 92647.096773364, 92641.7786455, 92418.74965820351, 92586.2706859195, 92545.9415496175, 92676.34647661602, 91866.9938923135, 91422.9302156695, 91721.964113689, 91768.71932116001, 91410.7428393145, 91598.6500238425, 92309.2848596695, 92033.296182394, 92203.03309672, 91913.195128132, 91856.46843091602, 92166.914144977, 92334.54596702351, 93091.82521599102, 92936.49156463, 92939.9261888755, 92655.1847594905, 92664.93466057451, 93031.66389452951, 93386.31654646002, 94537.58043468551, 94879.1739403288, 94948.6, 94879.00000000001, 95304.39111458001, 94914.3953296652, 94518.5245055364, 94876.9018975904, 94561.8929768252, 94324.0072981056, 94599.920503374, 94618.40017217441, 94796.46726980602, 94664.9732103072, 95225.34513242802, 94938.2159432056, 94774.8482566106, 94395.4638971052, 94406.02374010679, 94302.07528555978, 94661.8799361664, 94558.26147671319, 93641.6451045014, 93667.27472345319, 93574.21610700159, 93378.19902128438, 93013.66444099999, 93266.77067794459, 93704.45417068798, 93404.9286238822, 93657.4848690038, 93473.0176115696, 93204.6216019456, 92246.31584955039, 92440.68295979859, 92837.5570592754, 92301.8650236734, 92243.67588879999, 92650.88983454919, 92685.42932103359, 92418.57328851399, 91863.85153583619, 92078.45834517079, 91363.68897199999, 91033.69387819999, 91501.92033466001, 91647.1112467025, 91659.8509634, 91579.05720451499, 91302.81223646751, 91520.25851206499, 91171.821816065, 90217.32304196, 89962.9863352923, 88722.2294349286, 88934.4359665456, 88553.560884217, 88019.0416929502, 87963.00162180999, 88670.3567272, 88012.35197799999, 88253.51071858179, 88484.68972046739, 87533.8728578734, 87436.52821421501, 87472.05953452841, 87411.149224723, 87435.2732004703, 88117.7306501179, 87999.6214113913, 87846.69068731], \"yaxis\": \"y4\"}],                        {\"annotations\": [{\"arrowcolor\": \"DarkGreen\", \"arrowhead\": 2, \"arrowsize\": 0.8, \"arrowwidth\": 4, \"ax\": 0, \"ay\": 15, \"hoverlabel\": {\"bgcolor\": \"DarkGreen\"}, \"hovertext\": \"Step 43 [2018-05-17 00:00:00]<br>BUY 0.27276958 BTC @ 8358.3 USD MARKET<br>Total: 2279.89 USD - Comm.: 6.86 USD\", \"opacity\": 0.6, \"showarrow\": true, \"x\": 42, \"xref\": \"x\", \"y\": 8358.3, \"yref\": \"y\"}, {\"arrowcolor\": \"DarkGreen\", \"arrowhead\": 2, \"arrowsize\": 0.8, \"arrowwidth\": 4, \"ax\": 0, \"ay\": 15, \"hoverlabel\": {\"bgcolor\": \"DarkGreen\"}, \"hovertext\": \"Step 28 [2018-05-16 09:00:00]<br>BUY 0.80666347 BTC @ 8243.45 USD MARKET<br>Total: 6649.69 USD - Comm.: 20.01 USD\", \"opacity\": 0.6, \"showarrow\": true, \"x\": 27, \"xref\": \"x\", \"y\": 8243.45, \"yref\": \"y\"}, {\"arrowcolor\": \"FireBrick\", \"arrowhead\": 2, \"arrowsize\": 0.8, \"arrowwidth\": 4, \"ax\": 0, \"ay\": -15, \"hoverlabel\": {\"bgcolor\": \"FireBrick\"}, \"hovertext\": \"Step 21 [2018-05-16 02:00:00]<br>SELL 0.29600496 BTC @ 8133.43 USD MARKET<br>Total: 2407.54 USD - Comm.: 0.00089069 BTC\", \"opacity\": 0.6, \"showarrow\": true, \"x\": 20, \"xref\": \"x\", \"y\": 8133.43, \"yref\": \"y\"}, {\"arrowcolor\": \"FireBrick\", \"arrowhead\": 2, \"arrowsize\": 0.8, \"arrowwidth\": 4, \"ax\": 0, \"ay\": -15, \"hoverlabel\": {\"bgcolor\": \"FireBrick\"}, \"hovertext\": \"Step 20 [2018-05-16 01:00:00]<br>SELL 0.39810407 BTC @ 8326.28 USD MARKET<br>Total: 3314.73 USD - Comm.: 0.00119791 BTC\", \"opacity\": 0.6, \"showarrow\": true, \"x\": 19, \"xref\": \"x\", \"y\": 8326.28, \"yref\": \"y\"}, {\"arrowcolor\": \"DarkGreen\", \"arrowhead\": 2, \"arrowsize\": 0.8, \"arrowwidth\": 4, \"ax\": 0, \"ay\": 15, \"hoverlabel\": {\"bgcolor\": \"DarkGreen\"}, \"hovertext\": \"Step 10 [2018-05-15 15:00:00]<br>BUY 0.29689565 BTC @ 8520.3 USD MARKET<br>Total: 2529.64 USD - Comm.: 7.61 USD\", \"opacity\": 0.6, \"showarrow\": true, \"x\": 9, \"xref\": \"x\", \"y\": 8520.3, \"yref\": \"y\"}, {\"arrowcolor\": \"FireBrick\", \"arrowhead\": 2, \"arrowsize\": 0.8, \"arrowwidth\": 4, \"ax\": 0, \"ay\": -15, \"hoverlabel\": {\"bgcolor\": \"FireBrick\"}, \"hovertext\": \"Step 9 [2018-05-15 14:00:00]<br>SELL 0.56859063 BTC @ 8517.77 USD MARKET<br>Total: 4843.12 USD - Comm.: 0.00171090 BTC\", \"opacity\": 0.6, \"showarrow\": true, \"x\": 8, \"xref\": \"x\", \"y\": 8517.77, \"yref\": \"y\"}, {\"arrowcolor\": \"DarkGreen\", \"arrowhead\": 2, \"arrowsize\": 0.8, \"arrowwidth\": 4, \"ax\": 0, \"ay\": 15, \"hoverlabel\": {\"bgcolor\": \"DarkGreen\"}, \"hovertext\": \"Step 2 [2018-05-15 07:00:00]<br>BUY 0.39930198 BTC @ 8739.0 USD MARKET<br>Total: 3489.5 USD - Comm.: 10.50 USD\", \"opacity\": 0.6, \"showarrow\": true, \"x\": 1, \"xref\": \"x\", \"y\": 8739.0, \"yref\": \"y\"}, {\"arrowcolor\": \"DarkGreen\", \"arrowhead\": 2, \"arrowsize\": 0.8, \"arrowwidth\": 4, \"ax\": 0, \"ay\": 15, \"hoverlabel\": {\"bgcolor\": \"DarkGreen\"}, \"hovertext\": \"Step 1 [2018-05-15 06:00:00]<br>BUY 0.57030153 BTC @ 8740.99 USD MARKET<br>Total: 4985.0 USD - Comm.: 15.00 USD\", \"opacity\": 0.6, \"showarrow\": true, \"x\": 0, \"xref\": \"x\", \"y\": 8740.99, \"yref\": \"y\"}, {\"arrowcolor\": \"DarkGreen\", \"arrowhead\": 2, \"arrowsize\": 0.8, \"arrowwidth\": 4, \"ax\": 0, \"ay\": 15, \"hoverlabel\": {\"bgcolor\": \"DarkGreen\"}, \"hovertext\": \"Step 146 [2018-05-21 07:00:00]<br>BUY 0.31794698 BTC @ 8524.22 USD MARKET<br>Total: 2710.25 USD - Comm.: 8.16 USD\", \"opacity\": 0.6, \"showarrow\": true, \"x\": 145, \"xref\": \"x\", \"y\": 8524.22, \"yref\": \"y\"}, {\"arrowcolor\": \"DarkGreen\", \"arrowhead\": 2, \"arrowsize\": 0.8, \"arrowwidth\": 4, \"ax\": 0, \"ay\": 15, \"hoverlabel\": {\"bgcolor\": \"DarkGreen\"}, \"hovertext\": \"Step 134 [2018-05-20 19:00:00]<br>BUY 0.68188948 BTC @ 8517.04 USD MARKET<br>Total: 5807.68 USD - Comm.: 17.48 USD\", \"opacity\": 0.6, \"showarrow\": true, \"x\": 133, \"xref\": \"x\", \"y\": 8517.04, \"yref\": \"y\"}, {\"arrowcolor\": \"FireBrick\", \"arrowhead\": 2, \"arrowsize\": 0.8, \"arrowwidth\": 4, \"ax\": 0, \"ay\": -15, \"hoverlabel\": {\"bgcolor\": \"FireBrick\"}, \"hovertext\": \"Step 132 [2018-05-20 17:00:00]<br>SELL 0.27195127 BTC @ 8516.36 USD MARKET<br>Total: 2316.03 USD - Comm.: 0.00081831 BTC\", \"opacity\": 0.6, \"showarrow\": true, \"x\": 131, \"xref\": \"x\", \"y\": 8516.36, \"yref\": \"y\"}, {\"arrowcolor\": \"FireBrick\", \"arrowhead\": 2, \"arrowsize\": 0.8, \"arrowwidth\": 4, \"ax\": 0, \"ay\": -15, \"hoverlabel\": {\"bgcolor\": \"FireBrick\"}, \"hovertext\": \"Step 131 [2018-05-20 16:00:00]<br>SELL 0.80424348 BTC @ 8481.11 USD MARKET<br>Total: 6820.88 USD - Comm.: 0.00241999 BTC\", \"opacity\": 0.6, \"showarrow\": true, \"x\": 130, \"xref\": \"x\", \"y\": 8481.11, \"yref\": \"y\"}, {\"arrowcolor\": \"DarkGreen\", \"arrowhead\": 2, \"arrowsize\": 0.8, \"arrowwidth\": 4, \"ax\": 0, \"ay\": 15, \"hoverlabel\": {\"bgcolor\": \"DarkGreen\"}, \"hovertext\": \"Step 195 [2018-05-23 08:00:00]<br>BUY 0.51978008 BTC @ 7848.3 USD MARKET<br>Total: 4079.39 USD - Comm.: 12.28 USD\", \"opacity\": 0.6, \"showarrow\": true, \"x\": 194, \"xref\": \"x\", \"y\": 7848.3, \"yref\": \"y\"}, {\"arrowcolor\": \"FireBrick\", \"arrowhead\": 2, \"arrowsize\": 0.8, \"arrowwidth\": 4, \"ax\": 0, \"ay\": -15, \"hoverlabel\": {\"bgcolor\": \"FireBrick\"}, \"hovertext\": \"Step 194 [2018-05-23 07:00:00]<br>SELL 0.56898767 BTC @ 7856.37 USD MARKET<br>Total: 4470.18 USD - Comm.: 0.00171210 BTC\", \"opacity\": 0.6, \"showarrow\": true, \"x\": 193, \"xref\": \"x\", \"y\": 7856.37, \"yref\": \"y\"}, {\"arrowcolor\": \"DarkGreen\", \"arrowhead\": 2, \"arrowsize\": 0.8, \"arrowwidth\": 4, \"ax\": 0, \"ay\": 15, \"hoverlabel\": {\"bgcolor\": \"DarkGreen\"}, \"hovertext\": \"Step 184 [2018-05-22 21:00:00]<br>BUY 0.39604605 BTC @ 8076.99 USD MARKET<br>Total: 3198.86 USD - Comm.: 9.63 USD\", \"opacity\": 0.6, \"showarrow\": true, \"x\": 183, \"xref\": \"x\", \"y\": 8076.99, \"yref\": \"y\"}, {\"arrowcolor\": \"FireBrick\", \"arrowhead\": 2, \"arrowsize\": 0.8, \"arrowwidth\": 4, \"ax\": 0, \"ay\": -15, \"hoverlabel\": {\"bgcolor\": \"FireBrick\"}, \"hovertext\": \"Step 183 [2018-05-22 20:00:00]<br>SELL 0.31699314 BTC @ 8100.32 USD MARKET<br>Total: 2567.75 USD - Comm.: 0.00095384 BTC\", \"opacity\": 0.6, \"showarrow\": true, \"x\": 182, \"xref\": \"x\", \"y\": 8100.32, \"yref\": \"y\"}, {\"arrowcolor\": \"DarkGreen\", \"arrowhead\": 2, \"arrowsize\": 0.8, \"arrowwidth\": 4, \"ax\": 0, \"ay\": 15, \"hoverlabel\": {\"bgcolor\": \"DarkGreen\"}, \"hovertext\": \"Step 176 [2018-05-22 13:00:00]<br>BUY 0.57069977 BTC @ 8217.0 USD MARKET<br>Total: 4689.44 USD - Comm.: 14.11 USD\", \"opacity\": 0.6, \"showarrow\": true, \"x\": 175, \"xref\": \"x\", \"y\": 8217.0, \"yref\": \"y\"}, {\"arrowcolor\": \"FireBrick\", \"arrowhead\": 2, \"arrowsize\": 0.8, \"arrowwidth\": 4, \"ax\": 0, \"ay\": -15, \"hoverlabel\": {\"bgcolor\": \"FireBrick\"}, \"hovertext\": \"Step 175 [2018-05-22 12:00:00]<br>SELL 0.67984381 BTC @ 8170.0 USD MARKET<br>Total: 5554.32 USD - Comm.: 0.00204567 BTC\", \"opacity\": 0.6, \"showarrow\": true, \"x\": 174, \"xref\": \"x\", \"y\": 8170.0, \"yref\": \"y\"}], \"margin\": {\"t\": 50}, \"template\": {\"data\": {\"bar\": [{\"error_x\": {\"color\": \"#2a3f5f\"}, \"error_y\": {\"color\": \"#2a3f5f\"}, \"marker\": {\"line\": {\"color\": \"white\", \"width\": 0.5}}, \"type\": \"bar\"}], \"barpolar\": [{\"marker\": {\"line\": {\"color\": \"white\", \"width\": 0.5}}, \"type\": \"barpolar\"}], \"carpet\": [{\"aaxis\": {\"endlinecolor\": \"#2a3f5f\", \"gridcolor\": \"#C8D4E3\", \"linecolor\": \"#C8D4E3\", \"minorgridcolor\": \"#C8D4E3\", \"startlinecolor\": \"#2a3f5f\"}, \"baxis\": {\"endlinecolor\": \"#2a3f5f\", \"gridcolor\": \"#C8D4E3\", \"linecolor\": \"#C8D4E3\", \"minorgridcolor\": \"#C8D4E3\", \"startlinecolor\": \"#2a3f5f\"}, \"type\": \"carpet\"}], \"choropleth\": [{\"colorbar\": {\"outlinewidth\": 0, \"ticks\": \"\"}, \"type\": \"choropleth\"}], \"contour\": [{\"colorbar\": {\"outlinewidth\": 0, \"ticks\": \"\"}, \"colorscale\": [[0.0, \"#0d0887\"], [0.1111111111111111, \"#46039f\"], [0.2222222222222222, \"#7201a8\"], [0.3333333333333333, \"#9c179e\"], [0.4444444444444444, \"#bd3786\"], [0.5555555555555556, \"#d8576b\"], [0.6666666666666666, \"#ed7953\"], [0.7777777777777778, \"#fb9f3a\"], [0.8888888888888888, \"#fdca26\"], [1.0, \"#f0f921\"]], \"type\": \"contour\"}], \"contourcarpet\": [{\"colorbar\": {\"outlinewidth\": 0, \"ticks\": \"\"}, \"type\": \"contourcarpet\"}], \"heatmap\": [{\"colorbar\": {\"outlinewidth\": 0, \"ticks\": \"\"}, \"colorscale\": [[0.0, \"#0d0887\"], [0.1111111111111111, \"#46039f\"], [0.2222222222222222, \"#7201a8\"], [0.3333333333333333, \"#9c179e\"], [0.4444444444444444, \"#bd3786\"], [0.5555555555555556, \"#d8576b\"], [0.6666666666666666, \"#ed7953\"], [0.7777777777777778, \"#fb9f3a\"], [0.8888888888888888, \"#fdca26\"], [1.0, \"#f0f921\"]], \"type\": \"heatmap\"}], \"heatmapgl\": [{\"colorbar\": {\"outlinewidth\": 0, \"ticks\": \"\"}, \"colorscale\": [[0.0, \"#0d0887\"], [0.1111111111111111, \"#46039f\"], [0.2222222222222222, \"#7201a8\"], [0.3333333333333333, \"#9c179e\"], [0.4444444444444444, \"#bd3786\"], [0.5555555555555556, \"#d8576b\"], [0.6666666666666666, \"#ed7953\"], [0.7777777777777778, \"#fb9f3a\"], [0.8888888888888888, \"#fdca26\"], [1.0, \"#f0f921\"]], \"type\": \"heatmapgl\"}], \"histogram\": [{\"marker\": {\"colorbar\": {\"outlinewidth\": 0, \"ticks\": \"\"}}, \"type\": \"histogram\"}], \"histogram2d\": [{\"colorbar\": {\"outlinewidth\": 0, \"ticks\": \"\"}, \"colorscale\": [[0.0, \"#0d0887\"], [0.1111111111111111, \"#46039f\"], [0.2222222222222222, \"#7201a8\"], [0.3333333333333333, \"#9c179e\"], [0.4444444444444444, \"#bd3786\"], [0.5555555555555556, \"#d8576b\"], [0.6666666666666666, \"#ed7953\"], [0.7777777777777778, \"#fb9f3a\"], [0.8888888888888888, \"#fdca26\"], [1.0, \"#f0f921\"]], \"type\": \"histogram2d\"}], \"histogram2dcontour\": [{\"colorbar\": {\"outlinewidth\": 0, \"ticks\": \"\"}, \"colorscale\": [[0.0, \"#0d0887\"], [0.1111111111111111, \"#46039f\"], [0.2222222222222222, \"#7201a8\"], [0.3333333333333333, \"#9c179e\"], [0.4444444444444444, \"#bd3786\"], [0.5555555555555556, \"#d8576b\"], [0.6666666666666666, \"#ed7953\"], [0.7777777777777778, \"#fb9f3a\"], [0.8888888888888888, \"#fdca26\"], [1.0, \"#f0f921\"]], \"type\": \"histogram2dcontour\"}], \"mesh3d\": [{\"colorbar\": {\"outlinewidth\": 0, \"ticks\": \"\"}, \"type\": \"mesh3d\"}], \"parcoords\": [{\"line\": {\"colorbar\": {\"outlinewidth\": 0, \"ticks\": \"\"}}, \"type\": \"parcoords\"}], \"pie\": [{\"automargin\": true, \"type\": \"pie\"}], \"scatter\": [{\"marker\": {\"colorbar\": {\"outlinewidth\": 0, \"ticks\": \"\"}}, \"type\": \"scatter\"}], \"scatter3d\": [{\"line\": {\"colorbar\": {\"outlinewidth\": 0, \"ticks\": \"\"}}, \"marker\": {\"colorbar\": {\"outlinewidth\": 0, \"ticks\": \"\"}}, \"type\": \"scatter3d\"}], \"scattercarpet\": [{\"marker\": {\"colorbar\": {\"outlinewidth\": 0, \"ticks\": \"\"}}, \"type\": \"scattercarpet\"}], \"scattergeo\": [{\"marker\": {\"colorbar\": {\"outlinewidth\": 0, \"ticks\": \"\"}}, \"type\": \"scattergeo\"}], \"scattergl\": [{\"marker\": {\"colorbar\": {\"outlinewidth\": 0, \"ticks\": \"\"}}, \"type\": \"scattergl\"}], \"scattermapbox\": [{\"marker\": {\"colorbar\": {\"outlinewidth\": 0, \"ticks\": \"\"}}, \"type\": \"scattermapbox\"}], \"scatterpolar\": [{\"marker\": {\"colorbar\": {\"outlinewidth\": 0, \"ticks\": \"\"}}, \"type\": \"scatterpolar\"}], \"scatterpolargl\": [{\"marker\": {\"colorbar\": {\"outlinewidth\": 0, \"ticks\": \"\"}}, \"type\": \"scatterpolargl\"}], \"scatterternary\": [{\"marker\": {\"colorbar\": {\"outlinewidth\": 0, \"ticks\": \"\"}}, \"type\": \"scatterternary\"}], \"surface\": [{\"colorbar\": {\"outlinewidth\": 0, \"ticks\": \"\"}, \"colorscale\": [[0.0, \"#0d0887\"], [0.1111111111111111, \"#46039f\"], [0.2222222222222222, \"#7201a8\"], [0.3333333333333333, \"#9c179e\"], [0.4444444444444444, \"#bd3786\"], [0.5555555555555556, \"#d8576b\"], [0.6666666666666666, \"#ed7953\"], [0.7777777777777778, \"#fb9f3a\"], [0.8888888888888888, \"#fdca26\"], [1.0, \"#f0f921\"]], \"type\": \"surface\"}], \"table\": [{\"cells\": {\"fill\": {\"color\": \"#EBF0F8\"}, \"line\": {\"color\": \"white\"}}, \"header\": {\"fill\": {\"color\": \"#C8D4E3\"}, \"line\": {\"color\": \"white\"}}, \"type\": \"table\"}]}, \"layout\": {\"annotationdefaults\": {\"arrowcolor\": \"#2a3f5f\", \"arrowhead\": 0, \"arrowwidth\": 1}, \"autotypenumbers\": \"strict\", \"coloraxis\": {\"colorbar\": {\"outlinewidth\": 0, \"ticks\": \"\"}}, \"colorscale\": {\"diverging\": [[0, \"#8e0152\"], [0.1, \"#c51b7d\"], [0.2, \"#de77ae\"], [0.3, \"#f1b6da\"], [0.4, \"#fde0ef\"], [0.5, \"#f7f7f7\"], [0.6, \"#e6f5d0\"], [0.7, \"#b8e186\"], [0.8, \"#7fbc41\"], [0.9, \"#4d9221\"], [1, \"#276419\"]], \"sequential\": [[0.0, \"#0d0887\"], [0.1111111111111111, \"#46039f\"], [0.2222222222222222, \"#7201a8\"], [0.3333333333333333, \"#9c179e\"], [0.4444444444444444, \"#bd3786\"], [0.5555555555555556, \"#d8576b\"], [0.6666666666666666, \"#ed7953\"], [0.7777777777777778, \"#fb9f3a\"], [0.8888888888888888, \"#fdca26\"], [1.0, \"#f0f921\"]], \"sequentialminus\": [[0.0, \"#0d0887\"], [0.1111111111111111, \"#46039f\"], [0.2222222222222222, \"#7201a8\"], [0.3333333333333333, \"#9c179e\"], [0.4444444444444444, \"#bd3786\"], [0.5555555555555556, \"#d8576b\"], [0.6666666666666666, \"#ed7953\"], [0.7777777777777778, \"#fb9f3a\"], [0.8888888888888888, \"#fdca26\"], [1.0, \"#f0f921\"]]}, \"colorway\": [\"#636efa\", \"#EF553B\", \"#00cc96\", \"#ab63fa\", \"#FFA15A\", \"#19d3f3\", \"#FF6692\", \"#B6E880\", \"#FF97FF\", \"#FECB52\"], \"font\": {\"color\": \"#2a3f5f\"}, \"geo\": {\"bgcolor\": \"white\", \"lakecolor\": \"white\", \"landcolor\": \"white\", \"showlakes\": true, \"showland\": true, \"subunitcolor\": \"#C8D4E3\"}, \"hoverlabel\": {\"align\": \"left\"}, \"hovermode\": \"closest\", \"mapbox\": {\"style\": \"light\"}, \"paper_bgcolor\": \"white\", \"plot_bgcolor\": \"white\", \"polar\": {\"angularaxis\": {\"gridcolor\": \"#EBF0F8\", \"linecolor\": \"#EBF0F8\", \"ticks\": \"\"}, \"bgcolor\": \"white\", \"radialaxis\": {\"gridcolor\": \"#EBF0F8\", \"linecolor\": \"#EBF0F8\", \"ticks\": \"\"}}, \"scene\": {\"xaxis\": {\"backgroundcolor\": \"white\", \"gridcolor\": \"#DFE8F3\", \"gridwidth\": 2, \"linecolor\": \"#EBF0F8\", \"showbackground\": true, \"ticks\": \"\", \"zerolinecolor\": \"#EBF0F8\"}, \"yaxis\": {\"backgroundcolor\": \"white\", \"gridcolor\": \"#DFE8F3\", \"gridwidth\": 2, \"linecolor\": \"#EBF0F8\", \"showbackground\": true, \"ticks\": \"\", \"zerolinecolor\": \"#EBF0F8\"}, \"zaxis\": {\"backgroundcolor\": \"white\", \"gridcolor\": \"#DFE8F3\", \"gridwidth\": 2, \"linecolor\": \"#EBF0F8\", \"showbackground\": true, \"ticks\": \"\", \"zerolinecolor\": \"#EBF0F8\"}}, \"shapedefaults\": {\"line\": {\"color\": \"#2a3f5f\"}}, \"ternary\": {\"aaxis\": {\"gridcolor\": \"#DFE8F3\", \"linecolor\": \"#A2B1C6\", \"ticks\": \"\"}, \"baxis\": {\"gridcolor\": \"#DFE8F3\", \"linecolor\": \"#A2B1C6\", \"ticks\": \"\"}, \"bgcolor\": \"white\", \"caxis\": {\"gridcolor\": \"#DFE8F3\", \"linecolor\": \"#A2B1C6\", \"ticks\": \"\"}}, \"title\": {\"x\": 0.05}, \"xaxis\": {\"automargin\": true, \"gridcolor\": \"#EBF0F8\", \"linecolor\": \"#EBF0F8\", \"ticks\": \"\", \"title\": {\"standoff\": 15}, \"zerolinecolor\": \"#EBF0F8\", \"zerolinewidth\": 2}, \"yaxis\": {\"automargin\": true, \"gridcolor\": \"#EBF0F8\", \"linecolor\": \"#EBF0F8\", \"ticks\": \"\", \"title\": {\"standoff\": 15}, \"zerolinecolor\": \"#EBF0F8\", \"zerolinewidth\": 2}}}, \"title\": {\"text\": \"[2021-03-31 16:19:45 PM] Episode: 2/2 Step: 201/200\"}, \"xaxis\": {\"anchor\": \"y\", \"domain\": [0.0, 1.0], \"gridcolor\": \"Gainsboro\", \"linecolor\": \"Grey\", \"matches\": \"x4\", \"rangeslider\": {\"visible\": false}, \"showticklabels\": false, \"title\": {\"font\": {\"size\": 12}, \"standoff\": 7, \"text\": \"Price\"}}, \"xaxis2\": {\"anchor\": \"y2\", \"domain\": [0.0, 1.0], \"gridcolor\": \"Gainsboro\", \"linecolor\": \"Grey\", \"matches\": \"x4\", \"showticklabels\": false, \"title\": {\"font\": {\"size\": 12}, \"standoff\": 7, \"text\": \"Volume\"}}, \"xaxis3\": {\"anchor\": \"y3\", \"domain\": [0.0, 1.0], \"gridcolor\": \"Gainsboro\", \"linecolor\": \"Grey\", \"matches\": \"x4\", \"showticklabels\": false, \"title\": {\"font\": {\"size\": 12}, \"standoff\": 7, \"text\": \"Performance\"}}, \"xaxis4\": {\"anchor\": \"y4\", \"domain\": [0.0, 1.0], \"gridcolor\": \"Gainsboro\", \"linecolor\": \"Grey\", \"title\": {\"font\": {\"size\": 12}, \"standoff\": 7, \"text\": \"Net Worth\"}}, \"yaxis\": {\"anchor\": \"x\", \"domain\": [0.49950000000000006, 1.0], \"gridcolor\": \"Gainsboro\", \"linecolor\": \"Grey\"}, \"yaxis2\": {\"anchor\": \"x2\", \"domain\": [0.333, 0.46950000000000003], \"gridcolor\": \"Gainsboro\", \"linecolor\": \"Grey\"}, \"yaxis3\": {\"anchor\": \"x3\", \"domain\": [0.1665, 0.30300000000000005], \"gridcolor\": \"Gainsboro\", \"linecolor\": \"Grey\"}, \"yaxis4\": {\"anchor\": \"x4\", \"domain\": [0.0, 0.1365], \"gridcolor\": \"Gainsboro\", \"linecolor\": \"Grey\"}},                        {\"responsive\": true}                    ).then(function(){\n                            \nvar gd = document.getElementById('bf5f2cd2-4bee-4952-b257-fff227bda334');\nvar x = new MutationObserver(function (mutations, observer) {{\n        var display = window.getComputedStyle(gd).display;\n        if (!display || display === 'none') {{\n            console.log([gd, 'removed!']);\n            Plotly.purge(gd);\n            observer.disconnect();\n        }}\n}});\n\n// Listen for the removal of the full notebook cells\nvar notebookContainer = gd.closest('#notebook-container');\nif (notebookContainer) {{\n    x.observe(notebookContainer, {childList: true});\n}}\n\n// Listen for the clearing of the current output cell\nvar outputEl = gd.closest('.output');\nif (outputEl) {{\n    x.observe(outputEl, {childList: true});\n}}\n\n                        })                };                });            </script>        </div>"
     },
     "metadata": {},
     "output_type": "display_data"
    },
    {
     "data": {
      "text/plain": "-999912.1220709902"
     },
     "execution_count": 9,
     "metadata": {},
     "output_type": "execute_result"
    }
   ],
   "source": [
    "agent = DQNAgent(env)\n",
    "\n",
    "agent.train(n_steps=200, n_episodes=2, save_path=\"agents/\")"
   ]
  }
 ],
 "metadata": {
  "kernelspec": {
   "display_name": "Python 3",
   "language": "python",
   "name": "python3"
  },
  "language_info": {
   "codemirror_mode": {
    "name": "ipython",
    "version": 3
   },
   "file_extension": ".py",
   "mimetype": "text/x-python",
   "name": "python",
   "nbconvert_exporter": "python",
   "pygments_lexer": "ipython3",
   "version": "3.7.4"
  }
 },
 "nbformat": 4,
 "nbformat_minor": 4
}
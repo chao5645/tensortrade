{
 "cells": [
  {
   "cell_type": "markdown",
   "metadata": {},
   "source": [
    "# TensorTrade - Renderers and Plotly Visualization Chart\n",
    "## Data Loading Function"
   ]
  },
  {
   "cell_type": "code",
   "execution_count": 1,
   "metadata": {},
   "outputs": [],
   "source": [
    "# ipywidgets is required to run Plotly in Jupyter Notebook.\n",
    "# Uncomment and run the following line to install it if required.\n",
    "\n",
    "#!pip install ipywidgets"
   ]
  },
  {
   "cell_type": "code",
   "execution_count": 2,
   "metadata": {},
   "outputs": [],
   "source": [
    "import ta\n",
    "\n",
    "import pandas as pd\n",
    "\n",
    "from tensortrade.feed.core import Stream, DataFeed, NameSpace\n",
    "from tensortrade.oms.exchanges import Exchange\n",
    "from tensortrade.oms.services.execution.simulated import execute_order\n",
    "from tensortrade.oms.instruments import USD, BTC\n",
    "from tensortrade.oms.wallets import Wallet, Portfolio\n",
    "\n",
    "%matplotlib inline"
   ]
  },
  {
   "cell_type": "code",
   "execution_count": 3,
   "metadata": {},
   "outputs": [],
   "source": [
    "def load_csv(filename):\n",
    "    df = pd.read_csv('data/' + filename, skiprows=1)\n",
    "    df.drop(columns=['symbol', 'volume_btc'], inplace=True)\n",
    "\n",
    "    # Fix timestamp form \"2019-10-17 09-AM\" to \"2019-10-17 09-00-00 AM\"\n",
    "    df['date'] = df['date'].str[:14] + '00-00 ' + df['date'].str[-2:]\n",
    "\n",
    "    # Convert the date column type from string to datetime for proper sorting.\n",
    "    df['date'] = pd.to_datetime(df['date'])\n",
    "\n",
    "    # Make sure historical prices are sorted chronologically, oldest first.\n",
    "    df.sort_values(by='date', ascending=True, inplace=True)\n",
    "\n",
    "    df.reset_index(drop=True, inplace=True)\n",
    "\n",
    "    # Format timestamps as you want them to appear on the chart buy/sell marks.\n",
    "    df['date'] = df['date'].dt.strftime('%Y-%m-%d %I:%M %p')\n",
    "\n",
    "    return df"
   ]
  },
  {
   "cell_type": "code",
   "execution_count": 4,
   "metadata": {},
   "outputs": [
    {
     "data": {
      "text/html": [
       "<div>\n",
       "<style scoped>\n",
       "    .dataframe tbody tr th:only-of-type {\n",
       "        vertical-align: middle;\n",
       "    }\n",
       "\n",
       "    .dataframe tbody tr th {\n",
       "        vertical-align: top;\n",
       "    }\n",
       "\n",
       "    .dataframe thead th {\n",
       "        text-align: right;\n",
       "    }\n",
       "</style>\n",
       "<table border=\"1\" class=\"dataframe\">\n",
       "  <thead>\n",
       "    <tr style=\"text-align: right;\">\n",
       "      <th></th>\n",
       "      <th>date</th>\n",
       "      <th>open</th>\n",
       "      <th>high</th>\n",
       "      <th>low</th>\n",
       "      <th>close</th>\n",
       "      <th>volume</th>\n",
       "    </tr>\n",
       "  </thead>\n",
       "  <tbody>\n",
       "    <tr>\n",
       "      <th>0</th>\n",
       "      <td>2017-07-01 11:00 AM</td>\n",
       "      <td>2505.56</td>\n",
       "      <td>2513.38</td>\n",
       "      <td>2495.12</td>\n",
       "      <td>2509.17</td>\n",
       "      <td>287000.32</td>\n",
       "    </tr>\n",
       "    <tr>\n",
       "      <th>1</th>\n",
       "      <td>2017-07-01 12:00 PM</td>\n",
       "      <td>2509.17</td>\n",
       "      <td>2512.87</td>\n",
       "      <td>2484.99</td>\n",
       "      <td>2488.43</td>\n",
       "      <td>393142.50</td>\n",
       "    </tr>\n",
       "    <tr>\n",
       "      <th>2</th>\n",
       "      <td>2017-07-01 01:00 PM</td>\n",
       "      <td>2488.43</td>\n",
       "      <td>2488.43</td>\n",
       "      <td>2454.40</td>\n",
       "      <td>2454.43</td>\n",
       "      <td>693254.01</td>\n",
       "    </tr>\n",
       "    <tr>\n",
       "      <th>3</th>\n",
       "      <td>2017-07-01 02:00 PM</td>\n",
       "      <td>2454.43</td>\n",
       "      <td>2473.93</td>\n",
       "      <td>2450.83</td>\n",
       "      <td>2459.35</td>\n",
       "      <td>712864.80</td>\n",
       "    </tr>\n",
       "    <tr>\n",
       "      <th>4</th>\n",
       "      <td>2017-07-01 03:00 PM</td>\n",
       "      <td>2459.35</td>\n",
       "      <td>2475.00</td>\n",
       "      <td>2450.00</td>\n",
       "      <td>2467.83</td>\n",
       "      <td>682105.41</td>\n",
       "    </tr>\n",
       "  </tbody>\n",
       "</table>\n",
       "</div>"
      ],
      "text/plain": [
       "                  date     open     high      low    close     volume\n",
       "0  2017-07-01 11:00 AM  2505.56  2513.38  2495.12  2509.17  287000.32\n",
       "1  2017-07-01 12:00 PM  2509.17  2512.87  2484.99  2488.43  393142.50\n",
       "2  2017-07-01 01:00 PM  2488.43  2488.43  2454.40  2454.43  693254.01\n",
       "3  2017-07-01 02:00 PM  2454.43  2473.93  2450.83  2459.35  712864.80\n",
       "4  2017-07-01 03:00 PM  2459.35  2475.00  2450.00  2467.83  682105.41"
      ]
     },
     "execution_count": 4,
     "metadata": {},
     "output_type": "execute_result"
    }
   ],
   "source": [
    "df = load_csv('Coinbase_BTCUSD_1h.csv')\n",
    "df.head()"
   ]
  },
  {
   "cell_type": "markdown",
   "metadata": {},
   "source": [
    "## Data Preparation\n",
    "### Create the dataset features"
   ]
  },
  {
   "cell_type": "code",
   "execution_count": 5,
   "metadata": {
    "scrolled": false
   },
   "outputs": [
    {
     "name": "stderr",
     "output_type": "stream",
     "text": [
      "/Users/xichao.chen/miniconda3/envs/python38/lib/python3.8/site-packages/ta/trend.py:768: RuntimeWarning: invalid value encountered in double_scalars\n",
      "  dip[i] = 100 * (self._dip[i] / self._trs[i])\n",
      "/Users/xichao.chen/miniconda3/envs/python38/lib/python3.8/site-packages/ta/trend.py:772: RuntimeWarning: invalid value encountered in double_scalars\n",
      "  din[i] = 100 * (self._din[i] / self._trs[i])\n"
     ]
    },
    {
     "data": {
      "text/html": [
       "<div>\n",
       "<style scoped>\n",
       "    .dataframe tbody tr th:only-of-type {\n",
       "        vertical-align: middle;\n",
       "    }\n",
       "\n",
       "    .dataframe tbody tr th {\n",
       "        vertical-align: top;\n",
       "    }\n",
       "\n",
       "    .dataframe thead th {\n",
       "        text-align: right;\n",
       "    }\n",
       "</style>\n",
       "<table border=\"1\" class=\"dataframe\">\n",
       "  <thead>\n",
       "    <tr style=\"text-align: right;\">\n",
       "      <th></th>\n",
       "      <th>date</th>\n",
       "      <th>open</th>\n",
       "      <th>high</th>\n",
       "      <th>low</th>\n",
       "      <th>close</th>\n",
       "      <th>volume</th>\n",
       "      <th>volume_adi</th>\n",
       "      <th>volume_obv</th>\n",
       "      <th>volume_cmf</th>\n",
       "      <th>volume_fi</th>\n",
       "      <th>...</th>\n",
       "      <th>momentum_wr</th>\n",
       "      <th>momentum_ao</th>\n",
       "      <th>momentum_kama</th>\n",
       "      <th>momentum_roc</th>\n",
       "      <th>momentum_ppo</th>\n",
       "      <th>momentum_ppo_signal</th>\n",
       "      <th>momentum_ppo_hist</th>\n",
       "      <th>others_dr</th>\n",
       "      <th>others_dlr</th>\n",
       "      <th>others_cr</th>\n",
       "    </tr>\n",
       "  </thead>\n",
       "  <tbody>\n",
       "    <tr>\n",
       "      <th>0</th>\n",
       "      <td>2017-07-01 11:00 AM</td>\n",
       "      <td>2505.56</td>\n",
       "      <td>2513.38</td>\n",
       "      <td>2495.12</td>\n",
       "      <td>2509.17</td>\n",
       "      <td>287000.32</td>\n",
       "      <td>154659.537174</td>\n",
       "      <td>287000.32</td>\n",
       "      <td>0.538883</td>\n",
       "      <td>0.000000e+00</td>\n",
       "      <td>...</td>\n",
       "      <td>-23.055860</td>\n",
       "      <td>0.0</td>\n",
       "      <td>2509.170000</td>\n",
       "      <td>0.0</td>\n",
       "      <td>0.000000</td>\n",
       "      <td>0.000000</td>\n",
       "      <td>0.000000</td>\n",
       "      <td>-65.047642</td>\n",
       "      <td>0.000000</td>\n",
       "      <td>0.000000</td>\n",
       "    </tr>\n",
       "    <tr>\n",
       "      <th>1</th>\n",
       "      <td>2017-07-01 12:00 PM</td>\n",
       "      <td>2509.17</td>\n",
       "      <td>2512.87</td>\n",
       "      <td>2484.99</td>\n",
       "      <td>2488.43</td>\n",
       "      <td>393142.50</td>\n",
       "      <td>-141466.449196</td>\n",
       "      <td>-106142.18</td>\n",
       "      <td>-0.207995</td>\n",
       "      <td>-8.153775e+06</td>\n",
       "      <td>...</td>\n",
       "      <td>-87.883057</td>\n",
       "      <td>0.0</td>\n",
       "      <td>2500.178580</td>\n",
       "      <td>0.0</td>\n",
       "      <td>2.871568</td>\n",
       "      <td>0.574314</td>\n",
       "      <td>2.297254</td>\n",
       "      <td>-0.826568</td>\n",
       "      <td>-0.830003</td>\n",
       "      <td>-0.826568</td>\n",
       "    </tr>\n",
       "    <tr>\n",
       "      <th>2</th>\n",
       "      <td>2017-07-01 01:00 PM</td>\n",
       "      <td>2488.43</td>\n",
       "      <td>2488.43</td>\n",
       "      <td>2454.40</td>\n",
       "      <td>2454.43</td>\n",
       "      <td>693254.01</td>\n",
       "      <td>-833498.148276</td>\n",
       "      <td>-799396.19</td>\n",
       "      <td>-0.606888</td>\n",
       "      <td>-1.035618e+07</td>\n",
       "      <td>...</td>\n",
       "      <td>-99.949135</td>\n",
       "      <td>0.0</td>\n",
       "      <td>2480.168753</td>\n",
       "      <td>0.0</td>\n",
       "      <td>12.006246</td>\n",
       "      <td>2.860700</td>\n",
       "      <td>9.145546</td>\n",
       "      <td>-1.366323</td>\n",
       "      <td>-1.375743</td>\n",
       "      <td>-2.181598</td>\n",
       "    </tr>\n",
       "  </tbody>\n",
       "</table>\n",
       "<p>3 rows × 89 columns</p>\n",
       "</div>"
      ],
      "text/plain": [
       "                  date     open     high      low    close     volume  \\\n",
       "0  2017-07-01 11:00 AM  2505.56  2513.38  2495.12  2509.17  287000.32   \n",
       "1  2017-07-01 12:00 PM  2509.17  2512.87  2484.99  2488.43  393142.50   \n",
       "2  2017-07-01 01:00 PM  2488.43  2488.43  2454.40  2454.43  693254.01   \n",
       "\n",
       "      volume_adi  volume_obv  volume_cmf     volume_fi  ...  momentum_wr  \\\n",
       "0  154659.537174   287000.32    0.538883  0.000000e+00  ...   -23.055860   \n",
       "1 -141466.449196  -106142.18   -0.207995 -8.153775e+06  ...   -87.883057   \n",
       "2 -833498.148276  -799396.19   -0.606888 -1.035618e+07  ...   -99.949135   \n",
       "\n",
       "   momentum_ao  momentum_kama  momentum_roc  momentum_ppo  \\\n",
       "0          0.0    2509.170000           0.0      0.000000   \n",
       "1          0.0    2500.178580           0.0      2.871568   \n",
       "2          0.0    2480.168753           0.0     12.006246   \n",
       "\n",
       "   momentum_ppo_signal  momentum_ppo_hist  others_dr  others_dlr  others_cr  \n",
       "0             0.000000           0.000000 -65.047642    0.000000   0.000000  \n",
       "1             0.574314           2.297254  -0.826568   -0.830003  -0.826568  \n",
       "2             2.860700           9.145546  -1.366323   -1.375743  -2.181598  \n",
       "\n",
       "[3 rows x 89 columns]"
      ]
     },
     "execution_count": 5,
     "metadata": {},
     "output_type": "execute_result"
    }
   ],
   "source": [
    "dataset = ta.add_all_ta_features(df, 'open', 'high', 'low', 'close', 'volume', fillna=True)\n",
    "dataset.head(3)"
   ]
  },
  {
   "cell_type": "markdown",
   "metadata": {},
   "source": [
    "### Create Chart Price History Data\n",
    "Note: It is recommended to create the chart data *after* creating and cleaning the dataset to ensure one-to-one mapping between the historical prices data and the dataset."
   ]
  },
  {
   "cell_type": "code",
   "execution_count": 6,
   "metadata": {
    "scrolled": true
   },
   "outputs": [
    {
     "data": {
      "text/html": [
       "<div>\n",
       "<style scoped>\n",
       "    .dataframe tbody tr th:only-of-type {\n",
       "        vertical-align: middle;\n",
       "    }\n",
       "\n",
       "    .dataframe tbody tr th {\n",
       "        vertical-align: top;\n",
       "    }\n",
       "\n",
       "    .dataframe thead th {\n",
       "        text-align: right;\n",
       "    }\n",
       "</style>\n",
       "<table border=\"1\" class=\"dataframe\">\n",
       "  <thead>\n",
       "    <tr style=\"text-align: right;\">\n",
       "      <th></th>\n",
       "      <th>date</th>\n",
       "      <th>open</th>\n",
       "      <th>high</th>\n",
       "      <th>low</th>\n",
       "      <th>close</th>\n",
       "      <th>volume</th>\n",
       "    </tr>\n",
       "  </thead>\n",
       "  <tbody>\n",
       "    <tr>\n",
       "      <th>0</th>\n",
       "      <td>2017-07-01 11:00 AM</td>\n",
       "      <td>2505.56</td>\n",
       "      <td>2513.38</td>\n",
       "      <td>2495.12</td>\n",
       "      <td>2509.17</td>\n",
       "      <td>287000.32</td>\n",
       "    </tr>\n",
       "    <tr>\n",
       "      <th>1</th>\n",
       "      <td>2017-07-01 12:00 PM</td>\n",
       "      <td>2509.17</td>\n",
       "      <td>2512.87</td>\n",
       "      <td>2484.99</td>\n",
       "      <td>2488.43</td>\n",
       "      <td>393142.50</td>\n",
       "    </tr>\n",
       "    <tr>\n",
       "      <th>2</th>\n",
       "      <td>2017-07-01 01:00 PM</td>\n",
       "      <td>2488.43</td>\n",
       "      <td>2488.43</td>\n",
       "      <td>2454.40</td>\n",
       "      <td>2454.43</td>\n",
       "      <td>693254.01</td>\n",
       "    </tr>\n",
       "  </tbody>\n",
       "</table>\n",
       "</div>"
      ],
      "text/plain": [
       "                  date     open     high      low    close     volume\n",
       "0  2017-07-01 11:00 AM  2505.56  2513.38  2495.12  2509.17  287000.32\n",
       "1  2017-07-01 12:00 PM  2509.17  2512.87  2484.99  2488.43  393142.50\n",
       "2  2017-07-01 01:00 PM  2488.43  2488.43  2454.40  2454.43  693254.01"
      ]
     },
     "metadata": {},
     "output_type": "display_data"
    }
   ],
   "source": [
    "price_history = dataset[['date', 'open', 'high', 'low', 'close', 'volume']]  # chart data\n",
    "display(price_history.head(3))\n",
    "\n",
    "dataset.drop(columns=['date', 'open', 'high', 'low', 'close', 'volume'], inplace=True)"
   ]
  },
  {
   "cell_type": "markdown",
   "metadata": {},
   "source": [
    "## Setup Trading Environment\n",
    "### Create Data Feeds"
   ]
  },
  {
   "cell_type": "code",
   "execution_count": 15,
   "metadata": {},
   "outputs": [
    {
     "data": {
      "text/plain": "{'bitfinex:/volume_adi': 154659.5371741516,\n 'bitfinex:/volume_obv': 287000.32,\n 'bitfinex:/volume_cmf': 0.5388828039430464,\n 'bitfinex:/volume_fi': 0.0,\n 'bitfinex:/volume_mfi': 50.0,\n 'bitfinex:/volume_em': 0.0,\n 'bitfinex:/volume_sma_em': 0.0,\n 'bitfinex:/volume_vpt': -187039.68188942783,\n 'bitfinex:/volume_nvi': 1000.0,\n 'bitfinex:/volume_vwap': 2505.89,\n 'bitfinex:/volatility_atr': 0.0,\n 'bitfinex:/volatility_bbm': 2509.17,\n 'bitfinex:/volatility_bbh': 2509.17,\n 'bitfinex:/volatility_bbl': 2509.17,\n 'bitfinex:/volatility_bbw': 0.0,\n 'bitfinex:/volatility_bbp': 0.0,\n 'bitfinex:/volatility_bbhi': 0.0,\n 'bitfinex:/volatility_bbli': 0.0,\n 'bitfinex:/volatility_kcc': 2505.89,\n 'bitfinex:/volatility_kch': 2524.15,\n 'bitfinex:/volatility_kcl': 2487.6299999999997,\n 'bitfinex:/volatility_kcw': 1.457366444656407,\n 'bitfinex:/volatility_kcp': 0.5898138006571786,\n 'bitfinex:/volatility_kchi': 0.0,\n 'bitfinex:/volatility_kcli': 0.0,\n 'bitfinex:/volatility_dcl': 2495.12,\n 'bitfinex:/volatility_dch': 2513.38,\n 'bitfinex:/volatility_dcm': 2504.25,\n 'bitfinex:/volatility_dcw': 0.7277306838516409,\n 'bitfinex:/volatility_dcp': 0.7694414019715232,\n 'bitfinex:/volatility_ui': 0.0,\n 'bitfinex:/trend_macd': 0.0,\n 'bitfinex:/trend_macd_signal': 0.0,\n 'bitfinex:/trend_macd_diff': 0.0,\n 'bitfinex:/trend_sma_fast': 2509.17,\n 'bitfinex:/trend_sma_slow': 2509.17,\n 'bitfinex:/trend_ema_fast': 2509.17,\n 'bitfinex:/trend_ema_slow': 2509.17,\n 'bitfinex:/trend_adx': 0.0,\n 'bitfinex:/trend_adx_pos': 0.0,\n 'bitfinex:/trend_adx_neg': 0.0,\n 'bitfinex:/trend_vortex_ind_pos': 0.0,\n 'bitfinex:/trend_vortex_ind_neg': 0.0,\n 'bitfinex:/trend_vortex_ind_diff': 0.0,\n 'bitfinex:/trend_trix': -65.01958650947864,\n 'bitfinex:/trend_mass_index': 1.0,\n 'bitfinex:/trend_cci': 0.0,\n 'bitfinex:/trend_dpo': 4669.658895132018,\n 'bitfinex:/trend_kst': -650.4764166058512,\n 'bitfinex:/trend_kst_sig': -650.4764166058512,\n 'bitfinex:/trend_kst_diff': 0.0,\n 'bitfinex:/trend_ichimoku_conv': 2504.25,\n 'bitfinex:/trend_ichimoku_base': 2504.25,\n 'bitfinex:/trend_ichimoku_a': 2504.25,\n 'bitfinex:/trend_ichimoku_b': 2504.25,\n 'bitfinex:/trend_visual_ichimoku_a': 7164.427851548902,\n 'bitfinex:/trend_visual_ichimoku_b': 7151.343258415792,\n 'bitfinex:/trend_aroon_up': 4.0,\n 'bitfinex:/trend_aroon_down': 4.0,\n 'bitfinex:/trend_aroon_ind': 0.0,\n 'bitfinex:/trend_psar_up': -1.0,\n 'bitfinex:/trend_psar_down': -1.0,\n 'bitfinex:/trend_psar_up_indicator': 0.0,\n 'bitfinex:/trend_psar_down_indicator': 0.0,\n 'bitfinex:/trend_stc': 0.0,\n 'bitfinex:/momentum_rsi': 100.0,\n 'bitfinex:/momentum_stoch_rsi': 0.0,\n 'bitfinex:/momentum_stoch_rsi_k': 0.0,\n 'bitfinex:/momentum_stoch_rsi_d': 0.0,\n 'bitfinex:/momentum_tsi': 0.0,\n 'bitfinex:/momentum_uo': 0.0,\n 'bitfinex:/momentum_stoch': 76.94414019715232,\n 'bitfinex:/momentum_stoch_signal': 76.94414019715232,\n 'bitfinex:/momentum_wr': -23.055859802847678,\n 'bitfinex:/momentum_ao': 0.0,\n 'bitfinex:/momentum_kama': 2509.17,\n 'bitfinex:/momentum_roc': 0.0,\n 'bitfinex:/momentum_ppo': 0.0,\n 'bitfinex:/momentum_ppo_signal': 0.0,\n 'bitfinex:/momentum_ppo_hist': 0.0,\n 'bitfinex:/others_dr': -65.04764166058513,\n 'bitfinex:/others_dlr': 0.0,\n 'bitfinex:/others_cr': 0.0}"
     },
     "execution_count": 15,
     "metadata": {},
     "output_type": "execute_result"
    }
   ],
   "source": [
    "bitfinex = Exchange(\"bitfinex\", service=execute_order)(\n",
    "    Stream.source(price_history['close'].tolist(), dtype=\"float\").rename(\"USD-BTC\")\n",
    ")\n",
    "\n",
    "portfolio = Portfolio(USD, [\n",
    "    Wallet(bitfinex, 10000 * USD),\n",
    "    Wallet(bitfinex, 10 * BTC),\n",
    "])\n",
    "\n",
    "with NameSpace(\"bitfinex\"):\n",
    "    streams = [Stream.source(dataset[c].tolist(), dtype=\"float\").rename(c) for c in dataset.columns]\n",
    "\n",
    "feed = DataFeed(streams)\n",
    "feed.next()"
   ]
  },
  {
   "cell_type": "markdown",
   "metadata": {},
   "source": [
    "### Trading Environment Renderers\n",
    "A renderer is a channel for the trading environment to output its current state. One or more renderers can be attached to the environment at the same time. For example, you can let the environment draw a chart and log to a file at the same time.\n",
    "\n",
    "Notice that while all renderers can technically be used together, you need to select the best combination to avoid undesired results. For example, PlotlyTradingChart can work well with FileLogger but may not display well with ScreenLogger.\n",
    "\n",
    "Renderer can be set by name (string) or class, single or list. Available renderers are:\n",
    "* `'screenlog'` or `ScreenLogger`: Shows results on the screen.\n",
    "* `'filelog'` or `FileLogger`: Logs results to a file.\n",
    "* `'plotly'` or `PlotlyTradingChart`: A trading chart based on Plotly.\n",
    "\n",
    "#### Examples:\n",
    "\n",
    "* renderers = 'screenlog' (default)\n",
    "* renderers = ['screenlog', 'filelog']\n",
    "* renderers = ScreenLogger()\n",
    "* renderers = ['screenlog', `FileLogger()`]\n",
    "* renderers = [`FileLogger(filename='example.log')`]\n",
    "\n",
    "Renderers can also be created and configured first then attached to the environment as seen in a following example.\n",
    "\n",
    "### Trading Environment with a Single Renderer"
   ]
  },
  {
   "cell_type": "code",
   "execution_count": 14,
   "metadata": {},
   "outputs": [],
   "source": [
    "import tensortrade.env.default as default\n",
    "\n",
    "env = default.create(\n",
    "    portfolio=portfolio,\n",
    "    action_scheme=\"managed-risk\",\n",
    "    reward_scheme=\"risk-adjusted\",\n",
    "    feed=feed,\n",
    "    renderer=\"screen-log\",  # ScreenLogger used with default settings\n",
    "    window_size=20\n",
    ")"
   ]
  },
  {
   "cell_type": "code",
   "execution_count": 9,
   "metadata": {
    "scrolled": false
   },
   "outputs": [
    {
     "name": "stdout",
     "output_type": "stream",
     "text": [
      "====      AGENT ID: 474131c0-7c88-4e0e-80b2-16b3972da585      ====\n",
      "[2021-03-08 10:30:40 PM] Episode: 1/2 Step: 131/200\n",
      "[2021-03-08 10:30:41 PM] Episode: 1/2 Step: 141/200\n",
      "[2021-03-08 10:30:41 PM] Episode: 1/2 Step: 151/200\n",
      "[2021-03-08 10:30:42 PM] Episode: 1/2 Step: 161/200\n",
      "[2021-03-08 10:30:43 PM] Episode: 1/2 Step: 171/200\n",
      "[2021-03-08 10:30:44 PM] Episode: 1/2 Step: 181/200\n",
      "[2021-03-08 10:30:45 PM] Episode: 1/2 Step: 191/200\n",
      "[2021-03-08 10:30:46 PM] Episode: 1/2 Step: 201/200\n",
      "[2021-03-08 10:30:47 PM] Episode: 2/2 Step: 11/200\n",
      "[2021-03-08 10:30:47 PM] Episode: 2/2 Step: 21/200\n",
      "[2021-03-08 10:30:48 PM] Episode: 2/2 Step: 31/200\n",
      "[2021-03-08 10:30:49 PM] Episode: 2/2 Step: 41/200\n",
      "[2021-03-08 10:30:50 PM] Episode: 2/2 Step: 51/200\n",
      "[2021-03-08 10:30:51 PM] Episode: 2/2 Step: 61/200\n",
      "[2021-03-08 10:30:52 PM] Episode: 2/2 Step: 71/200\n",
      "[2021-03-08 10:30:52 PM] Episode: 2/2 Step: 81/200\n",
      "[2021-03-08 10:30:53 PM] Episode: 2/2 Step: 91/200\n",
      "[2021-03-08 10:30:54 PM] Episode: 2/2 Step: 101/200\n",
      "[2021-03-08 10:30:55 PM] Episode: 2/2 Step: 111/200\n",
      "[2021-03-08 10:30:56 PM] Episode: 2/2 Step: 121/200\n",
      "[2021-03-08 10:30:57 PM] Episode: 2/2 Step: 131/200\n",
      "[2021-03-08 10:30:58 PM] Episode: 2/2 Step: 141/200\n",
      "[2021-03-08 10:30:58 PM] Episode: 2/2 Step: 151/200\n",
      "[2021-03-08 10:30:59 PM] Episode: 2/2 Step: 161/200\n",
      "[2021-03-08 10:31:00 PM] Episode: 2/2 Step: 171/200\n",
      "[2021-03-08 10:31:01 PM] Episode: 2/2 Step: 181/200\n",
      "[2021-03-08 10:31:02 PM] Episode: 2/2 Step: 191/200\n",
      "[2021-03-08 10:31:03 PM] Episode: 2/2 Step: 201/200\n"
     ]
    },
    {
     "data": {
      "text/plain": [
       "98905.8887729663"
      ]
     },
     "execution_count": 9,
     "metadata": {},
     "output_type": "execute_result"
    }
   ],
   "source": [
    "from tensortrade.agents import DQNAgent\n",
    "\n",
    "agent = DQNAgent(env)\n",
    "agent.train(n_episodes=2, n_steps=200, render_interval=10)"
   ]
  },
  {
   "cell_type": "markdown",
   "metadata": {},
   "source": [
    "### Environment with Multiple Renderers\n",
    "Create PlotlyTradingChart and FileLogger renderers. Configuring renderers is optional as they can be used with their default settings."
   ]
  },
  {
   "cell_type": "code",
   "execution_count": 10,
   "metadata": {},
   "outputs": [],
   "source": [
    "from tensortrade.env.default.renderers import PlotlyTradingChart, FileLogger\n",
    "\n",
    "chart_renderer = PlotlyTradingChart(\n",
    "    display=True,  # show the chart on screen (default)\n",
    "    height=800,  # affects both displayed and saved file height. None for 100% height.\n",
    "    save_format=\"html\",  # save the chart to an HTML file\n",
    "    auto_open_html=True,  # open the saved HTML chart in a new browser tab\n",
    ")\n",
    "\n",
    "file_logger = FileLogger(\n",
    "    filename=\"example.log\",  # omit or None for automatic file name\n",
    "    path=\"training_logs\"  # create a new directory if doesn't exist, None for no directory\n",
    ")"
   ]
  },
  {
   "cell_type": "markdown",
   "metadata": {},
   "source": [
    "### Environement with Multiple Renderers\n",
    "\n",
    "With the plotly renderer you must provide an parameter called `renderer_feed`. This is a `DataFeed` instance that provides all the information that is required by a renderer to function."
   ]
  },
  {
   "cell_type": "code",
   "execution_count": 11,
   "metadata": {},
   "outputs": [],
   "source": [
    "renderer_feed = DataFeed([\n",
    "    Stream.source(price_history[c].tolist(), dtype=\"float\").rename(c) for c in price_history]\n",
    ")\n",
    "\n",
    "env = default.create(\n",
    "    portfolio=portfolio,\n",
    "    action_scheme=\"managed-risk\",\n",
    "    reward_scheme=\"risk-adjusted\",\n",
    "    feed=feed,\n",
    "    window_size=20,\n",
    "    renderer_feed=renderer_feed,\n",
    "    renderers=[\n",
    "        chart_renderer, \n",
    "        file_logger\n",
    "    ]\n",
    ")"
   ]
  },
  {
   "cell_type": "markdown",
   "metadata": {},
   "source": [
    "## Setup and Train DQN Agent\n",
    "The green and red arrows shown on the chart represent buy and sell trades respectively. The head of each arrow falls at the trade execution price."
   ]
  },
  {
   "cell_type": "code",
   "execution_count": 18,
   "metadata": {
    "scrolled": false
   },
   "outputs": [
    {
     "name": "stdout",
     "output_type": "stream",
     "text": [
      "====      AGENT ID: 27bb3139-2ab7-483b-a1ee-0e79df2da125      ====\n",
      "[2021-03-08 10:33:45 PM] Episode: 1/2 Step: 131/200\n",
      "[2021-03-08 10:33:46 PM] Episode: 1/2 Step: 141/200\n",
      "[2021-03-08 10:33:47 PM] Episode: 1/2 Step: 151/200\n",
      "[2021-03-08 10:33:48 PM] Episode: 1/2 Step: 161/200\n",
      "[2021-03-08 10:33:49 PM] Episode: 1/2 Step: 171/200\n",
      "[2021-03-08 10:33:50 PM] Episode: 1/2 Step: 181/200\n",
      "[2021-03-08 10:33:50 PM] Episode: 1/2 Step: 191/200\n",
      "[2021-03-08 10:33:51 PM] Episode: 1/2 Step: 201/200\n",
      "[2021-03-08 10:33:52 PM] Episode: 2/2 Step: 11/200\n",
      "[2021-03-08 10:33:53 PM] Episode: 2/2 Step: 21/200\n",
      "[2021-03-08 10:33:54 PM] Episode: 2/2 Step: 31/200\n",
      "[2021-03-08 10:33:55 PM] Episode: 2/2 Step: 41/200\n",
      "[2021-03-08 10:33:56 PM] Episode: 2/2 Step: 51/200\n",
      "[2021-03-08 10:33:57 PM] Episode: 2/2 Step: 61/200\n",
      "[2021-03-08 10:33:58 PM] Episode: 2/2 Step: 71/200\n",
      "[2021-03-08 10:33:58 PM] Episode: 2/2 Step: 81/200\n",
      "[2021-03-08 10:33:59 PM] Episode: 2/2 Step: 91/200\n",
      "[2021-03-08 10:34:00 PM] Episode: 2/2 Step: 101/200\n",
      "[2021-03-08 10:34:01 PM] Episode: 2/2 Step: 111/200\n",
      "[2021-03-08 10:34:02 PM] Episode: 2/2 Step: 121/200\n",
      "[2021-03-08 10:34:03 PM] Episode: 2/2 Step: 131/200\n",
      "[2021-03-08 10:34:04 PM] Episode: 2/2 Step: 141/200\n",
      "[2021-03-08 10:34:05 PM] Episode: 2/2 Step: 151/200\n",
      "[2021-03-08 10:34:05 PM] Episode: 2/2 Step: 161/200\n",
      "[2021-03-08 10:34:06 PM] Episode: 2/2 Step: 171/200\n",
      "[2021-03-08 10:34:07 PM] Episode: 2/2 Step: 181/200\n",
      "[2021-03-08 10:34:08 PM] Episode: 2/2 Step: 191/200\n",
      "[2021-03-08 10:34:09 PM] Episode: 2/2 Step: 201/200\n"
     ]
    },
    {
     "data": {
      "text/plain": "83983.09155005601"
     },
     "execution_count": 18,
     "metadata": {},
     "output_type": "execute_result"
    }
   ],
   "source": [
    "from tensortrade.agents import DQNAgent\n",
    "\n",
    "agent = DQNAgent(env)\n",
    "\n",
    "# Set render_interval to None to render at episode ends only\n",
    "agent.train(n_episodes=2, n_steps=200, render_interval=10)"
   ]
  },
  {
   "cell_type": "markdown",
   "metadata": {},
   "source": [
    "## Direct Performance and Net Worth Plotting\n",
    "Alternatively, the final performance and net worth can be displayed using pandas via Matplotlib."
   ]
  },
  {
   "cell_type": "code",
   "execution_count": 19,
   "metadata": {},
   "outputs": [
    {
     "ename": "AttributeError",
     "evalue": "'NoneType' object has no attribute 'plot'",
     "output_type": "error",
     "traceback": [
      "\u001B[0;31m---------------------------------------------------------------------------\u001B[0m",
      "\u001B[0;31mAttributeError\u001B[0m                            Traceback (most recent call last)",
      "\u001B[0;32m<ipython-input-19-b85f9ad6b8eb>\u001B[0m in \u001B[0;36m<module>\u001B[0;34m\u001B[0m\n\u001B[1;32m      1\u001B[0m \u001B[0mget_ipython\u001B[0m\u001B[0;34m(\u001B[0m\u001B[0;34m)\u001B[0m\u001B[0;34m.\u001B[0m\u001B[0mrun_line_magic\u001B[0m\u001B[0;34m(\u001B[0m\u001B[0;34m'matplotlib'\u001B[0m\u001B[0;34m,\u001B[0m \u001B[0;34m'inline'\u001B[0m\u001B[0;34m)\u001B[0m\u001B[0;34m\u001B[0m\u001B[0;34m\u001B[0m\u001B[0m\n\u001B[1;32m      2\u001B[0m \u001B[0;34m\u001B[0m\u001B[0m\n\u001B[0;32m----> 3\u001B[0;31m \u001B[0mportfolio\u001B[0m\u001B[0;34m.\u001B[0m\u001B[0mperformance\u001B[0m\u001B[0;34m.\u001B[0m\u001B[0mplot\u001B[0m\u001B[0;34m(\u001B[0m\u001B[0;34m)\u001B[0m\u001B[0;34m\u001B[0m\u001B[0;34m\u001B[0m\u001B[0m\n\u001B[0m\u001B[1;32m      4\u001B[0m \u001B[0;34m\u001B[0m\u001B[0m\n",
      "\u001B[0;31mAttributeError\u001B[0m: 'NoneType' object has no attribute 'plot'"
     ]
    }
   ],
   "source": [
    "%matplotlib inline\n",
    "\n",
    "portfolio.performance.plot()"
   ]
  },
  {
   "cell_type": "code",
   "execution_count": 17,
   "metadata": {},
   "outputs": [
    {
     "ename": "AttributeError",
     "evalue": "'NoneType' object has no attribute 'net_worth'",
     "output_type": "error",
     "traceback": [
      "\u001B[0;31m---------------------------------------------------------------------------\u001B[0m",
      "\u001B[0;31mAttributeError\u001B[0m                            Traceback (most recent call last)",
      "\u001B[0;32m<ipython-input-17-7735e8c616db>\u001B[0m in \u001B[0;36m<module>\u001B[0;34m\u001B[0m\n\u001B[0;32m----> 1\u001B[0;31m \u001B[0mportfolio\u001B[0m\u001B[0;34m.\u001B[0m\u001B[0mperformance\u001B[0m\u001B[0;34m.\u001B[0m\u001B[0mnet_worth\u001B[0m\u001B[0;34m.\u001B[0m\u001B[0mplot\u001B[0m\u001B[0;34m(\u001B[0m\u001B[0;34m)\u001B[0m\u001B[0;34m\u001B[0m\u001B[0;34m\u001B[0m\u001B[0m\n\u001B[0m\u001B[1;32m      2\u001B[0m \u001B[0;34m\u001B[0m\u001B[0m\n",
      "\u001B[0;31mAttributeError\u001B[0m: 'NoneType' object has no attribute 'net_worth'"
     ]
    }
   ],
   "source": [
    "portfolio.performance.net_worth.plot()"
   ]
  },
  {
   "cell_type": "code",
   "execution_count": null,
   "metadata": {},
   "outputs": [],
   "source": []
  }
 ],
 "metadata": {
  "kernelspec": {
   "display_name": "Python 3",
   "language": "python",
   "name": "python3"
  },
  "language_info": {
   "codemirror_mode": {
    "name": "ipython",
    "version": 3
   },
   "file_extension": ".py",
   "mimetype": "text/x-python",
   "name": "python",
   "nbconvert_exporter": "python",
   "pygments_lexer": "ipython3",
   "version": "3.8.8"
  }
 },
 "nbformat": 4,
 "nbformat_minor": 4
}